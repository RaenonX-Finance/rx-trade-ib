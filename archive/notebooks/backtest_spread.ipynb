{
 "cells": [
  {
   "cell_type": "code",
   "execution_count": 72,
   "outputs": [],
   "source": [
    "import time\n",
    "\n",
    "from trade_ibkr.model import OnPxDataUpdatedEventNoAccount\n",
    "from trade_ibkr.obj import start_app_info\n",
    "from trade_ibkr.utils import make_futures_contract\n",
    "\n",
    "\n",
    "async def on_px_updated(e: OnPxDataUpdatedEventNoAccount):\n",
    "    file_name = f\"data-{e.contract.underSymbol}@{e.px_data.period_sec}.csv\"\n",
    "    e.px_data.dataframe.to_csv(file_name)\n",
    "    print(f\"Px Data saved to: {file_name}\")\n",
    "\n",
    "\n",
    "async def on_market_data_received():\n",
    "    pass\n",
    "\n",
    "\n",
    "def store_historical_data():\n",
    "    app, _ = start_app_info(is_demo=True)\n",
    "\n",
    "    contract_mnq = make_futures_contract(\"MNQH2\", \"GLOBEX\")\n",
    "    contract_mym = make_futures_contract(\"MYM  MAR 22\", \"ECBOT\")\n",
    "\n",
    "    px_data_req_ids: list[int] = [\n",
    "        req_id_same_contract for req_ids_cross_contract\n",
    "        in [\n",
    "            app.get_px_data_keep_update(\n",
    "                contract=contract_mnq,\n",
    "                duration=\"10 D\",\n",
    "                bar_sizes=[\"1 min\"],\n",
    "                period_secs=[60],\n",
    "                on_px_data_updated=on_px_updated,\n",
    "                on_market_data_received=on_market_data_received,\n",
    "            ),\n",
    "            app.get_px_data_keep_update(\n",
    "                contract=contract_mym,\n",
    "                duration=\"10 D\",\n",
    "                bar_sizes=[\"1 min\"],\n",
    "                period_secs=[60],\n",
    "                on_px_data_updated=on_px_updated,\n",
    "                on_market_data_received=on_market_data_received,\n",
    "            ),\n",
    "        ]\n",
    "        for req_id_same_contract in req_ids_cross_contract\n",
    "    ]\n",
    "\n",
    "    while not app.is_all_px_data_ready(px_data_req_ids):\n",
    "        time.sleep(0.5)\n",
    "        print(\"Loading data...\")\n",
    "\n",
    "    app.disconnect()\n",
    "    print(\"Completed.\")\n",
    "\n",
    "# store_historical_data()"
   ],
   "metadata": {
    "collapsed": false,
    "pycharm": {
     "name": "#%%\n"
    }
   }
  },
  {
   "cell_type": "code",
   "execution_count": 111,
   "outputs": [],
   "source": [
    "import pandas as pd\n",
    "\n",
    "df_mnq = pd.read_csv(\"archive/futures/NQ/20220220-20220304-1.csv\")\n",
    "df_mnq = df_mnq[[\"date\", \"close\"]]\n",
    "df_mym = pd.read_csv(\"archive/futures/YM/20220220-20220304-1.csv\")\n",
    "df_mym = df_mym[[\"date\", \"close\"]]"
   ],
   "metadata": {
    "collapsed": false,
    "pycharm": {
     "name": "#%%\n"
    }
   }
  },
  {
   "cell_type": "code",
   "execution_count": 112,
   "outputs": [
    {
     "data": {
      "text/plain": "                     close_mnq  close_mym\ndate                                     \n2022-02-20 17:00:00   13932.75    33921.0\n2022-02-20 17:01:00   13859.50    33907.0\n2022-02-20 17:02:00   13884.75    33923.0\n2022-02-20 17:03:00   13875.50    33907.0\n2022-02-20 17:04:00   13873.50    33915.0\n...                        ...        ...\n2022-03-04 15:55:00   13800.50    33524.0\n2022-03-04 15:56:00   13802.00    33524.0\n2022-03-04 15:57:00   13800.00    33526.0\n2022-03-04 15:58:00   13800.25    33533.0\n2022-03-04 15:59:00   13802.75    33520.0\n\n[13560 rows x 2 columns]",
      "text/html": "<div>\n<style scoped>\n    .dataframe tbody tr th:only-of-type {\n        vertical-align: middle;\n    }\n\n    .dataframe tbody tr th {\n        vertical-align: top;\n    }\n\n    .dataframe thead th {\n        text-align: right;\n    }\n</style>\n<table border=\"1\" class=\"dataframe\">\n  <thead>\n    <tr style=\"text-align: right;\">\n      <th></th>\n      <th>close_mnq</th>\n      <th>close_mym</th>\n    </tr>\n    <tr>\n      <th>date</th>\n      <th></th>\n      <th></th>\n    </tr>\n  </thead>\n  <tbody>\n    <tr>\n      <th>2022-02-20 17:00:00</th>\n      <td>13932.75</td>\n      <td>33921.0</td>\n    </tr>\n    <tr>\n      <th>2022-02-20 17:01:00</th>\n      <td>13859.50</td>\n      <td>33907.0</td>\n    </tr>\n    <tr>\n      <th>2022-02-20 17:02:00</th>\n      <td>13884.75</td>\n      <td>33923.0</td>\n    </tr>\n    <tr>\n      <th>2022-02-20 17:03:00</th>\n      <td>13875.50</td>\n      <td>33907.0</td>\n    </tr>\n    <tr>\n      <th>2022-02-20 17:04:00</th>\n      <td>13873.50</td>\n      <td>33915.0</td>\n    </tr>\n    <tr>\n      <th>...</th>\n      <td>...</td>\n      <td>...</td>\n    </tr>\n    <tr>\n      <th>2022-03-04 15:55:00</th>\n      <td>13800.50</td>\n      <td>33524.0</td>\n    </tr>\n    <tr>\n      <th>2022-03-04 15:56:00</th>\n      <td>13802.00</td>\n      <td>33524.0</td>\n    </tr>\n    <tr>\n      <th>2022-03-04 15:57:00</th>\n      <td>13800.00</td>\n      <td>33526.0</td>\n    </tr>\n    <tr>\n      <th>2022-03-04 15:58:00</th>\n      <td>13800.25</td>\n      <td>33533.0</td>\n    </tr>\n    <tr>\n      <th>2022-03-04 15:59:00</th>\n      <td>13802.75</td>\n      <td>33520.0</td>\n    </tr>\n  </tbody>\n</table>\n<p>13560 rows × 2 columns</p>\n</div>"
     },
     "execution_count": 112,
     "metadata": {},
     "output_type": "execute_result"
    }
   ],
   "source": [
    "\n",
    "df = pd.merge(df_mnq, df_mym, on=\"date\", suffixes=(\"_mnq\", \"_mym\"))\n",
    "df.index = pd.to_datetime(df[\"date\"])\n",
    "df.drop(columns=[\"date\"], inplace=True)\n",
    "df"
   ],
   "metadata": {
    "collapsed": false,
    "pycharm": {
     "name": "#%%\n"
    }
   }
  },
  {
   "cell_type": "code",
   "execution_count": 113,
   "outputs": [
    {
     "data": {
      "text/plain": "                     close_mnq  close_mym   px_diff  px_diff_upper  \\\ndate                                                                 \n2022-02-20 17:00:00   13932.75    33921.0  0.889792            NaN   \n2022-02-20 17:01:00   13859.50    33907.0  0.894651            NaN   \n2022-02-20 17:02:00   13884.75    33923.0  0.893302            NaN   \n2022-02-20 17:03:00   13875.50    33907.0  0.893497            NaN   \n2022-02-20 17:04:00   13873.50    33915.0  0.893877            NaN   \n...                        ...        ...       ...            ...   \n2022-03-04 15:55:00   13800.50    33524.0  0.887557       0.888013   \n2022-03-04 15:56:00   13802.00    33524.0  0.887448       0.887962   \n2022-03-04 15:57:00   13800.00    33526.0  0.887653       0.887824   \n2022-03-04 15:58:00   13800.25    33533.0  0.887843       0.887823   \n2022-03-04 15:59:00   13802.75    33520.0  0.887274       0.887862   \n\n                     px_diff_mid  px_diff_lower  \ndate                                             \n2022-02-20 17:00:00          NaN            NaN  \n2022-02-20 17:01:00          NaN            NaN  \n2022-02-20 17:02:00          NaN            NaN  \n2022-02-20 17:03:00          NaN            NaN  \n2022-02-20 17:04:00          NaN            NaN  \n...                          ...            ...  \n2022-03-04 15:55:00     0.887704       0.887394  \n2022-03-04 15:56:00     0.887656       0.887350  \n2022-03-04 15:57:00     0.887621       0.887419  \n2022-03-04 15:58:00     0.887621       0.887420  \n2022-03-04 15:59:00     0.887580       0.887297  \n\n[13560 rows x 6 columns]",
      "text/html": "<div>\n<style scoped>\n    .dataframe tbody tr th:only-of-type {\n        vertical-align: middle;\n    }\n\n    .dataframe tbody tr th {\n        vertical-align: top;\n    }\n\n    .dataframe thead th {\n        text-align: right;\n    }\n</style>\n<table border=\"1\" class=\"dataframe\">\n  <thead>\n    <tr style=\"text-align: right;\">\n      <th></th>\n      <th>close_mnq</th>\n      <th>close_mym</th>\n      <th>px_diff</th>\n      <th>px_diff_upper</th>\n      <th>px_diff_mid</th>\n      <th>px_diff_lower</th>\n    </tr>\n    <tr>\n      <th>date</th>\n      <th></th>\n      <th></th>\n      <th></th>\n      <th></th>\n      <th></th>\n      <th></th>\n    </tr>\n  </thead>\n  <tbody>\n    <tr>\n      <th>2022-02-20 17:00:00</th>\n      <td>13932.75</td>\n      <td>33921.0</td>\n      <td>0.889792</td>\n      <td>NaN</td>\n      <td>NaN</td>\n      <td>NaN</td>\n    </tr>\n    <tr>\n      <th>2022-02-20 17:01:00</th>\n      <td>13859.50</td>\n      <td>33907.0</td>\n      <td>0.894651</td>\n      <td>NaN</td>\n      <td>NaN</td>\n      <td>NaN</td>\n    </tr>\n    <tr>\n      <th>2022-02-20 17:02:00</th>\n      <td>13884.75</td>\n      <td>33923.0</td>\n      <td>0.893302</td>\n      <td>NaN</td>\n      <td>NaN</td>\n      <td>NaN</td>\n    </tr>\n    <tr>\n      <th>2022-02-20 17:03:00</th>\n      <td>13875.50</td>\n      <td>33907.0</td>\n      <td>0.893497</td>\n      <td>NaN</td>\n      <td>NaN</td>\n      <td>NaN</td>\n    </tr>\n    <tr>\n      <th>2022-02-20 17:04:00</th>\n      <td>13873.50</td>\n      <td>33915.0</td>\n      <td>0.893877</td>\n      <td>NaN</td>\n      <td>NaN</td>\n      <td>NaN</td>\n    </tr>\n    <tr>\n      <th>...</th>\n      <td>...</td>\n      <td>...</td>\n      <td>...</td>\n      <td>...</td>\n      <td>...</td>\n      <td>...</td>\n    </tr>\n    <tr>\n      <th>2022-03-04 15:55:00</th>\n      <td>13800.50</td>\n      <td>33524.0</td>\n      <td>0.887557</td>\n      <td>0.888013</td>\n      <td>0.887704</td>\n      <td>0.887394</td>\n    </tr>\n    <tr>\n      <th>2022-03-04 15:56:00</th>\n      <td>13802.00</td>\n      <td>33524.0</td>\n      <td>0.887448</td>\n      <td>0.887962</td>\n      <td>0.887656</td>\n      <td>0.887350</td>\n    </tr>\n    <tr>\n      <th>2022-03-04 15:57:00</th>\n      <td>13800.00</td>\n      <td>33526.0</td>\n      <td>0.887653</td>\n      <td>0.887824</td>\n      <td>0.887621</td>\n      <td>0.887419</td>\n    </tr>\n    <tr>\n      <th>2022-03-04 15:58:00</th>\n      <td>13800.25</td>\n      <td>33533.0</td>\n      <td>0.887843</td>\n      <td>0.887823</td>\n      <td>0.887621</td>\n      <td>0.887420</td>\n    </tr>\n    <tr>\n      <th>2022-03-04 15:59:00</th>\n      <td>13802.75</td>\n      <td>33520.0</td>\n      <td>0.887274</td>\n      <td>0.887862</td>\n      <td>0.887580</td>\n      <td>0.887297</td>\n    </tr>\n  </tbody>\n</table>\n<p>13560 rows × 6 columns</p>\n</div>"
     },
     "execution_count": 113,
     "metadata": {},
     "output_type": "execute_result"
    }
   ],
   "source": [
    "import numpy as np\n",
    "import talib\n",
    "from talib import MA_Type\n",
    "\n",
    "df[\"px_diff\"] = np.log(df[\"close_mym\"].divide(df[\"close_mnq\"]))\n",
    "upper, mid, lower = talib.BBANDS(df[\"px_diff\"], timeperiod=10, nbdevup=2, nbdevdn=2, matype=MA_Type.SMA)\n",
    "df[\"px_diff_upper\"] = upper\n",
    "df[\"px_diff_mid\"] = mid\n",
    "df[\"px_diff_lower\"] = lower\n",
    "df"
   ],
   "metadata": {
    "collapsed": false,
    "pycharm": {
     "name": "#%%\n"
    }
   }
  },
  {
   "cell_type": "code",
   "execution_count": 114,
   "outputs": [
    {
     "data": {
      "text/plain": "                     close_mnq  close_mym   px_diff  px_diff_upper  \\\ndate                                                                 \n2022-02-21 02:00:00   14095.50    34289.0  0.888969       0.889364   \n2022-02-21 02:01:00   14086.00    34275.0  0.889235       0.889392   \n2022-02-21 02:02:00   14090.00    34278.0  0.889038       0.889378   \n2022-02-21 02:03:00   14091.25    34270.0  0.888716       0.889379   \n2022-02-21 02:04:00   14092.50    34265.0  0.888482       0.889411   \n...                        ...        ...       ...            ...   \n2022-03-04 06:26:00   13893.75    33387.0  0.876728       0.877050   \n2022-03-04 06:27:00   13891.25    33383.0  0.876788       0.877061   \n2022-03-04 06:28:00   13877.75    33361.0  0.877101       0.877156   \n2022-03-04 06:29:00   13878.25    33366.0  0.877215       0.877296   \n2022-03-04 06:30:00   13885.00    33376.0  0.877028       0.877265   \n\n                     px_diff_mid  px_diff_lower  \ndate                                             \n2022-02-21 02:00:00     0.888952       0.888540  \n2022-02-21 02:01:00     0.889013       0.888634  \n2022-02-21 02:02:00     0.889042       0.888706  \n2022-02-21 02:03:00     0.889041       0.888704  \n2022-02-21 02:04:00     0.888965       0.888519  \n...                          ...            ...  \n2022-03-04 06:26:00     0.876695       0.876341  \n2022-03-04 06:27:00     0.876703       0.876344  \n2022-03-04 06:28:00     0.876729       0.876303  \n2022-03-04 06:29:00     0.876782       0.876267  \n2022-03-04 06:30:00     0.876856       0.876448  \n\n[2710 rows x 6 columns]",
      "text/html": "<div>\n<style scoped>\n    .dataframe tbody tr th:only-of-type {\n        vertical-align: middle;\n    }\n\n    .dataframe tbody tr th {\n        vertical-align: top;\n    }\n\n    .dataframe thead th {\n        text-align: right;\n    }\n</style>\n<table border=\"1\" class=\"dataframe\">\n  <thead>\n    <tr style=\"text-align: right;\">\n      <th></th>\n      <th>close_mnq</th>\n      <th>close_mym</th>\n      <th>px_diff</th>\n      <th>px_diff_upper</th>\n      <th>px_diff_mid</th>\n      <th>px_diff_lower</th>\n    </tr>\n    <tr>\n      <th>date</th>\n      <th></th>\n      <th></th>\n      <th></th>\n      <th></th>\n      <th></th>\n      <th></th>\n    </tr>\n  </thead>\n  <tbody>\n    <tr>\n      <th>2022-02-21 02:00:00</th>\n      <td>14095.50</td>\n      <td>34289.0</td>\n      <td>0.888969</td>\n      <td>0.889364</td>\n      <td>0.888952</td>\n      <td>0.888540</td>\n    </tr>\n    <tr>\n      <th>2022-02-21 02:01:00</th>\n      <td>14086.00</td>\n      <td>34275.0</td>\n      <td>0.889235</td>\n      <td>0.889392</td>\n      <td>0.889013</td>\n      <td>0.888634</td>\n    </tr>\n    <tr>\n      <th>2022-02-21 02:02:00</th>\n      <td>14090.00</td>\n      <td>34278.0</td>\n      <td>0.889038</td>\n      <td>0.889378</td>\n      <td>0.889042</td>\n      <td>0.888706</td>\n    </tr>\n    <tr>\n      <th>2022-02-21 02:03:00</th>\n      <td>14091.25</td>\n      <td>34270.0</td>\n      <td>0.888716</td>\n      <td>0.889379</td>\n      <td>0.889041</td>\n      <td>0.888704</td>\n    </tr>\n    <tr>\n      <th>2022-02-21 02:04:00</th>\n      <td>14092.50</td>\n      <td>34265.0</td>\n      <td>0.888482</td>\n      <td>0.889411</td>\n      <td>0.888965</td>\n      <td>0.888519</td>\n    </tr>\n    <tr>\n      <th>...</th>\n      <td>...</td>\n      <td>...</td>\n      <td>...</td>\n      <td>...</td>\n      <td>...</td>\n      <td>...</td>\n    </tr>\n    <tr>\n      <th>2022-03-04 06:26:00</th>\n      <td>13893.75</td>\n      <td>33387.0</td>\n      <td>0.876728</td>\n      <td>0.877050</td>\n      <td>0.876695</td>\n      <td>0.876341</td>\n    </tr>\n    <tr>\n      <th>2022-03-04 06:27:00</th>\n      <td>13891.25</td>\n      <td>33383.0</td>\n      <td>0.876788</td>\n      <td>0.877061</td>\n      <td>0.876703</td>\n      <td>0.876344</td>\n    </tr>\n    <tr>\n      <th>2022-03-04 06:28:00</th>\n      <td>13877.75</td>\n      <td>33361.0</td>\n      <td>0.877101</td>\n      <td>0.877156</td>\n      <td>0.876729</td>\n      <td>0.876303</td>\n    </tr>\n    <tr>\n      <th>2022-03-04 06:29:00</th>\n      <td>13878.25</td>\n      <td>33366.0</td>\n      <td>0.877215</td>\n      <td>0.877296</td>\n      <td>0.876782</td>\n      <td>0.876267</td>\n    </tr>\n    <tr>\n      <th>2022-03-04 06:30:00</th>\n      <td>13885.00</td>\n      <td>33376.0</td>\n      <td>0.877028</td>\n      <td>0.877265</td>\n      <td>0.876856</td>\n      <td>0.876448</td>\n    </tr>\n  </tbody>\n</table>\n<p>2710 rows × 6 columns</p>\n</div>"
     },
     "execution_count": 114,
     "metadata": {},
     "output_type": "execute_result"
    }
   ],
   "source": [
    "df_selected = df.between_time(\"03:00\", \"07:15\")\n",
    "df_selected"
   ],
   "metadata": {
    "collapsed": false,
    "pycharm": {
     "name": "#%%\n"
    }
   }
  },
  {
   "cell_type": "code",
   "execution_count": 115,
   "outputs": [
    {
     "data": {
      "text/plain": "     buy sell             entry_t  entry_mnq  entry_mym  exit_mnq  exit_mym  \\\n0    MYM  MNQ 2022-02-21 02:04:00   14092.50    34265.0  14092.00   34261.0   \n1    MNQ  MYM 2022-02-21 02:27:00   14094.25    34274.0  14105.25   34287.0   \n2    MNQ  MYM 2022-02-21 02:35:00   14059.00    34217.0  14045.00   34193.0   \n3    MNQ  MYM 2022-02-21 02:55:00   14035.50    34197.0  14037.25   34189.0   \n4    MYM  MNQ 2022-02-21 03:24:00   14011.50    34098.0  14016.75   34128.0   \n..   ...  ...                 ...        ...        ...       ...       ...   \n146  MYM  MNQ 2022-03-04 05:04:00   13926.50    33462.0  13922.00   33460.0   \n147  MNQ  MYM 2022-03-04 05:29:00   13926.50    33491.0  13924.75   33475.0   \n148  MYM  MNQ 2022-03-04 05:45:00   13923.50    33458.0  13929.25   33468.0   \n149  MYM  MNQ 2022-03-04 06:05:00   13936.00    33458.0  13910.00   33410.0   \n150  MNQ  MYM 2022-03-04 06:13:00   13892.75    33385.0  13914.50   33422.0   \n\n                 exit_t position  px_side_mnq  px_side_mym  pnl_mnq  pnl_mym  \\\n0   2022-02-21 02:13:00    close         0.50         -4.0      1.0     -6.0   \n1   2022-02-21 02:32:00    close        11.00        -13.0     22.0    -19.5   \n2   2022-02-21 02:46:00    close       -14.00         24.0    -28.0     36.0   \n3   2022-02-21 02:59:00    close         1.75          8.0      3.5     12.0   \n4   2022-02-21 03:26:00    close        -5.25         30.0    -10.5     45.0   \n..                  ...      ...          ...          ...      ...      ...   \n146 2022-03-04 05:12:00    close         4.50         -2.0      9.0     -3.0   \n147 2022-03-04 05:35:00    close        -1.75         16.0     -3.5     24.0   \n148 2022-03-04 05:57:00    close        -5.75         10.0    -11.5     15.0   \n149 2022-03-04 06:09:00    close        26.00        -48.0     52.0    -72.0   \n150 2022-03-04 06:20:00    close        21.75        -37.0     43.5    -55.5   \n\n     pnl_single  pnl_cum  \n0         -7.08    -7.08  \n1          0.42    -6.66  \n2          5.92    -0.74  \n3         13.42    12.68  \n4         32.42    45.10  \n..          ...      ...  \n146        3.92   821.74  \n147       18.42   840.16  \n148        1.42   841.58  \n149      -22.08   819.50  \n150      -14.08   805.42  \n\n[151 rows x 15 columns]",
      "text/html": "<div>\n<style scoped>\n    .dataframe tbody tr th:only-of-type {\n        vertical-align: middle;\n    }\n\n    .dataframe tbody tr th {\n        vertical-align: top;\n    }\n\n    .dataframe thead th {\n        text-align: right;\n    }\n</style>\n<table border=\"1\" class=\"dataframe\">\n  <thead>\n    <tr style=\"text-align: right;\">\n      <th></th>\n      <th>buy</th>\n      <th>sell</th>\n      <th>entry_t</th>\n      <th>entry_mnq</th>\n      <th>entry_mym</th>\n      <th>exit_mnq</th>\n      <th>exit_mym</th>\n      <th>exit_t</th>\n      <th>position</th>\n      <th>px_side_mnq</th>\n      <th>px_side_mym</th>\n      <th>pnl_mnq</th>\n      <th>pnl_mym</th>\n      <th>pnl_single</th>\n      <th>pnl_cum</th>\n    </tr>\n  </thead>\n  <tbody>\n    <tr>\n      <th>0</th>\n      <td>MYM</td>\n      <td>MNQ</td>\n      <td>2022-02-21 02:04:00</td>\n      <td>14092.50</td>\n      <td>34265.0</td>\n      <td>14092.00</td>\n      <td>34261.0</td>\n      <td>2022-02-21 02:13:00</td>\n      <td>close</td>\n      <td>0.50</td>\n      <td>-4.0</td>\n      <td>1.0</td>\n      <td>-6.0</td>\n      <td>-7.08</td>\n      <td>-7.08</td>\n    </tr>\n    <tr>\n      <th>1</th>\n      <td>MNQ</td>\n      <td>MYM</td>\n      <td>2022-02-21 02:27:00</td>\n      <td>14094.25</td>\n      <td>34274.0</td>\n      <td>14105.25</td>\n      <td>34287.0</td>\n      <td>2022-02-21 02:32:00</td>\n      <td>close</td>\n      <td>11.00</td>\n      <td>-13.0</td>\n      <td>22.0</td>\n      <td>-19.5</td>\n      <td>0.42</td>\n      <td>-6.66</td>\n    </tr>\n    <tr>\n      <th>2</th>\n      <td>MNQ</td>\n      <td>MYM</td>\n      <td>2022-02-21 02:35:00</td>\n      <td>14059.00</td>\n      <td>34217.0</td>\n      <td>14045.00</td>\n      <td>34193.0</td>\n      <td>2022-02-21 02:46:00</td>\n      <td>close</td>\n      <td>-14.00</td>\n      <td>24.0</td>\n      <td>-28.0</td>\n      <td>36.0</td>\n      <td>5.92</td>\n      <td>-0.74</td>\n    </tr>\n    <tr>\n      <th>3</th>\n      <td>MNQ</td>\n      <td>MYM</td>\n      <td>2022-02-21 02:55:00</td>\n      <td>14035.50</td>\n      <td>34197.0</td>\n      <td>14037.25</td>\n      <td>34189.0</td>\n      <td>2022-02-21 02:59:00</td>\n      <td>close</td>\n      <td>1.75</td>\n      <td>8.0</td>\n      <td>3.5</td>\n      <td>12.0</td>\n      <td>13.42</td>\n      <td>12.68</td>\n    </tr>\n    <tr>\n      <th>4</th>\n      <td>MYM</td>\n      <td>MNQ</td>\n      <td>2022-02-21 03:24:00</td>\n      <td>14011.50</td>\n      <td>34098.0</td>\n      <td>14016.75</td>\n      <td>34128.0</td>\n      <td>2022-02-21 03:26:00</td>\n      <td>close</td>\n      <td>-5.25</td>\n      <td>30.0</td>\n      <td>-10.5</td>\n      <td>45.0</td>\n      <td>32.42</td>\n      <td>45.10</td>\n    </tr>\n    <tr>\n      <th>...</th>\n      <td>...</td>\n      <td>...</td>\n      <td>...</td>\n      <td>...</td>\n      <td>...</td>\n      <td>...</td>\n      <td>...</td>\n      <td>...</td>\n      <td>...</td>\n      <td>...</td>\n      <td>...</td>\n      <td>...</td>\n      <td>...</td>\n      <td>...</td>\n      <td>...</td>\n    </tr>\n    <tr>\n      <th>146</th>\n      <td>MYM</td>\n      <td>MNQ</td>\n      <td>2022-03-04 05:04:00</td>\n      <td>13926.50</td>\n      <td>33462.0</td>\n      <td>13922.00</td>\n      <td>33460.0</td>\n      <td>2022-03-04 05:12:00</td>\n      <td>close</td>\n      <td>4.50</td>\n      <td>-2.0</td>\n      <td>9.0</td>\n      <td>-3.0</td>\n      <td>3.92</td>\n      <td>821.74</td>\n    </tr>\n    <tr>\n      <th>147</th>\n      <td>MNQ</td>\n      <td>MYM</td>\n      <td>2022-03-04 05:29:00</td>\n      <td>13926.50</td>\n      <td>33491.0</td>\n      <td>13924.75</td>\n      <td>33475.0</td>\n      <td>2022-03-04 05:35:00</td>\n      <td>close</td>\n      <td>-1.75</td>\n      <td>16.0</td>\n      <td>-3.5</td>\n      <td>24.0</td>\n      <td>18.42</td>\n      <td>840.16</td>\n    </tr>\n    <tr>\n      <th>148</th>\n      <td>MYM</td>\n      <td>MNQ</td>\n      <td>2022-03-04 05:45:00</td>\n      <td>13923.50</td>\n      <td>33458.0</td>\n      <td>13929.25</td>\n      <td>33468.0</td>\n      <td>2022-03-04 05:57:00</td>\n      <td>close</td>\n      <td>-5.75</td>\n      <td>10.0</td>\n      <td>-11.5</td>\n      <td>15.0</td>\n      <td>1.42</td>\n      <td>841.58</td>\n    </tr>\n    <tr>\n      <th>149</th>\n      <td>MYM</td>\n      <td>MNQ</td>\n      <td>2022-03-04 06:05:00</td>\n      <td>13936.00</td>\n      <td>33458.0</td>\n      <td>13910.00</td>\n      <td>33410.0</td>\n      <td>2022-03-04 06:09:00</td>\n      <td>close</td>\n      <td>26.00</td>\n      <td>-48.0</td>\n      <td>52.0</td>\n      <td>-72.0</td>\n      <td>-22.08</td>\n      <td>819.50</td>\n    </tr>\n    <tr>\n      <th>150</th>\n      <td>MNQ</td>\n      <td>MYM</td>\n      <td>2022-03-04 06:13:00</td>\n      <td>13892.75</td>\n      <td>33385.0</td>\n      <td>13914.50</td>\n      <td>33422.0</td>\n      <td>2022-03-04 06:20:00</td>\n      <td>close</td>\n      <td>21.75</td>\n      <td>-37.0</td>\n      <td>43.5</td>\n      <td>-55.5</td>\n      <td>-14.08</td>\n      <td>805.42</td>\n    </tr>\n  </tbody>\n</table>\n<p>151 rows × 15 columns</p>\n</div>"
     },
     "execution_count": 115,
     "metadata": {},
     "output_type": "execute_result"
    }
   ],
   "source": [
    "from pandas import DataFrame\n",
    "\n",
    "executions = []\n",
    "current_pnl = 0\n",
    "\n",
    "for dt, row in df_selected.iterrows():\n",
    "    last = executions[-1] if executions else None\n",
    "\n",
    "    if not last or last[\"position\"] == \"close\":\n",
    "        if row[\"px_diff\"] > row[\"px_diff_upper\"]:\n",
    "            executions.append({\n",
    "                \"buy\": \"MNQ\",\n",
    "                \"sell\": \"MYM\",\n",
    "                \"entry_t\": dt,\n",
    "                \"entry_mnq\": row[\"close_mnq\"],\n",
    "                \"entry_mym\": row[\"close_mym\"],\n",
    "                \"exit_mnq\": None,\n",
    "                \"exit_mym\": None,\n",
    "                \"exit_t\": None,\n",
    "                \"position\": \"open\",\n",
    "            })\n",
    "\n",
    "        if row[\"px_diff\"] < row[\"px_diff_lower\"]:\n",
    "            executions.append({\n",
    "                \"buy\": \"MYM\",\n",
    "                \"sell\": \"MNQ\",\n",
    "                \"entry_t\": dt,\n",
    "                \"entry_mnq\": row[\"close_mnq\"],\n",
    "                \"entry_mym\": row[\"close_mym\"],\n",
    "                \"exit_mnq\": None,\n",
    "                \"exit_mym\": None,\n",
    "                \"exit_t\": None,\n",
    "                \"position\": \"open\",\n",
    "            })\n",
    "\n",
    "        continue\n",
    "    elif (last[\"buy\"] == \"MNQ\" and row[\"px_diff\"] < row[\"px_diff_mid\"]) or (last[\"buy\"] == \"MYM\" and row[\"px_diff\"] > row[\"px_diff_mid\"]):\n",
    "        executions[-1] |= {\n",
    "            \"exit_mnq\": row[\"close_mnq\"],\n",
    "            \"exit_mym\": row[\"close_mym\"],\n",
    "            \"exit_t\": dt,\n",
    "            \"position\": \"close\",\n",
    "        }\n",
    "        current_pnl = 0\n",
    "        \n",
    "    if current_pnl < -100:\n",
    "        executions[-1] |= {\n",
    "            \"exit_mnq\": row[\"close_mnq\"],\n",
    "            \"exit_mym\": row[\"close_mym\"],\n",
    "            \"exit_t\": dt,\n",
    "            \"position\": \"close\",\n",
    "        }\n",
    "\n",
    "df_exec = DataFrame(executions)\n",
    "df_exec[\"px_side_mnq\"] = (df_exec[\"exit_mnq\"] - df_exec[\"entry_mnq\"]) * np.where(df_exec[\"buy\"] == \"MNQ\", 1, -1)\n",
    "df_exec[\"px_side_mym\"] = (df_exec[\"exit_mym\"] - df_exec[\"entry_mym\"]) * np.where(df_exec[\"buy\"] == \"MYM\", 1, -1)\n",
    "df_exec[\"pnl_mnq\"] = df_exec[\"px_side_mnq\"] * 1 * 2\n",
    "df_exec[\"pnl_mym\"] = df_exec[\"px_side_mym\"] * 3 * 0.5\n",
    "df_exec[\"pnl_single\"] = df_exec[\"pnl_mnq\"] + df_exec[\"pnl_mym\"] - 0.52 * 4\n",
    "df_exec[\"pnl_cum\"] = df_exec[\"pnl_single\"].cumsum()\n",
    "df_exec"
   ],
   "metadata": {
    "collapsed": false,
    "pycharm": {
     "name": "#%%\n"
    }
   }
  },
  {
   "cell_type": "code",
   "execution_count": 116,
   "outputs": [
    {
     "data": {
      "application/vnd.plotly.v1+json": {
       "data": [
        {
         "hovertemplate": "index=%{x}<br>pnl_cum=%{y}<extra></extra>",
         "legendgroup": "",
         "line": {
          "color": "#636efa",
          "dash": "solid"
         },
         "marker": {
          "symbol": "circle"
         },
         "mode": "lines",
         "name": "",
         "orientation": "v",
         "showlegend": false,
         "x": [
          0,
          1,
          2,
          3,
          4,
          5,
          6,
          7,
          8,
          9,
          10,
          11,
          12,
          13,
          14,
          15,
          16,
          17,
          18,
          19,
          20,
          21,
          22,
          23,
          24,
          25,
          26,
          27,
          28,
          29,
          30,
          31,
          32,
          33,
          34,
          35,
          36,
          37,
          38,
          39,
          40,
          41,
          42,
          43,
          44,
          45,
          46,
          47,
          48,
          49,
          50,
          51,
          52,
          53,
          54,
          55,
          56,
          57,
          58,
          59,
          60,
          61,
          62,
          63,
          64,
          65,
          66,
          67,
          68,
          69,
          70,
          71,
          72,
          73,
          74,
          75,
          76,
          77,
          78,
          79,
          80,
          81,
          82,
          83,
          84,
          85,
          86,
          87,
          88,
          89,
          90,
          91,
          92,
          93,
          94,
          95,
          96,
          97,
          98,
          99,
          100,
          101,
          102,
          103,
          104,
          105,
          106,
          107,
          108,
          109,
          110,
          111,
          112,
          113,
          114,
          115,
          116,
          117,
          118,
          119,
          120,
          121,
          122,
          123,
          124,
          125,
          126,
          127,
          128,
          129,
          130,
          131,
          132,
          133,
          134,
          135,
          136,
          137,
          138,
          139,
          140,
          141,
          142,
          143,
          144,
          145,
          146,
          147,
          148,
          149,
          150
         ],
         "xaxis": "x",
         "y": [
          -7.08,
          -6.66,
          -0.7400000000000002,
          12.68,
          45.1,
          45.02,
          54.940000000000005,
          67.86,
          48.78,
          38.2,
          30.120000000000005,
          37.540000000000006,
          57.96000000000001,
          104.38000000000001,
          125.30000000000001,
          116.72000000000001,
          158.14000000000001,
          162.56,
          150.48,
          135.39999999999998,
          109.31999999999998,
          102.23999999999998,
          137.15999999999997,
          170.07999999999998,
          192.0,
          222.42000000000002,
          253.34000000000003,
          275.76000000000005,
          248.18000000000006,
          294.6000000000001,
          257.0200000000001,
          228.4400000000001,
          217.3600000000001,
          230.7800000000001,
          233.70000000000007,
          234.12000000000006,
          213.04000000000008,
          212.46000000000006,
          233.38000000000005,
          231.30000000000004,
          231.22000000000003,
          226.64000000000001,
          230.56,
          234.48,
          244.89999999999998,
          350.32,
          336.74,
          359.16,
          384.08000000000004,
          296.00000000000006,
          310.9200000000001,
          297.8400000000001,
          266.2600000000001,
          229.18000000000012,
          223.1000000000001,
          232.5200000000001,
          224.44000000000008,
          211.36000000000007,
          265.2800000000001,
          341.7000000000001,
          834.1200000000001,
          890.0400000000001,
          865.46,
          846.38,
          852.3,
          862.2199999999999,
          855.1399999999999,
          858.5599999999998,
          829.9799999999998,
          822.8999999999997,
          848.3199999999997,
          813.7399999999997,
          827.6599999999996,
          834.5799999999996,
          803.4999999999995,
          828.4199999999995,
          860.3399999999995,
          881.2599999999994,
          867.6799999999994,
          873.5999999999993,
          913.0199999999993,
          916.4399999999993,
          917.8599999999992,
          952.2799999999992,
          963.6999999999991,
          967.6199999999991,
          974.539999999999,
          987.459999999999,
          1001.379999999999,
          984.2999999999989,
          1000.7199999999989,
          1026.639999999999,
          1043.559999999999,
          1033.479999999999,
          1062.3999999999992,
          1077.3199999999993,
          1097.7399999999993,
          1107.1599999999994,
          1086.0799999999995,
          1052.9999999999995,
          1042.9199999999996,
          1065.3399999999997,
          1052.2599999999998,
          1044.1799999999998,
          1051.6,
          757.52,
          796.9399999999999,
          745.3599999999999,
          749.2799999999999,
          755.1999999999998,
          755.6199999999998,
          760.0399999999997,
          789.9599999999997,
          786.3799999999997,
          789.7999999999996,
          799.7199999999996,
          813.1399999999995,
          822.0599999999995,
          817.9799999999994,
          780.3999999999994,
          789.3199999999994,
          763.2399999999993,
          769.6599999999993,
          802.5799999999992,
          783.4999999999992,
          793.9199999999992,
          813.8399999999991,
          833.2599999999991,
          852.679999999999,
          882.099999999999,
          894.519999999999,
          858.4399999999989,
          866.3599999999989,
          882.2799999999988,
          889.6999999999988,
          895.1199999999988,
          901.5399999999987,
          922.4599999999987,
          931.3799999999986,
          853.7999999999986,
          858.2199999999985,
          890.6399999999985,
          897.5599999999985,
          827.9799999999984,
          821.8999999999984,
          817.8199999999983,
          821.7399999999983,
          840.1599999999983,
          841.5799999999982,
          819.4999999999982,
          805.4199999999981
         ],
         "yaxis": "y",
         "type": "scatter"
        }
       ],
       "layout": {
        "template": {
         "data": {
          "bar": [
           {
            "error_x": {
             "color": "#2a3f5f"
            },
            "error_y": {
             "color": "#2a3f5f"
            },
            "marker": {
             "line": {
              "color": "#E5ECF6",
              "width": 0.5
             },
             "pattern": {
              "fillmode": "overlay",
              "size": 10,
              "solidity": 0.2
             }
            },
            "type": "bar"
           }
          ],
          "barpolar": [
           {
            "marker": {
             "line": {
              "color": "#E5ECF6",
              "width": 0.5
             },
             "pattern": {
              "fillmode": "overlay",
              "size": 10,
              "solidity": 0.2
             }
            },
            "type": "barpolar"
           }
          ],
          "carpet": [
           {
            "aaxis": {
             "endlinecolor": "#2a3f5f",
             "gridcolor": "white",
             "linecolor": "white",
             "minorgridcolor": "white",
             "startlinecolor": "#2a3f5f"
            },
            "baxis": {
             "endlinecolor": "#2a3f5f",
             "gridcolor": "white",
             "linecolor": "white",
             "minorgridcolor": "white",
             "startlinecolor": "#2a3f5f"
            },
            "type": "carpet"
           }
          ],
          "choropleth": [
           {
            "colorbar": {
             "outlinewidth": 0,
             "ticks": ""
            },
            "type": "choropleth"
           }
          ],
          "contour": [
           {
            "colorbar": {
             "outlinewidth": 0,
             "ticks": ""
            },
            "colorscale": [
             [
              0.0,
              "#0d0887"
             ],
             [
              0.1111111111111111,
              "#46039f"
             ],
             [
              0.2222222222222222,
              "#7201a8"
             ],
             [
              0.3333333333333333,
              "#9c179e"
             ],
             [
              0.4444444444444444,
              "#bd3786"
             ],
             [
              0.5555555555555556,
              "#d8576b"
             ],
             [
              0.6666666666666666,
              "#ed7953"
             ],
             [
              0.7777777777777778,
              "#fb9f3a"
             ],
             [
              0.8888888888888888,
              "#fdca26"
             ],
             [
              1.0,
              "#f0f921"
             ]
            ],
            "type": "contour"
           }
          ],
          "contourcarpet": [
           {
            "colorbar": {
             "outlinewidth": 0,
             "ticks": ""
            },
            "type": "contourcarpet"
           }
          ],
          "heatmap": [
           {
            "colorbar": {
             "outlinewidth": 0,
             "ticks": ""
            },
            "colorscale": [
             [
              0.0,
              "#0d0887"
             ],
             [
              0.1111111111111111,
              "#46039f"
             ],
             [
              0.2222222222222222,
              "#7201a8"
             ],
             [
              0.3333333333333333,
              "#9c179e"
             ],
             [
              0.4444444444444444,
              "#bd3786"
             ],
             [
              0.5555555555555556,
              "#d8576b"
             ],
             [
              0.6666666666666666,
              "#ed7953"
             ],
             [
              0.7777777777777778,
              "#fb9f3a"
             ],
             [
              0.8888888888888888,
              "#fdca26"
             ],
             [
              1.0,
              "#f0f921"
             ]
            ],
            "type": "heatmap"
           }
          ],
          "heatmapgl": [
           {
            "colorbar": {
             "outlinewidth": 0,
             "ticks": ""
            },
            "colorscale": [
             [
              0.0,
              "#0d0887"
             ],
             [
              0.1111111111111111,
              "#46039f"
             ],
             [
              0.2222222222222222,
              "#7201a8"
             ],
             [
              0.3333333333333333,
              "#9c179e"
             ],
             [
              0.4444444444444444,
              "#bd3786"
             ],
             [
              0.5555555555555556,
              "#d8576b"
             ],
             [
              0.6666666666666666,
              "#ed7953"
             ],
             [
              0.7777777777777778,
              "#fb9f3a"
             ],
             [
              0.8888888888888888,
              "#fdca26"
             ],
             [
              1.0,
              "#f0f921"
             ]
            ],
            "type": "heatmapgl"
           }
          ],
          "histogram": [
           {
            "marker": {
             "pattern": {
              "fillmode": "overlay",
              "size": 10,
              "solidity": 0.2
             }
            },
            "type": "histogram"
           }
          ],
          "histogram2d": [
           {
            "colorbar": {
             "outlinewidth": 0,
             "ticks": ""
            },
            "colorscale": [
             [
              0.0,
              "#0d0887"
             ],
             [
              0.1111111111111111,
              "#46039f"
             ],
             [
              0.2222222222222222,
              "#7201a8"
             ],
             [
              0.3333333333333333,
              "#9c179e"
             ],
             [
              0.4444444444444444,
              "#bd3786"
             ],
             [
              0.5555555555555556,
              "#d8576b"
             ],
             [
              0.6666666666666666,
              "#ed7953"
             ],
             [
              0.7777777777777778,
              "#fb9f3a"
             ],
             [
              0.8888888888888888,
              "#fdca26"
             ],
             [
              1.0,
              "#f0f921"
             ]
            ],
            "type": "histogram2d"
           }
          ],
          "histogram2dcontour": [
           {
            "colorbar": {
             "outlinewidth": 0,
             "ticks": ""
            },
            "colorscale": [
             [
              0.0,
              "#0d0887"
             ],
             [
              0.1111111111111111,
              "#46039f"
             ],
             [
              0.2222222222222222,
              "#7201a8"
             ],
             [
              0.3333333333333333,
              "#9c179e"
             ],
             [
              0.4444444444444444,
              "#bd3786"
             ],
             [
              0.5555555555555556,
              "#d8576b"
             ],
             [
              0.6666666666666666,
              "#ed7953"
             ],
             [
              0.7777777777777778,
              "#fb9f3a"
             ],
             [
              0.8888888888888888,
              "#fdca26"
             ],
             [
              1.0,
              "#f0f921"
             ]
            ],
            "type": "histogram2dcontour"
           }
          ],
          "mesh3d": [
           {
            "colorbar": {
             "outlinewidth": 0,
             "ticks": ""
            },
            "type": "mesh3d"
           }
          ],
          "parcoords": [
           {
            "line": {
             "colorbar": {
              "outlinewidth": 0,
              "ticks": ""
             }
            },
            "type": "parcoords"
           }
          ],
          "pie": [
           {
            "automargin": true,
            "type": "pie"
           }
          ],
          "scatter": [
           {
            "marker": {
             "colorbar": {
              "outlinewidth": 0,
              "ticks": ""
             }
            },
            "type": "scatter"
           }
          ],
          "scatter3d": [
           {
            "line": {
             "colorbar": {
              "outlinewidth": 0,
              "ticks": ""
             }
            },
            "marker": {
             "colorbar": {
              "outlinewidth": 0,
              "ticks": ""
             }
            },
            "type": "scatter3d"
           }
          ],
          "scattercarpet": [
           {
            "marker": {
             "colorbar": {
              "outlinewidth": 0,
              "ticks": ""
             }
            },
            "type": "scattercarpet"
           }
          ],
          "scattergeo": [
           {
            "marker": {
             "colorbar": {
              "outlinewidth": 0,
              "ticks": ""
             }
            },
            "type": "scattergeo"
           }
          ],
          "scattergl": [
           {
            "marker": {
             "colorbar": {
              "outlinewidth": 0,
              "ticks": ""
             }
            },
            "type": "scattergl"
           }
          ],
          "scattermapbox": [
           {
            "marker": {
             "colorbar": {
              "outlinewidth": 0,
              "ticks": ""
             }
            },
            "type": "scattermapbox"
           }
          ],
          "scatterpolar": [
           {
            "marker": {
             "colorbar": {
              "outlinewidth": 0,
              "ticks": ""
             }
            },
            "type": "scatterpolar"
           }
          ],
          "scatterpolargl": [
           {
            "marker": {
             "colorbar": {
              "outlinewidth": 0,
              "ticks": ""
             }
            },
            "type": "scatterpolargl"
           }
          ],
          "scatterternary": [
           {
            "marker": {
             "colorbar": {
              "outlinewidth": 0,
              "ticks": ""
             }
            },
            "type": "scatterternary"
           }
          ],
          "surface": [
           {
            "colorbar": {
             "outlinewidth": 0,
             "ticks": ""
            },
            "colorscale": [
             [
              0.0,
              "#0d0887"
             ],
             [
              0.1111111111111111,
              "#46039f"
             ],
             [
              0.2222222222222222,
              "#7201a8"
             ],
             [
              0.3333333333333333,
              "#9c179e"
             ],
             [
              0.4444444444444444,
              "#bd3786"
             ],
             [
              0.5555555555555556,
              "#d8576b"
             ],
             [
              0.6666666666666666,
              "#ed7953"
             ],
             [
              0.7777777777777778,
              "#fb9f3a"
             ],
             [
              0.8888888888888888,
              "#fdca26"
             ],
             [
              1.0,
              "#f0f921"
             ]
            ],
            "type": "surface"
           }
          ],
          "table": [
           {
            "cells": {
             "fill": {
              "color": "#EBF0F8"
             },
             "line": {
              "color": "white"
             }
            },
            "header": {
             "fill": {
              "color": "#C8D4E3"
             },
             "line": {
              "color": "white"
             }
            },
            "type": "table"
           }
          ]
         },
         "layout": {
          "annotationdefaults": {
           "arrowcolor": "#2a3f5f",
           "arrowhead": 0,
           "arrowwidth": 1
          },
          "autotypenumbers": "strict",
          "coloraxis": {
           "colorbar": {
            "outlinewidth": 0,
            "ticks": ""
           }
          },
          "colorscale": {
           "diverging": [
            [
             0,
             "#8e0152"
            ],
            [
             0.1,
             "#c51b7d"
            ],
            [
             0.2,
             "#de77ae"
            ],
            [
             0.3,
             "#f1b6da"
            ],
            [
             0.4,
             "#fde0ef"
            ],
            [
             0.5,
             "#f7f7f7"
            ],
            [
             0.6,
             "#e6f5d0"
            ],
            [
             0.7,
             "#b8e186"
            ],
            [
             0.8,
             "#7fbc41"
            ],
            [
             0.9,
             "#4d9221"
            ],
            [
             1,
             "#276419"
            ]
           ],
           "sequential": [
            [
             0.0,
             "#0d0887"
            ],
            [
             0.1111111111111111,
             "#46039f"
            ],
            [
             0.2222222222222222,
             "#7201a8"
            ],
            [
             0.3333333333333333,
             "#9c179e"
            ],
            [
             0.4444444444444444,
             "#bd3786"
            ],
            [
             0.5555555555555556,
             "#d8576b"
            ],
            [
             0.6666666666666666,
             "#ed7953"
            ],
            [
             0.7777777777777778,
             "#fb9f3a"
            ],
            [
             0.8888888888888888,
             "#fdca26"
            ],
            [
             1.0,
             "#f0f921"
            ]
           ],
           "sequentialminus": [
            [
             0.0,
             "#0d0887"
            ],
            [
             0.1111111111111111,
             "#46039f"
            ],
            [
             0.2222222222222222,
             "#7201a8"
            ],
            [
             0.3333333333333333,
             "#9c179e"
            ],
            [
             0.4444444444444444,
             "#bd3786"
            ],
            [
             0.5555555555555556,
             "#d8576b"
            ],
            [
             0.6666666666666666,
             "#ed7953"
            ],
            [
             0.7777777777777778,
             "#fb9f3a"
            ],
            [
             0.8888888888888888,
             "#fdca26"
            ],
            [
             1.0,
             "#f0f921"
            ]
           ]
          },
          "colorway": [
           "#636efa",
           "#EF553B",
           "#00cc96",
           "#ab63fa",
           "#FFA15A",
           "#19d3f3",
           "#FF6692",
           "#B6E880",
           "#FF97FF",
           "#FECB52"
          ],
          "font": {
           "color": "#2a3f5f"
          },
          "geo": {
           "bgcolor": "white",
           "lakecolor": "white",
           "landcolor": "#E5ECF6",
           "showlakes": true,
           "showland": true,
           "subunitcolor": "white"
          },
          "hoverlabel": {
           "align": "left"
          },
          "hovermode": "closest",
          "mapbox": {
           "style": "light"
          },
          "paper_bgcolor": "white",
          "plot_bgcolor": "#E5ECF6",
          "polar": {
           "angularaxis": {
            "gridcolor": "white",
            "linecolor": "white",
            "ticks": ""
           },
           "bgcolor": "#E5ECF6",
           "radialaxis": {
            "gridcolor": "white",
            "linecolor": "white",
            "ticks": ""
           }
          },
          "scene": {
           "xaxis": {
            "backgroundcolor": "#E5ECF6",
            "gridcolor": "white",
            "gridwidth": 2,
            "linecolor": "white",
            "showbackground": true,
            "ticks": "",
            "zerolinecolor": "white"
           },
           "yaxis": {
            "backgroundcolor": "#E5ECF6",
            "gridcolor": "white",
            "gridwidth": 2,
            "linecolor": "white",
            "showbackground": true,
            "ticks": "",
            "zerolinecolor": "white"
           },
           "zaxis": {
            "backgroundcolor": "#E5ECF6",
            "gridcolor": "white",
            "gridwidth": 2,
            "linecolor": "white",
            "showbackground": true,
            "ticks": "",
            "zerolinecolor": "white"
           }
          },
          "shapedefaults": {
           "line": {
            "color": "#2a3f5f"
           }
          },
          "ternary": {
           "aaxis": {
            "gridcolor": "white",
            "linecolor": "white",
            "ticks": ""
           },
           "baxis": {
            "gridcolor": "white",
            "linecolor": "white",
            "ticks": ""
           },
           "bgcolor": "#E5ECF6",
           "caxis": {
            "gridcolor": "white",
            "linecolor": "white",
            "ticks": ""
           }
          },
          "title": {
           "x": 0.05
          },
          "xaxis": {
           "automargin": true,
           "gridcolor": "white",
           "linecolor": "white",
           "ticks": "",
           "title": {
            "standoff": 15
           },
           "zerolinecolor": "white",
           "zerolinewidth": 2
          },
          "yaxis": {
           "automargin": true,
           "gridcolor": "white",
           "linecolor": "white",
           "ticks": "",
           "title": {
            "standoff": 15
           },
           "zerolinecolor": "white",
           "zerolinewidth": 2
          }
         }
        },
        "xaxis": {
         "anchor": "y",
         "domain": [
          0.0,
          1.0
         ],
         "title": {
          "text": "index"
         }
        },
        "yaxis": {
         "anchor": "x",
         "domain": [
          0.0,
          1.0
         ],
         "title": {
          "text": "pnl_cum"
         }
        },
        "legend": {
         "tracegroupgap": 0
        },
        "margin": {
         "t": 60
        }
       },
       "config": {
        "plotlyServerURL": "https://plot.ly"
       }
      },
      "text/html": "<div>                            <div id=\"c53a6960-4ced-404e-947b-a5553af0dafe\" class=\"plotly-graph-div\" style=\"height:525px; width:100%;\"></div>            <script type=\"text/javascript\">                require([\"plotly\"], function(Plotly) {                    window.PLOTLYENV=window.PLOTLYENV || {};                                    if (document.getElementById(\"c53a6960-4ced-404e-947b-a5553af0dafe\")) {                    Plotly.newPlot(                        \"c53a6960-4ced-404e-947b-a5553af0dafe\",                        [{\"hovertemplate\":\"index=%{x}<br>pnl_cum=%{y}<extra></extra>\",\"legendgroup\":\"\",\"line\":{\"color\":\"#636efa\",\"dash\":\"solid\"},\"marker\":{\"symbol\":\"circle\"},\"mode\":\"lines\",\"name\":\"\",\"orientation\":\"v\",\"showlegend\":false,\"x\":[0,1,2,3,4,5,6,7,8,9,10,11,12,13,14,15,16,17,18,19,20,21,22,23,24,25,26,27,28,29,30,31,32,33,34,35,36,37,38,39,40,41,42,43,44,45,46,47,48,49,50,51,52,53,54,55,56,57,58,59,60,61,62,63,64,65,66,67,68,69,70,71,72,73,74,75,76,77,78,79,80,81,82,83,84,85,86,87,88,89,90,91,92,93,94,95,96,97,98,99,100,101,102,103,104,105,106,107,108,109,110,111,112,113,114,115,116,117,118,119,120,121,122,123,124,125,126,127,128,129,130,131,132,133,134,135,136,137,138,139,140,141,142,143,144,145,146,147,148,149,150],\"xaxis\":\"x\",\"y\":[-7.08,-6.66,-0.7400000000000002,12.68,45.1,45.02,54.940000000000005,67.86,48.78,38.2,30.120000000000005,37.540000000000006,57.96000000000001,104.38000000000001,125.30000000000001,116.72000000000001,158.14000000000001,162.56,150.48,135.39999999999998,109.31999999999998,102.23999999999998,137.15999999999997,170.07999999999998,192.0,222.42000000000002,253.34000000000003,275.76000000000005,248.18000000000006,294.6000000000001,257.0200000000001,228.4400000000001,217.3600000000001,230.7800000000001,233.70000000000007,234.12000000000006,213.04000000000008,212.46000000000006,233.38000000000005,231.30000000000004,231.22000000000003,226.64000000000001,230.56,234.48,244.89999999999998,350.32,336.74,359.16,384.08000000000004,296.00000000000006,310.9200000000001,297.8400000000001,266.2600000000001,229.18000000000012,223.1000000000001,232.5200000000001,224.44000000000008,211.36000000000007,265.2800000000001,341.7000000000001,834.1200000000001,890.0400000000001,865.46,846.38,852.3,862.2199999999999,855.1399999999999,858.5599999999998,829.9799999999998,822.8999999999997,848.3199999999997,813.7399999999997,827.6599999999996,834.5799999999996,803.4999999999995,828.4199999999995,860.3399999999995,881.2599999999994,867.6799999999994,873.5999999999993,913.0199999999993,916.4399999999993,917.8599999999992,952.2799999999992,963.6999999999991,967.6199999999991,974.539999999999,987.459999999999,1001.379999999999,984.2999999999989,1000.7199999999989,1026.639999999999,1043.559999999999,1033.479999999999,1062.3999999999992,1077.3199999999993,1097.7399999999993,1107.1599999999994,1086.0799999999995,1052.9999999999995,1042.9199999999996,1065.3399999999997,1052.2599999999998,1044.1799999999998,1051.6,757.52,796.9399999999999,745.3599999999999,749.2799999999999,755.1999999999998,755.6199999999998,760.0399999999997,789.9599999999997,786.3799999999997,789.7999999999996,799.7199999999996,813.1399999999995,822.0599999999995,817.9799999999994,780.3999999999994,789.3199999999994,763.2399999999993,769.6599999999993,802.5799999999992,783.4999999999992,793.9199999999992,813.8399999999991,833.2599999999991,852.679999999999,882.099999999999,894.519999999999,858.4399999999989,866.3599999999989,882.2799999999988,889.6999999999988,895.1199999999988,901.5399999999987,922.4599999999987,931.3799999999986,853.7999999999986,858.2199999999985,890.6399999999985,897.5599999999985,827.9799999999984,821.8999999999984,817.8199999999983,821.7399999999983,840.1599999999983,841.5799999999982,819.4999999999982,805.4199999999981],\"yaxis\":\"y\",\"type\":\"scatter\"}],                        {\"template\":{\"data\":{\"bar\":[{\"error_x\":{\"color\":\"#2a3f5f\"},\"error_y\":{\"color\":\"#2a3f5f\"},\"marker\":{\"line\":{\"color\":\"#E5ECF6\",\"width\":0.5},\"pattern\":{\"fillmode\":\"overlay\",\"size\":10,\"solidity\":0.2}},\"type\":\"bar\"}],\"barpolar\":[{\"marker\":{\"line\":{\"color\":\"#E5ECF6\",\"width\":0.5},\"pattern\":{\"fillmode\":\"overlay\",\"size\":10,\"solidity\":0.2}},\"type\":\"barpolar\"}],\"carpet\":[{\"aaxis\":{\"endlinecolor\":\"#2a3f5f\",\"gridcolor\":\"white\",\"linecolor\":\"white\",\"minorgridcolor\":\"white\",\"startlinecolor\":\"#2a3f5f\"},\"baxis\":{\"endlinecolor\":\"#2a3f5f\",\"gridcolor\":\"white\",\"linecolor\":\"white\",\"minorgridcolor\":\"white\",\"startlinecolor\":\"#2a3f5f\"},\"type\":\"carpet\"}],\"choropleth\":[{\"colorbar\":{\"outlinewidth\":0,\"ticks\":\"\"},\"type\":\"choropleth\"}],\"contour\":[{\"colorbar\":{\"outlinewidth\":0,\"ticks\":\"\"},\"colorscale\":[[0.0,\"#0d0887\"],[0.1111111111111111,\"#46039f\"],[0.2222222222222222,\"#7201a8\"],[0.3333333333333333,\"#9c179e\"],[0.4444444444444444,\"#bd3786\"],[0.5555555555555556,\"#d8576b\"],[0.6666666666666666,\"#ed7953\"],[0.7777777777777778,\"#fb9f3a\"],[0.8888888888888888,\"#fdca26\"],[1.0,\"#f0f921\"]],\"type\":\"contour\"}],\"contourcarpet\":[{\"colorbar\":{\"outlinewidth\":0,\"ticks\":\"\"},\"type\":\"contourcarpet\"}],\"heatmap\":[{\"colorbar\":{\"outlinewidth\":0,\"ticks\":\"\"},\"colorscale\":[[0.0,\"#0d0887\"],[0.1111111111111111,\"#46039f\"],[0.2222222222222222,\"#7201a8\"],[0.3333333333333333,\"#9c179e\"],[0.4444444444444444,\"#bd3786\"],[0.5555555555555556,\"#d8576b\"],[0.6666666666666666,\"#ed7953\"],[0.7777777777777778,\"#fb9f3a\"],[0.8888888888888888,\"#fdca26\"],[1.0,\"#f0f921\"]],\"type\":\"heatmap\"}],\"heatmapgl\":[{\"colorbar\":{\"outlinewidth\":0,\"ticks\":\"\"},\"colorscale\":[[0.0,\"#0d0887\"],[0.1111111111111111,\"#46039f\"],[0.2222222222222222,\"#7201a8\"],[0.3333333333333333,\"#9c179e\"],[0.4444444444444444,\"#bd3786\"],[0.5555555555555556,\"#d8576b\"],[0.6666666666666666,\"#ed7953\"],[0.7777777777777778,\"#fb9f3a\"],[0.8888888888888888,\"#fdca26\"],[1.0,\"#f0f921\"]],\"type\":\"heatmapgl\"}],\"histogram\":[{\"marker\":{\"pattern\":{\"fillmode\":\"overlay\",\"size\":10,\"solidity\":0.2}},\"type\":\"histogram\"}],\"histogram2d\":[{\"colorbar\":{\"outlinewidth\":0,\"ticks\":\"\"},\"colorscale\":[[0.0,\"#0d0887\"],[0.1111111111111111,\"#46039f\"],[0.2222222222222222,\"#7201a8\"],[0.3333333333333333,\"#9c179e\"],[0.4444444444444444,\"#bd3786\"],[0.5555555555555556,\"#d8576b\"],[0.6666666666666666,\"#ed7953\"],[0.7777777777777778,\"#fb9f3a\"],[0.8888888888888888,\"#fdca26\"],[1.0,\"#f0f921\"]],\"type\":\"histogram2d\"}],\"histogram2dcontour\":[{\"colorbar\":{\"outlinewidth\":0,\"ticks\":\"\"},\"colorscale\":[[0.0,\"#0d0887\"],[0.1111111111111111,\"#46039f\"],[0.2222222222222222,\"#7201a8\"],[0.3333333333333333,\"#9c179e\"],[0.4444444444444444,\"#bd3786\"],[0.5555555555555556,\"#d8576b\"],[0.6666666666666666,\"#ed7953\"],[0.7777777777777778,\"#fb9f3a\"],[0.8888888888888888,\"#fdca26\"],[1.0,\"#f0f921\"]],\"type\":\"histogram2dcontour\"}],\"mesh3d\":[{\"colorbar\":{\"outlinewidth\":0,\"ticks\":\"\"},\"type\":\"mesh3d\"}],\"parcoords\":[{\"line\":{\"colorbar\":{\"outlinewidth\":0,\"ticks\":\"\"}},\"type\":\"parcoords\"}],\"pie\":[{\"automargin\":true,\"type\":\"pie\"}],\"scatter\":[{\"marker\":{\"colorbar\":{\"outlinewidth\":0,\"ticks\":\"\"}},\"type\":\"scatter\"}],\"scatter3d\":[{\"line\":{\"colorbar\":{\"outlinewidth\":0,\"ticks\":\"\"}},\"marker\":{\"colorbar\":{\"outlinewidth\":0,\"ticks\":\"\"}},\"type\":\"scatter3d\"}],\"scattercarpet\":[{\"marker\":{\"colorbar\":{\"outlinewidth\":0,\"ticks\":\"\"}},\"type\":\"scattercarpet\"}],\"scattergeo\":[{\"marker\":{\"colorbar\":{\"outlinewidth\":0,\"ticks\":\"\"}},\"type\":\"scattergeo\"}],\"scattergl\":[{\"marker\":{\"colorbar\":{\"outlinewidth\":0,\"ticks\":\"\"}},\"type\":\"scattergl\"}],\"scattermapbox\":[{\"marker\":{\"colorbar\":{\"outlinewidth\":0,\"ticks\":\"\"}},\"type\":\"scattermapbox\"}],\"scatterpolar\":[{\"marker\":{\"colorbar\":{\"outlinewidth\":0,\"ticks\":\"\"}},\"type\":\"scatterpolar\"}],\"scatterpolargl\":[{\"marker\":{\"colorbar\":{\"outlinewidth\":0,\"ticks\":\"\"}},\"type\":\"scatterpolargl\"}],\"scatterternary\":[{\"marker\":{\"colorbar\":{\"outlinewidth\":0,\"ticks\":\"\"}},\"type\":\"scatterternary\"}],\"surface\":[{\"colorbar\":{\"outlinewidth\":0,\"ticks\":\"\"},\"colorscale\":[[0.0,\"#0d0887\"],[0.1111111111111111,\"#46039f\"],[0.2222222222222222,\"#7201a8\"],[0.3333333333333333,\"#9c179e\"],[0.4444444444444444,\"#bd3786\"],[0.5555555555555556,\"#d8576b\"],[0.6666666666666666,\"#ed7953\"],[0.7777777777777778,\"#fb9f3a\"],[0.8888888888888888,\"#fdca26\"],[1.0,\"#f0f921\"]],\"type\":\"surface\"}],\"table\":[{\"cells\":{\"fill\":{\"color\":\"#EBF0F8\"},\"line\":{\"color\":\"white\"}},\"header\":{\"fill\":{\"color\":\"#C8D4E3\"},\"line\":{\"color\":\"white\"}},\"type\":\"table\"}]},\"layout\":{\"annotationdefaults\":{\"arrowcolor\":\"#2a3f5f\",\"arrowhead\":0,\"arrowwidth\":1},\"autotypenumbers\":\"strict\",\"coloraxis\":{\"colorbar\":{\"outlinewidth\":0,\"ticks\":\"\"}},\"colorscale\":{\"diverging\":[[0,\"#8e0152\"],[0.1,\"#c51b7d\"],[0.2,\"#de77ae\"],[0.3,\"#f1b6da\"],[0.4,\"#fde0ef\"],[0.5,\"#f7f7f7\"],[0.6,\"#e6f5d0\"],[0.7,\"#b8e186\"],[0.8,\"#7fbc41\"],[0.9,\"#4d9221\"],[1,\"#276419\"]],\"sequential\":[[0.0,\"#0d0887\"],[0.1111111111111111,\"#46039f\"],[0.2222222222222222,\"#7201a8\"],[0.3333333333333333,\"#9c179e\"],[0.4444444444444444,\"#bd3786\"],[0.5555555555555556,\"#d8576b\"],[0.6666666666666666,\"#ed7953\"],[0.7777777777777778,\"#fb9f3a\"],[0.8888888888888888,\"#fdca26\"],[1.0,\"#f0f921\"]],\"sequentialminus\":[[0.0,\"#0d0887\"],[0.1111111111111111,\"#46039f\"],[0.2222222222222222,\"#7201a8\"],[0.3333333333333333,\"#9c179e\"],[0.4444444444444444,\"#bd3786\"],[0.5555555555555556,\"#d8576b\"],[0.6666666666666666,\"#ed7953\"],[0.7777777777777778,\"#fb9f3a\"],[0.8888888888888888,\"#fdca26\"],[1.0,\"#f0f921\"]]},\"colorway\":[\"#636efa\",\"#EF553B\",\"#00cc96\",\"#ab63fa\",\"#FFA15A\",\"#19d3f3\",\"#FF6692\",\"#B6E880\",\"#FF97FF\",\"#FECB52\"],\"font\":{\"color\":\"#2a3f5f\"},\"geo\":{\"bgcolor\":\"white\",\"lakecolor\":\"white\",\"landcolor\":\"#E5ECF6\",\"showlakes\":true,\"showland\":true,\"subunitcolor\":\"white\"},\"hoverlabel\":{\"align\":\"left\"},\"hovermode\":\"closest\",\"mapbox\":{\"style\":\"light\"},\"paper_bgcolor\":\"white\",\"plot_bgcolor\":\"#E5ECF6\",\"polar\":{\"angularaxis\":{\"gridcolor\":\"white\",\"linecolor\":\"white\",\"ticks\":\"\"},\"bgcolor\":\"#E5ECF6\",\"radialaxis\":{\"gridcolor\":\"white\",\"linecolor\":\"white\",\"ticks\":\"\"}},\"scene\":{\"xaxis\":{\"backgroundcolor\":\"#E5ECF6\",\"gridcolor\":\"white\",\"gridwidth\":2,\"linecolor\":\"white\",\"showbackground\":true,\"ticks\":\"\",\"zerolinecolor\":\"white\"},\"yaxis\":{\"backgroundcolor\":\"#E5ECF6\",\"gridcolor\":\"white\",\"gridwidth\":2,\"linecolor\":\"white\",\"showbackground\":true,\"ticks\":\"\",\"zerolinecolor\":\"white\"},\"zaxis\":{\"backgroundcolor\":\"#E5ECF6\",\"gridcolor\":\"white\",\"gridwidth\":2,\"linecolor\":\"white\",\"showbackground\":true,\"ticks\":\"\",\"zerolinecolor\":\"white\"}},\"shapedefaults\":{\"line\":{\"color\":\"#2a3f5f\"}},\"ternary\":{\"aaxis\":{\"gridcolor\":\"white\",\"linecolor\":\"white\",\"ticks\":\"\"},\"baxis\":{\"gridcolor\":\"white\",\"linecolor\":\"white\",\"ticks\":\"\"},\"bgcolor\":\"#E5ECF6\",\"caxis\":{\"gridcolor\":\"white\",\"linecolor\":\"white\",\"ticks\":\"\"}},\"title\":{\"x\":0.05},\"xaxis\":{\"automargin\":true,\"gridcolor\":\"white\",\"linecolor\":\"white\",\"ticks\":\"\",\"title\":{\"standoff\":15},\"zerolinecolor\":\"white\",\"zerolinewidth\":2},\"yaxis\":{\"automargin\":true,\"gridcolor\":\"white\",\"linecolor\":\"white\",\"ticks\":\"\",\"title\":{\"standoff\":15},\"zerolinecolor\":\"white\",\"zerolinewidth\":2}}},\"xaxis\":{\"anchor\":\"y\",\"domain\":[0.0,1.0],\"title\":{\"text\":\"index\"}},\"yaxis\":{\"anchor\":\"x\",\"domain\":[0.0,1.0],\"title\":{\"text\":\"pnl_cum\"}},\"legend\":{\"tracegroupgap\":0},\"margin\":{\"t\":60}},                        {\"responsive\": true}                    ).then(function(){\n                            \nvar gd = document.getElementById('c53a6960-4ced-404e-947b-a5553af0dafe');\nvar x = new MutationObserver(function (mutations, observer) {{\n        var display = window.getComputedStyle(gd).display;\n        if (!display || display === 'none') {{\n            console.log([gd, 'removed!']);\n            Plotly.purge(gd);\n            observer.disconnect();\n        }}\n}});\n\n// Listen for the removal of the full notebook cells\nvar notebookContainer = gd.closest('#notebook-container');\nif (notebookContainer) {{\n    x.observe(notebookContainer, {childList: true});\n}}\n\n// Listen for the clearing of the current output cell\nvar outputEl = gd.closest('.output');\nif (outputEl) {{\n    x.observe(outputEl, {childList: true});\n}}\n\n                        })                };                });            </script>        </div>"
     },
     "metadata": {},
     "output_type": "display_data"
    }
   ],
   "source": [
    "import plotly.express as px\n",
    "\n",
    "fig = px.line(df_exec, x=df_exec.index, y=\"pnl_cum\")\n",
    "fig.show()"
   ],
   "metadata": {
    "collapsed": false,
    "pycharm": {
     "name": "#%%\n"
    }
   }
  },
  {
   "cell_type": "code",
   "execution_count": 116,
   "outputs": [],
   "source": [],
   "metadata": {
    "collapsed": false,
    "pycharm": {
     "name": "#%%\n"
    }
   }
  }
 ],
 "metadata": {
  "kernelspec": {
   "name": "rx-trade-ib",
   "language": "python",
   "display_name": "rx-trade-ib"
  },
  "language_info": {
   "codemirror_mode": {
    "name": "ipython",
    "version": 2
   },
   "file_extension": ".py",
   "mimetype": "text/x-python",
   "name": "python",
   "nbconvert_exporter": "python",
   "pygments_lexer": "ipython2",
   "version": "2.7.6"
  }
 },
 "nbformat": 4,
 "nbformat_minor": 1
}