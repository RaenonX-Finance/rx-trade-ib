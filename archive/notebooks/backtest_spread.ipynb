{
 "cells": [
  {
   "cell_type": "code",
   "execution_count": 74,
   "outputs": [],
   "source": [
    "import pandas as pd\n",
    "\n",
    "df_mnq = pd.read_csv(\"../../data-461318792@60.csv\")\n",
    "df_mnq = df_mnq[[\"date\", \"close\"]]\n",
    "df_mym = pd.read_csv(\"../../data-477836934@60.csv\")\n",
    "df_mym = df_mym[[\"date\", \"close\"]]"
   ],
   "metadata": {
    "collapsed": false,
    "pycharm": {
     "name": "#%%\n"
    }
   }
  },
  {
   "cell_type": "code",
   "execution_count": 75,
   "outputs": [
    {
     "data": {
      "text/plain": "                     close_mnq  close_mym\ndate                                     \n2022-03-04 15:00:00   13826.50    33549.0\n2022-03-04 15:01:00   13823.50    33556.0\n2022-03-04 15:02:00   13820.00    33561.0\n2022-03-04 15:03:00   13818.50    33561.0\n2022-03-04 15:04:00   13817.75    33560.0\n...                        ...        ...\n2022-03-07 15:55:00   13274.75    32695.0\n2022-03-07 15:56:00   13277.00    32697.0\n2022-03-07 15:57:00   13278.50    32700.0\n2022-03-07 15:58:00   13279.75    32710.0\n2022-03-07 15:59:00   13270.50    32694.0\n\n[1440 rows x 2 columns]",
      "text/html": "<div>\n<style scoped>\n    .dataframe tbody tr th:only-of-type {\n        vertical-align: middle;\n    }\n\n    .dataframe tbody tr th {\n        vertical-align: top;\n    }\n\n    .dataframe thead th {\n        text-align: right;\n    }\n</style>\n<table border=\"1\" class=\"dataframe\">\n  <thead>\n    <tr style=\"text-align: right;\">\n      <th></th>\n      <th>close_mnq</th>\n      <th>close_mym</th>\n    </tr>\n    <tr>\n      <th>date</th>\n      <th></th>\n      <th></th>\n    </tr>\n  </thead>\n  <tbody>\n    <tr>\n      <th>2022-03-04 15:00:00</th>\n      <td>13826.50</td>\n      <td>33549.0</td>\n    </tr>\n    <tr>\n      <th>2022-03-04 15:01:00</th>\n      <td>13823.50</td>\n      <td>33556.0</td>\n    </tr>\n    <tr>\n      <th>2022-03-04 15:02:00</th>\n      <td>13820.00</td>\n      <td>33561.0</td>\n    </tr>\n    <tr>\n      <th>2022-03-04 15:03:00</th>\n      <td>13818.50</td>\n      <td>33561.0</td>\n    </tr>\n    <tr>\n      <th>2022-03-04 15:04:00</th>\n      <td>13817.75</td>\n      <td>33560.0</td>\n    </tr>\n    <tr>\n      <th>...</th>\n      <td>...</td>\n      <td>...</td>\n    </tr>\n    <tr>\n      <th>2022-03-07 15:55:00</th>\n      <td>13274.75</td>\n      <td>32695.0</td>\n    </tr>\n    <tr>\n      <th>2022-03-07 15:56:00</th>\n      <td>13277.00</td>\n      <td>32697.0</td>\n    </tr>\n    <tr>\n      <th>2022-03-07 15:57:00</th>\n      <td>13278.50</td>\n      <td>32700.0</td>\n    </tr>\n    <tr>\n      <th>2022-03-07 15:58:00</th>\n      <td>13279.75</td>\n      <td>32710.0</td>\n    </tr>\n    <tr>\n      <th>2022-03-07 15:59:00</th>\n      <td>13270.50</td>\n      <td>32694.0</td>\n    </tr>\n  </tbody>\n</table>\n<p>1440 rows × 2 columns</p>\n</div>"
     },
     "execution_count": 75,
     "metadata": {},
     "output_type": "execute_result"
    }
   ],
   "source": [
    "\n",
    "df = pd.merge(df_mnq, df_mym, on=\"date\", suffixes=(\"_mnq\", \"_mym\"))\n",
    "df.index = pd.to_datetime(df[\"date\"])\n",
    "df.drop(columns=[\"date\"], inplace=True)\n",
    "df"
   ],
   "metadata": {
    "collapsed": false,
    "pycharm": {
     "name": "#%%\n"
    }
   }
  },
  {
   "cell_type": "code",
   "execution_count": 76,
   "outputs": [
    {
     "data": {
      "text/plain": "                     close_mnq  close_mym   px_diff  px_diff_upper  \\\ndate                                                                 \n2022-03-04 15:00:00   13826.50    33549.0  0.886420            NaN   \n2022-03-04 15:01:00   13823.50    33556.0  0.886846            NaN   \n2022-03-04 15:02:00   13820.00    33561.0  0.887248            NaN   \n2022-03-04 15:03:00   13818.50    33561.0  0.887356            NaN   \n2022-03-04 15:04:00   13817.75    33560.0  0.887381            NaN   \n...                        ...        ...       ...            ...   \n2022-03-07 15:55:00   13274.75    32695.0  0.901358       0.901497   \n2022-03-07 15:56:00   13277.00    32697.0  0.901250       0.901461   \n2022-03-07 15:57:00   13278.50    32700.0  0.901229       0.901465   \n2022-03-07 15:58:00   13279.75    32710.0  0.901441       0.901481   \n2022-03-07 15:59:00   13270.50    32694.0  0.901648       0.901632   \n\n                     px_diff_mid  px_diff_lower  \ndate                                             \n2022-03-04 15:00:00          NaN            NaN  \n2022-03-04 15:01:00          NaN            NaN  \n2022-03-04 15:02:00          NaN            NaN  \n2022-03-04 15:03:00          NaN            NaN  \n2022-03-04 15:04:00          NaN            NaN  \n...                          ...            ...  \n2022-03-07 15:55:00     0.901214       0.900930  \n2022-03-07 15:56:00     0.901200       0.900939  \n2022-03-07 15:57:00     0.901204       0.900943  \n2022-03-07 15:58:00     0.901208       0.900935  \n2022-03-07 15:59:00     0.901262       0.900892  \n\n[1440 rows x 6 columns]",
      "text/html": "<div>\n<style scoped>\n    .dataframe tbody tr th:only-of-type {\n        vertical-align: middle;\n    }\n\n    .dataframe tbody tr th {\n        vertical-align: top;\n    }\n\n    .dataframe thead th {\n        text-align: right;\n    }\n</style>\n<table border=\"1\" class=\"dataframe\">\n  <thead>\n    <tr style=\"text-align: right;\">\n      <th></th>\n      <th>close_mnq</th>\n      <th>close_mym</th>\n      <th>px_diff</th>\n      <th>px_diff_upper</th>\n      <th>px_diff_mid</th>\n      <th>px_diff_lower</th>\n    </tr>\n    <tr>\n      <th>date</th>\n      <th></th>\n      <th></th>\n      <th></th>\n      <th></th>\n      <th></th>\n      <th></th>\n    </tr>\n  </thead>\n  <tbody>\n    <tr>\n      <th>2022-03-04 15:00:00</th>\n      <td>13826.50</td>\n      <td>33549.0</td>\n      <td>0.886420</td>\n      <td>NaN</td>\n      <td>NaN</td>\n      <td>NaN</td>\n    </tr>\n    <tr>\n      <th>2022-03-04 15:01:00</th>\n      <td>13823.50</td>\n      <td>33556.0</td>\n      <td>0.886846</td>\n      <td>NaN</td>\n      <td>NaN</td>\n      <td>NaN</td>\n    </tr>\n    <tr>\n      <th>2022-03-04 15:02:00</th>\n      <td>13820.00</td>\n      <td>33561.0</td>\n      <td>0.887248</td>\n      <td>NaN</td>\n      <td>NaN</td>\n      <td>NaN</td>\n    </tr>\n    <tr>\n      <th>2022-03-04 15:03:00</th>\n      <td>13818.50</td>\n      <td>33561.0</td>\n      <td>0.887356</td>\n      <td>NaN</td>\n      <td>NaN</td>\n      <td>NaN</td>\n    </tr>\n    <tr>\n      <th>2022-03-04 15:04:00</th>\n      <td>13817.75</td>\n      <td>33560.0</td>\n      <td>0.887381</td>\n      <td>NaN</td>\n      <td>NaN</td>\n      <td>NaN</td>\n    </tr>\n    <tr>\n      <th>...</th>\n      <td>...</td>\n      <td>...</td>\n      <td>...</td>\n      <td>...</td>\n      <td>...</td>\n      <td>...</td>\n    </tr>\n    <tr>\n      <th>2022-03-07 15:55:00</th>\n      <td>13274.75</td>\n      <td>32695.0</td>\n      <td>0.901358</td>\n      <td>0.901497</td>\n      <td>0.901214</td>\n      <td>0.900930</td>\n    </tr>\n    <tr>\n      <th>2022-03-07 15:56:00</th>\n      <td>13277.00</td>\n      <td>32697.0</td>\n      <td>0.901250</td>\n      <td>0.901461</td>\n      <td>0.901200</td>\n      <td>0.900939</td>\n    </tr>\n    <tr>\n      <th>2022-03-07 15:57:00</th>\n      <td>13278.50</td>\n      <td>32700.0</td>\n      <td>0.901229</td>\n      <td>0.901465</td>\n      <td>0.901204</td>\n      <td>0.900943</td>\n    </tr>\n    <tr>\n      <th>2022-03-07 15:58:00</th>\n      <td>13279.75</td>\n      <td>32710.0</td>\n      <td>0.901441</td>\n      <td>0.901481</td>\n      <td>0.901208</td>\n      <td>0.900935</td>\n    </tr>\n    <tr>\n      <th>2022-03-07 15:59:00</th>\n      <td>13270.50</td>\n      <td>32694.0</td>\n      <td>0.901648</td>\n      <td>0.901632</td>\n      <td>0.901262</td>\n      <td>0.900892</td>\n    </tr>\n  </tbody>\n</table>\n<p>1440 rows × 6 columns</p>\n</div>"
     },
     "execution_count": 76,
     "metadata": {},
     "output_type": "execute_result"
    }
   ],
   "source": [
    "import numpy as np\n",
    "import talib\n",
    "from talib import MA_Type\n",
    "\n",
    "df[\"px_diff\"] = np.log(df[\"close_mym\"].divide(df[\"close_mnq\"]))\n",
    "upper, mid, lower = talib.BBANDS(df[\"px_diff\"], timeperiod=10, nbdevup=2, nbdevdn=2, matype=MA_Type.SMA)\n",
    "df[\"px_diff_upper\"] = upper\n",
    "df[\"px_diff_mid\"] = mid\n",
    "df[\"px_diff_lower\"] = lower\n",
    "df"
   ],
   "metadata": {
    "collapsed": false,
    "pycharm": {
     "name": "#%%\n"
    }
   }
  },
  {
   "cell_type": "code",
   "execution_count": 77,
   "outputs": [
    {
     "data": {
      "text/plain": "                     close_mnq  close_mym   px_diff  px_diff_upper  \\\ndate                                                                 \n2022-03-07 02:30:00   13562.50    32940.0  0.887379       0.889047   \n2022-03-07 02:31:00   13552.75    32931.0  0.887825       0.888968   \n2022-03-07 02:32:00   13554.00    32936.0  0.887885       0.888873   \n2022-03-07 02:33:00   13572.00    32962.0  0.887347       0.888820   \n2022-03-07 02:34:00   13578.75    32979.0  0.887365       0.888608   \n...                        ...        ...       ...            ...   \n2022-03-07 06:26:00   13731.75    33325.0  0.886597       0.887157   \n2022-03-07 06:27:00   13728.25    33326.0  0.886882       0.887179   \n2022-03-07 06:28:00   13749.50    33377.0  0.886865       0.887156   \n2022-03-07 06:29:00   13757.00    33374.0  0.886229       0.887164   \n2022-03-07 06:30:00   13748.50    33374.0  0.886847       0.887149   \n\n                     px_diff_mid  px_diff_lower  \ndate                                             \n2022-03-07 02:30:00     0.888203       0.887360  \n2022-03-07 02:31:00     0.888131       0.887294  \n2022-03-07 02:32:00     0.888068       0.887262  \n2022-03-07 02:33:00     0.887956       0.887093  \n2022-03-07 02:34:00     0.887826       0.887043  \n...                          ...            ...  \n2022-03-07 06:26:00     0.886756       0.886355  \n2022-03-07 06:27:00     0.886771       0.886364  \n2022-03-07 06:28:00     0.886762       0.886368  \n2022-03-07 06:29:00     0.886687       0.886210  \n2022-03-07 06:30:00     0.886681       0.886214  \n\n[241 rows x 6 columns]",
      "text/html": "<div>\n<style scoped>\n    .dataframe tbody tr th:only-of-type {\n        vertical-align: middle;\n    }\n\n    .dataframe tbody tr th {\n        vertical-align: top;\n    }\n\n    .dataframe thead th {\n        text-align: right;\n    }\n</style>\n<table border=\"1\" class=\"dataframe\">\n  <thead>\n    <tr style=\"text-align: right;\">\n      <th></th>\n      <th>close_mnq</th>\n      <th>close_mym</th>\n      <th>px_diff</th>\n      <th>px_diff_upper</th>\n      <th>px_diff_mid</th>\n      <th>px_diff_lower</th>\n    </tr>\n    <tr>\n      <th>date</th>\n      <th></th>\n      <th></th>\n      <th></th>\n      <th></th>\n      <th></th>\n      <th></th>\n    </tr>\n  </thead>\n  <tbody>\n    <tr>\n      <th>2022-03-07 02:30:00</th>\n      <td>13562.50</td>\n      <td>32940.0</td>\n      <td>0.887379</td>\n      <td>0.889047</td>\n      <td>0.888203</td>\n      <td>0.887360</td>\n    </tr>\n    <tr>\n      <th>2022-03-07 02:31:00</th>\n      <td>13552.75</td>\n      <td>32931.0</td>\n      <td>0.887825</td>\n      <td>0.888968</td>\n      <td>0.888131</td>\n      <td>0.887294</td>\n    </tr>\n    <tr>\n      <th>2022-03-07 02:32:00</th>\n      <td>13554.00</td>\n      <td>32936.0</td>\n      <td>0.887885</td>\n      <td>0.888873</td>\n      <td>0.888068</td>\n      <td>0.887262</td>\n    </tr>\n    <tr>\n      <th>2022-03-07 02:33:00</th>\n      <td>13572.00</td>\n      <td>32962.0</td>\n      <td>0.887347</td>\n      <td>0.888820</td>\n      <td>0.887956</td>\n      <td>0.887093</td>\n    </tr>\n    <tr>\n      <th>2022-03-07 02:34:00</th>\n      <td>13578.75</td>\n      <td>32979.0</td>\n      <td>0.887365</td>\n      <td>0.888608</td>\n      <td>0.887826</td>\n      <td>0.887043</td>\n    </tr>\n    <tr>\n      <th>...</th>\n      <td>...</td>\n      <td>...</td>\n      <td>...</td>\n      <td>...</td>\n      <td>...</td>\n      <td>...</td>\n    </tr>\n    <tr>\n      <th>2022-03-07 06:26:00</th>\n      <td>13731.75</td>\n      <td>33325.0</td>\n      <td>0.886597</td>\n      <td>0.887157</td>\n      <td>0.886756</td>\n      <td>0.886355</td>\n    </tr>\n    <tr>\n      <th>2022-03-07 06:27:00</th>\n      <td>13728.25</td>\n      <td>33326.0</td>\n      <td>0.886882</td>\n      <td>0.887179</td>\n      <td>0.886771</td>\n      <td>0.886364</td>\n    </tr>\n    <tr>\n      <th>2022-03-07 06:28:00</th>\n      <td>13749.50</td>\n      <td>33377.0</td>\n      <td>0.886865</td>\n      <td>0.887156</td>\n      <td>0.886762</td>\n      <td>0.886368</td>\n    </tr>\n    <tr>\n      <th>2022-03-07 06:29:00</th>\n      <td>13757.00</td>\n      <td>33374.0</td>\n      <td>0.886229</td>\n      <td>0.887164</td>\n      <td>0.886687</td>\n      <td>0.886210</td>\n    </tr>\n    <tr>\n      <th>2022-03-07 06:30:00</th>\n      <td>13748.50</td>\n      <td>33374.0</td>\n      <td>0.886847</td>\n      <td>0.887149</td>\n      <td>0.886681</td>\n      <td>0.886214</td>\n    </tr>\n  </tbody>\n</table>\n<p>241 rows × 6 columns</p>\n</div>"
     },
     "execution_count": 77,
     "metadata": {},
     "output_type": "execute_result"
    }
   ],
   "source": [
    "df_selected = df.between_time(\"02:30\", \"06:30\")\n",
    "df_selected"
   ],
   "metadata": {
    "collapsed": false,
    "pycharm": {
     "name": "#%%\n"
    }
   }
  },
  {
   "cell_type": "code",
   "execution_count": 78,
   "outputs": [
    {
     "data": {
      "text/plain": "    buy sell             entry_t  entry_mnq  entry_mym  exit_mnq  exit_mym  \\\n0   MYM  MNQ 2022-03-07 02:39:00   13606.00    33027.0  13593.75   33020.0   \n1   MNQ  MYM 2022-03-07 02:59:00   13601.50    33094.0  13616.00   33133.0   \n2   MYM  MNQ 2022-03-07 03:19:00   13627.50    33130.0  13620.50   33114.0   \n3   MNQ  MYM 2022-03-07 03:28:00   13625.25    33153.0  13602.00   33092.0   \n4   MNQ  MYM 2022-03-07 03:43:00   13604.00    33118.0  13598.25   33090.0   \n5   MYM  MNQ 2022-03-07 04:05:00   13610.50    33102.0  13614.25   33110.0   \n6   MYM  MNQ 2022-03-07 04:40:00   13606.75    33055.0  13617.50   33093.0   \n7   MNQ  MYM 2022-03-07 04:56:00   13623.75    33126.0  13616.00   33093.0   \n8   MYM  MNQ 2022-03-07 05:29:00   13604.75    33069.0  13616.50   33084.0   \n9   MNQ  MYM 2022-03-07 05:41:00   13618.75    33097.0  13630.00   33112.0   \n10  MYM  MNQ 2022-03-07 06:05:00   13698.25    33261.0  13707.50   33255.0   \n11  MYM  MNQ 2022-03-07 06:21:00   13737.50    33329.0  13748.50   33374.0   \n\n                exit_t position  pnl_highest  pnl_lowest     hold_period  \\\n0  2022-03-07 02:42:00    close          3.0       -16.0 0 days 00:03:00   \n1  2022-03-07 03:02:00    close          0.0       -59.0 0 days 00:03:00   \n2  2022-03-07 03:25:00    close         13.0       -35.0 0 days 00:06:00   \n3  2022-03-07 03:37:00    close         91.0         0.0 0 days 00:09:00   \n4  2022-03-07 03:44:00    close          0.0         0.0 0 days 00:01:00   \n5  2022-03-07 04:11:00    close          4.0       -33.0 0 days 00:06:00   \n6  2022-03-07 04:45:00    close         31.0         0.0 0 days 00:05:00   \n7  2022-03-07 04:58:00    close         69.0         0.0 0 days 00:02:00   \n8  2022-03-07 05:40:00    close         33.0       -48.0 0 days 00:11:00   \n9  2022-03-07 05:45:00    close          0.0       -10.0 0 days 00:04:00   \n10 2022-03-07 06:06:00    close          0.0       -55.0 0 days 00:01:00   \n11 2022-03-07 06:30:00    close         61.0         0.0 0 days 00:09:00   \n\n    px_side_mnq  px_side_mym  pnl_mnq  pnl_mym  pnl_single  pnl_cum  \n0         12.25         -7.0     49.0    -21.0       23.84    23.84  \n1         14.50        -39.0     58.0   -117.0      -63.16   -39.32  \n2          7.00        -16.0     28.0    -48.0      -24.16   -63.48  \n3        -23.25         61.0    -93.0    183.0       85.84    22.36  \n4         -5.75         28.0    -23.0     84.0       56.84    79.20  \n5         -3.75          8.0    -15.0     24.0        4.84    84.04  \n6        -10.75         38.0    -43.0    114.0       66.84   150.88  \n7         -7.75         33.0    -31.0     99.0       63.84   214.72  \n8        -11.75         15.0    -47.0     45.0       -6.16   208.56  \n9         11.25        -15.0     45.0    -45.0       -4.16   204.40  \n10        -9.25         -6.0    -37.0    -18.0      -59.16   145.24  \n11       -11.00         45.0    -44.0    135.0       86.84   232.08  ",
      "text/html": "<div>\n<style scoped>\n    .dataframe tbody tr th:only-of-type {\n        vertical-align: middle;\n    }\n\n    .dataframe tbody tr th {\n        vertical-align: top;\n    }\n\n    .dataframe thead th {\n        text-align: right;\n    }\n</style>\n<table border=\"1\" class=\"dataframe\">\n  <thead>\n    <tr style=\"text-align: right;\">\n      <th></th>\n      <th>buy</th>\n      <th>sell</th>\n      <th>entry_t</th>\n      <th>entry_mnq</th>\n      <th>entry_mym</th>\n      <th>exit_mnq</th>\n      <th>exit_mym</th>\n      <th>exit_t</th>\n      <th>position</th>\n      <th>pnl_highest</th>\n      <th>pnl_lowest</th>\n      <th>hold_period</th>\n      <th>px_side_mnq</th>\n      <th>px_side_mym</th>\n      <th>pnl_mnq</th>\n      <th>pnl_mym</th>\n      <th>pnl_single</th>\n      <th>pnl_cum</th>\n    </tr>\n  </thead>\n  <tbody>\n    <tr>\n      <th>0</th>\n      <td>MYM</td>\n      <td>MNQ</td>\n      <td>2022-03-07 02:39:00</td>\n      <td>13606.00</td>\n      <td>33027.0</td>\n      <td>13593.75</td>\n      <td>33020.0</td>\n      <td>2022-03-07 02:42:00</td>\n      <td>close</td>\n      <td>3.0</td>\n      <td>-16.0</td>\n      <td>0 days 00:03:00</td>\n      <td>12.25</td>\n      <td>-7.0</td>\n      <td>49.0</td>\n      <td>-21.0</td>\n      <td>23.84</td>\n      <td>23.84</td>\n    </tr>\n    <tr>\n      <th>1</th>\n      <td>MNQ</td>\n      <td>MYM</td>\n      <td>2022-03-07 02:59:00</td>\n      <td>13601.50</td>\n      <td>33094.0</td>\n      <td>13616.00</td>\n      <td>33133.0</td>\n      <td>2022-03-07 03:02:00</td>\n      <td>close</td>\n      <td>0.0</td>\n      <td>-59.0</td>\n      <td>0 days 00:03:00</td>\n      <td>14.50</td>\n      <td>-39.0</td>\n      <td>58.0</td>\n      <td>-117.0</td>\n      <td>-63.16</td>\n      <td>-39.32</td>\n    </tr>\n    <tr>\n      <th>2</th>\n      <td>MYM</td>\n      <td>MNQ</td>\n      <td>2022-03-07 03:19:00</td>\n      <td>13627.50</td>\n      <td>33130.0</td>\n      <td>13620.50</td>\n      <td>33114.0</td>\n      <td>2022-03-07 03:25:00</td>\n      <td>close</td>\n      <td>13.0</td>\n      <td>-35.0</td>\n      <td>0 days 00:06:00</td>\n      <td>7.00</td>\n      <td>-16.0</td>\n      <td>28.0</td>\n      <td>-48.0</td>\n      <td>-24.16</td>\n      <td>-63.48</td>\n    </tr>\n    <tr>\n      <th>3</th>\n      <td>MNQ</td>\n      <td>MYM</td>\n      <td>2022-03-07 03:28:00</td>\n      <td>13625.25</td>\n      <td>33153.0</td>\n      <td>13602.00</td>\n      <td>33092.0</td>\n      <td>2022-03-07 03:37:00</td>\n      <td>close</td>\n      <td>91.0</td>\n      <td>0.0</td>\n      <td>0 days 00:09:00</td>\n      <td>-23.25</td>\n      <td>61.0</td>\n      <td>-93.0</td>\n      <td>183.0</td>\n      <td>85.84</td>\n      <td>22.36</td>\n    </tr>\n    <tr>\n      <th>4</th>\n      <td>MNQ</td>\n      <td>MYM</td>\n      <td>2022-03-07 03:43:00</td>\n      <td>13604.00</td>\n      <td>33118.0</td>\n      <td>13598.25</td>\n      <td>33090.0</td>\n      <td>2022-03-07 03:44:00</td>\n      <td>close</td>\n      <td>0.0</td>\n      <td>0.0</td>\n      <td>0 days 00:01:00</td>\n      <td>-5.75</td>\n      <td>28.0</td>\n      <td>-23.0</td>\n      <td>84.0</td>\n      <td>56.84</td>\n      <td>79.20</td>\n    </tr>\n    <tr>\n      <th>5</th>\n      <td>MYM</td>\n      <td>MNQ</td>\n      <td>2022-03-07 04:05:00</td>\n      <td>13610.50</td>\n      <td>33102.0</td>\n      <td>13614.25</td>\n      <td>33110.0</td>\n      <td>2022-03-07 04:11:00</td>\n      <td>close</td>\n      <td>4.0</td>\n      <td>-33.0</td>\n      <td>0 days 00:06:00</td>\n      <td>-3.75</td>\n      <td>8.0</td>\n      <td>-15.0</td>\n      <td>24.0</td>\n      <td>4.84</td>\n      <td>84.04</td>\n    </tr>\n    <tr>\n      <th>6</th>\n      <td>MYM</td>\n      <td>MNQ</td>\n      <td>2022-03-07 04:40:00</td>\n      <td>13606.75</td>\n      <td>33055.0</td>\n      <td>13617.50</td>\n      <td>33093.0</td>\n      <td>2022-03-07 04:45:00</td>\n      <td>close</td>\n      <td>31.0</td>\n      <td>0.0</td>\n      <td>0 days 00:05:00</td>\n      <td>-10.75</td>\n      <td>38.0</td>\n      <td>-43.0</td>\n      <td>114.0</td>\n      <td>66.84</td>\n      <td>150.88</td>\n    </tr>\n    <tr>\n      <th>7</th>\n      <td>MNQ</td>\n      <td>MYM</td>\n      <td>2022-03-07 04:56:00</td>\n      <td>13623.75</td>\n      <td>33126.0</td>\n      <td>13616.00</td>\n      <td>33093.0</td>\n      <td>2022-03-07 04:58:00</td>\n      <td>close</td>\n      <td>69.0</td>\n      <td>0.0</td>\n      <td>0 days 00:02:00</td>\n      <td>-7.75</td>\n      <td>33.0</td>\n      <td>-31.0</td>\n      <td>99.0</td>\n      <td>63.84</td>\n      <td>214.72</td>\n    </tr>\n    <tr>\n      <th>8</th>\n      <td>MYM</td>\n      <td>MNQ</td>\n      <td>2022-03-07 05:29:00</td>\n      <td>13604.75</td>\n      <td>33069.0</td>\n      <td>13616.50</td>\n      <td>33084.0</td>\n      <td>2022-03-07 05:40:00</td>\n      <td>close</td>\n      <td>33.0</td>\n      <td>-48.0</td>\n      <td>0 days 00:11:00</td>\n      <td>-11.75</td>\n      <td>15.0</td>\n      <td>-47.0</td>\n      <td>45.0</td>\n      <td>-6.16</td>\n      <td>208.56</td>\n    </tr>\n    <tr>\n      <th>9</th>\n      <td>MNQ</td>\n      <td>MYM</td>\n      <td>2022-03-07 05:41:00</td>\n      <td>13618.75</td>\n      <td>33097.0</td>\n      <td>13630.00</td>\n      <td>33112.0</td>\n      <td>2022-03-07 05:45:00</td>\n      <td>close</td>\n      <td>0.0</td>\n      <td>-10.0</td>\n      <td>0 days 00:04:00</td>\n      <td>11.25</td>\n      <td>-15.0</td>\n      <td>45.0</td>\n      <td>-45.0</td>\n      <td>-4.16</td>\n      <td>204.40</td>\n    </tr>\n    <tr>\n      <th>10</th>\n      <td>MYM</td>\n      <td>MNQ</td>\n      <td>2022-03-07 06:05:00</td>\n      <td>13698.25</td>\n      <td>33261.0</td>\n      <td>13707.50</td>\n      <td>33255.0</td>\n      <td>2022-03-07 06:06:00</td>\n      <td>close</td>\n      <td>0.0</td>\n      <td>-55.0</td>\n      <td>0 days 00:01:00</td>\n      <td>-9.25</td>\n      <td>-6.0</td>\n      <td>-37.0</td>\n      <td>-18.0</td>\n      <td>-59.16</td>\n      <td>145.24</td>\n    </tr>\n    <tr>\n      <th>11</th>\n      <td>MYM</td>\n      <td>MNQ</td>\n      <td>2022-03-07 06:21:00</td>\n      <td>13737.50</td>\n      <td>33329.0</td>\n      <td>13748.50</td>\n      <td>33374.0</td>\n      <td>2022-03-07 06:30:00</td>\n      <td>close</td>\n      <td>61.0</td>\n      <td>0.0</td>\n      <td>0 days 00:09:00</td>\n      <td>-11.00</td>\n      <td>45.0</td>\n      <td>-44.0</td>\n      <td>135.0</td>\n      <td>86.84</td>\n      <td>232.08</td>\n    </tr>\n  </tbody>\n</table>\n</div>"
     },
     "execution_count": 78,
     "metadata": {},
     "output_type": "execute_result"
    }
   ],
   "source": [
    "from datetime import time\n",
    "from pandas import DataFrame\n",
    "\n",
    "executions = []\n",
    "current_pnl = 0\n",
    "\n",
    "MNQ_LOT = 2\n",
    "MYM_LOT = 6\n",
    "\n",
    "for dt, row in df_selected.iterrows():\n",
    "    last = executions[-1] if executions else None\n",
    "\n",
    "    # Exit - no cross-day position\n",
    "    if dt.time() == time(6, 30):\n",
    "        executions[-1] |= {\n",
    "            \"exit_mnq\": row[\"close_mnq\"],\n",
    "            \"exit_mym\": row[\"close_mym\"],\n",
    "            \"exit_t\": dt,\n",
    "            \"position\": \"close\",\n",
    "        }\n",
    "\n",
    "    # Entry - out of band\n",
    "    if not last or last[\"position\"] == \"close\":\n",
    "        if row[\"px_diff\"] > row[\"px_diff_upper\"]:\n",
    "            executions.append({\n",
    "                \"buy\": \"MNQ\",\n",
    "                \"sell\": \"MYM\",\n",
    "                \"entry_t\": dt,\n",
    "                \"entry_mnq\": row[\"close_mnq\"],\n",
    "                \"entry_mym\": row[\"close_mym\"],\n",
    "                \"exit_mnq\": None,\n",
    "                \"exit_mym\": None,\n",
    "                \"exit_t\": None,\n",
    "                \"position\": \"open\",\n",
    "                \"pnl_highest\": 0,\n",
    "                \"pnl_lowest\": 0,\n",
    "            })\n",
    "\n",
    "        if row[\"px_diff\"] < row[\"px_diff_lower\"]:\n",
    "            executions.append({\n",
    "                \"buy\": \"MYM\",\n",
    "                \"sell\": \"MNQ\",\n",
    "                \"entry_t\": dt,\n",
    "                \"entry_mnq\": row[\"close_mnq\"],\n",
    "                \"entry_mym\": row[\"close_mym\"],\n",
    "                \"exit_mnq\": None,\n",
    "                \"exit_mym\": None,\n",
    "                \"exit_t\": None,\n",
    "                \"position\": \"open\",\n",
    "                \"pnl_highest\": 0,\n",
    "                \"pnl_lowest\": 0,\n",
    "            })\n",
    "\n",
    "        continue\n",
    "    # Take profit - back to MID\n",
    "    elif (\n",
    "            (last[\"buy\"] == \"MNQ\" and row[\"px_diff\"] < row[\"px_diff_mid\"]) or\n",
    "            (last[\"buy\"] == \"MYM\" and row[\"px_diff\"] > row[\"px_diff_mid\"])\n",
    "    ):\n",
    "        executions[-1] |= {\n",
    "            \"exit_mnq\": row[\"close_mnq\"],\n",
    "            \"exit_mym\": row[\"close_mym\"],\n",
    "            \"exit_t\": dt,\n",
    "            \"position\": \"close\",\n",
    "        }\n",
    "        current_pnl = 0\n",
    "\n",
    "    # Record PnL\n",
    "    if last[\"position\"] == \"open\":\n",
    "        pnl_mnq = (row[\"close_mnq\"] - last[\"entry_mnq\"]) * (1 if last[\"buy\"] == \"MNQ\" else -1) * MNQ_LOT * 2\n",
    "        pnl_mym = (row[\"close_mym\"] - last[\"entry_mym\"]) * (1 if last[\"buy\"] == \"MYM\" else -1) * MYM_LOT * 0.5\n",
    "\n",
    "        current_pnl = pnl_mnq + pnl_mym\n",
    "\n",
    "        executions[-1] |= {\n",
    "            \"pnl_highest\": max(last[\"pnl_highest\"], current_pnl),\n",
    "            \"pnl_lowest\": min(last[\"pnl_lowest\"], current_pnl),\n",
    "        }\n",
    "\n",
    "    # Take profit - lock profit\n",
    "    if current_pnl < 10 and last[\"pnl_highest\"] > 40:\n",
    "        executions[-1] |= {\n",
    "            \"exit_mnq\": row[\"close_mnq\"],\n",
    "            \"exit_mym\": row[\"close_mym\"],\n",
    "            \"exit_t\": dt,\n",
    "            \"position\": \"close\",\n",
    "        }\n",
    "\n",
    "    # Stop loss - force close\n",
    "    if current_pnl < -50:\n",
    "        executions[-1] |= {\n",
    "            \"exit_mnq\": row[\"close_mnq\"],\n",
    "            \"exit_mym\": row[\"close_mym\"],\n",
    "            \"exit_t\": dt,\n",
    "            \"position\": \"close\",\n",
    "        }\n",
    "\n",
    "df_exec = DataFrame(executions)\n",
    "df_exec[\"hold_period\"] = df_exec[\"exit_t\"] - df_exec[\"entry_t\"]\n",
    "df_exec[\"px_side_mnq\"] = (df_exec[\"exit_mnq\"] - df_exec[\"entry_mnq\"]) * np.where(df_exec[\"buy\"] == \"MNQ\", 1, -1)\n",
    "df_exec[\"px_side_mym\"] = (df_exec[\"exit_mym\"] - df_exec[\"entry_mym\"]) * np.where(df_exec[\"buy\"] == \"MYM\", 1, -1)\n",
    "df_exec[\"pnl_mnq\"] = df_exec[\"px_side_mnq\"] * MNQ_LOT * 2\n",
    "df_exec[\"pnl_mym\"] = df_exec[\"px_side_mym\"] * MYM_LOT * 0.5\n",
    "df_exec[\"pnl_single\"] = df_exec[\"pnl_mnq\"] + df_exec[\"pnl_mym\"] - 0.52 * (MNQ_LOT + MYM_LOT)\n",
    "df_exec[\"pnl_cum\"] = df_exec[\"pnl_single\"].cumsum()\n",
    "df_exec"
   ],
   "metadata": {
    "collapsed": false,
    "pycharm": {
     "name": "#%%\n"
    }
   }
  },
  {
   "cell_type": "code",
   "execution_count": 79,
   "outputs": [
    {
     "data": {
      "application/vnd.plotly.v1+json": {
       "data": [
        {
         "hovertemplate": "index=%{x}<br>pnl_cum=%{y}<extra></extra>",
         "legendgroup": "",
         "line": {
          "color": "#636efa",
          "dash": "solid"
         },
         "marker": {
          "symbol": "circle"
         },
         "mode": "lines",
         "name": "",
         "orientation": "v",
         "showlegend": false,
         "x": [
          0,
          1,
          2,
          3,
          4,
          5,
          6,
          7,
          8,
          9,
          10,
          11
         ],
         "xaxis": "x",
         "y": [
          23.84,
          -39.31999999999999,
          -63.47999999999999,
          22.360000000000014,
          79.20000000000002,
          84.04000000000002,
          150.88000000000002,
          214.72000000000003,
          208.56000000000003,
          204.40000000000003,
          145.24000000000004,
          232.08000000000004
         ],
         "yaxis": "y",
         "type": "scatter"
        }
       ],
       "layout": {
        "template": {
         "data": {
          "bar": [
           {
            "error_x": {
             "color": "#2a3f5f"
            },
            "error_y": {
             "color": "#2a3f5f"
            },
            "marker": {
             "line": {
              "color": "#E5ECF6",
              "width": 0.5
             },
             "pattern": {
              "fillmode": "overlay",
              "size": 10,
              "solidity": 0.2
             }
            },
            "type": "bar"
           }
          ],
          "barpolar": [
           {
            "marker": {
             "line": {
              "color": "#E5ECF6",
              "width": 0.5
             },
             "pattern": {
              "fillmode": "overlay",
              "size": 10,
              "solidity": 0.2
             }
            },
            "type": "barpolar"
           }
          ],
          "carpet": [
           {
            "aaxis": {
             "endlinecolor": "#2a3f5f",
             "gridcolor": "white",
             "linecolor": "white",
             "minorgridcolor": "white",
             "startlinecolor": "#2a3f5f"
            },
            "baxis": {
             "endlinecolor": "#2a3f5f",
             "gridcolor": "white",
             "linecolor": "white",
             "minorgridcolor": "white",
             "startlinecolor": "#2a3f5f"
            },
            "type": "carpet"
           }
          ],
          "choropleth": [
           {
            "colorbar": {
             "outlinewidth": 0,
             "ticks": ""
            },
            "type": "choropleth"
           }
          ],
          "contour": [
           {
            "colorbar": {
             "outlinewidth": 0,
             "ticks": ""
            },
            "colorscale": [
             [
              0.0,
              "#0d0887"
             ],
             [
              0.1111111111111111,
              "#46039f"
             ],
             [
              0.2222222222222222,
              "#7201a8"
             ],
             [
              0.3333333333333333,
              "#9c179e"
             ],
             [
              0.4444444444444444,
              "#bd3786"
             ],
             [
              0.5555555555555556,
              "#d8576b"
             ],
             [
              0.6666666666666666,
              "#ed7953"
             ],
             [
              0.7777777777777778,
              "#fb9f3a"
             ],
             [
              0.8888888888888888,
              "#fdca26"
             ],
             [
              1.0,
              "#f0f921"
             ]
            ],
            "type": "contour"
           }
          ],
          "contourcarpet": [
           {
            "colorbar": {
             "outlinewidth": 0,
             "ticks": ""
            },
            "type": "contourcarpet"
           }
          ],
          "heatmap": [
           {
            "colorbar": {
             "outlinewidth": 0,
             "ticks": ""
            },
            "colorscale": [
             [
              0.0,
              "#0d0887"
             ],
             [
              0.1111111111111111,
              "#46039f"
             ],
             [
              0.2222222222222222,
              "#7201a8"
             ],
             [
              0.3333333333333333,
              "#9c179e"
             ],
             [
              0.4444444444444444,
              "#bd3786"
             ],
             [
              0.5555555555555556,
              "#d8576b"
             ],
             [
              0.6666666666666666,
              "#ed7953"
             ],
             [
              0.7777777777777778,
              "#fb9f3a"
             ],
             [
              0.8888888888888888,
              "#fdca26"
             ],
             [
              1.0,
              "#f0f921"
             ]
            ],
            "type": "heatmap"
           }
          ],
          "heatmapgl": [
           {
            "colorbar": {
             "outlinewidth": 0,
             "ticks": ""
            },
            "colorscale": [
             [
              0.0,
              "#0d0887"
             ],
             [
              0.1111111111111111,
              "#46039f"
             ],
             [
              0.2222222222222222,
              "#7201a8"
             ],
             [
              0.3333333333333333,
              "#9c179e"
             ],
             [
              0.4444444444444444,
              "#bd3786"
             ],
             [
              0.5555555555555556,
              "#d8576b"
             ],
             [
              0.6666666666666666,
              "#ed7953"
             ],
             [
              0.7777777777777778,
              "#fb9f3a"
             ],
             [
              0.8888888888888888,
              "#fdca26"
             ],
             [
              1.0,
              "#f0f921"
             ]
            ],
            "type": "heatmapgl"
           }
          ],
          "histogram": [
           {
            "marker": {
             "pattern": {
              "fillmode": "overlay",
              "size": 10,
              "solidity": 0.2
             }
            },
            "type": "histogram"
           }
          ],
          "histogram2d": [
           {
            "colorbar": {
             "outlinewidth": 0,
             "ticks": ""
            },
            "colorscale": [
             [
              0.0,
              "#0d0887"
             ],
             [
              0.1111111111111111,
              "#46039f"
             ],
             [
              0.2222222222222222,
              "#7201a8"
             ],
             [
              0.3333333333333333,
              "#9c179e"
             ],
             [
              0.4444444444444444,
              "#bd3786"
             ],
             [
              0.5555555555555556,
              "#d8576b"
             ],
             [
              0.6666666666666666,
              "#ed7953"
             ],
             [
              0.7777777777777778,
              "#fb9f3a"
             ],
             [
              0.8888888888888888,
              "#fdca26"
             ],
             [
              1.0,
              "#f0f921"
             ]
            ],
            "type": "histogram2d"
           }
          ],
          "histogram2dcontour": [
           {
            "colorbar": {
             "outlinewidth": 0,
             "ticks": ""
            },
            "colorscale": [
             [
              0.0,
              "#0d0887"
             ],
             [
              0.1111111111111111,
              "#46039f"
             ],
             [
              0.2222222222222222,
              "#7201a8"
             ],
             [
              0.3333333333333333,
              "#9c179e"
             ],
             [
              0.4444444444444444,
              "#bd3786"
             ],
             [
              0.5555555555555556,
              "#d8576b"
             ],
             [
              0.6666666666666666,
              "#ed7953"
             ],
             [
              0.7777777777777778,
              "#fb9f3a"
             ],
             [
              0.8888888888888888,
              "#fdca26"
             ],
             [
              1.0,
              "#f0f921"
             ]
            ],
            "type": "histogram2dcontour"
           }
          ],
          "mesh3d": [
           {
            "colorbar": {
             "outlinewidth": 0,
             "ticks": ""
            },
            "type": "mesh3d"
           }
          ],
          "parcoords": [
           {
            "line": {
             "colorbar": {
              "outlinewidth": 0,
              "ticks": ""
             }
            },
            "type": "parcoords"
           }
          ],
          "pie": [
           {
            "automargin": true,
            "type": "pie"
           }
          ],
          "scatter": [
           {
            "marker": {
             "colorbar": {
              "outlinewidth": 0,
              "ticks": ""
             }
            },
            "type": "scatter"
           }
          ],
          "scatter3d": [
           {
            "line": {
             "colorbar": {
              "outlinewidth": 0,
              "ticks": ""
             }
            },
            "marker": {
             "colorbar": {
              "outlinewidth": 0,
              "ticks": ""
             }
            },
            "type": "scatter3d"
           }
          ],
          "scattercarpet": [
           {
            "marker": {
             "colorbar": {
              "outlinewidth": 0,
              "ticks": ""
             }
            },
            "type": "scattercarpet"
           }
          ],
          "scattergeo": [
           {
            "marker": {
             "colorbar": {
              "outlinewidth": 0,
              "ticks": ""
             }
            },
            "type": "scattergeo"
           }
          ],
          "scattergl": [
           {
            "marker": {
             "colorbar": {
              "outlinewidth": 0,
              "ticks": ""
             }
            },
            "type": "scattergl"
           }
          ],
          "scattermapbox": [
           {
            "marker": {
             "colorbar": {
              "outlinewidth": 0,
              "ticks": ""
             }
            },
            "type": "scattermapbox"
           }
          ],
          "scatterpolar": [
           {
            "marker": {
             "colorbar": {
              "outlinewidth": 0,
              "ticks": ""
             }
            },
            "type": "scatterpolar"
           }
          ],
          "scatterpolargl": [
           {
            "marker": {
             "colorbar": {
              "outlinewidth": 0,
              "ticks": ""
             }
            },
            "type": "scatterpolargl"
           }
          ],
          "scatterternary": [
           {
            "marker": {
             "colorbar": {
              "outlinewidth": 0,
              "ticks": ""
             }
            },
            "type": "scatterternary"
           }
          ],
          "surface": [
           {
            "colorbar": {
             "outlinewidth": 0,
             "ticks": ""
            },
            "colorscale": [
             [
              0.0,
              "#0d0887"
             ],
             [
              0.1111111111111111,
              "#46039f"
             ],
             [
              0.2222222222222222,
              "#7201a8"
             ],
             [
              0.3333333333333333,
              "#9c179e"
             ],
             [
              0.4444444444444444,
              "#bd3786"
             ],
             [
              0.5555555555555556,
              "#d8576b"
             ],
             [
              0.6666666666666666,
              "#ed7953"
             ],
             [
              0.7777777777777778,
              "#fb9f3a"
             ],
             [
              0.8888888888888888,
              "#fdca26"
             ],
             [
              1.0,
              "#f0f921"
             ]
            ],
            "type": "surface"
           }
          ],
          "table": [
           {
            "cells": {
             "fill": {
              "color": "#EBF0F8"
             },
             "line": {
              "color": "white"
             }
            },
            "header": {
             "fill": {
              "color": "#C8D4E3"
             },
             "line": {
              "color": "white"
             }
            },
            "type": "table"
           }
          ]
         },
         "layout": {
          "annotationdefaults": {
           "arrowcolor": "#2a3f5f",
           "arrowhead": 0,
           "arrowwidth": 1
          },
          "autotypenumbers": "strict",
          "coloraxis": {
           "colorbar": {
            "outlinewidth": 0,
            "ticks": ""
           }
          },
          "colorscale": {
           "diverging": [
            [
             0,
             "#8e0152"
            ],
            [
             0.1,
             "#c51b7d"
            ],
            [
             0.2,
             "#de77ae"
            ],
            [
             0.3,
             "#f1b6da"
            ],
            [
             0.4,
             "#fde0ef"
            ],
            [
             0.5,
             "#f7f7f7"
            ],
            [
             0.6,
             "#e6f5d0"
            ],
            [
             0.7,
             "#b8e186"
            ],
            [
             0.8,
             "#7fbc41"
            ],
            [
             0.9,
             "#4d9221"
            ],
            [
             1,
             "#276419"
            ]
           ],
           "sequential": [
            [
             0.0,
             "#0d0887"
            ],
            [
             0.1111111111111111,
             "#46039f"
            ],
            [
             0.2222222222222222,
             "#7201a8"
            ],
            [
             0.3333333333333333,
             "#9c179e"
            ],
            [
             0.4444444444444444,
             "#bd3786"
            ],
            [
             0.5555555555555556,
             "#d8576b"
            ],
            [
             0.6666666666666666,
             "#ed7953"
            ],
            [
             0.7777777777777778,
             "#fb9f3a"
            ],
            [
             0.8888888888888888,
             "#fdca26"
            ],
            [
             1.0,
             "#f0f921"
            ]
           ],
           "sequentialminus": [
            [
             0.0,
             "#0d0887"
            ],
            [
             0.1111111111111111,
             "#46039f"
            ],
            [
             0.2222222222222222,
             "#7201a8"
            ],
            [
             0.3333333333333333,
             "#9c179e"
            ],
            [
             0.4444444444444444,
             "#bd3786"
            ],
            [
             0.5555555555555556,
             "#d8576b"
            ],
            [
             0.6666666666666666,
             "#ed7953"
            ],
            [
             0.7777777777777778,
             "#fb9f3a"
            ],
            [
             0.8888888888888888,
             "#fdca26"
            ],
            [
             1.0,
             "#f0f921"
            ]
           ]
          },
          "colorway": [
           "#636efa",
           "#EF553B",
           "#00cc96",
           "#ab63fa",
           "#FFA15A",
           "#19d3f3",
           "#FF6692",
           "#B6E880",
           "#FF97FF",
           "#FECB52"
          ],
          "font": {
           "color": "#2a3f5f"
          },
          "geo": {
           "bgcolor": "white",
           "lakecolor": "white",
           "landcolor": "#E5ECF6",
           "showlakes": true,
           "showland": true,
           "subunitcolor": "white"
          },
          "hoverlabel": {
           "align": "left"
          },
          "hovermode": "closest",
          "mapbox": {
           "style": "light"
          },
          "paper_bgcolor": "white",
          "plot_bgcolor": "#E5ECF6",
          "polar": {
           "angularaxis": {
            "gridcolor": "white",
            "linecolor": "white",
            "ticks": ""
           },
           "bgcolor": "#E5ECF6",
           "radialaxis": {
            "gridcolor": "white",
            "linecolor": "white",
            "ticks": ""
           }
          },
          "scene": {
           "xaxis": {
            "backgroundcolor": "#E5ECF6",
            "gridcolor": "white",
            "gridwidth": 2,
            "linecolor": "white",
            "showbackground": true,
            "ticks": "",
            "zerolinecolor": "white"
           },
           "yaxis": {
            "backgroundcolor": "#E5ECF6",
            "gridcolor": "white",
            "gridwidth": 2,
            "linecolor": "white",
            "showbackground": true,
            "ticks": "",
            "zerolinecolor": "white"
           },
           "zaxis": {
            "backgroundcolor": "#E5ECF6",
            "gridcolor": "white",
            "gridwidth": 2,
            "linecolor": "white",
            "showbackground": true,
            "ticks": "",
            "zerolinecolor": "white"
           }
          },
          "shapedefaults": {
           "line": {
            "color": "#2a3f5f"
           }
          },
          "ternary": {
           "aaxis": {
            "gridcolor": "white",
            "linecolor": "white",
            "ticks": ""
           },
           "baxis": {
            "gridcolor": "white",
            "linecolor": "white",
            "ticks": ""
           },
           "bgcolor": "#E5ECF6",
           "caxis": {
            "gridcolor": "white",
            "linecolor": "white",
            "ticks": ""
           }
          },
          "title": {
           "x": 0.05
          },
          "xaxis": {
           "automargin": true,
           "gridcolor": "white",
           "linecolor": "white",
           "ticks": "",
           "title": {
            "standoff": 15
           },
           "zerolinecolor": "white",
           "zerolinewidth": 2
          },
          "yaxis": {
           "automargin": true,
           "gridcolor": "white",
           "linecolor": "white",
           "ticks": "",
           "title": {
            "standoff": 15
           },
           "zerolinecolor": "white",
           "zerolinewidth": 2
          }
         }
        },
        "xaxis": {
         "anchor": "y",
         "domain": [
          0.0,
          1.0
         ],
         "title": {
          "text": "index"
         }
        },
        "yaxis": {
         "anchor": "x",
         "domain": [
          0.0,
          1.0
         ],
         "title": {
          "text": "pnl_cum"
         }
        },
        "legend": {
         "tracegroupgap": 0
        },
        "margin": {
         "t": 60
        }
       },
       "config": {
        "plotlyServerURL": "https://plot.ly"
       }
      },
      "text/html": "<div>                            <div id=\"2ccc2572-37fb-470d-b95d-3d3d8f10b3bb\" class=\"plotly-graph-div\" style=\"height:525px; width:100%;\"></div>            <script type=\"text/javascript\">                require([\"plotly\"], function(Plotly) {                    window.PLOTLYENV=window.PLOTLYENV || {};                                    if (document.getElementById(\"2ccc2572-37fb-470d-b95d-3d3d8f10b3bb\")) {                    Plotly.newPlot(                        \"2ccc2572-37fb-470d-b95d-3d3d8f10b3bb\",                        [{\"hovertemplate\":\"index=%{x}<br>pnl_cum=%{y}<extra></extra>\",\"legendgroup\":\"\",\"line\":{\"color\":\"#636efa\",\"dash\":\"solid\"},\"marker\":{\"symbol\":\"circle\"},\"mode\":\"lines\",\"name\":\"\",\"orientation\":\"v\",\"showlegend\":false,\"x\":[0,1,2,3,4,5,6,7,8,9,10,11],\"xaxis\":\"x\",\"y\":[23.84,-39.31999999999999,-63.47999999999999,22.360000000000014,79.20000000000002,84.04000000000002,150.88000000000002,214.72000000000003,208.56000000000003,204.40000000000003,145.24000000000004,232.08000000000004],\"yaxis\":\"y\",\"type\":\"scatter\"}],                        {\"template\":{\"data\":{\"bar\":[{\"error_x\":{\"color\":\"#2a3f5f\"},\"error_y\":{\"color\":\"#2a3f5f\"},\"marker\":{\"line\":{\"color\":\"#E5ECF6\",\"width\":0.5},\"pattern\":{\"fillmode\":\"overlay\",\"size\":10,\"solidity\":0.2}},\"type\":\"bar\"}],\"barpolar\":[{\"marker\":{\"line\":{\"color\":\"#E5ECF6\",\"width\":0.5},\"pattern\":{\"fillmode\":\"overlay\",\"size\":10,\"solidity\":0.2}},\"type\":\"barpolar\"}],\"carpet\":[{\"aaxis\":{\"endlinecolor\":\"#2a3f5f\",\"gridcolor\":\"white\",\"linecolor\":\"white\",\"minorgridcolor\":\"white\",\"startlinecolor\":\"#2a3f5f\"},\"baxis\":{\"endlinecolor\":\"#2a3f5f\",\"gridcolor\":\"white\",\"linecolor\":\"white\",\"minorgridcolor\":\"white\",\"startlinecolor\":\"#2a3f5f\"},\"type\":\"carpet\"}],\"choropleth\":[{\"colorbar\":{\"outlinewidth\":0,\"ticks\":\"\"},\"type\":\"choropleth\"}],\"contour\":[{\"colorbar\":{\"outlinewidth\":0,\"ticks\":\"\"},\"colorscale\":[[0.0,\"#0d0887\"],[0.1111111111111111,\"#46039f\"],[0.2222222222222222,\"#7201a8\"],[0.3333333333333333,\"#9c179e\"],[0.4444444444444444,\"#bd3786\"],[0.5555555555555556,\"#d8576b\"],[0.6666666666666666,\"#ed7953\"],[0.7777777777777778,\"#fb9f3a\"],[0.8888888888888888,\"#fdca26\"],[1.0,\"#f0f921\"]],\"type\":\"contour\"}],\"contourcarpet\":[{\"colorbar\":{\"outlinewidth\":0,\"ticks\":\"\"},\"type\":\"contourcarpet\"}],\"heatmap\":[{\"colorbar\":{\"outlinewidth\":0,\"ticks\":\"\"},\"colorscale\":[[0.0,\"#0d0887\"],[0.1111111111111111,\"#46039f\"],[0.2222222222222222,\"#7201a8\"],[0.3333333333333333,\"#9c179e\"],[0.4444444444444444,\"#bd3786\"],[0.5555555555555556,\"#d8576b\"],[0.6666666666666666,\"#ed7953\"],[0.7777777777777778,\"#fb9f3a\"],[0.8888888888888888,\"#fdca26\"],[1.0,\"#f0f921\"]],\"type\":\"heatmap\"}],\"heatmapgl\":[{\"colorbar\":{\"outlinewidth\":0,\"ticks\":\"\"},\"colorscale\":[[0.0,\"#0d0887\"],[0.1111111111111111,\"#46039f\"],[0.2222222222222222,\"#7201a8\"],[0.3333333333333333,\"#9c179e\"],[0.4444444444444444,\"#bd3786\"],[0.5555555555555556,\"#d8576b\"],[0.6666666666666666,\"#ed7953\"],[0.7777777777777778,\"#fb9f3a\"],[0.8888888888888888,\"#fdca26\"],[1.0,\"#f0f921\"]],\"type\":\"heatmapgl\"}],\"histogram\":[{\"marker\":{\"pattern\":{\"fillmode\":\"overlay\",\"size\":10,\"solidity\":0.2}},\"type\":\"histogram\"}],\"histogram2d\":[{\"colorbar\":{\"outlinewidth\":0,\"ticks\":\"\"},\"colorscale\":[[0.0,\"#0d0887\"],[0.1111111111111111,\"#46039f\"],[0.2222222222222222,\"#7201a8\"],[0.3333333333333333,\"#9c179e\"],[0.4444444444444444,\"#bd3786\"],[0.5555555555555556,\"#d8576b\"],[0.6666666666666666,\"#ed7953\"],[0.7777777777777778,\"#fb9f3a\"],[0.8888888888888888,\"#fdca26\"],[1.0,\"#f0f921\"]],\"type\":\"histogram2d\"}],\"histogram2dcontour\":[{\"colorbar\":{\"outlinewidth\":0,\"ticks\":\"\"},\"colorscale\":[[0.0,\"#0d0887\"],[0.1111111111111111,\"#46039f\"],[0.2222222222222222,\"#7201a8\"],[0.3333333333333333,\"#9c179e\"],[0.4444444444444444,\"#bd3786\"],[0.5555555555555556,\"#d8576b\"],[0.6666666666666666,\"#ed7953\"],[0.7777777777777778,\"#fb9f3a\"],[0.8888888888888888,\"#fdca26\"],[1.0,\"#f0f921\"]],\"type\":\"histogram2dcontour\"}],\"mesh3d\":[{\"colorbar\":{\"outlinewidth\":0,\"ticks\":\"\"},\"type\":\"mesh3d\"}],\"parcoords\":[{\"line\":{\"colorbar\":{\"outlinewidth\":0,\"ticks\":\"\"}},\"type\":\"parcoords\"}],\"pie\":[{\"automargin\":true,\"type\":\"pie\"}],\"scatter\":[{\"marker\":{\"colorbar\":{\"outlinewidth\":0,\"ticks\":\"\"}},\"type\":\"scatter\"}],\"scatter3d\":[{\"line\":{\"colorbar\":{\"outlinewidth\":0,\"ticks\":\"\"}},\"marker\":{\"colorbar\":{\"outlinewidth\":0,\"ticks\":\"\"}},\"type\":\"scatter3d\"}],\"scattercarpet\":[{\"marker\":{\"colorbar\":{\"outlinewidth\":0,\"ticks\":\"\"}},\"type\":\"scattercarpet\"}],\"scattergeo\":[{\"marker\":{\"colorbar\":{\"outlinewidth\":0,\"ticks\":\"\"}},\"type\":\"scattergeo\"}],\"scattergl\":[{\"marker\":{\"colorbar\":{\"outlinewidth\":0,\"ticks\":\"\"}},\"type\":\"scattergl\"}],\"scattermapbox\":[{\"marker\":{\"colorbar\":{\"outlinewidth\":0,\"ticks\":\"\"}},\"type\":\"scattermapbox\"}],\"scatterpolar\":[{\"marker\":{\"colorbar\":{\"outlinewidth\":0,\"ticks\":\"\"}},\"type\":\"scatterpolar\"}],\"scatterpolargl\":[{\"marker\":{\"colorbar\":{\"outlinewidth\":0,\"ticks\":\"\"}},\"type\":\"scatterpolargl\"}],\"scatterternary\":[{\"marker\":{\"colorbar\":{\"outlinewidth\":0,\"ticks\":\"\"}},\"type\":\"scatterternary\"}],\"surface\":[{\"colorbar\":{\"outlinewidth\":0,\"ticks\":\"\"},\"colorscale\":[[0.0,\"#0d0887\"],[0.1111111111111111,\"#46039f\"],[0.2222222222222222,\"#7201a8\"],[0.3333333333333333,\"#9c179e\"],[0.4444444444444444,\"#bd3786\"],[0.5555555555555556,\"#d8576b\"],[0.6666666666666666,\"#ed7953\"],[0.7777777777777778,\"#fb9f3a\"],[0.8888888888888888,\"#fdca26\"],[1.0,\"#f0f921\"]],\"type\":\"surface\"}],\"table\":[{\"cells\":{\"fill\":{\"color\":\"#EBF0F8\"},\"line\":{\"color\":\"white\"}},\"header\":{\"fill\":{\"color\":\"#C8D4E3\"},\"line\":{\"color\":\"white\"}},\"type\":\"table\"}]},\"layout\":{\"annotationdefaults\":{\"arrowcolor\":\"#2a3f5f\",\"arrowhead\":0,\"arrowwidth\":1},\"autotypenumbers\":\"strict\",\"coloraxis\":{\"colorbar\":{\"outlinewidth\":0,\"ticks\":\"\"}},\"colorscale\":{\"diverging\":[[0,\"#8e0152\"],[0.1,\"#c51b7d\"],[0.2,\"#de77ae\"],[0.3,\"#f1b6da\"],[0.4,\"#fde0ef\"],[0.5,\"#f7f7f7\"],[0.6,\"#e6f5d0\"],[0.7,\"#b8e186\"],[0.8,\"#7fbc41\"],[0.9,\"#4d9221\"],[1,\"#276419\"]],\"sequential\":[[0.0,\"#0d0887\"],[0.1111111111111111,\"#46039f\"],[0.2222222222222222,\"#7201a8\"],[0.3333333333333333,\"#9c179e\"],[0.4444444444444444,\"#bd3786\"],[0.5555555555555556,\"#d8576b\"],[0.6666666666666666,\"#ed7953\"],[0.7777777777777778,\"#fb9f3a\"],[0.8888888888888888,\"#fdca26\"],[1.0,\"#f0f921\"]],\"sequentialminus\":[[0.0,\"#0d0887\"],[0.1111111111111111,\"#46039f\"],[0.2222222222222222,\"#7201a8\"],[0.3333333333333333,\"#9c179e\"],[0.4444444444444444,\"#bd3786\"],[0.5555555555555556,\"#d8576b\"],[0.6666666666666666,\"#ed7953\"],[0.7777777777777778,\"#fb9f3a\"],[0.8888888888888888,\"#fdca26\"],[1.0,\"#f0f921\"]]},\"colorway\":[\"#636efa\",\"#EF553B\",\"#00cc96\",\"#ab63fa\",\"#FFA15A\",\"#19d3f3\",\"#FF6692\",\"#B6E880\",\"#FF97FF\",\"#FECB52\"],\"font\":{\"color\":\"#2a3f5f\"},\"geo\":{\"bgcolor\":\"white\",\"lakecolor\":\"white\",\"landcolor\":\"#E5ECF6\",\"showlakes\":true,\"showland\":true,\"subunitcolor\":\"white\"},\"hoverlabel\":{\"align\":\"left\"},\"hovermode\":\"closest\",\"mapbox\":{\"style\":\"light\"},\"paper_bgcolor\":\"white\",\"plot_bgcolor\":\"#E5ECF6\",\"polar\":{\"angularaxis\":{\"gridcolor\":\"white\",\"linecolor\":\"white\",\"ticks\":\"\"},\"bgcolor\":\"#E5ECF6\",\"radialaxis\":{\"gridcolor\":\"white\",\"linecolor\":\"white\",\"ticks\":\"\"}},\"scene\":{\"xaxis\":{\"backgroundcolor\":\"#E5ECF6\",\"gridcolor\":\"white\",\"gridwidth\":2,\"linecolor\":\"white\",\"showbackground\":true,\"ticks\":\"\",\"zerolinecolor\":\"white\"},\"yaxis\":{\"backgroundcolor\":\"#E5ECF6\",\"gridcolor\":\"white\",\"gridwidth\":2,\"linecolor\":\"white\",\"showbackground\":true,\"ticks\":\"\",\"zerolinecolor\":\"white\"},\"zaxis\":{\"backgroundcolor\":\"#E5ECF6\",\"gridcolor\":\"white\",\"gridwidth\":2,\"linecolor\":\"white\",\"showbackground\":true,\"ticks\":\"\",\"zerolinecolor\":\"white\"}},\"shapedefaults\":{\"line\":{\"color\":\"#2a3f5f\"}},\"ternary\":{\"aaxis\":{\"gridcolor\":\"white\",\"linecolor\":\"white\",\"ticks\":\"\"},\"baxis\":{\"gridcolor\":\"white\",\"linecolor\":\"white\",\"ticks\":\"\"},\"bgcolor\":\"#E5ECF6\",\"caxis\":{\"gridcolor\":\"white\",\"linecolor\":\"white\",\"ticks\":\"\"}},\"title\":{\"x\":0.05},\"xaxis\":{\"automargin\":true,\"gridcolor\":\"white\",\"linecolor\":\"white\",\"ticks\":\"\",\"title\":{\"standoff\":15},\"zerolinecolor\":\"white\",\"zerolinewidth\":2},\"yaxis\":{\"automargin\":true,\"gridcolor\":\"white\",\"linecolor\":\"white\",\"ticks\":\"\",\"title\":{\"standoff\":15},\"zerolinecolor\":\"white\",\"zerolinewidth\":2}}},\"xaxis\":{\"anchor\":\"y\",\"domain\":[0.0,1.0],\"title\":{\"text\":\"index\"}},\"yaxis\":{\"anchor\":\"x\",\"domain\":[0.0,1.0],\"title\":{\"text\":\"pnl_cum\"}},\"legend\":{\"tracegroupgap\":0},\"margin\":{\"t\":60}},                        {\"responsive\": true}                    ).then(function(){\n                            \nvar gd = document.getElementById('2ccc2572-37fb-470d-b95d-3d3d8f10b3bb');\nvar x = new MutationObserver(function (mutations, observer) {{\n        var display = window.getComputedStyle(gd).display;\n        if (!display || display === 'none') {{\n            console.log([gd, 'removed!']);\n            Plotly.purge(gd);\n            observer.disconnect();\n        }}\n}});\n\n// Listen for the removal of the full notebook cells\nvar notebookContainer = gd.closest('#notebook-container');\nif (notebookContainer) {{\n    x.observe(notebookContainer, {childList: true});\n}}\n\n// Listen for the clearing of the current output cell\nvar outputEl = gd.closest('.output');\nif (outputEl) {{\n    x.observe(outputEl, {childList: true});\n}}\n\n                        })                };                });            </script>        </div>"
     },
     "metadata": {},
     "output_type": "display_data"
    }
   ],
   "source": [
    "import plotly.express as px\n",
    "\n",
    "fig = px.line(df_exec, x=df_exec.index, y=\"pnl_cum\")\n",
    "fig.show()"
   ],
   "metadata": {
    "collapsed": false,
    "pycharm": {
     "name": "#%%\n"
    }
   }
  },
  {
   "cell_type": "code",
   "execution_count": 79,
   "outputs": [],
   "source": [],
   "metadata": {
    "collapsed": false,
    "pycharm": {
     "name": "#%%\n"
    }
   }
  }
 ],
 "metadata": {
  "kernelspec": {
   "name": "rx-trade-ib",
   "language": "python",
   "display_name": "rx-trade-ib"
  },
  "language_info": {
   "codemirror_mode": {
    "name": "ipython",
    "version": 2
   },
   "file_extension": ".py",
   "mimetype": "text/x-python",
   "name": "python",
   "nbconvert_exporter": "python",
   "pygments_lexer": "ipython2",
   "version": "2.7.6"
  }
 },
 "nbformat": 4,
 "nbformat_minor": 1
}