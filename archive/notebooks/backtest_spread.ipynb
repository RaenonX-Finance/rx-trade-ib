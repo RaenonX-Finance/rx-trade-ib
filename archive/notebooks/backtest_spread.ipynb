{
 "cells": [
  {
   "cell_type": "code",
   "execution_count": 19,
   "outputs": [],
   "source": [
    "import pandas as pd\n",
    "\n",
    "df_mnq = pd.read_csv(\"../futures/NQ/20220220-20220304-1.csv\")\n",
    "df_mnq = df_mnq[[\"date\", \"close\"]]\n",
    "df_mym = pd.read_csv(\"../futures/YM/20220220-20220304-1.csv\")\n",
    "df_mym = df_mym[[\"date\", \"close\"]]"
   ],
   "metadata": {
    "collapsed": false,
    "pycharm": {
     "name": "#%%\n"
    }
   }
  },
  {
   "cell_type": "code",
   "execution_count": 20,
   "outputs": [
    {
     "data": {
      "text/plain": "                     close_mnq  close_mym\ndate                                     \n2022-02-20 17:00:00   13932.75    33921.0\n2022-02-20 17:01:00   13859.50    33907.0\n2022-02-20 17:02:00   13884.75    33923.0\n2022-02-20 17:03:00   13875.50    33907.0\n2022-02-20 17:04:00   13873.50    33915.0\n...                        ...        ...\n2022-03-04 15:55:00   13800.50    33524.0\n2022-03-04 15:56:00   13802.00    33524.0\n2022-03-04 15:57:00   13800.00    33526.0\n2022-03-04 15:58:00   13800.25    33533.0\n2022-03-04 15:59:00   13802.75    33520.0\n\n[13560 rows x 2 columns]",
      "text/html": "<div>\n<style scoped>\n    .dataframe tbody tr th:only-of-type {\n        vertical-align: middle;\n    }\n\n    .dataframe tbody tr th {\n        vertical-align: top;\n    }\n\n    .dataframe thead th {\n        text-align: right;\n    }\n</style>\n<table border=\"1\" class=\"dataframe\">\n  <thead>\n    <tr style=\"text-align: right;\">\n      <th></th>\n      <th>close_mnq</th>\n      <th>close_mym</th>\n    </tr>\n    <tr>\n      <th>date</th>\n      <th></th>\n      <th></th>\n    </tr>\n  </thead>\n  <tbody>\n    <tr>\n      <th>2022-02-20 17:00:00</th>\n      <td>13932.75</td>\n      <td>33921.0</td>\n    </tr>\n    <tr>\n      <th>2022-02-20 17:01:00</th>\n      <td>13859.50</td>\n      <td>33907.0</td>\n    </tr>\n    <tr>\n      <th>2022-02-20 17:02:00</th>\n      <td>13884.75</td>\n      <td>33923.0</td>\n    </tr>\n    <tr>\n      <th>2022-02-20 17:03:00</th>\n      <td>13875.50</td>\n      <td>33907.0</td>\n    </tr>\n    <tr>\n      <th>2022-02-20 17:04:00</th>\n      <td>13873.50</td>\n      <td>33915.0</td>\n    </tr>\n    <tr>\n      <th>...</th>\n      <td>...</td>\n      <td>...</td>\n    </tr>\n    <tr>\n      <th>2022-03-04 15:55:00</th>\n      <td>13800.50</td>\n      <td>33524.0</td>\n    </tr>\n    <tr>\n      <th>2022-03-04 15:56:00</th>\n      <td>13802.00</td>\n      <td>33524.0</td>\n    </tr>\n    <tr>\n      <th>2022-03-04 15:57:00</th>\n      <td>13800.00</td>\n      <td>33526.0</td>\n    </tr>\n    <tr>\n      <th>2022-03-04 15:58:00</th>\n      <td>13800.25</td>\n      <td>33533.0</td>\n    </tr>\n    <tr>\n      <th>2022-03-04 15:59:00</th>\n      <td>13802.75</td>\n      <td>33520.0</td>\n    </tr>\n  </tbody>\n</table>\n<p>13560 rows × 2 columns</p>\n</div>"
     },
     "execution_count": 20,
     "metadata": {},
     "output_type": "execute_result"
    }
   ],
   "source": [
    "\n",
    "df = pd.merge(df_mnq, df_mym, on=\"date\", suffixes=(\"_mnq\", \"_mym\"))\n",
    "df.index = pd.to_datetime(df[\"date\"])\n",
    "df.drop(columns=[\"date\"], inplace=True)\n",
    "df"
   ],
   "metadata": {
    "collapsed": false,
    "pycharm": {
     "name": "#%%\n"
    }
   }
  },
  {
   "cell_type": "code",
   "execution_count": 21,
   "outputs": [
    {
     "data": {
      "text/plain": "                     close_mnq  close_mym   px_diff  px_diff_upper  \\\ndate                                                                 \n2022-02-20 17:00:00   13932.75    33921.0  0.889792            NaN   \n2022-02-20 17:01:00   13859.50    33907.0  0.894651            NaN   \n2022-02-20 17:02:00   13884.75    33923.0  0.893302            NaN   \n2022-02-20 17:03:00   13875.50    33907.0  0.893497            NaN   \n2022-02-20 17:04:00   13873.50    33915.0  0.893877            NaN   \n...                        ...        ...       ...            ...   \n2022-03-04 15:55:00   13800.50    33524.0  0.887557       0.888013   \n2022-03-04 15:56:00   13802.00    33524.0  0.887448       0.887962   \n2022-03-04 15:57:00   13800.00    33526.0  0.887653       0.887824   \n2022-03-04 15:58:00   13800.25    33533.0  0.887843       0.887823   \n2022-03-04 15:59:00   13802.75    33520.0  0.887274       0.887862   \n\n                     px_diff_mid  px_diff_lower  \ndate                                             \n2022-02-20 17:00:00          NaN            NaN  \n2022-02-20 17:01:00          NaN            NaN  \n2022-02-20 17:02:00          NaN            NaN  \n2022-02-20 17:03:00          NaN            NaN  \n2022-02-20 17:04:00          NaN            NaN  \n...                          ...            ...  \n2022-03-04 15:55:00     0.887704       0.887394  \n2022-03-04 15:56:00     0.887656       0.887350  \n2022-03-04 15:57:00     0.887621       0.887419  \n2022-03-04 15:58:00     0.887621       0.887420  \n2022-03-04 15:59:00     0.887580       0.887297  \n\n[13560 rows x 6 columns]",
      "text/html": "<div>\n<style scoped>\n    .dataframe tbody tr th:only-of-type {\n        vertical-align: middle;\n    }\n\n    .dataframe tbody tr th {\n        vertical-align: top;\n    }\n\n    .dataframe thead th {\n        text-align: right;\n    }\n</style>\n<table border=\"1\" class=\"dataframe\">\n  <thead>\n    <tr style=\"text-align: right;\">\n      <th></th>\n      <th>close_mnq</th>\n      <th>close_mym</th>\n      <th>px_diff</th>\n      <th>px_diff_upper</th>\n      <th>px_diff_mid</th>\n      <th>px_diff_lower</th>\n    </tr>\n    <tr>\n      <th>date</th>\n      <th></th>\n      <th></th>\n      <th></th>\n      <th></th>\n      <th></th>\n      <th></th>\n    </tr>\n  </thead>\n  <tbody>\n    <tr>\n      <th>2022-02-20 17:00:00</th>\n      <td>13932.75</td>\n      <td>33921.0</td>\n      <td>0.889792</td>\n      <td>NaN</td>\n      <td>NaN</td>\n      <td>NaN</td>\n    </tr>\n    <tr>\n      <th>2022-02-20 17:01:00</th>\n      <td>13859.50</td>\n      <td>33907.0</td>\n      <td>0.894651</td>\n      <td>NaN</td>\n      <td>NaN</td>\n      <td>NaN</td>\n    </tr>\n    <tr>\n      <th>2022-02-20 17:02:00</th>\n      <td>13884.75</td>\n      <td>33923.0</td>\n      <td>0.893302</td>\n      <td>NaN</td>\n      <td>NaN</td>\n      <td>NaN</td>\n    </tr>\n    <tr>\n      <th>2022-02-20 17:03:00</th>\n      <td>13875.50</td>\n      <td>33907.0</td>\n      <td>0.893497</td>\n      <td>NaN</td>\n      <td>NaN</td>\n      <td>NaN</td>\n    </tr>\n    <tr>\n      <th>2022-02-20 17:04:00</th>\n      <td>13873.50</td>\n      <td>33915.0</td>\n      <td>0.893877</td>\n      <td>NaN</td>\n      <td>NaN</td>\n      <td>NaN</td>\n    </tr>\n    <tr>\n      <th>...</th>\n      <td>...</td>\n      <td>...</td>\n      <td>...</td>\n      <td>...</td>\n      <td>...</td>\n      <td>...</td>\n    </tr>\n    <tr>\n      <th>2022-03-04 15:55:00</th>\n      <td>13800.50</td>\n      <td>33524.0</td>\n      <td>0.887557</td>\n      <td>0.888013</td>\n      <td>0.887704</td>\n      <td>0.887394</td>\n    </tr>\n    <tr>\n      <th>2022-03-04 15:56:00</th>\n      <td>13802.00</td>\n      <td>33524.0</td>\n      <td>0.887448</td>\n      <td>0.887962</td>\n      <td>0.887656</td>\n      <td>0.887350</td>\n    </tr>\n    <tr>\n      <th>2022-03-04 15:57:00</th>\n      <td>13800.00</td>\n      <td>33526.0</td>\n      <td>0.887653</td>\n      <td>0.887824</td>\n      <td>0.887621</td>\n      <td>0.887419</td>\n    </tr>\n    <tr>\n      <th>2022-03-04 15:58:00</th>\n      <td>13800.25</td>\n      <td>33533.0</td>\n      <td>0.887843</td>\n      <td>0.887823</td>\n      <td>0.887621</td>\n      <td>0.887420</td>\n    </tr>\n    <tr>\n      <th>2022-03-04 15:59:00</th>\n      <td>13802.75</td>\n      <td>33520.0</td>\n      <td>0.887274</td>\n      <td>0.887862</td>\n      <td>0.887580</td>\n      <td>0.887297</td>\n    </tr>\n  </tbody>\n</table>\n<p>13560 rows × 6 columns</p>\n</div>"
     },
     "execution_count": 21,
     "metadata": {},
     "output_type": "execute_result"
    }
   ],
   "source": [
    "import numpy as np\n",
    "import talib\n",
    "from talib import MA_Type\n",
    "\n",
    "df[\"px_diff\"] = np.log(df[\"close_mym\"].divide(df[\"close_mnq\"]))\n",
    "upper, mid, lower = talib.BBANDS(df[\"px_diff\"], timeperiod=10, nbdevup=2, nbdevdn=2, matype=MA_Type.SMA)\n",
    "df[\"px_diff_upper\"] = upper\n",
    "df[\"px_diff_mid\"] = mid\n",
    "df[\"px_diff_lower\"] = lower\n",
    "df"
   ],
   "metadata": {
    "collapsed": false,
    "pycharm": {
     "name": "#%%\n"
    }
   }
  },
  {
   "cell_type": "code",
   "execution_count": 22,
   "outputs": [
    {
     "data": {
      "text/plain": "                     close_mnq  close_mym   px_diff  px_diff_upper  \\\ndate                                                                 \n2022-02-21 02:30:00   14095.25    34268.0  0.888374       0.888567   \n2022-02-21 02:31:00   14097.75    34278.0  0.888489       0.888607   \n2022-02-21 02:32:00   14105.25    34287.0  0.888219       0.888608   \n2022-02-21 02:33:00   14097.00    34277.0  0.888513       0.888634   \n2022-02-21 02:34:00   14095.25    34275.0  0.888578       0.888685   \n...                        ...        ...       ...            ...   \n2022-03-04 06:26:00   13893.75    33387.0  0.876728       0.877050   \n2022-03-04 06:27:00   13891.25    33383.0  0.876788       0.877061   \n2022-03-04 06:28:00   13877.75    33361.0  0.877101       0.877156   \n2022-03-04 06:29:00   13878.25    33366.0  0.877215       0.877296   \n2022-03-04 06:30:00   13885.00    33376.0  0.877028       0.877265   \n\n                     px_diff_mid  px_diff_lower  \ndate                                             \n2022-02-21 02:30:00     0.888314       0.888061  \n2022-02-21 02:31:00     0.888335       0.888063  \n2022-02-21 02:32:00     0.888333       0.888058  \n2022-02-21 02:33:00     0.888369       0.888104  \n2022-02-21 02:34:00     0.888395       0.888106  \n...                          ...            ...  \n2022-03-04 06:26:00     0.876695       0.876341  \n2022-03-04 06:27:00     0.876703       0.876344  \n2022-03-04 06:28:00     0.876729       0.876303  \n2022-03-04 06:29:00     0.876782       0.876267  \n2022-03-04 06:30:00     0.876856       0.876448  \n\n[2410 rows x 6 columns]",
      "text/html": "<div>\n<style scoped>\n    .dataframe tbody tr th:only-of-type {\n        vertical-align: middle;\n    }\n\n    .dataframe tbody tr th {\n        vertical-align: top;\n    }\n\n    .dataframe thead th {\n        text-align: right;\n    }\n</style>\n<table border=\"1\" class=\"dataframe\">\n  <thead>\n    <tr style=\"text-align: right;\">\n      <th></th>\n      <th>close_mnq</th>\n      <th>close_mym</th>\n      <th>px_diff</th>\n      <th>px_diff_upper</th>\n      <th>px_diff_mid</th>\n      <th>px_diff_lower</th>\n    </tr>\n    <tr>\n      <th>date</th>\n      <th></th>\n      <th></th>\n      <th></th>\n      <th></th>\n      <th></th>\n      <th></th>\n    </tr>\n  </thead>\n  <tbody>\n    <tr>\n      <th>2022-02-21 02:30:00</th>\n      <td>14095.25</td>\n      <td>34268.0</td>\n      <td>0.888374</td>\n      <td>0.888567</td>\n      <td>0.888314</td>\n      <td>0.888061</td>\n    </tr>\n    <tr>\n      <th>2022-02-21 02:31:00</th>\n      <td>14097.75</td>\n      <td>34278.0</td>\n      <td>0.888489</td>\n      <td>0.888607</td>\n      <td>0.888335</td>\n      <td>0.888063</td>\n    </tr>\n    <tr>\n      <th>2022-02-21 02:32:00</th>\n      <td>14105.25</td>\n      <td>34287.0</td>\n      <td>0.888219</td>\n      <td>0.888608</td>\n      <td>0.888333</td>\n      <td>0.888058</td>\n    </tr>\n    <tr>\n      <th>2022-02-21 02:33:00</th>\n      <td>14097.00</td>\n      <td>34277.0</td>\n      <td>0.888513</td>\n      <td>0.888634</td>\n      <td>0.888369</td>\n      <td>0.888104</td>\n    </tr>\n    <tr>\n      <th>2022-02-21 02:34:00</th>\n      <td>14095.25</td>\n      <td>34275.0</td>\n      <td>0.888578</td>\n      <td>0.888685</td>\n      <td>0.888395</td>\n      <td>0.888106</td>\n    </tr>\n    <tr>\n      <th>...</th>\n      <td>...</td>\n      <td>...</td>\n      <td>...</td>\n      <td>...</td>\n      <td>...</td>\n      <td>...</td>\n    </tr>\n    <tr>\n      <th>2022-03-04 06:26:00</th>\n      <td>13893.75</td>\n      <td>33387.0</td>\n      <td>0.876728</td>\n      <td>0.877050</td>\n      <td>0.876695</td>\n      <td>0.876341</td>\n    </tr>\n    <tr>\n      <th>2022-03-04 06:27:00</th>\n      <td>13891.25</td>\n      <td>33383.0</td>\n      <td>0.876788</td>\n      <td>0.877061</td>\n      <td>0.876703</td>\n      <td>0.876344</td>\n    </tr>\n    <tr>\n      <th>2022-03-04 06:28:00</th>\n      <td>13877.75</td>\n      <td>33361.0</td>\n      <td>0.877101</td>\n      <td>0.877156</td>\n      <td>0.876729</td>\n      <td>0.876303</td>\n    </tr>\n    <tr>\n      <th>2022-03-04 06:29:00</th>\n      <td>13878.25</td>\n      <td>33366.0</td>\n      <td>0.877215</td>\n      <td>0.877296</td>\n      <td>0.876782</td>\n      <td>0.876267</td>\n    </tr>\n    <tr>\n      <th>2022-03-04 06:30:00</th>\n      <td>13885.00</td>\n      <td>33376.0</td>\n      <td>0.877028</td>\n      <td>0.877265</td>\n      <td>0.876856</td>\n      <td>0.876448</td>\n    </tr>\n  </tbody>\n</table>\n<p>2410 rows × 6 columns</p>\n</div>"
     },
     "execution_count": 22,
     "metadata": {},
     "output_type": "execute_result"
    }
   ],
   "source": [
    "df_selected = df.between_time(\"02:30\", \"06:30\")\n",
    "df_selected"
   ],
   "metadata": {
    "collapsed": false,
    "pycharm": {
     "name": "#%%\n"
    }
   }
  },
  {
   "cell_type": "code",
   "execution_count": 23,
   "outputs": [
    {
     "data": {
      "text/plain": "     buy sell             entry_t  entry_mnq  entry_mym  exit_mnq  exit_mym  \\\n0    MNQ  MYM 2022-02-21 02:35:00   14059.00    34217.0  14045.00   34193.0   \n1    MNQ  MYM 2022-02-21 02:55:00   14035.50    34197.0  14037.25   34189.0   \n2    MYM  MNQ 2022-02-21 03:24:00   14011.50    34098.0  14016.75   34128.0   \n3    MYM  MNQ 2022-02-21 03:44:00   14017.00    34112.0  13999.50   34090.0   \n4    MNQ  MYM 2022-02-21 03:55:00   13985.75    34070.0  13973.75   34046.0   \n..   ...  ...                 ...        ...        ...       ...       ...   \n130  MYM  MNQ 2022-03-04 05:04:00   13926.50    33462.0  13922.00   33460.0   \n131  MNQ  MYM 2022-03-04 05:29:00   13926.50    33491.0  13924.75   33475.0   \n132  MYM  MNQ 2022-03-04 05:45:00   13923.50    33458.0  13929.25   33468.0   \n133  MYM  MNQ 2022-03-04 06:05:00   13936.00    33458.0  13910.00   33410.0   \n134  MNQ  MYM 2022-03-04 06:13:00   13892.75    33385.0  13885.00   33376.0   \n\n                 exit_t position  pnl_highest  pnl_lowest     hold_period  \\\n0   2022-02-21 02:46:00    close         27.5       -19.0 0 days 00:11:00   \n1   2022-02-21 02:59:00    close         15.5         0.0 0 days 00:04:00   \n2   2022-02-21 03:26:00    close          7.5         0.0 0 days 00:02:00   \n3   2022-02-21 03:51:00    close          0.0       -12.5 0 days 00:07:00   \n4   2022-02-21 04:02:00    close          8.5       -21.5 0 days 00:07:00   \n..                  ...      ...          ...         ...             ...   \n130 2022-03-04 05:12:00    close         16.0         0.0 0 days 00:08:00   \n131 2022-03-04 05:35:00    close         14.0         0.0 0 days 00:06:00   \n132 2022-03-04 05:57:00    close         24.5         0.0 0 days 00:12:00   \n133 2022-03-04 06:09:00    close          0.0       -24.5 0 days 00:04:00   \n134 2022-03-04 06:30:00    close          0.0       -28.0 0 days 00:17:00   \n\n     px_side_mnq  px_side_mym  pnl_mnq  pnl_mym  pnl_single  pnl_cum  \n0         -14.00         24.0    -28.0     36.0        5.92     5.92  \n1           1.75          8.0      3.5     12.0       13.42    19.34  \n2          -5.25         30.0    -10.5     45.0       32.42    51.76  \n3          17.50        -22.0     35.0    -33.0       -0.08    51.68  \n4         -12.00         24.0    -24.0     36.0        9.92    61.60  \n..           ...          ...      ...      ...         ...      ...  \n130         4.50         -2.0      9.0     -3.0        3.92   580.52  \n131        -1.75         16.0     -3.5     24.0       18.42   598.94  \n132        -5.75         10.0    -11.5     15.0        1.42   600.36  \n133        26.00        -48.0     52.0    -72.0      -22.08   578.28  \n134        -7.75          9.0    -15.5     13.5       -4.08   574.20  \n\n[135 rows x 18 columns]",
      "text/html": "<div>\n<style scoped>\n    .dataframe tbody tr th:only-of-type {\n        vertical-align: middle;\n    }\n\n    .dataframe tbody tr th {\n        vertical-align: top;\n    }\n\n    .dataframe thead th {\n        text-align: right;\n    }\n</style>\n<table border=\"1\" class=\"dataframe\">\n  <thead>\n    <tr style=\"text-align: right;\">\n      <th></th>\n      <th>buy</th>\n      <th>sell</th>\n      <th>entry_t</th>\n      <th>entry_mnq</th>\n      <th>entry_mym</th>\n      <th>exit_mnq</th>\n      <th>exit_mym</th>\n      <th>exit_t</th>\n      <th>position</th>\n      <th>pnl_highest</th>\n      <th>pnl_lowest</th>\n      <th>hold_period</th>\n      <th>px_side_mnq</th>\n      <th>px_side_mym</th>\n      <th>pnl_mnq</th>\n      <th>pnl_mym</th>\n      <th>pnl_single</th>\n      <th>pnl_cum</th>\n    </tr>\n  </thead>\n  <tbody>\n    <tr>\n      <th>0</th>\n      <td>MNQ</td>\n      <td>MYM</td>\n      <td>2022-02-21 02:35:00</td>\n      <td>14059.00</td>\n      <td>34217.0</td>\n      <td>14045.00</td>\n      <td>34193.0</td>\n      <td>2022-02-21 02:46:00</td>\n      <td>close</td>\n      <td>27.5</td>\n      <td>-19.0</td>\n      <td>0 days 00:11:00</td>\n      <td>-14.00</td>\n      <td>24.0</td>\n      <td>-28.0</td>\n      <td>36.0</td>\n      <td>5.92</td>\n      <td>5.92</td>\n    </tr>\n    <tr>\n      <th>1</th>\n      <td>MNQ</td>\n      <td>MYM</td>\n      <td>2022-02-21 02:55:00</td>\n      <td>14035.50</td>\n      <td>34197.0</td>\n      <td>14037.25</td>\n      <td>34189.0</td>\n      <td>2022-02-21 02:59:00</td>\n      <td>close</td>\n      <td>15.5</td>\n      <td>0.0</td>\n      <td>0 days 00:04:00</td>\n      <td>1.75</td>\n      <td>8.0</td>\n      <td>3.5</td>\n      <td>12.0</td>\n      <td>13.42</td>\n      <td>19.34</td>\n    </tr>\n    <tr>\n      <th>2</th>\n      <td>MYM</td>\n      <td>MNQ</td>\n      <td>2022-02-21 03:24:00</td>\n      <td>14011.50</td>\n      <td>34098.0</td>\n      <td>14016.75</td>\n      <td>34128.0</td>\n      <td>2022-02-21 03:26:00</td>\n      <td>close</td>\n      <td>7.5</td>\n      <td>0.0</td>\n      <td>0 days 00:02:00</td>\n      <td>-5.25</td>\n      <td>30.0</td>\n      <td>-10.5</td>\n      <td>45.0</td>\n      <td>32.42</td>\n      <td>51.76</td>\n    </tr>\n    <tr>\n      <th>3</th>\n      <td>MYM</td>\n      <td>MNQ</td>\n      <td>2022-02-21 03:44:00</td>\n      <td>14017.00</td>\n      <td>34112.0</td>\n      <td>13999.50</td>\n      <td>34090.0</td>\n      <td>2022-02-21 03:51:00</td>\n      <td>close</td>\n      <td>0.0</td>\n      <td>-12.5</td>\n      <td>0 days 00:07:00</td>\n      <td>17.50</td>\n      <td>-22.0</td>\n      <td>35.0</td>\n      <td>-33.0</td>\n      <td>-0.08</td>\n      <td>51.68</td>\n    </tr>\n    <tr>\n      <th>4</th>\n      <td>MNQ</td>\n      <td>MYM</td>\n      <td>2022-02-21 03:55:00</td>\n      <td>13985.75</td>\n      <td>34070.0</td>\n      <td>13973.75</td>\n      <td>34046.0</td>\n      <td>2022-02-21 04:02:00</td>\n      <td>close</td>\n      <td>8.5</td>\n      <td>-21.5</td>\n      <td>0 days 00:07:00</td>\n      <td>-12.00</td>\n      <td>24.0</td>\n      <td>-24.0</td>\n      <td>36.0</td>\n      <td>9.92</td>\n      <td>61.60</td>\n    </tr>\n    <tr>\n      <th>...</th>\n      <td>...</td>\n      <td>...</td>\n      <td>...</td>\n      <td>...</td>\n      <td>...</td>\n      <td>...</td>\n      <td>...</td>\n      <td>...</td>\n      <td>...</td>\n      <td>...</td>\n      <td>...</td>\n      <td>...</td>\n      <td>...</td>\n      <td>...</td>\n      <td>...</td>\n      <td>...</td>\n      <td>...</td>\n      <td>...</td>\n    </tr>\n    <tr>\n      <th>130</th>\n      <td>MYM</td>\n      <td>MNQ</td>\n      <td>2022-03-04 05:04:00</td>\n      <td>13926.50</td>\n      <td>33462.0</td>\n      <td>13922.00</td>\n      <td>33460.0</td>\n      <td>2022-03-04 05:12:00</td>\n      <td>close</td>\n      <td>16.0</td>\n      <td>0.0</td>\n      <td>0 days 00:08:00</td>\n      <td>4.50</td>\n      <td>-2.0</td>\n      <td>9.0</td>\n      <td>-3.0</td>\n      <td>3.92</td>\n      <td>580.52</td>\n    </tr>\n    <tr>\n      <th>131</th>\n      <td>MNQ</td>\n      <td>MYM</td>\n      <td>2022-03-04 05:29:00</td>\n      <td>13926.50</td>\n      <td>33491.0</td>\n      <td>13924.75</td>\n      <td>33475.0</td>\n      <td>2022-03-04 05:35:00</td>\n      <td>close</td>\n      <td>14.0</td>\n      <td>0.0</td>\n      <td>0 days 00:06:00</td>\n      <td>-1.75</td>\n      <td>16.0</td>\n      <td>-3.5</td>\n      <td>24.0</td>\n      <td>18.42</td>\n      <td>598.94</td>\n    </tr>\n    <tr>\n      <th>132</th>\n      <td>MYM</td>\n      <td>MNQ</td>\n      <td>2022-03-04 05:45:00</td>\n      <td>13923.50</td>\n      <td>33458.0</td>\n      <td>13929.25</td>\n      <td>33468.0</td>\n      <td>2022-03-04 05:57:00</td>\n      <td>close</td>\n      <td>24.5</td>\n      <td>0.0</td>\n      <td>0 days 00:12:00</td>\n      <td>-5.75</td>\n      <td>10.0</td>\n      <td>-11.5</td>\n      <td>15.0</td>\n      <td>1.42</td>\n      <td>600.36</td>\n    </tr>\n    <tr>\n      <th>133</th>\n      <td>MYM</td>\n      <td>MNQ</td>\n      <td>2022-03-04 06:05:00</td>\n      <td>13936.00</td>\n      <td>33458.0</td>\n      <td>13910.00</td>\n      <td>33410.0</td>\n      <td>2022-03-04 06:09:00</td>\n      <td>close</td>\n      <td>0.0</td>\n      <td>-24.5</td>\n      <td>0 days 00:04:00</td>\n      <td>26.00</td>\n      <td>-48.0</td>\n      <td>52.0</td>\n      <td>-72.0</td>\n      <td>-22.08</td>\n      <td>578.28</td>\n    </tr>\n    <tr>\n      <th>134</th>\n      <td>MNQ</td>\n      <td>MYM</td>\n      <td>2022-03-04 06:13:00</td>\n      <td>13892.75</td>\n      <td>33385.0</td>\n      <td>13885.00</td>\n      <td>33376.0</td>\n      <td>2022-03-04 06:30:00</td>\n      <td>close</td>\n      <td>0.0</td>\n      <td>-28.0</td>\n      <td>0 days 00:17:00</td>\n      <td>-7.75</td>\n      <td>9.0</td>\n      <td>-15.5</td>\n      <td>13.5</td>\n      <td>-4.08</td>\n      <td>574.20</td>\n    </tr>\n  </tbody>\n</table>\n<p>135 rows × 18 columns</p>\n</div>"
     },
     "execution_count": 23,
     "metadata": {},
     "output_type": "execute_result"
    }
   ],
   "source": [
    "from datetime import time\n",
    "from pandas import DataFrame\n",
    "\n",
    "executions = []\n",
    "current_pnl = 0\n",
    "\n",
    "MNQ_LOT = 1\n",
    "MYM_LOT = 3\n",
    "\n",
    "for dt, row in df_selected.iterrows():\n",
    "    last = executions[-1] if executions else None\n",
    "\n",
    "    # Exit - no cross-day position\n",
    "    if dt.time() == time(6, 30):\n",
    "        executions[-1] |= {\n",
    "            \"exit_mnq\": row[\"close_mnq\"],\n",
    "            \"exit_mym\": row[\"close_mym\"],\n",
    "            \"exit_t\": dt,\n",
    "            \"position\": \"close\",\n",
    "        }\n",
    "\n",
    "    # Entry - out of band\n",
    "    if not last or last[\"position\"] == \"close\":\n",
    "        if row[\"px_diff\"] > row[\"px_diff_upper\"]:\n",
    "            executions.append({\n",
    "                \"buy\": \"MNQ\",\n",
    "                \"sell\": \"MYM\",\n",
    "                \"entry_t\": dt,\n",
    "                \"entry_mnq\": row[\"close_mnq\"],\n",
    "                \"entry_mym\": row[\"close_mym\"],\n",
    "                \"exit_mnq\": None,\n",
    "                \"exit_mym\": None,\n",
    "                \"exit_t\": None,\n",
    "                \"position\": \"open\",\n",
    "                \"pnl_highest\": 0,\n",
    "                \"pnl_lowest\": 0,\n",
    "            })\n",
    "\n",
    "        if row[\"px_diff\"] < row[\"px_diff_lower\"]:\n",
    "            executions.append({\n",
    "                \"buy\": \"MYM\",\n",
    "                \"sell\": \"MNQ\",\n",
    "                \"entry_t\": dt,\n",
    "                \"entry_mnq\": row[\"close_mnq\"],\n",
    "                \"entry_mym\": row[\"close_mym\"],\n",
    "                \"exit_mnq\": None,\n",
    "                \"exit_mym\": None,\n",
    "                \"exit_t\": None,\n",
    "                \"position\": \"open\",\n",
    "                \"pnl_highest\": 0,\n",
    "                \"pnl_lowest\": 0,\n",
    "            })\n",
    "\n",
    "        continue\n",
    "    # Take profit - back to MID\n",
    "    elif (\n",
    "            (last[\"buy\"] == \"MNQ\" and row[\"px_diff\"] < row[\"px_diff_mid\"]) or\n",
    "            (last[\"buy\"] == \"MYM\" and row[\"px_diff\"] > row[\"px_diff_mid\"])\n",
    "    ):\n",
    "        executions[-1] |= {\n",
    "            \"exit_mnq\": row[\"close_mnq\"],\n",
    "            \"exit_mym\": row[\"close_mym\"],\n",
    "            \"exit_t\": dt,\n",
    "            \"position\": \"close\",\n",
    "        }\n",
    "        current_pnl = 0\n",
    "\n",
    "    # Record PnL\n",
    "    if last[\"position\"] == \"open\":\n",
    "        pnl_mnq = (row[\"close_mnq\"] - last[\"entry_mnq\"]) * (1 if last[\"buy\"] == \"MNQ\" else -1) * MNQ_LOT * 2\n",
    "        pnl_mym = (row[\"close_mym\"] - last[\"entry_mym\"]) * (1 if last[\"buy\"] == \"MYM\" else -1) * MYM_LOT * 0.5\n",
    "\n",
    "        current_pnl = pnl_mnq + pnl_mym\n",
    "\n",
    "        executions[-1] |= {\n",
    "            \"pnl_highest\": max(last[\"pnl_highest\"], current_pnl),\n",
    "            \"pnl_lowest\": min(last[\"pnl_lowest\"], current_pnl),\n",
    "        }\n",
    "\n",
    "    # Take profit - lock profit\n",
    "    if current_pnl < 10 and last[\"pnl_highest\"] > 40:\n",
    "        executions[-1] |= {\n",
    "            \"exit_mnq\": row[\"close_mnq\"],\n",
    "            \"exit_mym\": row[\"close_mym\"],\n",
    "            \"exit_t\": dt,\n",
    "            \"position\": \"close\",\n",
    "        }\n",
    "\n",
    "    # Stop loss - force close\n",
    "    if current_pnl < -50:\n",
    "        executions[-1] |= {\n",
    "            \"exit_mnq\": row[\"close_mnq\"],\n",
    "            \"exit_mym\": row[\"close_mym\"],\n",
    "            \"exit_t\": dt,\n",
    "            \"position\": \"close\",\n",
    "        }\n",
    "\n",
    "df_exec = DataFrame(executions)\n",
    "df_exec[\"hold_period\"] = df_exec[\"exit_t\"] - df_exec[\"entry_t\"]\n",
    "df_exec[\"px_side_mnq\"] = (df_exec[\"exit_mnq\"] - df_exec[\"entry_mnq\"]) * np.where(df_exec[\"buy\"] == \"MNQ\", 1, -1)\n",
    "df_exec[\"px_side_mym\"] = (df_exec[\"exit_mym\"] - df_exec[\"entry_mym\"]) * np.where(df_exec[\"buy\"] == \"MYM\", 1, -1)\n",
    "df_exec[\"pnl_mnq\"] = df_exec[\"px_side_mnq\"] * MNQ_LOT * 2\n",
    "df_exec[\"pnl_mym\"] = df_exec[\"px_side_mym\"] * MYM_LOT * 0.5\n",
    "df_exec[\"pnl_single\"] = df_exec[\"pnl_mnq\"] + df_exec[\"pnl_mym\"] - 0.52 * (MNQ_LOT + MYM_LOT)\n",
    "df_exec[\"pnl_cum\"] = df_exec[\"pnl_single\"].cumsum()\n",
    "df_exec"
   ],
   "metadata": {
    "collapsed": false,
    "pycharm": {
     "name": "#%%\n"
    }
   }
  },
  {
   "cell_type": "code",
   "execution_count": 24,
   "outputs": [
    {
     "data": {
      "application/vnd.plotly.v1+json": {
       "data": [
        {
         "hovertemplate": "index=%{x}<br>pnl_cum=%{y}<extra></extra>",
         "legendgroup": "",
         "line": {
          "color": "#636efa",
          "dash": "solid"
         },
         "marker": {
          "symbol": "circle"
         },
         "mode": "lines",
         "name": "",
         "orientation": "v",
         "showlegend": false,
         "x": [
          0,
          1,
          2,
          3,
          4,
          5,
          6,
          7,
          8,
          9,
          10,
          11,
          12,
          13,
          14,
          15,
          16,
          17,
          18,
          19,
          20,
          21,
          22,
          23,
          24,
          25,
          26,
          27,
          28,
          29,
          30,
          31,
          32,
          33,
          34,
          35,
          36,
          37,
          38,
          39,
          40,
          41,
          42,
          43,
          44,
          45,
          46,
          47,
          48,
          49,
          50,
          51,
          52,
          53,
          54,
          55,
          56,
          57,
          58,
          59,
          60,
          61,
          62,
          63,
          64,
          65,
          66,
          67,
          68,
          69,
          70,
          71,
          72,
          73,
          74,
          75,
          76,
          77,
          78,
          79,
          80,
          81,
          82,
          83,
          84,
          85,
          86,
          87,
          88,
          89,
          90,
          91,
          92,
          93,
          94,
          95,
          96,
          97,
          98,
          99,
          100,
          101,
          102,
          103,
          104,
          105,
          106,
          107,
          108,
          109,
          110,
          111,
          112,
          113,
          114,
          115,
          116,
          117,
          118,
          119,
          120,
          121,
          122,
          123,
          124,
          125,
          126,
          127,
          128,
          129,
          130,
          131,
          132,
          133,
          134
         ],
         "xaxis": "x",
         "y": [
          5.92,
          19.34,
          51.760000000000005,
          51.68000000000001,
          61.60000000000001,
          74.52000000000001,
          55.44000000000001,
          44.860000000000014,
          36.780000000000015,
          44.20000000000002,
          64.62000000000002,
          111.04000000000002,
          131.96000000000004,
          123.38000000000004,
          111.30000000000004,
          96.22000000000004,
          70.14000000000004,
          63.060000000000045,
          61.98000000000005,
          171.40000000000003,
          204.32000000000005,
          226.24000000000007,
          256.6600000000001,
          287.5800000000001,
          310.0000000000001,
          282.42000000000013,
          285.34000000000015,
          256.76000000000016,
          245.68000000000015,
          259.10000000000014,
          262.02000000000015,
          262.44000000000017,
          241.36000000000018,
          240.78000000000017,
          261.70000000000016,
          259.6200000000002,
          259.5400000000002,
          254.96000000000018,
          258.88000000000017,
          262.8000000000002,
          236.7200000000002,
          259.1400000000002,
          284.06000000000023,
          142.98000000000022,
          157.9000000000002,
          144.8200000000002,
          82.2400000000002,
          45.160000000000196,
          39.0800000000002,
          48.5000000000002,
          40.4200000000002,
          27.340000000000202,
          81.2600000000002,
          157.6800000000002,
          153.1000000000002,
          128.5200000000002,
          109.44000000000021,
          115.36000000000021,
          125.28000000000021,
          118.20000000000022,
          121.62000000000022,
          93.04000000000022,
          85.96000000000022,
          111.38000000000022,
          204.30000000000024,
          229.22000000000025,
          261.14000000000027,
          282.0600000000003,
          268.4800000000003,
          274.4000000000003,
          313.82000000000033,
          317.24000000000035,
          318.66000000000037,
          353.0800000000004,
          364.5000000000004,
          368.4200000000004,
          375.34000000000043,
          309.26000000000045,
          325.68000000000046,
          351.6000000000005,
          368.5200000000005,
          358.4400000000005,
          387.3600000000005,
          402.28000000000054,
          422.70000000000056,
          432.1200000000006,
          411.0400000000006,
          377.9600000000006,
          367.8800000000006,
          390.30000000000064,
          377.22000000000065,
          369.14000000000067,
          376.5600000000007,
          390.4800000000007,
          338.9000000000007,
          342.82000000000073,
          348.74000000000075,
          349.16000000000076,
          353.5800000000008,
          383.5000000000008,
          379.9200000000008,
          383.3400000000008,
          393.26000000000084,
          406.68000000000086,
          415.6000000000009,
          411.5200000000009,
          373.9400000000009,
          443.3600000000009,
          424.28000000000094,
          434.70000000000095,
          454.62000000000097,
          474.040000000001,
          493.460000000001,
          522.880000000001,
          535.300000000001,
          499.220000000001,
          507.140000000001,
          523.060000000001,
          530.4800000000009,
          535.9000000000009,
          542.3200000000008,
          563.2400000000008,
          588.1600000000008,
          592.5800000000007,
          625.0000000000007,
          631.9200000000006,
          568.3400000000006,
          586.7600000000006,
          580.6800000000005,
          576.6000000000005,
          580.5200000000004,
          598.9400000000004,
          600.3600000000004,
          578.2800000000003,
          574.2000000000003
         ],
         "yaxis": "y",
         "type": "scatter"
        }
       ],
       "layout": {
        "template": {
         "data": {
          "bar": [
           {
            "error_x": {
             "color": "#2a3f5f"
            },
            "error_y": {
             "color": "#2a3f5f"
            },
            "marker": {
             "line": {
              "color": "#E5ECF6",
              "width": 0.5
             },
             "pattern": {
              "fillmode": "overlay",
              "size": 10,
              "solidity": 0.2
             }
            },
            "type": "bar"
           }
          ],
          "barpolar": [
           {
            "marker": {
             "line": {
              "color": "#E5ECF6",
              "width": 0.5
             },
             "pattern": {
              "fillmode": "overlay",
              "size": 10,
              "solidity": 0.2
             }
            },
            "type": "barpolar"
           }
          ],
          "carpet": [
           {
            "aaxis": {
             "endlinecolor": "#2a3f5f",
             "gridcolor": "white",
             "linecolor": "white",
             "minorgridcolor": "white",
             "startlinecolor": "#2a3f5f"
            },
            "baxis": {
             "endlinecolor": "#2a3f5f",
             "gridcolor": "white",
             "linecolor": "white",
             "minorgridcolor": "white",
             "startlinecolor": "#2a3f5f"
            },
            "type": "carpet"
           }
          ],
          "choropleth": [
           {
            "colorbar": {
             "outlinewidth": 0,
             "ticks": ""
            },
            "type": "choropleth"
           }
          ],
          "contour": [
           {
            "colorbar": {
             "outlinewidth": 0,
             "ticks": ""
            },
            "colorscale": [
             [
              0.0,
              "#0d0887"
             ],
             [
              0.1111111111111111,
              "#46039f"
             ],
             [
              0.2222222222222222,
              "#7201a8"
             ],
             [
              0.3333333333333333,
              "#9c179e"
             ],
             [
              0.4444444444444444,
              "#bd3786"
             ],
             [
              0.5555555555555556,
              "#d8576b"
             ],
             [
              0.6666666666666666,
              "#ed7953"
             ],
             [
              0.7777777777777778,
              "#fb9f3a"
             ],
             [
              0.8888888888888888,
              "#fdca26"
             ],
             [
              1.0,
              "#f0f921"
             ]
            ],
            "type": "contour"
           }
          ],
          "contourcarpet": [
           {
            "colorbar": {
             "outlinewidth": 0,
             "ticks": ""
            },
            "type": "contourcarpet"
           }
          ],
          "heatmap": [
           {
            "colorbar": {
             "outlinewidth": 0,
             "ticks": ""
            },
            "colorscale": [
             [
              0.0,
              "#0d0887"
             ],
             [
              0.1111111111111111,
              "#46039f"
             ],
             [
              0.2222222222222222,
              "#7201a8"
             ],
             [
              0.3333333333333333,
              "#9c179e"
             ],
             [
              0.4444444444444444,
              "#bd3786"
             ],
             [
              0.5555555555555556,
              "#d8576b"
             ],
             [
              0.6666666666666666,
              "#ed7953"
             ],
             [
              0.7777777777777778,
              "#fb9f3a"
             ],
             [
              0.8888888888888888,
              "#fdca26"
             ],
             [
              1.0,
              "#f0f921"
             ]
            ],
            "type": "heatmap"
           }
          ],
          "heatmapgl": [
           {
            "colorbar": {
             "outlinewidth": 0,
             "ticks": ""
            },
            "colorscale": [
             [
              0.0,
              "#0d0887"
             ],
             [
              0.1111111111111111,
              "#46039f"
             ],
             [
              0.2222222222222222,
              "#7201a8"
             ],
             [
              0.3333333333333333,
              "#9c179e"
             ],
             [
              0.4444444444444444,
              "#bd3786"
             ],
             [
              0.5555555555555556,
              "#d8576b"
             ],
             [
              0.6666666666666666,
              "#ed7953"
             ],
             [
              0.7777777777777778,
              "#fb9f3a"
             ],
             [
              0.8888888888888888,
              "#fdca26"
             ],
             [
              1.0,
              "#f0f921"
             ]
            ],
            "type": "heatmapgl"
           }
          ],
          "histogram": [
           {
            "marker": {
             "pattern": {
              "fillmode": "overlay",
              "size": 10,
              "solidity": 0.2
             }
            },
            "type": "histogram"
           }
          ],
          "histogram2d": [
           {
            "colorbar": {
             "outlinewidth": 0,
             "ticks": ""
            },
            "colorscale": [
             [
              0.0,
              "#0d0887"
             ],
             [
              0.1111111111111111,
              "#46039f"
             ],
             [
              0.2222222222222222,
              "#7201a8"
             ],
             [
              0.3333333333333333,
              "#9c179e"
             ],
             [
              0.4444444444444444,
              "#bd3786"
             ],
             [
              0.5555555555555556,
              "#d8576b"
             ],
             [
              0.6666666666666666,
              "#ed7953"
             ],
             [
              0.7777777777777778,
              "#fb9f3a"
             ],
             [
              0.8888888888888888,
              "#fdca26"
             ],
             [
              1.0,
              "#f0f921"
             ]
            ],
            "type": "histogram2d"
           }
          ],
          "histogram2dcontour": [
           {
            "colorbar": {
             "outlinewidth": 0,
             "ticks": ""
            },
            "colorscale": [
             [
              0.0,
              "#0d0887"
             ],
             [
              0.1111111111111111,
              "#46039f"
             ],
             [
              0.2222222222222222,
              "#7201a8"
             ],
             [
              0.3333333333333333,
              "#9c179e"
             ],
             [
              0.4444444444444444,
              "#bd3786"
             ],
             [
              0.5555555555555556,
              "#d8576b"
             ],
             [
              0.6666666666666666,
              "#ed7953"
             ],
             [
              0.7777777777777778,
              "#fb9f3a"
             ],
             [
              0.8888888888888888,
              "#fdca26"
             ],
             [
              1.0,
              "#f0f921"
             ]
            ],
            "type": "histogram2dcontour"
           }
          ],
          "mesh3d": [
           {
            "colorbar": {
             "outlinewidth": 0,
             "ticks": ""
            },
            "type": "mesh3d"
           }
          ],
          "parcoords": [
           {
            "line": {
             "colorbar": {
              "outlinewidth": 0,
              "ticks": ""
             }
            },
            "type": "parcoords"
           }
          ],
          "pie": [
           {
            "automargin": true,
            "type": "pie"
           }
          ],
          "scatter": [
           {
            "marker": {
             "colorbar": {
              "outlinewidth": 0,
              "ticks": ""
             }
            },
            "type": "scatter"
           }
          ],
          "scatter3d": [
           {
            "line": {
             "colorbar": {
              "outlinewidth": 0,
              "ticks": ""
             }
            },
            "marker": {
             "colorbar": {
              "outlinewidth": 0,
              "ticks": ""
             }
            },
            "type": "scatter3d"
           }
          ],
          "scattercarpet": [
           {
            "marker": {
             "colorbar": {
              "outlinewidth": 0,
              "ticks": ""
             }
            },
            "type": "scattercarpet"
           }
          ],
          "scattergeo": [
           {
            "marker": {
             "colorbar": {
              "outlinewidth": 0,
              "ticks": ""
             }
            },
            "type": "scattergeo"
           }
          ],
          "scattergl": [
           {
            "marker": {
             "colorbar": {
              "outlinewidth": 0,
              "ticks": ""
             }
            },
            "type": "scattergl"
           }
          ],
          "scattermapbox": [
           {
            "marker": {
             "colorbar": {
              "outlinewidth": 0,
              "ticks": ""
             }
            },
            "type": "scattermapbox"
           }
          ],
          "scatterpolar": [
           {
            "marker": {
             "colorbar": {
              "outlinewidth": 0,
              "ticks": ""
             }
            },
            "type": "scatterpolar"
           }
          ],
          "scatterpolargl": [
           {
            "marker": {
             "colorbar": {
              "outlinewidth": 0,
              "ticks": ""
             }
            },
            "type": "scatterpolargl"
           }
          ],
          "scatterternary": [
           {
            "marker": {
             "colorbar": {
              "outlinewidth": 0,
              "ticks": ""
             }
            },
            "type": "scatterternary"
           }
          ],
          "surface": [
           {
            "colorbar": {
             "outlinewidth": 0,
             "ticks": ""
            },
            "colorscale": [
             [
              0.0,
              "#0d0887"
             ],
             [
              0.1111111111111111,
              "#46039f"
             ],
             [
              0.2222222222222222,
              "#7201a8"
             ],
             [
              0.3333333333333333,
              "#9c179e"
             ],
             [
              0.4444444444444444,
              "#bd3786"
             ],
             [
              0.5555555555555556,
              "#d8576b"
             ],
             [
              0.6666666666666666,
              "#ed7953"
             ],
             [
              0.7777777777777778,
              "#fb9f3a"
             ],
             [
              0.8888888888888888,
              "#fdca26"
             ],
             [
              1.0,
              "#f0f921"
             ]
            ],
            "type": "surface"
           }
          ],
          "table": [
           {
            "cells": {
             "fill": {
              "color": "#EBF0F8"
             },
             "line": {
              "color": "white"
             }
            },
            "header": {
             "fill": {
              "color": "#C8D4E3"
             },
             "line": {
              "color": "white"
             }
            },
            "type": "table"
           }
          ]
         },
         "layout": {
          "annotationdefaults": {
           "arrowcolor": "#2a3f5f",
           "arrowhead": 0,
           "arrowwidth": 1
          },
          "autotypenumbers": "strict",
          "coloraxis": {
           "colorbar": {
            "outlinewidth": 0,
            "ticks": ""
           }
          },
          "colorscale": {
           "diverging": [
            [
             0,
             "#8e0152"
            ],
            [
             0.1,
             "#c51b7d"
            ],
            [
             0.2,
             "#de77ae"
            ],
            [
             0.3,
             "#f1b6da"
            ],
            [
             0.4,
             "#fde0ef"
            ],
            [
             0.5,
             "#f7f7f7"
            ],
            [
             0.6,
             "#e6f5d0"
            ],
            [
             0.7,
             "#b8e186"
            ],
            [
             0.8,
             "#7fbc41"
            ],
            [
             0.9,
             "#4d9221"
            ],
            [
             1,
             "#276419"
            ]
           ],
           "sequential": [
            [
             0.0,
             "#0d0887"
            ],
            [
             0.1111111111111111,
             "#46039f"
            ],
            [
             0.2222222222222222,
             "#7201a8"
            ],
            [
             0.3333333333333333,
             "#9c179e"
            ],
            [
             0.4444444444444444,
             "#bd3786"
            ],
            [
             0.5555555555555556,
             "#d8576b"
            ],
            [
             0.6666666666666666,
             "#ed7953"
            ],
            [
             0.7777777777777778,
             "#fb9f3a"
            ],
            [
             0.8888888888888888,
             "#fdca26"
            ],
            [
             1.0,
             "#f0f921"
            ]
           ],
           "sequentialminus": [
            [
             0.0,
             "#0d0887"
            ],
            [
             0.1111111111111111,
             "#46039f"
            ],
            [
             0.2222222222222222,
             "#7201a8"
            ],
            [
             0.3333333333333333,
             "#9c179e"
            ],
            [
             0.4444444444444444,
             "#bd3786"
            ],
            [
             0.5555555555555556,
             "#d8576b"
            ],
            [
             0.6666666666666666,
             "#ed7953"
            ],
            [
             0.7777777777777778,
             "#fb9f3a"
            ],
            [
             0.8888888888888888,
             "#fdca26"
            ],
            [
             1.0,
             "#f0f921"
            ]
           ]
          },
          "colorway": [
           "#636efa",
           "#EF553B",
           "#00cc96",
           "#ab63fa",
           "#FFA15A",
           "#19d3f3",
           "#FF6692",
           "#B6E880",
           "#FF97FF",
           "#FECB52"
          ],
          "font": {
           "color": "#2a3f5f"
          },
          "geo": {
           "bgcolor": "white",
           "lakecolor": "white",
           "landcolor": "#E5ECF6",
           "showlakes": true,
           "showland": true,
           "subunitcolor": "white"
          },
          "hoverlabel": {
           "align": "left"
          },
          "hovermode": "closest",
          "mapbox": {
           "style": "light"
          },
          "paper_bgcolor": "white",
          "plot_bgcolor": "#E5ECF6",
          "polar": {
           "angularaxis": {
            "gridcolor": "white",
            "linecolor": "white",
            "ticks": ""
           },
           "bgcolor": "#E5ECF6",
           "radialaxis": {
            "gridcolor": "white",
            "linecolor": "white",
            "ticks": ""
           }
          },
          "scene": {
           "xaxis": {
            "backgroundcolor": "#E5ECF6",
            "gridcolor": "white",
            "gridwidth": 2,
            "linecolor": "white",
            "showbackground": true,
            "ticks": "",
            "zerolinecolor": "white"
           },
           "yaxis": {
            "backgroundcolor": "#E5ECF6",
            "gridcolor": "white",
            "gridwidth": 2,
            "linecolor": "white",
            "showbackground": true,
            "ticks": "",
            "zerolinecolor": "white"
           },
           "zaxis": {
            "backgroundcolor": "#E5ECF6",
            "gridcolor": "white",
            "gridwidth": 2,
            "linecolor": "white",
            "showbackground": true,
            "ticks": "",
            "zerolinecolor": "white"
           }
          },
          "shapedefaults": {
           "line": {
            "color": "#2a3f5f"
           }
          },
          "ternary": {
           "aaxis": {
            "gridcolor": "white",
            "linecolor": "white",
            "ticks": ""
           },
           "baxis": {
            "gridcolor": "white",
            "linecolor": "white",
            "ticks": ""
           },
           "bgcolor": "#E5ECF6",
           "caxis": {
            "gridcolor": "white",
            "linecolor": "white",
            "ticks": ""
           }
          },
          "title": {
           "x": 0.05
          },
          "xaxis": {
           "automargin": true,
           "gridcolor": "white",
           "linecolor": "white",
           "ticks": "",
           "title": {
            "standoff": 15
           },
           "zerolinecolor": "white",
           "zerolinewidth": 2
          },
          "yaxis": {
           "automargin": true,
           "gridcolor": "white",
           "linecolor": "white",
           "ticks": "",
           "title": {
            "standoff": 15
           },
           "zerolinecolor": "white",
           "zerolinewidth": 2
          }
         }
        },
        "xaxis": {
         "anchor": "y",
         "domain": [
          0.0,
          1.0
         ],
         "title": {
          "text": "index"
         }
        },
        "yaxis": {
         "anchor": "x",
         "domain": [
          0.0,
          1.0
         ],
         "title": {
          "text": "pnl_cum"
         }
        },
        "legend": {
         "tracegroupgap": 0
        },
        "margin": {
         "t": 60
        }
       },
       "config": {
        "plotlyServerURL": "https://plot.ly"
       }
      },
      "text/html": "<div>                            <div id=\"e9568daa-68a6-42e5-ba19-3e5a145cbfc2\" class=\"plotly-graph-div\" style=\"height:525px; width:100%;\"></div>            <script type=\"text/javascript\">                require([\"plotly\"], function(Plotly) {                    window.PLOTLYENV=window.PLOTLYENV || {};                                    if (document.getElementById(\"e9568daa-68a6-42e5-ba19-3e5a145cbfc2\")) {                    Plotly.newPlot(                        \"e9568daa-68a6-42e5-ba19-3e5a145cbfc2\",                        [{\"hovertemplate\":\"index=%{x}<br>pnl_cum=%{y}<extra></extra>\",\"legendgroup\":\"\",\"line\":{\"color\":\"#636efa\",\"dash\":\"solid\"},\"marker\":{\"symbol\":\"circle\"},\"mode\":\"lines\",\"name\":\"\",\"orientation\":\"v\",\"showlegend\":false,\"x\":[0,1,2,3,4,5,6,7,8,9,10,11,12,13,14,15,16,17,18,19,20,21,22,23,24,25,26,27,28,29,30,31,32,33,34,35,36,37,38,39,40,41,42,43,44,45,46,47,48,49,50,51,52,53,54,55,56,57,58,59,60,61,62,63,64,65,66,67,68,69,70,71,72,73,74,75,76,77,78,79,80,81,82,83,84,85,86,87,88,89,90,91,92,93,94,95,96,97,98,99,100,101,102,103,104,105,106,107,108,109,110,111,112,113,114,115,116,117,118,119,120,121,122,123,124,125,126,127,128,129,130,131,132,133,134],\"xaxis\":\"x\",\"y\":[5.92,19.34,51.760000000000005,51.68000000000001,61.60000000000001,74.52000000000001,55.44000000000001,44.860000000000014,36.780000000000015,44.20000000000002,64.62000000000002,111.04000000000002,131.96000000000004,123.38000000000004,111.30000000000004,96.22000000000004,70.14000000000004,63.060000000000045,61.98000000000005,171.40000000000003,204.32000000000005,226.24000000000007,256.6600000000001,287.5800000000001,310.0000000000001,282.42000000000013,285.34000000000015,256.76000000000016,245.68000000000015,259.10000000000014,262.02000000000015,262.44000000000017,241.36000000000018,240.78000000000017,261.70000000000016,259.6200000000002,259.5400000000002,254.96000000000018,258.88000000000017,262.8000000000002,236.7200000000002,259.1400000000002,284.06000000000023,142.98000000000022,157.9000000000002,144.8200000000002,82.2400000000002,45.160000000000196,39.0800000000002,48.5000000000002,40.4200000000002,27.340000000000202,81.2600000000002,157.6800000000002,153.1000000000002,128.5200000000002,109.44000000000021,115.36000000000021,125.28000000000021,118.20000000000022,121.62000000000022,93.04000000000022,85.96000000000022,111.38000000000022,204.30000000000024,229.22000000000025,261.14000000000027,282.0600000000003,268.4800000000003,274.4000000000003,313.82000000000033,317.24000000000035,318.66000000000037,353.0800000000004,364.5000000000004,368.4200000000004,375.34000000000043,309.26000000000045,325.68000000000046,351.6000000000005,368.5200000000005,358.4400000000005,387.3600000000005,402.28000000000054,422.70000000000056,432.1200000000006,411.0400000000006,377.9600000000006,367.8800000000006,390.30000000000064,377.22000000000065,369.14000000000067,376.5600000000007,390.4800000000007,338.9000000000007,342.82000000000073,348.74000000000075,349.16000000000076,353.5800000000008,383.5000000000008,379.9200000000008,383.3400000000008,393.26000000000084,406.68000000000086,415.6000000000009,411.5200000000009,373.9400000000009,443.3600000000009,424.28000000000094,434.70000000000095,454.62000000000097,474.040000000001,493.460000000001,522.880000000001,535.300000000001,499.220000000001,507.140000000001,523.060000000001,530.4800000000009,535.9000000000009,542.3200000000008,563.2400000000008,588.1600000000008,592.5800000000007,625.0000000000007,631.9200000000006,568.3400000000006,586.7600000000006,580.6800000000005,576.6000000000005,580.5200000000004,598.9400000000004,600.3600000000004,578.2800000000003,574.2000000000003],\"yaxis\":\"y\",\"type\":\"scatter\"}],                        {\"template\":{\"data\":{\"bar\":[{\"error_x\":{\"color\":\"#2a3f5f\"},\"error_y\":{\"color\":\"#2a3f5f\"},\"marker\":{\"line\":{\"color\":\"#E5ECF6\",\"width\":0.5},\"pattern\":{\"fillmode\":\"overlay\",\"size\":10,\"solidity\":0.2}},\"type\":\"bar\"}],\"barpolar\":[{\"marker\":{\"line\":{\"color\":\"#E5ECF6\",\"width\":0.5},\"pattern\":{\"fillmode\":\"overlay\",\"size\":10,\"solidity\":0.2}},\"type\":\"barpolar\"}],\"carpet\":[{\"aaxis\":{\"endlinecolor\":\"#2a3f5f\",\"gridcolor\":\"white\",\"linecolor\":\"white\",\"minorgridcolor\":\"white\",\"startlinecolor\":\"#2a3f5f\"},\"baxis\":{\"endlinecolor\":\"#2a3f5f\",\"gridcolor\":\"white\",\"linecolor\":\"white\",\"minorgridcolor\":\"white\",\"startlinecolor\":\"#2a3f5f\"},\"type\":\"carpet\"}],\"choropleth\":[{\"colorbar\":{\"outlinewidth\":0,\"ticks\":\"\"},\"type\":\"choropleth\"}],\"contour\":[{\"colorbar\":{\"outlinewidth\":0,\"ticks\":\"\"},\"colorscale\":[[0.0,\"#0d0887\"],[0.1111111111111111,\"#46039f\"],[0.2222222222222222,\"#7201a8\"],[0.3333333333333333,\"#9c179e\"],[0.4444444444444444,\"#bd3786\"],[0.5555555555555556,\"#d8576b\"],[0.6666666666666666,\"#ed7953\"],[0.7777777777777778,\"#fb9f3a\"],[0.8888888888888888,\"#fdca26\"],[1.0,\"#f0f921\"]],\"type\":\"contour\"}],\"contourcarpet\":[{\"colorbar\":{\"outlinewidth\":0,\"ticks\":\"\"},\"type\":\"contourcarpet\"}],\"heatmap\":[{\"colorbar\":{\"outlinewidth\":0,\"ticks\":\"\"},\"colorscale\":[[0.0,\"#0d0887\"],[0.1111111111111111,\"#46039f\"],[0.2222222222222222,\"#7201a8\"],[0.3333333333333333,\"#9c179e\"],[0.4444444444444444,\"#bd3786\"],[0.5555555555555556,\"#d8576b\"],[0.6666666666666666,\"#ed7953\"],[0.7777777777777778,\"#fb9f3a\"],[0.8888888888888888,\"#fdca26\"],[1.0,\"#f0f921\"]],\"type\":\"heatmap\"}],\"heatmapgl\":[{\"colorbar\":{\"outlinewidth\":0,\"ticks\":\"\"},\"colorscale\":[[0.0,\"#0d0887\"],[0.1111111111111111,\"#46039f\"],[0.2222222222222222,\"#7201a8\"],[0.3333333333333333,\"#9c179e\"],[0.4444444444444444,\"#bd3786\"],[0.5555555555555556,\"#d8576b\"],[0.6666666666666666,\"#ed7953\"],[0.7777777777777778,\"#fb9f3a\"],[0.8888888888888888,\"#fdca26\"],[1.0,\"#f0f921\"]],\"type\":\"heatmapgl\"}],\"histogram\":[{\"marker\":{\"pattern\":{\"fillmode\":\"overlay\",\"size\":10,\"solidity\":0.2}},\"type\":\"histogram\"}],\"histogram2d\":[{\"colorbar\":{\"outlinewidth\":0,\"ticks\":\"\"},\"colorscale\":[[0.0,\"#0d0887\"],[0.1111111111111111,\"#46039f\"],[0.2222222222222222,\"#7201a8\"],[0.3333333333333333,\"#9c179e\"],[0.4444444444444444,\"#bd3786\"],[0.5555555555555556,\"#d8576b\"],[0.6666666666666666,\"#ed7953\"],[0.7777777777777778,\"#fb9f3a\"],[0.8888888888888888,\"#fdca26\"],[1.0,\"#f0f921\"]],\"type\":\"histogram2d\"}],\"histogram2dcontour\":[{\"colorbar\":{\"outlinewidth\":0,\"ticks\":\"\"},\"colorscale\":[[0.0,\"#0d0887\"],[0.1111111111111111,\"#46039f\"],[0.2222222222222222,\"#7201a8\"],[0.3333333333333333,\"#9c179e\"],[0.4444444444444444,\"#bd3786\"],[0.5555555555555556,\"#d8576b\"],[0.6666666666666666,\"#ed7953\"],[0.7777777777777778,\"#fb9f3a\"],[0.8888888888888888,\"#fdca26\"],[1.0,\"#f0f921\"]],\"type\":\"histogram2dcontour\"}],\"mesh3d\":[{\"colorbar\":{\"outlinewidth\":0,\"ticks\":\"\"},\"type\":\"mesh3d\"}],\"parcoords\":[{\"line\":{\"colorbar\":{\"outlinewidth\":0,\"ticks\":\"\"}},\"type\":\"parcoords\"}],\"pie\":[{\"automargin\":true,\"type\":\"pie\"}],\"scatter\":[{\"marker\":{\"colorbar\":{\"outlinewidth\":0,\"ticks\":\"\"}},\"type\":\"scatter\"}],\"scatter3d\":[{\"line\":{\"colorbar\":{\"outlinewidth\":0,\"ticks\":\"\"}},\"marker\":{\"colorbar\":{\"outlinewidth\":0,\"ticks\":\"\"}},\"type\":\"scatter3d\"}],\"scattercarpet\":[{\"marker\":{\"colorbar\":{\"outlinewidth\":0,\"ticks\":\"\"}},\"type\":\"scattercarpet\"}],\"scattergeo\":[{\"marker\":{\"colorbar\":{\"outlinewidth\":0,\"ticks\":\"\"}},\"type\":\"scattergeo\"}],\"scattergl\":[{\"marker\":{\"colorbar\":{\"outlinewidth\":0,\"ticks\":\"\"}},\"type\":\"scattergl\"}],\"scattermapbox\":[{\"marker\":{\"colorbar\":{\"outlinewidth\":0,\"ticks\":\"\"}},\"type\":\"scattermapbox\"}],\"scatterpolar\":[{\"marker\":{\"colorbar\":{\"outlinewidth\":0,\"ticks\":\"\"}},\"type\":\"scatterpolar\"}],\"scatterpolargl\":[{\"marker\":{\"colorbar\":{\"outlinewidth\":0,\"ticks\":\"\"}},\"type\":\"scatterpolargl\"}],\"scatterternary\":[{\"marker\":{\"colorbar\":{\"outlinewidth\":0,\"ticks\":\"\"}},\"type\":\"scatterternary\"}],\"surface\":[{\"colorbar\":{\"outlinewidth\":0,\"ticks\":\"\"},\"colorscale\":[[0.0,\"#0d0887\"],[0.1111111111111111,\"#46039f\"],[0.2222222222222222,\"#7201a8\"],[0.3333333333333333,\"#9c179e\"],[0.4444444444444444,\"#bd3786\"],[0.5555555555555556,\"#d8576b\"],[0.6666666666666666,\"#ed7953\"],[0.7777777777777778,\"#fb9f3a\"],[0.8888888888888888,\"#fdca26\"],[1.0,\"#f0f921\"]],\"type\":\"surface\"}],\"table\":[{\"cells\":{\"fill\":{\"color\":\"#EBF0F8\"},\"line\":{\"color\":\"white\"}},\"header\":{\"fill\":{\"color\":\"#C8D4E3\"},\"line\":{\"color\":\"white\"}},\"type\":\"table\"}]},\"layout\":{\"annotationdefaults\":{\"arrowcolor\":\"#2a3f5f\",\"arrowhead\":0,\"arrowwidth\":1},\"autotypenumbers\":\"strict\",\"coloraxis\":{\"colorbar\":{\"outlinewidth\":0,\"ticks\":\"\"}},\"colorscale\":{\"diverging\":[[0,\"#8e0152\"],[0.1,\"#c51b7d\"],[0.2,\"#de77ae\"],[0.3,\"#f1b6da\"],[0.4,\"#fde0ef\"],[0.5,\"#f7f7f7\"],[0.6,\"#e6f5d0\"],[0.7,\"#b8e186\"],[0.8,\"#7fbc41\"],[0.9,\"#4d9221\"],[1,\"#276419\"]],\"sequential\":[[0.0,\"#0d0887\"],[0.1111111111111111,\"#46039f\"],[0.2222222222222222,\"#7201a8\"],[0.3333333333333333,\"#9c179e\"],[0.4444444444444444,\"#bd3786\"],[0.5555555555555556,\"#d8576b\"],[0.6666666666666666,\"#ed7953\"],[0.7777777777777778,\"#fb9f3a\"],[0.8888888888888888,\"#fdca26\"],[1.0,\"#f0f921\"]],\"sequentialminus\":[[0.0,\"#0d0887\"],[0.1111111111111111,\"#46039f\"],[0.2222222222222222,\"#7201a8\"],[0.3333333333333333,\"#9c179e\"],[0.4444444444444444,\"#bd3786\"],[0.5555555555555556,\"#d8576b\"],[0.6666666666666666,\"#ed7953\"],[0.7777777777777778,\"#fb9f3a\"],[0.8888888888888888,\"#fdca26\"],[1.0,\"#f0f921\"]]},\"colorway\":[\"#636efa\",\"#EF553B\",\"#00cc96\",\"#ab63fa\",\"#FFA15A\",\"#19d3f3\",\"#FF6692\",\"#B6E880\",\"#FF97FF\",\"#FECB52\"],\"font\":{\"color\":\"#2a3f5f\"},\"geo\":{\"bgcolor\":\"white\",\"lakecolor\":\"white\",\"landcolor\":\"#E5ECF6\",\"showlakes\":true,\"showland\":true,\"subunitcolor\":\"white\"},\"hoverlabel\":{\"align\":\"left\"},\"hovermode\":\"closest\",\"mapbox\":{\"style\":\"light\"},\"paper_bgcolor\":\"white\",\"plot_bgcolor\":\"#E5ECF6\",\"polar\":{\"angularaxis\":{\"gridcolor\":\"white\",\"linecolor\":\"white\",\"ticks\":\"\"},\"bgcolor\":\"#E5ECF6\",\"radialaxis\":{\"gridcolor\":\"white\",\"linecolor\":\"white\",\"ticks\":\"\"}},\"scene\":{\"xaxis\":{\"backgroundcolor\":\"#E5ECF6\",\"gridcolor\":\"white\",\"gridwidth\":2,\"linecolor\":\"white\",\"showbackground\":true,\"ticks\":\"\",\"zerolinecolor\":\"white\"},\"yaxis\":{\"backgroundcolor\":\"#E5ECF6\",\"gridcolor\":\"white\",\"gridwidth\":2,\"linecolor\":\"white\",\"showbackground\":true,\"ticks\":\"\",\"zerolinecolor\":\"white\"},\"zaxis\":{\"backgroundcolor\":\"#E5ECF6\",\"gridcolor\":\"white\",\"gridwidth\":2,\"linecolor\":\"white\",\"showbackground\":true,\"ticks\":\"\",\"zerolinecolor\":\"white\"}},\"shapedefaults\":{\"line\":{\"color\":\"#2a3f5f\"}},\"ternary\":{\"aaxis\":{\"gridcolor\":\"white\",\"linecolor\":\"white\",\"ticks\":\"\"},\"baxis\":{\"gridcolor\":\"white\",\"linecolor\":\"white\",\"ticks\":\"\"},\"bgcolor\":\"#E5ECF6\",\"caxis\":{\"gridcolor\":\"white\",\"linecolor\":\"white\",\"ticks\":\"\"}},\"title\":{\"x\":0.05},\"xaxis\":{\"automargin\":true,\"gridcolor\":\"white\",\"linecolor\":\"white\",\"ticks\":\"\",\"title\":{\"standoff\":15},\"zerolinecolor\":\"white\",\"zerolinewidth\":2},\"yaxis\":{\"automargin\":true,\"gridcolor\":\"white\",\"linecolor\":\"white\",\"ticks\":\"\",\"title\":{\"standoff\":15},\"zerolinecolor\":\"white\",\"zerolinewidth\":2}}},\"xaxis\":{\"anchor\":\"y\",\"domain\":[0.0,1.0],\"title\":{\"text\":\"index\"}},\"yaxis\":{\"anchor\":\"x\",\"domain\":[0.0,1.0],\"title\":{\"text\":\"pnl_cum\"}},\"legend\":{\"tracegroupgap\":0},\"margin\":{\"t\":60}},                        {\"responsive\": true}                    ).then(function(){\n                            \nvar gd = document.getElementById('e9568daa-68a6-42e5-ba19-3e5a145cbfc2');\nvar x = new MutationObserver(function (mutations, observer) {{\n        var display = window.getComputedStyle(gd).display;\n        if (!display || display === 'none') {{\n            console.log([gd, 'removed!']);\n            Plotly.purge(gd);\n            observer.disconnect();\n        }}\n}});\n\n// Listen for the removal of the full notebook cells\nvar notebookContainer = gd.closest('#notebook-container');\nif (notebookContainer) {{\n    x.observe(notebookContainer, {childList: true});\n}}\n\n// Listen for the clearing of the current output cell\nvar outputEl = gd.closest('.output');\nif (outputEl) {{\n    x.observe(outputEl, {childList: true});\n}}\n\n                        })                };                });            </script>        </div>"
     },
     "metadata": {},
     "output_type": "display_data"
    }
   ],
   "source": [
    "import plotly.express as px\n",
    "\n",
    "fig = px.line(df_exec, x=df_exec.index, y=\"pnl_cum\")\n",
    "fig.show()"
   ],
   "metadata": {
    "collapsed": false,
    "pycharm": {
     "name": "#%%\n"
    }
   }
  },
  {
   "cell_type": "code",
   "execution_count": 24,
   "outputs": [],
   "source": [],
   "metadata": {
    "collapsed": false,
    "pycharm": {
     "name": "#%%\n"
    }
   }
  }
 ],
 "metadata": {
  "kernelspec": {
   "name": "rx-trade-ib",
   "language": "python",
   "display_name": "rx-trade-ib"
  },
  "language_info": {
   "codemirror_mode": {
    "name": "ipython",
    "version": 2
   },
   "file_extension": ".py",
   "mimetype": "text/x-python",
   "name": "python",
   "nbconvert_exporter": "python",
   "pygments_lexer": "ipython2",
   "version": "2.7.6"
  }
 },
 "nbformat": 4,
 "nbformat_minor": 1
}