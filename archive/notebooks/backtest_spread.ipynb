{
 "cells": [
  {
   "cell_type": "code",
   "execution_count": 2,
   "outputs": [
    {
     "ename": "TypeError",
     "evalue": "SpreadTradingCommodity.__init__() got an unexpected keyword argument 'margin'",
     "output_type": "error",
     "traceback": [
      "\u001B[1;31m---------------------------------------------------------------------------\u001B[0m",
      "\u001B[1;31mTypeError\u001B[0m                                 Traceback (most recent call last)",
      "Input \u001B[1;32mIn [2]\u001B[0m, in \u001B[0;36m<cell line: 12>\u001B[1;34m()\u001B[0m\n\u001B[0;32m      1\u001B[0m \u001B[38;5;28;01mfrom\u001B[39;00m \u001B[38;5;21;01manalysis\u001B[39;00m\u001B[38;5;21;01m.\u001B[39;00m\u001B[38;5;21;01mspread_trading\u001B[39;00m \u001B[38;5;28;01mimport\u001B[39;00m (\n\u001B[0;32m      2\u001B[0m     SpreadTradingCommodity, SpreadTradingParams,\n\u001B[0;32m      3\u001B[0m     get_data_df, attach_data_to_df, get_df_between_time,\n\u001B[0;32m      4\u001B[0m     apply_strategy, show_pnl_plot\n\u001B[0;32m      5\u001B[0m )\n\u001B[0;32m      7\u001B[0m \u001B[38;5;66;03m# Margin as of 2022/03/08\u001B[39;00m\n\u001B[0;32m      8\u001B[0m \u001B[38;5;66;03m# MYM Intraday Initial: 1063\u001B[39;00m\n\u001B[0;32m      9\u001B[0m \u001B[38;5;66;03m# MES Intraday Initial: 1611\u001B[39;00m\n\u001B[0;32m     10\u001B[0m \u001B[38;5;66;03m# MNQ Intraday Initial: 2153\u001B[39;00m\n\u001B[0;32m     12\u001B[0m params \u001B[38;5;241m=\u001B[39m SpreadTradingParams(\n\u001B[1;32m---> 13\u001B[0m     data_1\u001B[38;5;241m=\u001B[39mSpreadTradingCommodity(\n\u001B[0;32m     14\u001B[0m         file_path\u001B[38;5;241m=\u001B[39m\u001B[38;5;124m\"\u001B[39m\u001B[38;5;124m../futures/NQ/20220222-20220307-1.csv\u001B[39m\u001B[38;5;124m\"\u001B[39m,\n\u001B[0;32m     15\u001B[0m         name\u001B[38;5;241m=\u001B[39m\u001B[38;5;124m\"\u001B[39m\u001B[38;5;124mNQ\u001B[39m\u001B[38;5;124m\"\u001B[39m,\n\u001B[0;32m     16\u001B[0m         lot\u001B[38;5;241m=\u001B[39m\u001B[38;5;241m2\u001B[39m,\n\u001B[0;32m     17\u001B[0m         multiplier\u001B[38;5;241m=\u001B[39m\u001B[38;5;241m2\u001B[39m,\n\u001B[0;32m     18\u001B[0m         margin\u001B[38;5;241m=\u001B[39m\u001B[38;5;241m2153\u001B[39m,\n\u001B[0;32m     19\u001B[0m     ),\n\u001B[0;32m     20\u001B[0m     data_2\u001B[38;5;241m=\u001B[39mSpreadTradingCommodity(\n\u001B[0;32m     21\u001B[0m         file_path\u001B[38;5;241m=\u001B[39m\u001B[38;5;124m\"\u001B[39m\u001B[38;5;124m../futures/ES/20220222-20220307-1.csv\u001B[39m\u001B[38;5;124m\"\u001B[39m,\n\u001B[0;32m     22\u001B[0m         name\u001B[38;5;241m=\u001B[39m\u001B[38;5;124m\"\u001B[39m\u001B[38;5;124mES\u001B[39m\u001B[38;5;124m\"\u001B[39m,\n\u001B[0;32m     23\u001B[0m         lot\u001B[38;5;241m=\u001B[39m\u001B[38;5;241m5\u001B[39m,\n\u001B[0;32m     24\u001B[0m         multiplier\u001B[38;5;241m=\u001B[39m\u001B[38;5;241m5\u001B[39m,\n\u001B[0;32m     25\u001B[0m         margin\u001B[38;5;241m=\u001B[39m\u001B[38;5;241m1611\u001B[39m,\n\u001B[0;32m     26\u001B[0m     ),\n\u001B[0;32m     27\u001B[0m     commission_single\u001B[38;5;241m=\u001B[39m\u001B[38;5;241m0.52\u001B[39m,\n\u001B[0;32m     28\u001B[0m )\n",
      "\u001B[1;31mTypeError\u001B[0m: SpreadTradingCommodity.__init__() got an unexpected keyword argument 'margin'"
     ]
    }
   ],
   "source": [
    "from analysis.spread_trading import (\n",
    "    SpreadTradingCommodity, SpreadTradingParams,\n",
    "    get_data_df, attach_data_to_df, get_df_between_time,\n",
    "    apply_strategy, show_pnl_plot\n",
    ")\n",
    "\n",
    "# Margin as of 2022/03/08\n",
    "# MYM Intraday Initial: 1063\n",
    "# MES Intraday Initial: 1611\n",
    "# MNQ Intraday Initial: 2153\n",
    "\n",
    "params = SpreadTradingParams(\n",
    "    data_1=SpreadTradingCommodity(\n",
    "        file_path=\"../futures/NQ/20220222-20220307-1.csv\",\n",
    "        name=\"NQ\",\n",
    "        lot=2,\n",
    "        multiplier=2,\n",
    "        margin=2153,\n",
    "    ),\n",
    "    data_2=SpreadTradingCommodity(\n",
    "        file_path=\"../futures/ES/20220222-20220307-1.csv\",\n",
    "        name=\"ES\",\n",
    "        lot=5,\n",
    "        multiplier=5,\n",
    "        margin=1611,\n",
    "    ),\n",
    "    commission_single=0.52,\n",
    ")"
   ],
   "metadata": {
    "collapsed": false,
    "pycharm": {
     "name": "#%%\n"
    }
   }
  },
  {
   "cell_type": "code",
   "execution_count": 2,
   "outputs": [
    {
     "ename": "KeyError",
     "evalue": "'close_ES'",
     "output_type": "error",
     "traceback": [
      "\u001B[1;31m---------------------------------------------------------------------------\u001B[0m",
      "\u001B[1;31mKeyError\u001B[0m                                  Traceback (most recent call last)",
      "File \u001B[1;32me:\\personal@ssd\\programming projects\\other\\rx-trade-ib\\venv-310\\lib\\site-packages\\pandas\\core\\indexes\\base.py:3621\u001B[0m, in \u001B[0;36mIndex.get_loc\u001B[1;34m(self, key, method, tolerance)\u001B[0m\n\u001B[0;32m   3620\u001B[0m \u001B[38;5;28;01mtry\u001B[39;00m:\n\u001B[1;32m-> 3621\u001B[0m     \u001B[38;5;28;01mreturn\u001B[39;00m \u001B[38;5;28;43mself\u001B[39;49m\u001B[38;5;241;43m.\u001B[39;49m\u001B[43m_engine\u001B[49m\u001B[38;5;241;43m.\u001B[39;49m\u001B[43mget_loc\u001B[49m\u001B[43m(\u001B[49m\u001B[43mcasted_key\u001B[49m\u001B[43m)\u001B[49m\n\u001B[0;32m   3622\u001B[0m \u001B[38;5;28;01mexcept\u001B[39;00m \u001B[38;5;167;01mKeyError\u001B[39;00m \u001B[38;5;28;01mas\u001B[39;00m err:\n",
      "File \u001B[1;32me:\\personal@ssd\\programming projects\\other\\rx-trade-ib\\venv-310\\lib\\site-packages\\pandas\\_libs\\index.pyx:136\u001B[0m, in \u001B[0;36mpandas._libs.index.IndexEngine.get_loc\u001B[1;34m()\u001B[0m\n",
      "File \u001B[1;32me:\\personal@ssd\\programming projects\\other\\rx-trade-ib\\venv-310\\lib\\site-packages\\pandas\\_libs\\index.pyx:163\u001B[0m, in \u001B[0;36mpandas._libs.index.IndexEngine.get_loc\u001B[1;34m()\u001B[0m\n",
      "File \u001B[1;32mpandas\\_libs\\hashtable_class_helper.pxi:5198\u001B[0m, in \u001B[0;36mpandas._libs.hashtable.PyObjectHashTable.get_item\u001B[1;34m()\u001B[0m\n",
      "File \u001B[1;32mpandas\\_libs\\hashtable_class_helper.pxi:5206\u001B[0m, in \u001B[0;36mpandas._libs.hashtable.PyObjectHashTable.get_item\u001B[1;34m()\u001B[0m\n",
      "\u001B[1;31mKeyError\u001B[0m: 'close_ES'",
      "\nThe above exception was the direct cause of the following exception:\n",
      "\u001B[1;31mKeyError\u001B[0m                                  Traceback (most recent call last)",
      "Input \u001B[1;32mIn [2]\u001B[0m, in \u001B[0;36m<cell line: 2>\u001B[1;34m()\u001B[0m\n\u001B[0;32m      1\u001B[0m df \u001B[38;5;241m=\u001B[39m get_data_df(params)\n\u001B[1;32m----> 2\u001B[0m attach_data_to_df(df, params)\n\u001B[0;32m      3\u001B[0m df_selected \u001B[38;5;241m=\u001B[39m get_df_between_time(df, \u001B[38;5;124m\"\u001B[39m\u001B[38;5;124m02:30\u001B[39m\u001B[38;5;124m\"\u001B[39m, \u001B[38;5;124m\"\u001B[39m\u001B[38;5;124m06:30\u001B[39m\u001B[38;5;124m\"\u001B[39m)\n\u001B[0;32m      4\u001B[0m df_exec \u001B[38;5;241m=\u001B[39m apply_strategy(df, params)\n",
      "File \u001B[1;32mE:\\Personal@SSD\\Programming Projects\\Other\\rx-trade-ib\\analysis\\spread_trading.py:41\u001B[0m, in \u001B[0;36mattach_data_to_df\u001B[1;34m(df, params)\u001B[0m\n\u001B[0;32m     40\u001B[0m \u001B[38;5;28;01mdef\u001B[39;00m \u001B[38;5;21mattach_data_to_df\u001B[39m(df: DataFrame, params: SpreadTradingParams) \u001B[38;5;241m-\u001B[39m\u001B[38;5;241m>\u001B[39m \u001B[38;5;28;01mNone\u001B[39;00m:\n\u001B[1;32m---> 41\u001B[0m     df[\u001B[38;5;124m\"\u001B[39m\u001B[38;5;124mpx_diff\u001B[39m\u001B[38;5;124m\"\u001B[39m] \u001B[38;5;241m=\u001B[39m np\u001B[38;5;241m.\u001B[39mlog(df[\u001B[38;5;124mf\u001B[39m\u001B[38;5;124m\"\u001B[39m\u001B[38;5;124mclose_\u001B[39m\u001B[38;5;132;01m{\u001B[39;00mparams\u001B[38;5;241m.\u001B[39mdata_1\u001B[38;5;241m.\u001B[39mname\u001B[38;5;132;01m}\u001B[39;00m\u001B[38;5;124m\"\u001B[39m]\u001B[38;5;241m.\u001B[39mdivide(\u001B[43mdf\u001B[49m\u001B[43m[\u001B[49m\u001B[38;5;124;43mf\u001B[39;49m\u001B[38;5;124;43m\"\u001B[39;49m\u001B[38;5;124;43mclose_\u001B[39;49m\u001B[38;5;132;43;01m{\u001B[39;49;00m\u001B[43mparams\u001B[49m\u001B[38;5;241;43m.\u001B[39;49m\u001B[43mdata_2\u001B[49m\u001B[38;5;241;43m.\u001B[39;49m\u001B[43mname\u001B[49m\u001B[38;5;132;43;01m}\u001B[39;49;00m\u001B[38;5;124;43m\"\u001B[39;49m\u001B[43m]\u001B[49m))\n\u001B[0;32m     42\u001B[0m     upper, mid, lower \u001B[38;5;241m=\u001B[39m talib\u001B[38;5;241m.\u001B[39mBBANDS(df[\u001B[38;5;124m\"\u001B[39m\u001B[38;5;124mpx_diff\u001B[39m\u001B[38;5;124m\"\u001B[39m], timeperiod\u001B[38;5;241m=\u001B[39m\u001B[38;5;241m10\u001B[39m, nbdevup\u001B[38;5;241m=\u001B[39m\u001B[38;5;241m2\u001B[39m, nbdevdn\u001B[38;5;241m=\u001B[39m\u001B[38;5;241m2\u001B[39m, matype\u001B[38;5;241m=\u001B[39mMA_Type\u001B[38;5;241m.\u001B[39mSMA)\n\u001B[0;32m     43\u001B[0m     df[\u001B[38;5;124m\"\u001B[39m\u001B[38;5;124mpx_diff_upper\u001B[39m\u001B[38;5;124m\"\u001B[39m] \u001B[38;5;241m=\u001B[39m upper\n",
      "File \u001B[1;32me:\\personal@ssd\\programming projects\\other\\rx-trade-ib\\venv-310\\lib\\site-packages\\pandas\\core\\frame.py:3505\u001B[0m, in \u001B[0;36mDataFrame.__getitem__\u001B[1;34m(self, key)\u001B[0m\n\u001B[0;32m   3503\u001B[0m \u001B[38;5;28;01mif\u001B[39;00m \u001B[38;5;28mself\u001B[39m\u001B[38;5;241m.\u001B[39mcolumns\u001B[38;5;241m.\u001B[39mnlevels \u001B[38;5;241m>\u001B[39m \u001B[38;5;241m1\u001B[39m:\n\u001B[0;32m   3504\u001B[0m     \u001B[38;5;28;01mreturn\u001B[39;00m \u001B[38;5;28mself\u001B[39m\u001B[38;5;241m.\u001B[39m_getitem_multilevel(key)\n\u001B[1;32m-> 3505\u001B[0m indexer \u001B[38;5;241m=\u001B[39m \u001B[38;5;28;43mself\u001B[39;49m\u001B[38;5;241;43m.\u001B[39;49m\u001B[43mcolumns\u001B[49m\u001B[38;5;241;43m.\u001B[39;49m\u001B[43mget_loc\u001B[49m\u001B[43m(\u001B[49m\u001B[43mkey\u001B[49m\u001B[43m)\u001B[49m\n\u001B[0;32m   3506\u001B[0m \u001B[38;5;28;01mif\u001B[39;00m is_integer(indexer):\n\u001B[0;32m   3507\u001B[0m     indexer \u001B[38;5;241m=\u001B[39m [indexer]\n",
      "File \u001B[1;32me:\\personal@ssd\\programming projects\\other\\rx-trade-ib\\venv-310\\lib\\site-packages\\pandas\\core\\indexes\\base.py:3623\u001B[0m, in \u001B[0;36mIndex.get_loc\u001B[1;34m(self, key, method, tolerance)\u001B[0m\n\u001B[0;32m   3621\u001B[0m     \u001B[38;5;28;01mreturn\u001B[39;00m \u001B[38;5;28mself\u001B[39m\u001B[38;5;241m.\u001B[39m_engine\u001B[38;5;241m.\u001B[39mget_loc(casted_key)\n\u001B[0;32m   3622\u001B[0m \u001B[38;5;28;01mexcept\u001B[39;00m \u001B[38;5;167;01mKeyError\u001B[39;00m \u001B[38;5;28;01mas\u001B[39;00m err:\n\u001B[1;32m-> 3623\u001B[0m     \u001B[38;5;28;01mraise\u001B[39;00m \u001B[38;5;167;01mKeyError\u001B[39;00m(key) \u001B[38;5;28;01mfrom\u001B[39;00m \u001B[38;5;21;01merr\u001B[39;00m\n\u001B[0;32m   3624\u001B[0m \u001B[38;5;28;01mexcept\u001B[39;00m \u001B[38;5;167;01mTypeError\u001B[39;00m:\n\u001B[0;32m   3625\u001B[0m     \u001B[38;5;66;03m# If we have a listlike key, _check_indexing_error will raise\u001B[39;00m\n\u001B[0;32m   3626\u001B[0m     \u001B[38;5;66;03m#  InvalidIndexError. Otherwise we fall through and re-raise\u001B[39;00m\n\u001B[0;32m   3627\u001B[0m     \u001B[38;5;66;03m#  the TypeError.\u001B[39;00m\n\u001B[0;32m   3628\u001B[0m     \u001B[38;5;28mself\u001B[39m\u001B[38;5;241m.\u001B[39m_check_indexing_error(key)\n",
      "\u001B[1;31mKeyError\u001B[0m: 'close_ES'"
     ]
    }
   ],
   "source": [
    "df = get_data_df(params)\n",
    "attach_data_to_df(df, params)\n",
    "df_selected = get_df_between_time(df, \"02:30\", \"06:30\")\n",
    "df_exec = apply_strategy(df, params)\n",
    "show_pnl_plot(df_exec)"
   ],
   "metadata": {
    "collapsed": false,
    "pycharm": {
     "name": "#%%\n"
    }
   }
  },
  {
   "cell_type": "code",
   "execution_count": null,
   "outputs": [],
   "source": [],
   "metadata": {
    "collapsed": false,
    "pycharm": {
     "name": "#%%\n"
    }
   }
  }
 ],
 "metadata": {
  "kernelspec": {
   "name": "rx-trade-ib",
   "language": "python",
   "display_name": "rx-trade-ib"
  },
  "language_info": {
   "codemirror_mode": {
    "name": "ipython",
    "version": 2
   },
   "file_extension": ".py",
   "mimetype": "text/x-python",
   "name": "python",
   "nbconvert_exporter": "python",
   "pygments_lexer": "ipython2",
   "version": "2.7.6"
  }
 },
 "nbformat": 4,
 "nbformat_minor": 1
}