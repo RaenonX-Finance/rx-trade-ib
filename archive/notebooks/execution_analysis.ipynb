{
 "cells": [
  {
   "cell_type": "code",
   "execution_count": 3,
   "outputs": [
    {
     "data": {
      "text/plain": "            realized_pnl     px_side  pnl / side  profit  loss\ndate                                                          \n2022-03-18   2326.020001  320.211667    7.264008    14.0   5.0\n2022-03-21  -1456.600001 -306.435834    4.753361    12.0  15.0\n2022-03-22    943.200000  117.325000    8.039207     3.0   2.0\n2022-03-23   -261.500000  -47.263333    5.532830     5.0   9.0\n2022-03-24    717.280000  145.170000    4.940966     6.0   3.0\n2022-03-25    -69.179999  -76.455000    0.904846    17.0  12.0\n2022-03-28    649.840000   53.153333   12.225762    11.0   8.0\n2022-03-29    419.240000   47.706667    8.787870    13.0   5.0\nTotal        3268.300001  253.412500   52.448850    81.0  59.0",
      "text/html": "<div>\n<style scoped>\n    .dataframe tbody tr th:only-of-type {\n        vertical-align: middle;\n    }\n\n    .dataframe tbody tr th {\n        vertical-align: top;\n    }\n\n    .dataframe thead th {\n        text-align: right;\n    }\n</style>\n<table border=\"1\" class=\"dataframe\">\n  <thead>\n    <tr style=\"text-align: right;\">\n      <th></th>\n      <th>realized_pnl</th>\n      <th>px_side</th>\n      <th>pnl / side</th>\n      <th>profit</th>\n      <th>loss</th>\n    </tr>\n    <tr>\n      <th>date</th>\n      <th></th>\n      <th></th>\n      <th></th>\n      <th></th>\n      <th></th>\n    </tr>\n  </thead>\n  <tbody>\n    <tr>\n      <th>2022-03-18</th>\n      <td>2326.020001</td>\n      <td>320.211667</td>\n      <td>7.264008</td>\n      <td>14.0</td>\n      <td>5.0</td>\n    </tr>\n    <tr>\n      <th>2022-03-21</th>\n      <td>-1456.600001</td>\n      <td>-306.435834</td>\n      <td>4.753361</td>\n      <td>12.0</td>\n      <td>15.0</td>\n    </tr>\n    <tr>\n      <th>2022-03-22</th>\n      <td>943.200000</td>\n      <td>117.325000</td>\n      <td>8.039207</td>\n      <td>3.0</td>\n      <td>2.0</td>\n    </tr>\n    <tr>\n      <th>2022-03-23</th>\n      <td>-261.500000</td>\n      <td>-47.263333</td>\n      <td>5.532830</td>\n      <td>5.0</td>\n      <td>9.0</td>\n    </tr>\n    <tr>\n      <th>2022-03-24</th>\n      <td>717.280000</td>\n      <td>145.170000</td>\n      <td>4.940966</td>\n      <td>6.0</td>\n      <td>3.0</td>\n    </tr>\n    <tr>\n      <th>2022-03-25</th>\n      <td>-69.179999</td>\n      <td>-76.455000</td>\n      <td>0.904846</td>\n      <td>17.0</td>\n      <td>12.0</td>\n    </tr>\n    <tr>\n      <th>2022-03-28</th>\n      <td>649.840000</td>\n      <td>53.153333</td>\n      <td>12.225762</td>\n      <td>11.0</td>\n      <td>8.0</td>\n    </tr>\n    <tr>\n      <th>2022-03-29</th>\n      <td>419.240000</td>\n      <td>47.706667</td>\n      <td>8.787870</td>\n      <td>13.0</td>\n      <td>5.0</td>\n    </tr>\n    <tr>\n      <th>Total</th>\n      <td>3268.300001</td>\n      <td>253.412500</td>\n      <td>52.448850</td>\n      <td>81.0</td>\n      <td>59.0</td>\n    </tr>\n  </tbody>\n</table>\n</div>"
     },
     "execution_count": 3,
     "metadata": {},
     "output_type": "execute_result"
    }
   ],
   "source": [
    "import pandas as pd\n",
    "\n",
    "PATH = \"../executions/MNQM2022/20220318-20220329.csv\"\n",
    "\n",
    "\n",
    "def get_executions_df(file_path: str):\n",
    "    df = pd.read_csv(file_path)\n",
    "    df = df[df[\"realized_pnl\"].notnull()]\n",
    "    df[\"date\"] = pd.to_datetime(df[\"time_completed\"]).dt.date\n",
    "\n",
    "    df_grouped = df.groupby(\"date\").sum()[[\"realized_pnl\", \"px_side\"]]\n",
    "\n",
    "    df_grouped[\"pnl / side\"] = df_grouped[\"realized_pnl\"] / df_grouped[\"px_side\"]\n",
    "    df_grouped[\"profit\"] = df[df[\"realized_pnl\"] > 0].groupby(\"date\").count()[\"realized_pnl\"]\n",
    "    df_grouped[\"loss\"] = df[df[\"realized_pnl\"] < 0].groupby(\"date\").count()[\"realized_pnl\"]\n",
    "    df_grouped.loc[\"Total\"] = df_grouped.sum(numeric_only=True)\n",
    "\n",
    "    return df_grouped\n",
    "\n",
    "\n",
    "get_executions_df(PATH)"
   ],
   "metadata": {
    "collapsed": false,
    "pycharm": {
     "name": "#%%\n"
    }
   }
  },
  {
   "cell_type": "code",
   "execution_count": 4,
   "outputs": [],
   "source": [
    "def get_executions_ungroup(file_path: str):\n",
    "    df = pd.read_csv(file_path)\n",
    "    df = df[df[\"realized_pnl\"].notnull()]\n",
    "    df[\"date\"] = pd.to_datetime(df[\"time_completed\"]).dt.date\n",
    "\n",
    "    cols = [\"quantity\", \"realized_pnl\", \"px_side\"]\n",
    "\n",
    "    return (\n",
    "        df,\n",
    "        df.groupby(\"date\").sum()[cols],\n",
    "        df.groupby(\"date\").count()[[\"realized_pnl\"]]\n",
    "        # Only a single column is needed for showing the total realization count\n",
    "    )\n",
    "\n",
    "\n",
    "df_all, df_sum, df_count = get_executions_ungroup(PATH)"
   ],
   "metadata": {
    "collapsed": false,
    "pycharm": {
     "name": "#%%\n"
    }
   }
  },
  {
   "cell_type": "code",
   "execution_count": 5,
   "outputs": [
    {
     "data": {
      "text/plain": "            quantity  realized_pnl     px_side\ndate                                          \n2022-03-18        57   2326.020001  320.211667\n2022-03-21        90  -1456.600001 -306.435834\n2022-03-22        20    943.200000  117.325000\n2022-03-23        50   -261.500000  -47.263333\n2022-03-24        23    717.280000  145.170000\n2022-03-25        87    -69.179999  -76.455000\n2022-03-28        69    649.840000   53.153333\n2022-03-29        59    419.240000   47.706667",
      "text/html": "<div>\n<style scoped>\n    .dataframe tbody tr th:only-of-type {\n        vertical-align: middle;\n    }\n\n    .dataframe tbody tr th {\n        vertical-align: top;\n    }\n\n    .dataframe thead th {\n        text-align: right;\n    }\n</style>\n<table border=\"1\" class=\"dataframe\">\n  <thead>\n    <tr style=\"text-align: right;\">\n      <th></th>\n      <th>quantity</th>\n      <th>realized_pnl</th>\n      <th>px_side</th>\n    </tr>\n    <tr>\n      <th>date</th>\n      <th></th>\n      <th></th>\n      <th></th>\n    </tr>\n  </thead>\n  <tbody>\n    <tr>\n      <th>2022-03-18</th>\n      <td>57</td>\n      <td>2326.020001</td>\n      <td>320.211667</td>\n    </tr>\n    <tr>\n      <th>2022-03-21</th>\n      <td>90</td>\n      <td>-1456.600001</td>\n      <td>-306.435834</td>\n    </tr>\n    <tr>\n      <th>2022-03-22</th>\n      <td>20</td>\n      <td>943.200000</td>\n      <td>117.325000</td>\n    </tr>\n    <tr>\n      <th>2022-03-23</th>\n      <td>50</td>\n      <td>-261.500000</td>\n      <td>-47.263333</td>\n    </tr>\n    <tr>\n      <th>2022-03-24</th>\n      <td>23</td>\n      <td>717.280000</td>\n      <td>145.170000</td>\n    </tr>\n    <tr>\n      <th>2022-03-25</th>\n      <td>87</td>\n      <td>-69.179999</td>\n      <td>-76.455000</td>\n    </tr>\n    <tr>\n      <th>2022-03-28</th>\n      <td>69</td>\n      <td>649.840000</td>\n      <td>53.153333</td>\n    </tr>\n    <tr>\n      <th>2022-03-29</th>\n      <td>59</td>\n      <td>419.240000</td>\n      <td>47.706667</td>\n    </tr>\n  </tbody>\n</table>\n</div>"
     },
     "execution_count": 5,
     "metadata": {},
     "output_type": "execute_result"
    }
   ],
   "source": [
    "df_sum\n"
   ],
   "metadata": {
    "collapsed": false,
    "pycharm": {
     "name": "#%%\n"
    }
   }
  },
  {
   "cell_type": "code",
   "execution_count": 6,
   "outputs": [
    {
     "data": {
      "text/plain": "            realized_pnl\ndate                    \n2022-03-18            19\n2022-03-21            27\n2022-03-22             5\n2022-03-23            14\n2022-03-24             9\n2022-03-25            29\n2022-03-28            19\n2022-03-29            18",
      "text/html": "<div>\n<style scoped>\n    .dataframe tbody tr th:only-of-type {\n        vertical-align: middle;\n    }\n\n    .dataframe tbody tr th {\n        vertical-align: top;\n    }\n\n    .dataframe thead th {\n        text-align: right;\n    }\n</style>\n<table border=\"1\" class=\"dataframe\">\n  <thead>\n    <tr style=\"text-align: right;\">\n      <th></th>\n      <th>realized_pnl</th>\n    </tr>\n    <tr>\n      <th>date</th>\n      <th></th>\n    </tr>\n  </thead>\n  <tbody>\n    <tr>\n      <th>2022-03-18</th>\n      <td>19</td>\n    </tr>\n    <tr>\n      <th>2022-03-21</th>\n      <td>27</td>\n    </tr>\n    <tr>\n      <th>2022-03-22</th>\n      <td>5</td>\n    </tr>\n    <tr>\n      <th>2022-03-23</th>\n      <td>14</td>\n    </tr>\n    <tr>\n      <th>2022-03-24</th>\n      <td>9</td>\n    </tr>\n    <tr>\n      <th>2022-03-25</th>\n      <td>29</td>\n    </tr>\n    <tr>\n      <th>2022-03-28</th>\n      <td>19</td>\n    </tr>\n    <tr>\n      <th>2022-03-29</th>\n      <td>18</td>\n    </tr>\n  </tbody>\n</table>\n</div>"
     },
     "execution_count": 6,
     "metadata": {},
     "output_type": "execute_result"
    }
   ],
   "source": [
    "df_count\n"
   ],
   "metadata": {
    "collapsed": false,
    "pycharm": {
     "name": "#%%\n"
    }
   }
  },
  {
   "cell_type": "code",
   "execution_count": 7,
   "outputs": [],
   "source": [
    "def get_executions_ungroup(file_path: str):\n",
    "    df = pd.read_csv(file_path)\n",
    "    df = df[df[\"realized_pnl\"].notnull()]\n",
    "    df[\"date\"] = pd.to_datetime(df[\"time_completed\"]).dt.date\n",
    "\n",
    "    return (\n",
    "        df[df[\"realized_pnl\"] > 0].groupby(\"date\").sum()[[\"realized_pnl\"]],\n",
    "        df[df[\"realized_pnl\"] < 0].groupby(\"date\").sum()[[\"realized_pnl\"]]\n",
    "    )\n",
    "\n",
    "\n",
    "df_pos, df_neg = get_executions_ungroup(PATH)"
   ],
   "metadata": {
    "collapsed": false,
    "pycharm": {
     "name": "#%%\n"
    }
   }
  },
  {
   "cell_type": "code",
   "execution_count": 8,
   "outputs": [
    {
     "data": {
      "text/plain": "            realized_pnl\ndate                    \n2022-03-18   2943.506668\n2022-03-21   3122.900000\n2022-03-22   1809.460000\n2022-03-23   1888.120000\n2022-03-24   1050.760000\n2022-03-25   2184.020001\n2022-03-28   2311.200000\n2022-03-29   1323.340000",
      "text/html": "<div>\n<style scoped>\n    .dataframe tbody tr th:only-of-type {\n        vertical-align: middle;\n    }\n\n    .dataframe tbody tr th {\n        vertical-align: top;\n    }\n\n    .dataframe thead th {\n        text-align: right;\n    }\n</style>\n<table border=\"1\" class=\"dataframe\">\n  <thead>\n    <tr style=\"text-align: right;\">\n      <th></th>\n      <th>realized_pnl</th>\n    </tr>\n    <tr>\n      <th>date</th>\n      <th></th>\n    </tr>\n  </thead>\n  <tbody>\n    <tr>\n      <th>2022-03-18</th>\n      <td>2943.506668</td>\n    </tr>\n    <tr>\n      <th>2022-03-21</th>\n      <td>3122.900000</td>\n    </tr>\n    <tr>\n      <th>2022-03-22</th>\n      <td>1809.460000</td>\n    </tr>\n    <tr>\n      <th>2022-03-23</th>\n      <td>1888.120000</td>\n    </tr>\n    <tr>\n      <th>2022-03-24</th>\n      <td>1050.760000</td>\n    </tr>\n    <tr>\n      <th>2022-03-25</th>\n      <td>2184.020001</td>\n    </tr>\n    <tr>\n      <th>2022-03-28</th>\n      <td>2311.200000</td>\n    </tr>\n    <tr>\n      <th>2022-03-29</th>\n      <td>1323.340000</td>\n    </tr>\n  </tbody>\n</table>\n</div>"
     },
     "execution_count": 8,
     "metadata": {},
     "output_type": "execute_result"
    }
   ],
   "source": [
    "df_pos\n"
   ],
   "metadata": {
    "collapsed": false,
    "pycharm": {
     "name": "#%%\n"
    }
   }
  },
  {
   "cell_type": "code",
   "execution_count": 9,
   "outputs": [
    {
     "data": {
      "text/plain": "            realized_pnl\ndate                    \n2022-03-18   -617.486667\n2022-03-21  -4579.500001\n2022-03-22   -866.260000\n2022-03-23  -2149.620000\n2022-03-24   -333.480000\n2022-03-25  -2253.200000\n2022-03-28  -1661.360000\n2022-03-29   -904.100000",
      "text/html": "<div>\n<style scoped>\n    .dataframe tbody tr th:only-of-type {\n        vertical-align: middle;\n    }\n\n    .dataframe tbody tr th {\n        vertical-align: top;\n    }\n\n    .dataframe thead th {\n        text-align: right;\n    }\n</style>\n<table border=\"1\" class=\"dataframe\">\n  <thead>\n    <tr style=\"text-align: right;\">\n      <th></th>\n      <th>realized_pnl</th>\n    </tr>\n    <tr>\n      <th>date</th>\n      <th></th>\n    </tr>\n  </thead>\n  <tbody>\n    <tr>\n      <th>2022-03-18</th>\n      <td>-617.486667</td>\n    </tr>\n    <tr>\n      <th>2022-03-21</th>\n      <td>-4579.500001</td>\n    </tr>\n    <tr>\n      <th>2022-03-22</th>\n      <td>-866.260000</td>\n    </tr>\n    <tr>\n      <th>2022-03-23</th>\n      <td>-2149.620000</td>\n    </tr>\n    <tr>\n      <th>2022-03-24</th>\n      <td>-333.480000</td>\n    </tr>\n    <tr>\n      <th>2022-03-25</th>\n      <td>-2253.200000</td>\n    </tr>\n    <tr>\n      <th>2022-03-28</th>\n      <td>-1661.360000</td>\n    </tr>\n    <tr>\n      <th>2022-03-29</th>\n      <td>-904.100000</td>\n    </tr>\n  </tbody>\n</table>\n</div>"
     },
     "execution_count": 9,
     "metadata": {},
     "output_type": "execute_result"
    }
   ],
   "source": [
    "df_neg\n"
   ],
   "metadata": {
    "collapsed": false,
    "pycharm": {
     "name": "#%%\n"
    }
   }
  }
 ],
 "metadata": {
  "kernelspec": {
   "name": "rx-trade-ib",
   "language": "python",
   "display_name": "rx-trade-ib"
  },
  "language_info": {
   "codemirror_mode": {
    "name": "ipython",
    "version": 2
   },
   "file_extension": ".py",
   "mimetype": "text/x-python",
   "name": "python",
   "nbconvert_exporter": "python",
   "pygments_lexer": "ipython2",
   "version": "2.7.6"
  }
 },
 "nbformat": 4,
 "nbformat_minor": 0
}