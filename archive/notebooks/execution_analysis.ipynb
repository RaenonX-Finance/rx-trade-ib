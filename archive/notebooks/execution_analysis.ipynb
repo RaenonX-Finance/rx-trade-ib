{
 "cells": [
  {
   "cell_type": "code",
   "execution_count": 2,
   "metadata": {
    "collapsed": true
   },
   "outputs": [],
   "source": [
    "# from trade_ibkr.app import run_ib_server\n",
    "# from trade_ibkr.model import OnExecutionFetchedEvent\n",
    "#\n",
    "# def store_executions():\n",
    "#     app = run_ib_server()\n",
    "#\n",
    "#     async def fetched(e: OnExecutionFetchedEvent):\n",
    "#         for identifier, df in e.executions.execution_dataframes.items():\n",
    "#             dest = f\"execution-{identifier}.csv\"\n",
    "#             print(f\"Saved to: {dest}\")\n",
    "#             df.to_csv(dest)\n",
    "#\n",
    "#         app.disconnect()\n",
    "#\n",
    "#     app.set_on_executions_fetched(\n",
    "#         on_execution_fetched=fetched,\n",
    "#         on_execution_fetched_params=app._execution_on_fetched_params\n",
    "#     )\n",
    "#     app.request_all_executions()\n",
    "#\n",
    "# store_executions()"
   ]
  },
  {
   "cell_type": "code",
   "execution_count": 3,
   "outputs": [
    {
     "data": {
      "text/plain": "            realized_pnl     px_side\ndate                                \n2022-03-18   2326.020001  320.211667\n2022-03-21  -1456.600001 -306.435834\n2022-03-22    943.200000  117.325000\n2022-03-23   -458.300000  -80.706667",
      "text/html": "<div>\n<style scoped>\n    .dataframe tbody tr th:only-of-type {\n        vertical-align: middle;\n    }\n\n    .dataframe tbody tr th {\n        vertical-align: top;\n    }\n\n    .dataframe thead th {\n        text-align: right;\n    }\n</style>\n<table border=\"1\" class=\"dataframe\">\n  <thead>\n    <tr style=\"text-align: right;\">\n      <th></th>\n      <th>realized_pnl</th>\n      <th>px_side</th>\n    </tr>\n    <tr>\n      <th>date</th>\n      <th></th>\n      <th></th>\n    </tr>\n  </thead>\n  <tbody>\n    <tr>\n      <th>2022-03-18</th>\n      <td>2326.020001</td>\n      <td>320.211667</td>\n    </tr>\n    <tr>\n      <th>2022-03-21</th>\n      <td>-1456.600001</td>\n      <td>-306.435834</td>\n    </tr>\n    <tr>\n      <th>2022-03-22</th>\n      <td>943.200000</td>\n      <td>117.325000</td>\n    </tr>\n    <tr>\n      <th>2022-03-23</th>\n      <td>-458.300000</td>\n      <td>-80.706667</td>\n    </tr>\n  </tbody>\n</table>\n</div>"
     },
     "execution_count": 3,
     "metadata": {},
     "output_type": "execute_result"
    }
   ],
   "source": [
    "import pandas as pd\n",
    "\n",
    "def get_executions_df(file_path: str):\n",
    "    df = pd.read_csv(file_path)\n",
    "    df = df[df[\"realized_pnl\"].notnull()]\n",
    "    df[\"date\"] = pd.to_datetime(df[\"time_completed\"]).dt.date\n",
    "\n",
    "    return df.groupby(\"date\").sum()[[\"realized_pnl\", \"px_side\"]]\n",
    "\n",
    "get_executions_df(\"../../execution-477837024.csv\")"
   ],
   "metadata": {
    "collapsed": false,
    "pycharm": {
     "name": "#%%\n"
    }
   }
  },
  {
   "cell_type": "code",
   "execution_count": 4,
   "outputs": [
    {
     "data": {
      "text/plain": "     Unnamed: 0                                           contract  \\\n2             2  477837024,MNQ,FUT,20220617,0,,2,GLOBEX,,USD,MN...   \n5             5  477837024,MNQ,FUT,20220617,0,,2,GLOBEX,,USD,MN...   \n6             6  477837024,MNQ,FUT,20220617,0,,2,GLOBEX,,USD,MN...   \n8             8  477837024,MNQ,FUT,20220617,0,,2,GLOBEX,,USD,MN...   \n10           10  477837024,MNQ,FUT,20220617,0,,2,GLOBEX,,USD,MN...   \n..          ...                                                ...   \n200         200  477837024,MNQ,FUT,20220617,0,,2,GLOBEX,,USD,MN...   \n206         206  477837024,MNQ,FUT,20220617,0,,2,GLOBEX,,USD,MN...   \n210         210  477837024,MNQ,FUT,20220617,0,,2,GLOBEX,,USD,MN...   \n214         214  477837024,MNQ,FUT,20220617,0,,2,GLOBEX,,USD,MN...   \n218         218  477837024,MNQ,FUT,20220617,0,,2,GLOBEX,,USD,MN...   \n\n              time_completed side  quantity  avg_price  realized_pnl  \\\n2    2022-03-18 01:09:43.000  SLD         2   14026.50    155.720000   \n5    2022-03-18 02:03:43.000  SLD         1   14014.25    -41.306667   \n6    2022-03-18 02:51:33.000  SLD         2   14037.50     10.386667   \n8    2022-03-18 05:09:56.000  SLD         3   14034.50     11.580000   \n10   2022-03-18 06:08:28.000  SLD         3   13990.00    -82.920000   \n..                       ...  ...       ...        ...           ...   \n200  2022-03-23 11:46:03.000  SLD         5   14573.75   -411.200000   \n206  2022-03-23 12:17:19.000  SLD         5   14555.75   -349.700000   \n210  2022-03-23 13:10:36.000  SLD         5   14472.00   -451.700000   \n214  2022-03-23 13:57:18.000  SLD         5   14503.25    111.300000   \n218  2022-03-23 15:01:11.000  SLD         5   14447.00   -421.200000   \n\n        epoch_sec  profit  loss  ...  avg_pnl_loss  avg_pnl_rr  avg_pnl_ewr  \\\n2    1.647584e+09       1     0  ...           NaN         NaN          NaN   \n5    1.647587e+09       1     1  ...    -41.306667    3.769851     0.209650   \n6    1.647590e+09       2     1  ...    -41.306667    2.010652     0.332154   \n8    1.647598e+09       3     1  ...    -41.306667    1.433882     0.410866   \n10   1.647602e+09       3     2  ...    -62.113334    0.953562     0.511886   \n..            ...     ...   ...  ...           ...         ...          ...   \n200  1.648054e+09      31    28  ...   -249.652381    1.221813     0.450083   \n206  1.648056e+09      31    29  ...   -253.102299    1.205159     0.453482   \n210  1.648059e+09      31    30  ...   -259.722222    1.174442     0.459888   \n214  1.648062e+09      32    30  ...   -259.722222    1.151132     0.464872   \n218  1.648066e+09      32    31  ...   -264.931183    1.128499     0.469815   \n\n     total_px_profit  avg_px_profit  total_px_loss  avg_px_loss  avg_px_rr  \\\n2          38.930000      38.930000       0.000000          NaN        NaN   \n5           0.000000      38.930000     -20.653333   -20.653333   1.884926   \n6          41.526667      20.763333       0.000000   -20.653333   1.005326   \n8          43.456667      14.485556       0.000000   -20.653333   0.701366   \n10          0.000000      14.485556     -34.473333   -17.236667   0.840392   \n..               ...            ...            ...          ...        ...   \n200         0.000000      39.207285   -1053.901667   -37.639345   1.041657   \n206         0.000000      39.207285   -1088.871667   -37.547299   1.044211   \n210         0.000000      39.207285   -1134.041667   -37.801389   1.037192   \n214      1226.555834      38.329870       0.000000   -37.801389   1.013980   \n218         0.000000      38.329870   -1176.161667   -37.940699   1.010257   \n\n     avg_px_ewr        date  \n2           NaN  2022-03-18  \n5      0.346629  2022-03-18  \n6      0.498672  2022-03-18  \n8      0.587763  2022-03-18  \n10     0.543363  2022-03-18  \n..          ...         ...  \n200    0.489798  2022-03-23  \n206    0.489186  2022-03-23  \n210    0.490872  2022-03-23  \n214    0.496529  2022-03-23  \n218    0.497449  2022-03-23  \n\n[63 rows x 34 columns]",
      "text/html": "<div>\n<style scoped>\n    .dataframe tbody tr th:only-of-type {\n        vertical-align: middle;\n    }\n\n    .dataframe tbody tr th {\n        vertical-align: top;\n    }\n\n    .dataframe thead th {\n        text-align: right;\n    }\n</style>\n<table border=\"1\" class=\"dataframe\">\n  <thead>\n    <tr style=\"text-align: right;\">\n      <th></th>\n      <th>Unnamed: 0</th>\n      <th>contract</th>\n      <th>time_completed</th>\n      <th>side</th>\n      <th>quantity</th>\n      <th>avg_price</th>\n      <th>realized_pnl</th>\n      <th>epoch_sec</th>\n      <th>profit</th>\n      <th>loss</th>\n      <th>...</th>\n      <th>avg_pnl_loss</th>\n      <th>avg_pnl_rr</th>\n      <th>avg_pnl_ewr</th>\n      <th>total_px_profit</th>\n      <th>avg_px_profit</th>\n      <th>total_px_loss</th>\n      <th>avg_px_loss</th>\n      <th>avg_px_rr</th>\n      <th>avg_px_ewr</th>\n      <th>date</th>\n    </tr>\n  </thead>\n  <tbody>\n    <tr>\n      <th>2</th>\n      <td>2</td>\n      <td>477837024,MNQ,FUT,20220617,0,,2,GLOBEX,,USD,MN...</td>\n      <td>2022-03-18 01:09:43.000</td>\n      <td>SLD</td>\n      <td>2</td>\n      <td>14026.50</td>\n      <td>155.720000</td>\n      <td>1.647584e+09</td>\n      <td>1</td>\n      <td>0</td>\n      <td>...</td>\n      <td>NaN</td>\n      <td>NaN</td>\n      <td>NaN</td>\n      <td>38.930000</td>\n      <td>38.930000</td>\n      <td>0.000000</td>\n      <td>NaN</td>\n      <td>NaN</td>\n      <td>NaN</td>\n      <td>2022-03-18</td>\n    </tr>\n    <tr>\n      <th>5</th>\n      <td>5</td>\n      <td>477837024,MNQ,FUT,20220617,0,,2,GLOBEX,,USD,MN...</td>\n      <td>2022-03-18 02:03:43.000</td>\n      <td>SLD</td>\n      <td>1</td>\n      <td>14014.25</td>\n      <td>-41.306667</td>\n      <td>1.647587e+09</td>\n      <td>1</td>\n      <td>1</td>\n      <td>...</td>\n      <td>-41.306667</td>\n      <td>3.769851</td>\n      <td>0.209650</td>\n      <td>0.000000</td>\n      <td>38.930000</td>\n      <td>-20.653333</td>\n      <td>-20.653333</td>\n      <td>1.884926</td>\n      <td>0.346629</td>\n      <td>2022-03-18</td>\n    </tr>\n    <tr>\n      <th>6</th>\n      <td>6</td>\n      <td>477837024,MNQ,FUT,20220617,0,,2,GLOBEX,,USD,MN...</td>\n      <td>2022-03-18 02:51:33.000</td>\n      <td>SLD</td>\n      <td>2</td>\n      <td>14037.50</td>\n      <td>10.386667</td>\n      <td>1.647590e+09</td>\n      <td>2</td>\n      <td>1</td>\n      <td>...</td>\n      <td>-41.306667</td>\n      <td>2.010652</td>\n      <td>0.332154</td>\n      <td>41.526667</td>\n      <td>20.763333</td>\n      <td>0.000000</td>\n      <td>-20.653333</td>\n      <td>1.005326</td>\n      <td>0.498672</td>\n      <td>2022-03-18</td>\n    </tr>\n    <tr>\n      <th>8</th>\n      <td>8</td>\n      <td>477837024,MNQ,FUT,20220617,0,,2,GLOBEX,,USD,MN...</td>\n      <td>2022-03-18 05:09:56.000</td>\n      <td>SLD</td>\n      <td>3</td>\n      <td>14034.50</td>\n      <td>11.580000</td>\n      <td>1.647598e+09</td>\n      <td>3</td>\n      <td>1</td>\n      <td>...</td>\n      <td>-41.306667</td>\n      <td>1.433882</td>\n      <td>0.410866</td>\n      <td>43.456667</td>\n      <td>14.485556</td>\n      <td>0.000000</td>\n      <td>-20.653333</td>\n      <td>0.701366</td>\n      <td>0.587763</td>\n      <td>2022-03-18</td>\n    </tr>\n    <tr>\n      <th>10</th>\n      <td>10</td>\n      <td>477837024,MNQ,FUT,20220617,0,,2,GLOBEX,,USD,MN...</td>\n      <td>2022-03-18 06:08:28.000</td>\n      <td>SLD</td>\n      <td>3</td>\n      <td>13990.00</td>\n      <td>-82.920000</td>\n      <td>1.647602e+09</td>\n      <td>3</td>\n      <td>2</td>\n      <td>...</td>\n      <td>-62.113334</td>\n      <td>0.953562</td>\n      <td>0.511886</td>\n      <td>0.000000</td>\n      <td>14.485556</td>\n      <td>-34.473333</td>\n      <td>-17.236667</td>\n      <td>0.840392</td>\n      <td>0.543363</td>\n      <td>2022-03-18</td>\n    </tr>\n    <tr>\n      <th>...</th>\n      <td>...</td>\n      <td>...</td>\n      <td>...</td>\n      <td>...</td>\n      <td>...</td>\n      <td>...</td>\n      <td>...</td>\n      <td>...</td>\n      <td>...</td>\n      <td>...</td>\n      <td>...</td>\n      <td>...</td>\n      <td>...</td>\n      <td>...</td>\n      <td>...</td>\n      <td>...</td>\n      <td>...</td>\n      <td>...</td>\n      <td>...</td>\n      <td>...</td>\n      <td>...</td>\n    </tr>\n    <tr>\n      <th>200</th>\n      <td>200</td>\n      <td>477837024,MNQ,FUT,20220617,0,,2,GLOBEX,,USD,MN...</td>\n      <td>2022-03-23 11:46:03.000</td>\n      <td>SLD</td>\n      <td>5</td>\n      <td>14573.75</td>\n      <td>-411.200000</td>\n      <td>1.648054e+09</td>\n      <td>31</td>\n      <td>28</td>\n      <td>...</td>\n      <td>-249.652381</td>\n      <td>1.221813</td>\n      <td>0.450083</td>\n      <td>0.000000</td>\n      <td>39.207285</td>\n      <td>-1053.901667</td>\n      <td>-37.639345</td>\n      <td>1.041657</td>\n      <td>0.489798</td>\n      <td>2022-03-23</td>\n    </tr>\n    <tr>\n      <th>206</th>\n      <td>206</td>\n      <td>477837024,MNQ,FUT,20220617,0,,2,GLOBEX,,USD,MN...</td>\n      <td>2022-03-23 12:17:19.000</td>\n      <td>SLD</td>\n      <td>5</td>\n      <td>14555.75</td>\n      <td>-349.700000</td>\n      <td>1.648056e+09</td>\n      <td>31</td>\n      <td>29</td>\n      <td>...</td>\n      <td>-253.102299</td>\n      <td>1.205159</td>\n      <td>0.453482</td>\n      <td>0.000000</td>\n      <td>39.207285</td>\n      <td>-1088.871667</td>\n      <td>-37.547299</td>\n      <td>1.044211</td>\n      <td>0.489186</td>\n      <td>2022-03-23</td>\n    </tr>\n    <tr>\n      <th>210</th>\n      <td>210</td>\n      <td>477837024,MNQ,FUT,20220617,0,,2,GLOBEX,,USD,MN...</td>\n      <td>2022-03-23 13:10:36.000</td>\n      <td>SLD</td>\n      <td>5</td>\n      <td>14472.00</td>\n      <td>-451.700000</td>\n      <td>1.648059e+09</td>\n      <td>31</td>\n      <td>30</td>\n      <td>...</td>\n      <td>-259.722222</td>\n      <td>1.174442</td>\n      <td>0.459888</td>\n      <td>0.000000</td>\n      <td>39.207285</td>\n      <td>-1134.041667</td>\n      <td>-37.801389</td>\n      <td>1.037192</td>\n      <td>0.490872</td>\n      <td>2022-03-23</td>\n    </tr>\n    <tr>\n      <th>214</th>\n      <td>214</td>\n      <td>477837024,MNQ,FUT,20220617,0,,2,GLOBEX,,USD,MN...</td>\n      <td>2022-03-23 13:57:18.000</td>\n      <td>SLD</td>\n      <td>5</td>\n      <td>14503.25</td>\n      <td>111.300000</td>\n      <td>1.648062e+09</td>\n      <td>32</td>\n      <td>30</td>\n      <td>...</td>\n      <td>-259.722222</td>\n      <td>1.151132</td>\n      <td>0.464872</td>\n      <td>1226.555834</td>\n      <td>38.329870</td>\n      <td>0.000000</td>\n      <td>-37.801389</td>\n      <td>1.013980</td>\n      <td>0.496529</td>\n      <td>2022-03-23</td>\n    </tr>\n    <tr>\n      <th>218</th>\n      <td>218</td>\n      <td>477837024,MNQ,FUT,20220617,0,,2,GLOBEX,,USD,MN...</td>\n      <td>2022-03-23 15:01:11.000</td>\n      <td>SLD</td>\n      <td>5</td>\n      <td>14447.00</td>\n      <td>-421.200000</td>\n      <td>1.648066e+09</td>\n      <td>32</td>\n      <td>31</td>\n      <td>...</td>\n      <td>-264.931183</td>\n      <td>1.128499</td>\n      <td>0.469815</td>\n      <td>0.000000</td>\n      <td>38.329870</td>\n      <td>-1176.161667</td>\n      <td>-37.940699</td>\n      <td>1.010257</td>\n      <td>0.497449</td>\n      <td>2022-03-23</td>\n    </tr>\n  </tbody>\n</table>\n<p>63 rows × 34 columns</p>\n</div>"
     },
     "execution_count": 4,
     "metadata": {},
     "output_type": "execute_result"
    }
   ],
   "source": [
    "def get_executions_ungroup(file_path: str):\n",
    "    df = pd.read_csv(file_path)\n",
    "    df = df[df[\"realized_pnl\"].notnull()]\n",
    "    df[\"date\"] = pd.to_datetime(df[\"time_completed\"]).dt.date\n",
    "\n",
    "    cols = [\"quantity\", \"realized_pnl\", \"px_side\"]\n",
    "\n",
    "    return df, df.groupby(\"date\").sum()[cols], df.groupby(\"date\").count()[cols]\n",
    "\n",
    "df_all, df_sum, df_count = get_executions_ungroup(\"../../execution-477837024.csv\")\n",
    "df_all"
   ],
   "metadata": {
    "collapsed": false,
    "pycharm": {
     "name": "#%%\n"
    }
   }
  },
  {
   "cell_type": "code",
   "execution_count": 5,
   "outputs": [
    {
     "data": {
      "text/plain": "            quantity  realized_pnl     px_side\ndate                                          \n2022-03-18        57   2326.020001  320.211667\n2022-03-21        90  -1456.600001 -306.435834\n2022-03-22        20    943.200000  117.325000\n2022-03-23        45   -458.300000  -80.706667",
      "text/html": "<div>\n<style scoped>\n    .dataframe tbody tr th:only-of-type {\n        vertical-align: middle;\n    }\n\n    .dataframe tbody tr th {\n        vertical-align: top;\n    }\n\n    .dataframe thead th {\n        text-align: right;\n    }\n</style>\n<table border=\"1\" class=\"dataframe\">\n  <thead>\n    <tr style=\"text-align: right;\">\n      <th></th>\n      <th>quantity</th>\n      <th>realized_pnl</th>\n      <th>px_side</th>\n    </tr>\n    <tr>\n      <th>date</th>\n      <th></th>\n      <th></th>\n      <th></th>\n    </tr>\n  </thead>\n  <tbody>\n    <tr>\n      <th>2022-03-18</th>\n      <td>57</td>\n      <td>2326.020001</td>\n      <td>320.211667</td>\n    </tr>\n    <tr>\n      <th>2022-03-21</th>\n      <td>90</td>\n      <td>-1456.600001</td>\n      <td>-306.435834</td>\n    </tr>\n    <tr>\n      <th>2022-03-22</th>\n      <td>20</td>\n      <td>943.200000</td>\n      <td>117.325000</td>\n    </tr>\n    <tr>\n      <th>2022-03-23</th>\n      <td>45</td>\n      <td>-458.300000</td>\n      <td>-80.706667</td>\n    </tr>\n  </tbody>\n</table>\n</div>"
     },
     "execution_count": 5,
     "metadata": {},
     "output_type": "execute_result"
    }
   ],
   "source": [
    "df_sum\n"
   ],
   "metadata": {
    "collapsed": false,
    "pycharm": {
     "name": "#%%\n"
    }
   }
  },
  {
   "cell_type": "code",
   "execution_count": 6,
   "outputs": [
    {
     "data": {
      "text/plain": "            quantity  realized_pnl  px_side\ndate                                       \n2022-03-18        19            19       19\n2022-03-21        27            27       27\n2022-03-22         5             5        5\n2022-03-23        12            12       12",
      "text/html": "<div>\n<style scoped>\n    .dataframe tbody tr th:only-of-type {\n        vertical-align: middle;\n    }\n\n    .dataframe tbody tr th {\n        vertical-align: top;\n    }\n\n    .dataframe thead th {\n        text-align: right;\n    }\n</style>\n<table border=\"1\" class=\"dataframe\">\n  <thead>\n    <tr style=\"text-align: right;\">\n      <th></th>\n      <th>quantity</th>\n      <th>realized_pnl</th>\n      <th>px_side</th>\n    </tr>\n    <tr>\n      <th>date</th>\n      <th></th>\n      <th></th>\n      <th></th>\n    </tr>\n  </thead>\n  <tbody>\n    <tr>\n      <th>2022-03-18</th>\n      <td>19</td>\n      <td>19</td>\n      <td>19</td>\n    </tr>\n    <tr>\n      <th>2022-03-21</th>\n      <td>27</td>\n      <td>27</td>\n      <td>27</td>\n    </tr>\n    <tr>\n      <th>2022-03-22</th>\n      <td>5</td>\n      <td>5</td>\n      <td>5</td>\n    </tr>\n    <tr>\n      <th>2022-03-23</th>\n      <td>12</td>\n      <td>12</td>\n      <td>12</td>\n    </tr>\n  </tbody>\n</table>\n</div>"
     },
     "execution_count": 6,
     "metadata": {},
     "output_type": "execute_result"
    }
   ],
   "source": [
    "df_count\n"
   ],
   "metadata": {
    "collapsed": false,
    "pycharm": {
     "name": "#%%\n"
    }
   }
  },
  {
   "cell_type": "code",
   "execution_count": 7,
   "outputs": [],
   "source": [
    "def get_executions_ungroup(file_path: str):\n",
    "    df = pd.read_csv(file_path)\n",
    "    df = df[df[\"realized_pnl\"].notnull()]\n",
    "    df[\"date\"] = pd.to_datetime(df[\"time_completed\"]).dt.date\n",
    "\n",
    "    return df[df[\"realized_pnl\"] > 0].groupby(\"date\").sum()[[\"realized_pnl\"]], df[df[\"realized_pnl\"] < 0].groupby(\"date\").sum()[[\"realized_pnl\"]]\n",
    "\n",
    "df_pos, df_neg = get_executions_ungroup(\"../../execution-477837024.csv\")"
   ],
   "metadata": {
    "collapsed": false,
    "pycharm": {
     "name": "#%%\n"
    }
   }
  },
  {
   "cell_type": "code",
   "execution_count": 8,
   "outputs": [
    {
     "data": {
      "text/plain": "            realized_pnl\ndate                    \n2022-03-18   2943.506668\n2022-03-21   3122.900000\n2022-03-22   1809.460000\n2022-03-23   1691.320000",
      "text/html": "<div>\n<style scoped>\n    .dataframe tbody tr th:only-of-type {\n        vertical-align: middle;\n    }\n\n    .dataframe tbody tr th {\n        vertical-align: top;\n    }\n\n    .dataframe thead th {\n        text-align: right;\n    }\n</style>\n<table border=\"1\" class=\"dataframe\">\n  <thead>\n    <tr style=\"text-align: right;\">\n      <th></th>\n      <th>realized_pnl</th>\n    </tr>\n    <tr>\n      <th>date</th>\n      <th></th>\n    </tr>\n  </thead>\n  <tbody>\n    <tr>\n      <th>2022-03-18</th>\n      <td>2943.506668</td>\n    </tr>\n    <tr>\n      <th>2022-03-21</th>\n      <td>3122.900000</td>\n    </tr>\n    <tr>\n      <th>2022-03-22</th>\n      <td>1809.460000</td>\n    </tr>\n    <tr>\n      <th>2022-03-23</th>\n      <td>1691.320000</td>\n    </tr>\n  </tbody>\n</table>\n</div>"
     },
     "execution_count": 8,
     "metadata": {},
     "output_type": "execute_result"
    }
   ],
   "source": [
    "df_pos\n"
   ],
   "metadata": {
    "collapsed": false,
    "pycharm": {
     "name": "#%%\n"
    }
   }
  },
  {
   "cell_type": "code",
   "execution_count": 9,
   "outputs": [
    {
     "data": {
      "text/plain": "            realized_pnl\ndate                    \n2022-03-18   -617.486667\n2022-03-21  -4579.500001\n2022-03-22   -866.260000\n2022-03-23  -2149.620000",
      "text/html": "<div>\n<style scoped>\n    .dataframe tbody tr th:only-of-type {\n        vertical-align: middle;\n    }\n\n    .dataframe tbody tr th {\n        vertical-align: top;\n    }\n\n    .dataframe thead th {\n        text-align: right;\n    }\n</style>\n<table border=\"1\" class=\"dataframe\">\n  <thead>\n    <tr style=\"text-align: right;\">\n      <th></th>\n      <th>realized_pnl</th>\n    </tr>\n    <tr>\n      <th>date</th>\n      <th></th>\n    </tr>\n  </thead>\n  <tbody>\n    <tr>\n      <th>2022-03-18</th>\n      <td>-617.486667</td>\n    </tr>\n    <tr>\n      <th>2022-03-21</th>\n      <td>-4579.500001</td>\n    </tr>\n    <tr>\n      <th>2022-03-22</th>\n      <td>-866.260000</td>\n    </tr>\n    <tr>\n      <th>2022-03-23</th>\n      <td>-2149.620000</td>\n    </tr>\n  </tbody>\n</table>\n</div>"
     },
     "execution_count": 9,
     "metadata": {},
     "output_type": "execute_result"
    }
   ],
   "source": [
    "df_neg"
   ],
   "metadata": {
    "collapsed": false,
    "pycharm": {
     "name": "#%%\n"
    }
   }
  },
  {
   "cell_type": "code",
   "execution_count": 17,
   "outputs": [
    {
     "name": "stderr",
     "output_type": "stream",
     "text": [
      "e:\\personal@ssd\\programming projects\\other\\rx-trade-ib\\venv-310\\lib\\site-packages\\pandas\\core\\ops\\array_ops.py:73: FutureWarning: Comparison of Timestamp with datetime.date is deprecated in order to match the standard library behavior. In a future version these will be considered non-comparable. Use 'ts == pd.Timestamp(date)' or 'ts.date() == date' instead.\n",
      "  result = libops.scalar_compare(x.ravel(), y, op)\n"
     ]
    },
    {
     "data": {
      "text/plain": "     Unnamed: 0                                           contract  \\\n66           66  477837024,MNQ,FUT,20220617,0,,2,GLOBEX,,USD,MN...   \n71           71  477837024,MNQ,FUT,20220617,0,,2,GLOBEX,,USD,MN...   \n75           75  477837024,MNQ,FUT,20220617,0,,2,GLOBEX,,USD,MN...   \n79           79  477837024,MNQ,FUT,20220617,0,,2,GLOBEX,,USD,MN...   \n82           82  477837024,MNQ,FUT,20220617,0,,2,GLOBEX,,USD,MN...   \n88           88  477837024,MNQ,FUT,20220617,0,,2,GLOBEX,,USD,MN...   \n90           90  477837024,MNQ,FUT,20220617,0,,2,GLOBEX,,USD,MN...   \n92           92  477837024,MNQ,FUT,20220617,0,,2,GLOBEX,,USD,MN...   \n96           96  477837024,MNQ,FUT,20220617,0,,2,GLOBEX,,USD,MN...   \n101         101  477837024,MNQ,FUT,20220617,0,,2,GLOBEX,,USD,MN...   \n107         107  477837024,MNQ,FUT,20220617,0,,2,GLOBEX,,USD,MN...   \n112         112  477837024,MNQ,FUT,20220617,0,,2,GLOBEX,,USD,MN...   \n113         113  477837024,MNQ,FUT,20220617,0,,2,GLOBEX,,USD,MN...   \n118         118  477837024,MNQ,FUT,20220617,0,,2,GLOBEX,,USD,MN...   \n119         119  477837024,MNQ,FUT,20220617,0,,2,GLOBEX,,USD,MN...   \n121         121  477837024,MNQ,FUT,20220617,0,,2,GLOBEX,,USD,MN...   \n124         124  477837024,MNQ,FUT,20220617,0,,2,GLOBEX,,USD,MN...   \n127         127  477837024,MNQ,FUT,20220617,0,,2,GLOBEX,,USD,MN...   \n129         129  477837024,MNQ,FUT,20220617,0,,2,GLOBEX,,USD,MN...   \n131         131  477837024,MNQ,FUT,20220617,0,,2,GLOBEX,,USD,MN...   \n134         134  477837024,MNQ,FUT,20220617,0,,2,GLOBEX,,USD,MN...   \n138         138  477837024,MNQ,FUT,20220617,0,,2,GLOBEX,,USD,MN...   \n141         141  477837024,MNQ,FUT,20220617,0,,2,GLOBEX,,USD,MN...   \n143         143  477837024,MNQ,FUT,20220617,0,,2,GLOBEX,,USD,MN...   \n146         146  477837024,MNQ,FUT,20220617,0,,2,GLOBEX,,USD,MN...   \n150         150  477837024,MNQ,FUT,20220617,0,,2,GLOBEX,,USD,MN...   \n154         154  477837024,MNQ,FUT,20220617,0,,2,GLOBEX,,USD,MN...   \n\n              time_completed side  quantity  avg_price  realized_pnl  \\\n66   2022-03-21 06:11:16.000  SLD         3   14387.25    200.580000   \n71   2022-03-21 06:41:59.000  SLD         4   14406.00    -79.560000   \n75   2022-03-21 06:58:21.000  SLD         4   14397.75    -92.560000   \n79   2022-03-21 07:27:40.000  SLD         4   14378.75   -142.560000   \n82   2022-03-21 08:38:09.000  SLD         4   14421.00    386.440000   \n88   2022-03-21 08:55:58.999  SLD         5   14304.50  -1293.200000   \n90   2022-03-21 08:57:57.000  BOT         3   14317.00    -78.420000   \n92   2022-03-21 09:05:45.000  SLD         5   14291.75   -295.700000   \n96   2022-03-21 09:26:21.000  BOT         4   14238.00    324.940000   \n101  2022-03-21 09:44:26.000  SLD         5   14270.00    172.800000   \n107  2022-03-21 10:29:14.000  SLD         5   14439.25   1136.800000   \n112  2022-03-21 11:30:57.000  SLD         2   14340.25   -232.280000   \n113  2022-03-21 11:31:45.000  SLD         2   14322.75   -301.780000   \n118  2022-03-21 12:17:18.000  SLD         1   14209.50   -228.440000   \n119  2022-03-21 12:18:15.000  SLD         4   14208.50   -921.760000   \n121  2022-03-21 12:31:07.000  BOT         3   14220.25   -123.420000   \n124  2022-03-21 12:53:42.000  SLD         1   14253.50     17.735000   \n127  2022-03-21 13:25:49.000  SLD         1   14308.25     92.985000   \n129  2022-03-21 13:45:05.000  SLD         5   14323.25    487.300000   \n131  2022-03-21 13:55:36.000  SLD         3   14280.25   -225.420000   \n134  2022-03-21 14:09:05.000  BOT         3   14252.25     36.080000   \n138  2022-03-21 14:25:40.000  SLD         3   14316.00    173.580000   \n141  2022-03-21 14:34:55.000  SLD         4   14314.00   -137.560000   \n143  2022-03-21 14:46:24.000  SLD         3   14299.75     41.580000   \n146  2022-03-21 14:50:00.000  BOT         2   14296.00    -91.613334   \n150  2022-03-21 14:55:39.000  BOT         4   14357.00   -335.226667   \n154  2022-03-21 15:07:06.000  SLD         3   14388.50     52.080000   \n\n        epoch_sec  profit  loss  ...  avg_pnl_loss  avg_pnl_rr  avg_pnl_ewr  \\\n66   1.647861e+09      15     5  ...   -123.497333    1.697249     0.370748   \n71   1.647863e+09      15     6  ...   -116.174444    1.804233     0.356604   \n75   1.647864e+09      15     7  ...   -112.800952    1.858192     0.349872   \n79   1.647866e+09      15     8  ...   -116.520833    1.798870     0.357287   \n82   1.647870e+09      16     8  ...   -116.520833    1.893721     0.345576   \n88   1.647871e+09      16     9  ...   -247.262963    0.892402     0.528429   \n90   1.647871e+09      16    10  ...   -230.378667    0.957805     0.510776   \n92   1.647872e+09      16    11  ...   -236.316970    0.933737     0.517133   \n96   1.647873e+09      17    11  ...   -236.316970    0.959695     0.510284   \n101  1.647874e+09      18    11  ...   -236.316970    0.947002     0.513610   \n107  1.647877e+09      19    11  ...   -236.316970    1.150343     0.465042   \n112  1.647880e+09      19    12  ...   -235.980556    1.151983     0.464688   \n113  1.647880e+09      19    13  ...   -241.042051    1.127793     0.469970   \n118  1.647883e+09      19    14  ...   -240.141905    1.132021     0.469039   \n119  1.647883e+09      19    15  ...   -285.583111    0.951897     0.512322   \n121  1.647884e+09      19    16  ...   -275.447917    0.986922     0.503291   \n124  1.647885e+09      20    16  ...   -275.447917    0.940795     0.515253   \n127  1.647887e+09      21    16  ...   -275.447917    0.912071     0.522993   \n129  1.647888e+09      22    16  ...   -275.447917    0.951027     0.512550   \n131  1.647889e+09      22    17  ...   -272.505098    0.961298     0.509867   \n134  1.647890e+09      23    17  ...   -272.505098    0.925259     0.519411   \n138  1.647891e+09      24    17  ...   -272.505098    0.913247     0.522672   \n141  1.647891e+09      24    18  ...   -265.008148    0.939082     0.515708   \n143  1.647892e+09      25    18  ...   -265.008148    0.907795     0.524165   \n146  1.647892e+09      25    19  ...   -255.882105    0.940172     0.515418   \n150  1.647893e+09      25    20  ...   -259.849333    0.925818     0.519260   \n154  1.647893e+09      26    20  ...   -259.849333    0.897918     0.526893   \n\n     total_px_profit  avg_px_profit  total_px_loss  avg_px_loss  avg_px_rr  \\\n66        464.750000      30.983333       0.000000   -22.221667   1.394285   \n71          0.000000      30.983333    -121.053333   -20.175556   1.535687   \n75          0.000000      30.983333    -132.623333   -18.946191   1.635333   \n79          0.000000      30.983333    -150.443333   -18.805417   1.647575   \n82        513.055000      32.065938       0.000000   -18.805417   1.705144   \n88          0.000000      32.065938    -279.763333   -31.084815   1.031563   \n90          0.000000      32.065938    -292.833333   -29.283333   1.095023   \n92          0.000000      32.065938    -322.403333   -29.309394   1.094050   \n96        553.672500      32.568971       0.000000   -29.309394   1.111213   \n101       570.952500      31.719583       0.000000   -29.309394   1.082233   \n107       684.632500      36.033289       0.000000   -29.309394   1.229411   \n112         0.000000      36.033289    -380.473333   -31.706111   1.136478   \n113         0.000000      36.033289    -455.918333   -35.070641   1.027449   \n118         0.000000      36.033289    -570.138333   -40.724167   0.884813   \n119         0.000000      36.033289    -685.358333   -45.690556   0.788638   \n121         0.000000      36.033289    -705.928334   -44.120521   0.816701   \n124       693.500000      34.675000       0.000000   -44.120521   0.785915   \n127       739.992500      35.237738       0.000000   -44.120521   0.798670   \n129       788.722500      35.851023       0.000000   -44.120521   0.812570   \n131         0.000000      35.851023    -743.498334   -43.735196   0.819729   \n134       794.735834      34.553732       0.000000   -43.735196   0.790067   \n138       823.665834      34.319410       0.000000   -43.735196   0.784709   \n141         0.000000      34.319410    -760.693334   -42.260741   0.812087   \n143       830.595834      33.223833       0.000000   -42.260741   0.786163   \n146         0.000000      33.223833    -783.596667   -41.241930   0.805584   \n150         0.000000      33.223833    -825.500000   -41.275000   0.804938   \n154       839.275834      32.279840       0.000000   -41.275000   0.782068   \n\n     avg_px_ewr        date  \n66     0.417661  2022-03-21  \n71     0.394370  2022-03-21  \n75     0.379459  2022-03-21  \n79     0.377704  2022-03-21  \n82     0.369666  2022-03-21  \n88     0.492232  2022-03-21  \n90     0.477322  2022-03-21  \n92     0.477544  2022-03-21  \n96     0.473661  2022-03-21  \n101    0.480254  2022-03-21  \n107    0.448549  2022-03-21  \n112    0.468060  2022-03-21  \n113    0.493231  2022-03-21  \n118    0.530556  2022-03-21  \n119    0.559085  2022-03-21  \n121    0.550448  2022-03-21  \n124    0.559937  2022-03-21  \n127    0.555966  2022-03-21  \n129    0.551703  2022-03-21  \n131    0.549532  2022-03-21  \n134    0.558638  2022-03-21  \n138    0.560315  2022-03-21  \n141    0.551850  2022-03-21  \n143    0.559859  2022-03-21  \n146    0.553837  2022-03-21  \n150    0.554036  2022-03-21  \n154    0.561146  2022-03-21  \n\n[27 rows x 34 columns]",
      "text/html": "<div>\n<style scoped>\n    .dataframe tbody tr th:only-of-type {\n        vertical-align: middle;\n    }\n\n    .dataframe tbody tr th {\n        vertical-align: top;\n    }\n\n    .dataframe thead th {\n        text-align: right;\n    }\n</style>\n<table border=\"1\" class=\"dataframe\">\n  <thead>\n    <tr style=\"text-align: right;\">\n      <th></th>\n      <th>Unnamed: 0</th>\n      <th>contract</th>\n      <th>time_completed</th>\n      <th>side</th>\n      <th>quantity</th>\n      <th>avg_price</th>\n      <th>realized_pnl</th>\n      <th>epoch_sec</th>\n      <th>profit</th>\n      <th>loss</th>\n      <th>...</th>\n      <th>avg_pnl_loss</th>\n      <th>avg_pnl_rr</th>\n      <th>avg_pnl_ewr</th>\n      <th>total_px_profit</th>\n      <th>avg_px_profit</th>\n      <th>total_px_loss</th>\n      <th>avg_px_loss</th>\n      <th>avg_px_rr</th>\n      <th>avg_px_ewr</th>\n      <th>date</th>\n    </tr>\n  </thead>\n  <tbody>\n    <tr>\n      <th>66</th>\n      <td>66</td>\n      <td>477837024,MNQ,FUT,20220617,0,,2,GLOBEX,,USD,MN...</td>\n      <td>2022-03-21 06:11:16.000</td>\n      <td>SLD</td>\n      <td>3</td>\n      <td>14387.25</td>\n      <td>200.580000</td>\n      <td>1.647861e+09</td>\n      <td>15</td>\n      <td>5</td>\n      <td>...</td>\n      <td>-123.497333</td>\n      <td>1.697249</td>\n      <td>0.370748</td>\n      <td>464.750000</td>\n      <td>30.983333</td>\n      <td>0.000000</td>\n      <td>-22.221667</td>\n      <td>1.394285</td>\n      <td>0.417661</td>\n      <td>2022-03-21</td>\n    </tr>\n    <tr>\n      <th>71</th>\n      <td>71</td>\n      <td>477837024,MNQ,FUT,20220617,0,,2,GLOBEX,,USD,MN...</td>\n      <td>2022-03-21 06:41:59.000</td>\n      <td>SLD</td>\n      <td>4</td>\n      <td>14406.00</td>\n      <td>-79.560000</td>\n      <td>1.647863e+09</td>\n      <td>15</td>\n      <td>6</td>\n      <td>...</td>\n      <td>-116.174444</td>\n      <td>1.804233</td>\n      <td>0.356604</td>\n      <td>0.000000</td>\n      <td>30.983333</td>\n      <td>-121.053333</td>\n      <td>-20.175556</td>\n      <td>1.535687</td>\n      <td>0.394370</td>\n      <td>2022-03-21</td>\n    </tr>\n    <tr>\n      <th>75</th>\n      <td>75</td>\n      <td>477837024,MNQ,FUT,20220617,0,,2,GLOBEX,,USD,MN...</td>\n      <td>2022-03-21 06:58:21.000</td>\n      <td>SLD</td>\n      <td>4</td>\n      <td>14397.75</td>\n      <td>-92.560000</td>\n      <td>1.647864e+09</td>\n      <td>15</td>\n      <td>7</td>\n      <td>...</td>\n      <td>-112.800952</td>\n      <td>1.858192</td>\n      <td>0.349872</td>\n      <td>0.000000</td>\n      <td>30.983333</td>\n      <td>-132.623333</td>\n      <td>-18.946191</td>\n      <td>1.635333</td>\n      <td>0.379459</td>\n      <td>2022-03-21</td>\n    </tr>\n    <tr>\n      <th>79</th>\n      <td>79</td>\n      <td>477837024,MNQ,FUT,20220617,0,,2,GLOBEX,,USD,MN...</td>\n      <td>2022-03-21 07:27:40.000</td>\n      <td>SLD</td>\n      <td>4</td>\n      <td>14378.75</td>\n      <td>-142.560000</td>\n      <td>1.647866e+09</td>\n      <td>15</td>\n      <td>8</td>\n      <td>...</td>\n      <td>-116.520833</td>\n      <td>1.798870</td>\n      <td>0.357287</td>\n      <td>0.000000</td>\n      <td>30.983333</td>\n      <td>-150.443333</td>\n      <td>-18.805417</td>\n      <td>1.647575</td>\n      <td>0.377704</td>\n      <td>2022-03-21</td>\n    </tr>\n    <tr>\n      <th>82</th>\n      <td>82</td>\n      <td>477837024,MNQ,FUT,20220617,0,,2,GLOBEX,,USD,MN...</td>\n      <td>2022-03-21 08:38:09.000</td>\n      <td>SLD</td>\n      <td>4</td>\n      <td>14421.00</td>\n      <td>386.440000</td>\n      <td>1.647870e+09</td>\n      <td>16</td>\n      <td>8</td>\n      <td>...</td>\n      <td>-116.520833</td>\n      <td>1.893721</td>\n      <td>0.345576</td>\n      <td>513.055000</td>\n      <td>32.065938</td>\n      <td>0.000000</td>\n      <td>-18.805417</td>\n      <td>1.705144</td>\n      <td>0.369666</td>\n      <td>2022-03-21</td>\n    </tr>\n    <tr>\n      <th>88</th>\n      <td>88</td>\n      <td>477837024,MNQ,FUT,20220617,0,,2,GLOBEX,,USD,MN...</td>\n      <td>2022-03-21 08:55:58.999</td>\n      <td>SLD</td>\n      <td>5</td>\n      <td>14304.50</td>\n      <td>-1293.200000</td>\n      <td>1.647871e+09</td>\n      <td>16</td>\n      <td>9</td>\n      <td>...</td>\n      <td>-247.262963</td>\n      <td>0.892402</td>\n      <td>0.528429</td>\n      <td>0.000000</td>\n      <td>32.065938</td>\n      <td>-279.763333</td>\n      <td>-31.084815</td>\n      <td>1.031563</td>\n      <td>0.492232</td>\n      <td>2022-03-21</td>\n    </tr>\n    <tr>\n      <th>90</th>\n      <td>90</td>\n      <td>477837024,MNQ,FUT,20220617,0,,2,GLOBEX,,USD,MN...</td>\n      <td>2022-03-21 08:57:57.000</td>\n      <td>BOT</td>\n      <td>3</td>\n      <td>14317.00</td>\n      <td>-78.420000</td>\n      <td>1.647871e+09</td>\n      <td>16</td>\n      <td>10</td>\n      <td>...</td>\n      <td>-230.378667</td>\n      <td>0.957805</td>\n      <td>0.510776</td>\n      <td>0.000000</td>\n      <td>32.065938</td>\n      <td>-292.833333</td>\n      <td>-29.283333</td>\n      <td>1.095023</td>\n      <td>0.477322</td>\n      <td>2022-03-21</td>\n    </tr>\n    <tr>\n      <th>92</th>\n      <td>92</td>\n      <td>477837024,MNQ,FUT,20220617,0,,2,GLOBEX,,USD,MN...</td>\n      <td>2022-03-21 09:05:45.000</td>\n      <td>SLD</td>\n      <td>5</td>\n      <td>14291.75</td>\n      <td>-295.700000</td>\n      <td>1.647872e+09</td>\n      <td>16</td>\n      <td>11</td>\n      <td>...</td>\n      <td>-236.316970</td>\n      <td>0.933737</td>\n      <td>0.517133</td>\n      <td>0.000000</td>\n      <td>32.065938</td>\n      <td>-322.403333</td>\n      <td>-29.309394</td>\n      <td>1.094050</td>\n      <td>0.477544</td>\n      <td>2022-03-21</td>\n    </tr>\n    <tr>\n      <th>96</th>\n      <td>96</td>\n      <td>477837024,MNQ,FUT,20220617,0,,2,GLOBEX,,USD,MN...</td>\n      <td>2022-03-21 09:26:21.000</td>\n      <td>BOT</td>\n      <td>4</td>\n      <td>14238.00</td>\n      <td>324.940000</td>\n      <td>1.647873e+09</td>\n      <td>17</td>\n      <td>11</td>\n      <td>...</td>\n      <td>-236.316970</td>\n      <td>0.959695</td>\n      <td>0.510284</td>\n      <td>553.672500</td>\n      <td>32.568971</td>\n      <td>0.000000</td>\n      <td>-29.309394</td>\n      <td>1.111213</td>\n      <td>0.473661</td>\n      <td>2022-03-21</td>\n    </tr>\n    <tr>\n      <th>101</th>\n      <td>101</td>\n      <td>477837024,MNQ,FUT,20220617,0,,2,GLOBEX,,USD,MN...</td>\n      <td>2022-03-21 09:44:26.000</td>\n      <td>SLD</td>\n      <td>5</td>\n      <td>14270.00</td>\n      <td>172.800000</td>\n      <td>1.647874e+09</td>\n      <td>18</td>\n      <td>11</td>\n      <td>...</td>\n      <td>-236.316970</td>\n      <td>0.947002</td>\n      <td>0.513610</td>\n      <td>570.952500</td>\n      <td>31.719583</td>\n      <td>0.000000</td>\n      <td>-29.309394</td>\n      <td>1.082233</td>\n      <td>0.480254</td>\n      <td>2022-03-21</td>\n    </tr>\n    <tr>\n      <th>107</th>\n      <td>107</td>\n      <td>477837024,MNQ,FUT,20220617,0,,2,GLOBEX,,USD,MN...</td>\n      <td>2022-03-21 10:29:14.000</td>\n      <td>SLD</td>\n      <td>5</td>\n      <td>14439.25</td>\n      <td>1136.800000</td>\n      <td>1.647877e+09</td>\n      <td>19</td>\n      <td>11</td>\n      <td>...</td>\n      <td>-236.316970</td>\n      <td>1.150343</td>\n      <td>0.465042</td>\n      <td>684.632500</td>\n      <td>36.033289</td>\n      <td>0.000000</td>\n      <td>-29.309394</td>\n      <td>1.229411</td>\n      <td>0.448549</td>\n      <td>2022-03-21</td>\n    </tr>\n    <tr>\n      <th>112</th>\n      <td>112</td>\n      <td>477837024,MNQ,FUT,20220617,0,,2,GLOBEX,,USD,MN...</td>\n      <td>2022-03-21 11:30:57.000</td>\n      <td>SLD</td>\n      <td>2</td>\n      <td>14340.25</td>\n      <td>-232.280000</td>\n      <td>1.647880e+09</td>\n      <td>19</td>\n      <td>12</td>\n      <td>...</td>\n      <td>-235.980556</td>\n      <td>1.151983</td>\n      <td>0.464688</td>\n      <td>0.000000</td>\n      <td>36.033289</td>\n      <td>-380.473333</td>\n      <td>-31.706111</td>\n      <td>1.136478</td>\n      <td>0.468060</td>\n      <td>2022-03-21</td>\n    </tr>\n    <tr>\n      <th>113</th>\n      <td>113</td>\n      <td>477837024,MNQ,FUT,20220617,0,,2,GLOBEX,,USD,MN...</td>\n      <td>2022-03-21 11:31:45.000</td>\n      <td>SLD</td>\n      <td>2</td>\n      <td>14322.75</td>\n      <td>-301.780000</td>\n      <td>1.647880e+09</td>\n      <td>19</td>\n      <td>13</td>\n      <td>...</td>\n      <td>-241.042051</td>\n      <td>1.127793</td>\n      <td>0.469970</td>\n      <td>0.000000</td>\n      <td>36.033289</td>\n      <td>-455.918333</td>\n      <td>-35.070641</td>\n      <td>1.027449</td>\n      <td>0.493231</td>\n      <td>2022-03-21</td>\n    </tr>\n    <tr>\n      <th>118</th>\n      <td>118</td>\n      <td>477837024,MNQ,FUT,20220617,0,,2,GLOBEX,,USD,MN...</td>\n      <td>2022-03-21 12:17:18.000</td>\n      <td>SLD</td>\n      <td>1</td>\n      <td>14209.50</td>\n      <td>-228.440000</td>\n      <td>1.647883e+09</td>\n      <td>19</td>\n      <td>14</td>\n      <td>...</td>\n      <td>-240.141905</td>\n      <td>1.132021</td>\n      <td>0.469039</td>\n      <td>0.000000</td>\n      <td>36.033289</td>\n      <td>-570.138333</td>\n      <td>-40.724167</td>\n      <td>0.884813</td>\n      <td>0.530556</td>\n      <td>2022-03-21</td>\n    </tr>\n    <tr>\n      <th>119</th>\n      <td>119</td>\n      <td>477837024,MNQ,FUT,20220617,0,,2,GLOBEX,,USD,MN...</td>\n      <td>2022-03-21 12:18:15.000</td>\n      <td>SLD</td>\n      <td>4</td>\n      <td>14208.50</td>\n      <td>-921.760000</td>\n      <td>1.647883e+09</td>\n      <td>19</td>\n      <td>15</td>\n      <td>...</td>\n      <td>-285.583111</td>\n      <td>0.951897</td>\n      <td>0.512322</td>\n      <td>0.000000</td>\n      <td>36.033289</td>\n      <td>-685.358333</td>\n      <td>-45.690556</td>\n      <td>0.788638</td>\n      <td>0.559085</td>\n      <td>2022-03-21</td>\n    </tr>\n    <tr>\n      <th>121</th>\n      <td>121</td>\n      <td>477837024,MNQ,FUT,20220617,0,,2,GLOBEX,,USD,MN...</td>\n      <td>2022-03-21 12:31:07.000</td>\n      <td>BOT</td>\n      <td>3</td>\n      <td>14220.25</td>\n      <td>-123.420000</td>\n      <td>1.647884e+09</td>\n      <td>19</td>\n      <td>16</td>\n      <td>...</td>\n      <td>-275.447917</td>\n      <td>0.986922</td>\n      <td>0.503291</td>\n      <td>0.000000</td>\n      <td>36.033289</td>\n      <td>-705.928334</td>\n      <td>-44.120521</td>\n      <td>0.816701</td>\n      <td>0.550448</td>\n      <td>2022-03-21</td>\n    </tr>\n    <tr>\n      <th>124</th>\n      <td>124</td>\n      <td>477837024,MNQ,FUT,20220617,0,,2,GLOBEX,,USD,MN...</td>\n      <td>2022-03-21 12:53:42.000</td>\n      <td>SLD</td>\n      <td>1</td>\n      <td>14253.50</td>\n      <td>17.735000</td>\n      <td>1.647885e+09</td>\n      <td>20</td>\n      <td>16</td>\n      <td>...</td>\n      <td>-275.447917</td>\n      <td>0.940795</td>\n      <td>0.515253</td>\n      <td>693.500000</td>\n      <td>34.675000</td>\n      <td>0.000000</td>\n      <td>-44.120521</td>\n      <td>0.785915</td>\n      <td>0.559937</td>\n      <td>2022-03-21</td>\n    </tr>\n    <tr>\n      <th>127</th>\n      <td>127</td>\n      <td>477837024,MNQ,FUT,20220617,0,,2,GLOBEX,,USD,MN...</td>\n      <td>2022-03-21 13:25:49.000</td>\n      <td>SLD</td>\n      <td>1</td>\n      <td>14308.25</td>\n      <td>92.985000</td>\n      <td>1.647887e+09</td>\n      <td>21</td>\n      <td>16</td>\n      <td>...</td>\n      <td>-275.447917</td>\n      <td>0.912071</td>\n      <td>0.522993</td>\n      <td>739.992500</td>\n      <td>35.237738</td>\n      <td>0.000000</td>\n      <td>-44.120521</td>\n      <td>0.798670</td>\n      <td>0.555966</td>\n      <td>2022-03-21</td>\n    </tr>\n    <tr>\n      <th>129</th>\n      <td>129</td>\n      <td>477837024,MNQ,FUT,20220617,0,,2,GLOBEX,,USD,MN...</td>\n      <td>2022-03-21 13:45:05.000</td>\n      <td>SLD</td>\n      <td>5</td>\n      <td>14323.25</td>\n      <td>487.300000</td>\n      <td>1.647888e+09</td>\n      <td>22</td>\n      <td>16</td>\n      <td>...</td>\n      <td>-275.447917</td>\n      <td>0.951027</td>\n      <td>0.512550</td>\n      <td>788.722500</td>\n      <td>35.851023</td>\n      <td>0.000000</td>\n      <td>-44.120521</td>\n      <td>0.812570</td>\n      <td>0.551703</td>\n      <td>2022-03-21</td>\n    </tr>\n    <tr>\n      <th>131</th>\n      <td>131</td>\n      <td>477837024,MNQ,FUT,20220617,0,,2,GLOBEX,,USD,MN...</td>\n      <td>2022-03-21 13:55:36.000</td>\n      <td>SLD</td>\n      <td>3</td>\n      <td>14280.25</td>\n      <td>-225.420000</td>\n      <td>1.647889e+09</td>\n      <td>22</td>\n      <td>17</td>\n      <td>...</td>\n      <td>-272.505098</td>\n      <td>0.961298</td>\n      <td>0.509867</td>\n      <td>0.000000</td>\n      <td>35.851023</td>\n      <td>-743.498334</td>\n      <td>-43.735196</td>\n      <td>0.819729</td>\n      <td>0.549532</td>\n      <td>2022-03-21</td>\n    </tr>\n    <tr>\n      <th>134</th>\n      <td>134</td>\n      <td>477837024,MNQ,FUT,20220617,0,,2,GLOBEX,,USD,MN...</td>\n      <td>2022-03-21 14:09:05.000</td>\n      <td>BOT</td>\n      <td>3</td>\n      <td>14252.25</td>\n      <td>36.080000</td>\n      <td>1.647890e+09</td>\n      <td>23</td>\n      <td>17</td>\n      <td>...</td>\n      <td>-272.505098</td>\n      <td>0.925259</td>\n      <td>0.519411</td>\n      <td>794.735834</td>\n      <td>34.553732</td>\n      <td>0.000000</td>\n      <td>-43.735196</td>\n      <td>0.790067</td>\n      <td>0.558638</td>\n      <td>2022-03-21</td>\n    </tr>\n    <tr>\n      <th>138</th>\n      <td>138</td>\n      <td>477837024,MNQ,FUT,20220617,0,,2,GLOBEX,,USD,MN...</td>\n      <td>2022-03-21 14:25:40.000</td>\n      <td>SLD</td>\n      <td>3</td>\n      <td>14316.00</td>\n      <td>173.580000</td>\n      <td>1.647891e+09</td>\n      <td>24</td>\n      <td>17</td>\n      <td>...</td>\n      <td>-272.505098</td>\n      <td>0.913247</td>\n      <td>0.522672</td>\n      <td>823.665834</td>\n      <td>34.319410</td>\n      <td>0.000000</td>\n      <td>-43.735196</td>\n      <td>0.784709</td>\n      <td>0.560315</td>\n      <td>2022-03-21</td>\n    </tr>\n    <tr>\n      <th>141</th>\n      <td>141</td>\n      <td>477837024,MNQ,FUT,20220617,0,,2,GLOBEX,,USD,MN...</td>\n      <td>2022-03-21 14:34:55.000</td>\n      <td>SLD</td>\n      <td>4</td>\n      <td>14314.00</td>\n      <td>-137.560000</td>\n      <td>1.647891e+09</td>\n      <td>24</td>\n      <td>18</td>\n      <td>...</td>\n      <td>-265.008148</td>\n      <td>0.939082</td>\n      <td>0.515708</td>\n      <td>0.000000</td>\n      <td>34.319410</td>\n      <td>-760.693334</td>\n      <td>-42.260741</td>\n      <td>0.812087</td>\n      <td>0.551850</td>\n      <td>2022-03-21</td>\n    </tr>\n    <tr>\n      <th>143</th>\n      <td>143</td>\n      <td>477837024,MNQ,FUT,20220617,0,,2,GLOBEX,,USD,MN...</td>\n      <td>2022-03-21 14:46:24.000</td>\n      <td>SLD</td>\n      <td>3</td>\n      <td>14299.75</td>\n      <td>41.580000</td>\n      <td>1.647892e+09</td>\n      <td>25</td>\n      <td>18</td>\n      <td>...</td>\n      <td>-265.008148</td>\n      <td>0.907795</td>\n      <td>0.524165</td>\n      <td>830.595834</td>\n      <td>33.223833</td>\n      <td>0.000000</td>\n      <td>-42.260741</td>\n      <td>0.786163</td>\n      <td>0.559859</td>\n      <td>2022-03-21</td>\n    </tr>\n    <tr>\n      <th>146</th>\n      <td>146</td>\n      <td>477837024,MNQ,FUT,20220617,0,,2,GLOBEX,,USD,MN...</td>\n      <td>2022-03-21 14:50:00.000</td>\n      <td>BOT</td>\n      <td>2</td>\n      <td>14296.00</td>\n      <td>-91.613334</td>\n      <td>1.647892e+09</td>\n      <td>25</td>\n      <td>19</td>\n      <td>...</td>\n      <td>-255.882105</td>\n      <td>0.940172</td>\n      <td>0.515418</td>\n      <td>0.000000</td>\n      <td>33.223833</td>\n      <td>-783.596667</td>\n      <td>-41.241930</td>\n      <td>0.805584</td>\n      <td>0.553837</td>\n      <td>2022-03-21</td>\n    </tr>\n    <tr>\n      <th>150</th>\n      <td>150</td>\n      <td>477837024,MNQ,FUT,20220617,0,,2,GLOBEX,,USD,MN...</td>\n      <td>2022-03-21 14:55:39.000</td>\n      <td>BOT</td>\n      <td>4</td>\n      <td>14357.00</td>\n      <td>-335.226667</td>\n      <td>1.647893e+09</td>\n      <td>25</td>\n      <td>20</td>\n      <td>...</td>\n      <td>-259.849333</td>\n      <td>0.925818</td>\n      <td>0.519260</td>\n      <td>0.000000</td>\n      <td>33.223833</td>\n      <td>-825.500000</td>\n      <td>-41.275000</td>\n      <td>0.804938</td>\n      <td>0.554036</td>\n      <td>2022-03-21</td>\n    </tr>\n    <tr>\n      <th>154</th>\n      <td>154</td>\n      <td>477837024,MNQ,FUT,20220617,0,,2,GLOBEX,,USD,MN...</td>\n      <td>2022-03-21 15:07:06.000</td>\n      <td>SLD</td>\n      <td>3</td>\n      <td>14388.50</td>\n      <td>52.080000</td>\n      <td>1.647893e+09</td>\n      <td>26</td>\n      <td>20</td>\n      <td>...</td>\n      <td>-259.849333</td>\n      <td>0.897918</td>\n      <td>0.526893</td>\n      <td>839.275834</td>\n      <td>32.279840</td>\n      <td>0.000000</td>\n      <td>-41.275000</td>\n      <td>0.782068</td>\n      <td>0.561146</td>\n      <td>2022-03-21</td>\n    </tr>\n  </tbody>\n</table>\n<p>27 rows × 34 columns</p>\n</div>"
     },
     "execution_count": 17,
     "metadata": {},
     "output_type": "execute_result"
    }
   ],
   "source": [],
   "metadata": {
    "collapsed": false,
    "pycharm": {
     "name": "#%%\n"
    }
   }
  },
  {
   "cell_type": "code",
   "execution_count": 10,
   "outputs": [],
   "source": [],
   "metadata": {
    "collapsed": false,
    "pycharm": {
     "name": "#%%\n"
    }
   }
  }
 ],
 "metadata": {
  "kernelspec": {
   "name": "rx-trade-ib",
   "language": "python",
   "display_name": "rx-trade-ib"
  },
  "language_info": {
   "codemirror_mode": {
    "name": "ipython",
    "version": 2
   },
   "file_extension": ".py",
   "mimetype": "text/x-python",
   "name": "python",
   "nbconvert_exporter": "python",
   "pygments_lexer": "ipython2",
   "version": "2.7.6"
  }
 },
 "nbformat": 4,
 "nbformat_minor": 0
}