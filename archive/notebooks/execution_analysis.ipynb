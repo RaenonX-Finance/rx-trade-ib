{
 "cells": [
  {
   "cell_type": "code",
   "execution_count": 6,
   "outputs": [],
   "source": [
    "import pandas as pd\n",
    "\n",
    "pd.set_option(\"display.precision\", 2)"
   ],
   "metadata": {
    "collapsed": false,
    "pycharm": {
     "name": "#%%\n"
    }
   }
  },
  {
   "cell_type": "code",
   "execution_count": 7,
   "outputs": [
    {
     "data": {
      "text/plain": "'../executions/MNQM2022\\\\20220318-20220427.csv'"
     },
     "execution_count": 7,
     "metadata": {},
     "output_type": "execute_result"
    }
   ],
   "source": [
    "import glob\n",
    "\n",
    "PATH = glob.glob(\"../executions/MNQM2022/*.csv\")[0]\n",
    "PATH"
   ],
   "metadata": {
    "collapsed": false,
    "pycharm": {
     "name": "#%%\n"
    }
   }
  },
  {
   "cell_type": "code",
   "execution_count": 8,
   "outputs": [
    {
     "data": {
      "text/plain": "            realized_pnl  px_side  $_per_px  realized_pnl_cum  profit   loss\ndate                                                                        \n2022-03-18       2326.02   320.21      7.26           2326.02    14.0    5.0\n2022-03-21      -1456.60  -306.44      4.75            869.42    12.0   15.0\n2022-03-22        943.20   117.32      8.04           1812.62     3.0    2.0\n2022-03-23       -261.50   -47.26      5.53           1551.12     5.0    9.0\n2022-03-24        717.28   145.17      4.94           2268.40     6.0    3.0\n2022-03-25        -69.18   -76.45      0.90           2199.22    17.0   12.0\n2022-03-28        649.84    53.15     12.23           2849.06    11.0    8.0\n2022-03-29        419.24    47.71      8.79           3268.30    13.0    5.0\n2022-03-30       -299.50    30.12     -9.94           2968.80    21.0   13.0\n2022-03-31      -3514.66  -377.09      9.32           -545.86    16.0   20.0\n2022-04-01       -590.02  -118.92      4.96          -1135.88    18.0   13.0\n2022-04-03       -253.66   -45.06      5.63          -1389.54     3.0    5.0\n2022-04-04        585.92   118.06      4.96           -803.62     9.0    5.0\n2022-04-05      -1410.06  -208.51      6.76          -2213.68     5.0   10.0\n2022-04-06      -1763.80  -354.90      4.97          -3977.48    13.0   18.0\n2022-04-07       -926.16  -226.14      4.10          -4903.64    14.0   10.0\n2022-04-08      -1195.46  -371.97      3.21          -6099.10     9.0   21.0\n2022-04-11        449.22   224.61      2.00          -5649.88     2.0    NaN\n2022-04-12        207.76    72.41      2.87          -5442.12     7.0    5.0\n2022-04-13        117.98   -77.45     -1.52          -5324.14     7.0    3.0\n2022-04-14        474.68   279.23      1.70          -4849.46     7.0    4.0\n2022-04-18      -1218.58  -505.32      2.41          -6068.04     4.0    9.0\n2022-04-19        310.70    52.84      5.88          -5757.34     7.0    6.0\n2022-04-20       -834.32  -319.00      2.62          -6591.66     NaN    9.0\n2022-04-21        697.96   348.98      2.00          -5893.70     7.0    4.0\n2022-04-22        232.09   200.27      1.16          -5661.61     9.0    5.0\n2022-04-25       -175.53   -87.76      2.00          -5837.14     1.0    1.0\n2022-04-26        416.32   177.68      2.34          -5420.82     8.0    2.0\n2022-04-27        108.02    87.65      1.23          -5312.80     4.0    1.0\nTotal           -5312.80  -846.87    111.11         -68764.55   252.0  223.0",
      "text/html": "<div>\n<style scoped>\n    .dataframe tbody tr th:only-of-type {\n        vertical-align: middle;\n    }\n\n    .dataframe tbody tr th {\n        vertical-align: top;\n    }\n\n    .dataframe thead th {\n        text-align: right;\n    }\n</style>\n<table border=\"1\" class=\"dataframe\">\n  <thead>\n    <tr style=\"text-align: right;\">\n      <th></th>\n      <th>realized_pnl</th>\n      <th>px_side</th>\n      <th>$_per_px</th>\n      <th>realized_pnl_cum</th>\n      <th>profit</th>\n      <th>loss</th>\n    </tr>\n    <tr>\n      <th>date</th>\n      <th></th>\n      <th></th>\n      <th></th>\n      <th></th>\n      <th></th>\n      <th></th>\n    </tr>\n  </thead>\n  <tbody>\n    <tr>\n      <th>2022-03-18</th>\n      <td>2326.02</td>\n      <td>320.21</td>\n      <td>7.26</td>\n      <td>2326.02</td>\n      <td>14.0</td>\n      <td>5.0</td>\n    </tr>\n    <tr>\n      <th>2022-03-21</th>\n      <td>-1456.60</td>\n      <td>-306.44</td>\n      <td>4.75</td>\n      <td>869.42</td>\n      <td>12.0</td>\n      <td>15.0</td>\n    </tr>\n    <tr>\n      <th>2022-03-22</th>\n      <td>943.20</td>\n      <td>117.32</td>\n      <td>8.04</td>\n      <td>1812.62</td>\n      <td>3.0</td>\n      <td>2.0</td>\n    </tr>\n    <tr>\n      <th>2022-03-23</th>\n      <td>-261.50</td>\n      <td>-47.26</td>\n      <td>5.53</td>\n      <td>1551.12</td>\n      <td>5.0</td>\n      <td>9.0</td>\n    </tr>\n    <tr>\n      <th>2022-03-24</th>\n      <td>717.28</td>\n      <td>145.17</td>\n      <td>4.94</td>\n      <td>2268.40</td>\n      <td>6.0</td>\n      <td>3.0</td>\n    </tr>\n    <tr>\n      <th>2022-03-25</th>\n      <td>-69.18</td>\n      <td>-76.45</td>\n      <td>0.90</td>\n      <td>2199.22</td>\n      <td>17.0</td>\n      <td>12.0</td>\n    </tr>\n    <tr>\n      <th>2022-03-28</th>\n      <td>649.84</td>\n      <td>53.15</td>\n      <td>12.23</td>\n      <td>2849.06</td>\n      <td>11.0</td>\n      <td>8.0</td>\n    </tr>\n    <tr>\n      <th>2022-03-29</th>\n      <td>419.24</td>\n      <td>47.71</td>\n      <td>8.79</td>\n      <td>3268.30</td>\n      <td>13.0</td>\n      <td>5.0</td>\n    </tr>\n    <tr>\n      <th>2022-03-30</th>\n      <td>-299.50</td>\n      <td>30.12</td>\n      <td>-9.94</td>\n      <td>2968.80</td>\n      <td>21.0</td>\n      <td>13.0</td>\n    </tr>\n    <tr>\n      <th>2022-03-31</th>\n      <td>-3514.66</td>\n      <td>-377.09</td>\n      <td>9.32</td>\n      <td>-545.86</td>\n      <td>16.0</td>\n      <td>20.0</td>\n    </tr>\n    <tr>\n      <th>2022-04-01</th>\n      <td>-590.02</td>\n      <td>-118.92</td>\n      <td>4.96</td>\n      <td>-1135.88</td>\n      <td>18.0</td>\n      <td>13.0</td>\n    </tr>\n    <tr>\n      <th>2022-04-03</th>\n      <td>-253.66</td>\n      <td>-45.06</td>\n      <td>5.63</td>\n      <td>-1389.54</td>\n      <td>3.0</td>\n      <td>5.0</td>\n    </tr>\n    <tr>\n      <th>2022-04-04</th>\n      <td>585.92</td>\n      <td>118.06</td>\n      <td>4.96</td>\n      <td>-803.62</td>\n      <td>9.0</td>\n      <td>5.0</td>\n    </tr>\n    <tr>\n      <th>2022-04-05</th>\n      <td>-1410.06</td>\n      <td>-208.51</td>\n      <td>6.76</td>\n      <td>-2213.68</td>\n      <td>5.0</td>\n      <td>10.0</td>\n    </tr>\n    <tr>\n      <th>2022-04-06</th>\n      <td>-1763.80</td>\n      <td>-354.90</td>\n      <td>4.97</td>\n      <td>-3977.48</td>\n      <td>13.0</td>\n      <td>18.0</td>\n    </tr>\n    <tr>\n      <th>2022-04-07</th>\n      <td>-926.16</td>\n      <td>-226.14</td>\n      <td>4.10</td>\n      <td>-4903.64</td>\n      <td>14.0</td>\n      <td>10.0</td>\n    </tr>\n    <tr>\n      <th>2022-04-08</th>\n      <td>-1195.46</td>\n      <td>-371.97</td>\n      <td>3.21</td>\n      <td>-6099.10</td>\n      <td>9.0</td>\n      <td>21.0</td>\n    </tr>\n    <tr>\n      <th>2022-04-11</th>\n      <td>449.22</td>\n      <td>224.61</td>\n      <td>2.00</td>\n      <td>-5649.88</td>\n      <td>2.0</td>\n      <td>NaN</td>\n    </tr>\n    <tr>\n      <th>2022-04-12</th>\n      <td>207.76</td>\n      <td>72.41</td>\n      <td>2.87</td>\n      <td>-5442.12</td>\n      <td>7.0</td>\n      <td>5.0</td>\n    </tr>\n    <tr>\n      <th>2022-04-13</th>\n      <td>117.98</td>\n      <td>-77.45</td>\n      <td>-1.52</td>\n      <td>-5324.14</td>\n      <td>7.0</td>\n      <td>3.0</td>\n    </tr>\n    <tr>\n      <th>2022-04-14</th>\n      <td>474.68</td>\n      <td>279.23</td>\n      <td>1.70</td>\n      <td>-4849.46</td>\n      <td>7.0</td>\n      <td>4.0</td>\n    </tr>\n    <tr>\n      <th>2022-04-18</th>\n      <td>-1218.58</td>\n      <td>-505.32</td>\n      <td>2.41</td>\n      <td>-6068.04</td>\n      <td>4.0</td>\n      <td>9.0</td>\n    </tr>\n    <tr>\n      <th>2022-04-19</th>\n      <td>310.70</td>\n      <td>52.84</td>\n      <td>5.88</td>\n      <td>-5757.34</td>\n      <td>7.0</td>\n      <td>6.0</td>\n    </tr>\n    <tr>\n      <th>2022-04-20</th>\n      <td>-834.32</td>\n      <td>-319.00</td>\n      <td>2.62</td>\n      <td>-6591.66</td>\n      <td>NaN</td>\n      <td>9.0</td>\n    </tr>\n    <tr>\n      <th>2022-04-21</th>\n      <td>697.96</td>\n      <td>348.98</td>\n      <td>2.00</td>\n      <td>-5893.70</td>\n      <td>7.0</td>\n      <td>4.0</td>\n    </tr>\n    <tr>\n      <th>2022-04-22</th>\n      <td>232.09</td>\n      <td>200.27</td>\n      <td>1.16</td>\n      <td>-5661.61</td>\n      <td>9.0</td>\n      <td>5.0</td>\n    </tr>\n    <tr>\n      <th>2022-04-25</th>\n      <td>-175.53</td>\n      <td>-87.76</td>\n      <td>2.00</td>\n      <td>-5837.14</td>\n      <td>1.0</td>\n      <td>1.0</td>\n    </tr>\n    <tr>\n      <th>2022-04-26</th>\n      <td>416.32</td>\n      <td>177.68</td>\n      <td>2.34</td>\n      <td>-5420.82</td>\n      <td>8.0</td>\n      <td>2.0</td>\n    </tr>\n    <tr>\n      <th>2022-04-27</th>\n      <td>108.02</td>\n      <td>87.65</td>\n      <td>1.23</td>\n      <td>-5312.80</td>\n      <td>4.0</td>\n      <td>1.0</td>\n    </tr>\n    <tr>\n      <th>Total</th>\n      <td>-5312.80</td>\n      <td>-846.87</td>\n      <td>111.11</td>\n      <td>-68764.55</td>\n      <td>252.0</td>\n      <td>223.0</td>\n    </tr>\n  </tbody>\n</table>\n</div>"
     },
     "execution_count": 8,
     "metadata": {},
     "output_type": "execute_result"
    }
   ],
   "source": [
    "def get_executions_df(file_path: str):\n",
    "    df = pd.read_csv(file_path)\n",
    "    df = df[df[\"realized_pnl\"].notnull()]\n",
    "    df[\"date\"] = pd.to_datetime(df[\"time_completed\"]).dt.date\n",
    "\n",
    "    df_grouped = df.groupby(\"date\").sum()[[\"realized_pnl\", \"px_side\"]]\n",
    "\n",
    "    df_grouped[\"$_per_px\"] = df_grouped[\"realized_pnl\"] / df_grouped[\"px_side\"]\n",
    "    df_grouped[\"realized_pnl_cum\"] = df_grouped[\"realized_pnl\"].cumsum()\n",
    "    df_grouped[\"profit\"] = df[df[\"realized_pnl\"] > 0].groupby(\"date\").count()[\"realized_pnl\"]\n",
    "    df_grouped[\"loss\"] = df[df[\"realized_pnl\"] < 0].groupby(\"date\").count()[\"realized_pnl\"]\n",
    "    df_grouped.loc[\"Total\"] = df_grouped.sum(numeric_only=True)\n",
    "\n",
    "    return df_grouped\n",
    "\n",
    "\n",
    "df_exec = get_executions_df(PATH)\n",
    "df_exec"
   ],
   "metadata": {
    "collapsed": false,
    "pycharm": {
     "name": "#%%\n"
    }
   }
  },
  {
   "cell_type": "code",
   "execution_count": 9,
   "outputs": [
    {
     "data": {
      "text/plain": "            quantity  realized_pnl  px_side  realized_pnl_pos  \\\ndate                                                            \n2022-03-18        57       2326.02   320.21           2943.51   \n2022-03-21        90      -1456.60  -306.44           3122.90   \n2022-03-22        20        943.20   117.32           1809.46   \n2022-03-23        50       -261.50   -47.26           1888.12   \n2022-03-24        23        717.28   145.17           1050.76   \n2022-03-25        87        -69.18   -76.45           2184.02   \n2022-03-28        69        649.84    53.15           2311.20   \n2022-03-29        59        419.24    47.71           1323.34   \n2022-03-30       150       -299.50    30.12           2425.98   \n2022-03-31       169      -3514.66  -377.09           1719.36   \n2022-04-01       118       -590.02  -118.92           1738.20   \n2022-04-03        19       -253.66   -45.06             21.16   \n2022-04-04        47        585.92   118.06           1516.22   \n2022-04-05        54      -1410.06  -208.51           1004.34   \n2022-04-06        95      -1763.80  -354.90           2941.26   \n2022-04-07        44       -926.16  -226.14           1097.00   \n2022-04-08        39      -1195.46  -371.97            480.82   \n2022-04-11         2        449.22   224.61            449.22   \n2022-04-12        16        207.76    72.41            947.60   \n2022-04-13        18        117.98   -77.45            623.04   \n2022-04-14        13        474.68   279.23            768.02   \n2022-04-18        20      -1218.58  -505.32            634.80   \n2022-04-19        20        310.70    52.84            977.46   \n2022-04-20        13       -834.32  -319.00               NaN   \n2022-04-21        11        697.96   348.98            990.52   \n2022-04-22        19        232.09   200.27            862.21   \n2022-04-25         2       -175.53   -87.76            232.36   \n2022-04-26        12        416.32   177.68            630.10   \n2022-04-27         7        108.02    87.65            260.30   \n\n            realized_pnl_neg  realized_pnl_count  \ndate                                              \n2022-03-18           -617.49                  19  \n2022-03-21          -4579.50                  27  \n2022-03-22           -866.26                   5  \n2022-03-23          -2149.62                  14  \n2022-03-24           -333.48                   9  \n2022-03-25          -2253.20                  29  \n2022-03-28          -1661.36                  19  \n2022-03-29           -904.10                  18  \n2022-03-30          -2725.48                  34  \n2022-03-31          -5234.02                  36  \n2022-04-01          -2328.22                  31  \n2022-04-03           -274.82                   8  \n2022-04-04           -930.30                  14  \n2022-04-05          -2414.40                  15  \n2022-04-06          -4705.06                  31  \n2022-04-07          -2023.16                  24  \n2022-04-08          -1676.28                  30  \n2022-04-11               NaN                   2  \n2022-04-12           -739.84                  12  \n2022-04-13           -505.06                  10  \n2022-04-14           -293.34                  11  \n2022-04-18          -1853.38                  13  \n2022-04-19           -666.76                  13  \n2022-04-20           -834.32                   9  \n2022-04-21           -292.56                  11  \n2022-04-22           -630.12                  14  \n2022-04-25           -407.89                   2  \n2022-04-26           -213.78                  10  \n2022-04-27           -152.28                   5  ",
      "text/html": "<div>\n<style scoped>\n    .dataframe tbody tr th:only-of-type {\n        vertical-align: middle;\n    }\n\n    .dataframe tbody tr th {\n        vertical-align: top;\n    }\n\n    .dataframe thead th {\n        text-align: right;\n    }\n</style>\n<table border=\"1\" class=\"dataframe\">\n  <thead>\n    <tr style=\"text-align: right;\">\n      <th></th>\n      <th>quantity</th>\n      <th>realized_pnl</th>\n      <th>px_side</th>\n      <th>realized_pnl_pos</th>\n      <th>realized_pnl_neg</th>\n      <th>realized_pnl_count</th>\n    </tr>\n    <tr>\n      <th>date</th>\n      <th></th>\n      <th></th>\n      <th></th>\n      <th></th>\n      <th></th>\n      <th></th>\n    </tr>\n  </thead>\n  <tbody>\n    <tr>\n      <th>2022-03-18</th>\n      <td>57</td>\n      <td>2326.02</td>\n      <td>320.21</td>\n      <td>2943.51</td>\n      <td>-617.49</td>\n      <td>19</td>\n    </tr>\n    <tr>\n      <th>2022-03-21</th>\n      <td>90</td>\n      <td>-1456.60</td>\n      <td>-306.44</td>\n      <td>3122.90</td>\n      <td>-4579.50</td>\n      <td>27</td>\n    </tr>\n    <tr>\n      <th>2022-03-22</th>\n      <td>20</td>\n      <td>943.20</td>\n      <td>117.32</td>\n      <td>1809.46</td>\n      <td>-866.26</td>\n      <td>5</td>\n    </tr>\n    <tr>\n      <th>2022-03-23</th>\n      <td>50</td>\n      <td>-261.50</td>\n      <td>-47.26</td>\n      <td>1888.12</td>\n      <td>-2149.62</td>\n      <td>14</td>\n    </tr>\n    <tr>\n      <th>2022-03-24</th>\n      <td>23</td>\n      <td>717.28</td>\n      <td>145.17</td>\n      <td>1050.76</td>\n      <td>-333.48</td>\n      <td>9</td>\n    </tr>\n    <tr>\n      <th>2022-03-25</th>\n      <td>87</td>\n      <td>-69.18</td>\n      <td>-76.45</td>\n      <td>2184.02</td>\n      <td>-2253.20</td>\n      <td>29</td>\n    </tr>\n    <tr>\n      <th>2022-03-28</th>\n      <td>69</td>\n      <td>649.84</td>\n      <td>53.15</td>\n      <td>2311.20</td>\n      <td>-1661.36</td>\n      <td>19</td>\n    </tr>\n    <tr>\n      <th>2022-03-29</th>\n      <td>59</td>\n      <td>419.24</td>\n      <td>47.71</td>\n      <td>1323.34</td>\n      <td>-904.10</td>\n      <td>18</td>\n    </tr>\n    <tr>\n      <th>2022-03-30</th>\n      <td>150</td>\n      <td>-299.50</td>\n      <td>30.12</td>\n      <td>2425.98</td>\n      <td>-2725.48</td>\n      <td>34</td>\n    </tr>\n    <tr>\n      <th>2022-03-31</th>\n      <td>169</td>\n      <td>-3514.66</td>\n      <td>-377.09</td>\n      <td>1719.36</td>\n      <td>-5234.02</td>\n      <td>36</td>\n    </tr>\n    <tr>\n      <th>2022-04-01</th>\n      <td>118</td>\n      <td>-590.02</td>\n      <td>-118.92</td>\n      <td>1738.20</td>\n      <td>-2328.22</td>\n      <td>31</td>\n    </tr>\n    <tr>\n      <th>2022-04-03</th>\n      <td>19</td>\n      <td>-253.66</td>\n      <td>-45.06</td>\n      <td>21.16</td>\n      <td>-274.82</td>\n      <td>8</td>\n    </tr>\n    <tr>\n      <th>2022-04-04</th>\n      <td>47</td>\n      <td>585.92</td>\n      <td>118.06</td>\n      <td>1516.22</td>\n      <td>-930.30</td>\n      <td>14</td>\n    </tr>\n    <tr>\n      <th>2022-04-05</th>\n      <td>54</td>\n      <td>-1410.06</td>\n      <td>-208.51</td>\n      <td>1004.34</td>\n      <td>-2414.40</td>\n      <td>15</td>\n    </tr>\n    <tr>\n      <th>2022-04-06</th>\n      <td>95</td>\n      <td>-1763.80</td>\n      <td>-354.90</td>\n      <td>2941.26</td>\n      <td>-4705.06</td>\n      <td>31</td>\n    </tr>\n    <tr>\n      <th>2022-04-07</th>\n      <td>44</td>\n      <td>-926.16</td>\n      <td>-226.14</td>\n      <td>1097.00</td>\n      <td>-2023.16</td>\n      <td>24</td>\n    </tr>\n    <tr>\n      <th>2022-04-08</th>\n      <td>39</td>\n      <td>-1195.46</td>\n      <td>-371.97</td>\n      <td>480.82</td>\n      <td>-1676.28</td>\n      <td>30</td>\n    </tr>\n    <tr>\n      <th>2022-04-11</th>\n      <td>2</td>\n      <td>449.22</td>\n      <td>224.61</td>\n      <td>449.22</td>\n      <td>NaN</td>\n      <td>2</td>\n    </tr>\n    <tr>\n      <th>2022-04-12</th>\n      <td>16</td>\n      <td>207.76</td>\n      <td>72.41</td>\n      <td>947.60</td>\n      <td>-739.84</td>\n      <td>12</td>\n    </tr>\n    <tr>\n      <th>2022-04-13</th>\n      <td>18</td>\n      <td>117.98</td>\n      <td>-77.45</td>\n      <td>623.04</td>\n      <td>-505.06</td>\n      <td>10</td>\n    </tr>\n    <tr>\n      <th>2022-04-14</th>\n      <td>13</td>\n      <td>474.68</td>\n      <td>279.23</td>\n      <td>768.02</td>\n      <td>-293.34</td>\n      <td>11</td>\n    </tr>\n    <tr>\n      <th>2022-04-18</th>\n      <td>20</td>\n      <td>-1218.58</td>\n      <td>-505.32</td>\n      <td>634.80</td>\n      <td>-1853.38</td>\n      <td>13</td>\n    </tr>\n    <tr>\n      <th>2022-04-19</th>\n      <td>20</td>\n      <td>310.70</td>\n      <td>52.84</td>\n      <td>977.46</td>\n      <td>-666.76</td>\n      <td>13</td>\n    </tr>\n    <tr>\n      <th>2022-04-20</th>\n      <td>13</td>\n      <td>-834.32</td>\n      <td>-319.00</td>\n      <td>NaN</td>\n      <td>-834.32</td>\n      <td>9</td>\n    </tr>\n    <tr>\n      <th>2022-04-21</th>\n      <td>11</td>\n      <td>697.96</td>\n      <td>348.98</td>\n      <td>990.52</td>\n      <td>-292.56</td>\n      <td>11</td>\n    </tr>\n    <tr>\n      <th>2022-04-22</th>\n      <td>19</td>\n      <td>232.09</td>\n      <td>200.27</td>\n      <td>862.21</td>\n      <td>-630.12</td>\n      <td>14</td>\n    </tr>\n    <tr>\n      <th>2022-04-25</th>\n      <td>2</td>\n      <td>-175.53</td>\n      <td>-87.76</td>\n      <td>232.36</td>\n      <td>-407.89</td>\n      <td>2</td>\n    </tr>\n    <tr>\n      <th>2022-04-26</th>\n      <td>12</td>\n      <td>416.32</td>\n      <td>177.68</td>\n      <td>630.10</td>\n      <td>-213.78</td>\n      <td>10</td>\n    </tr>\n    <tr>\n      <th>2022-04-27</th>\n      <td>7</td>\n      <td>108.02</td>\n      <td>87.65</td>\n      <td>260.30</td>\n      <td>-152.28</td>\n      <td>5</td>\n    </tr>\n  </tbody>\n</table>\n</div>"
     },
     "execution_count": 9,
     "metadata": {},
     "output_type": "execute_result"
    }
   ],
   "source": [
    "def get_executions_ungroup(file_path: str):\n",
    "    df = pd.read_csv(file_path)\n",
    "    df = df[df[\"realized_pnl\"].notnull()]\n",
    "    df[\"date\"] = pd.to_datetime(df[\"time_completed\"]).dt.date\n",
    "\n",
    "    cols = [\"quantity\", \"realized_pnl\", \"px_side\"]\n",
    "\n",
    "    df_pos = df[df[\"realized_pnl\"] > 0].groupby(\"date\").sum()[[\"realized_pnl\"]]\n",
    "    df_neg = df[df[\"realized_pnl\"] < 0].groupby(\"date\").sum()[[\"realized_pnl\"]]\n",
    "\n",
    "    return df.groupby(\"date\").sum()[cols] \\\n",
    "        .join(df_pos, rsuffix=\"_pos\") \\\n",
    "        .join(df_neg, rsuffix=\"_neg\") \\\n",
    "        .join(df.groupby(\"date\").count()[[\"realized_pnl\"]], rsuffix=\"_count\")\n",
    "\n",
    "\n",
    "get_executions_ungroup(PATH)"
   ],
   "metadata": {
    "collapsed": false,
    "pycharm": {
     "name": "#%%\n"
    }
   }
  },
  {
   "cell_type": "code",
   "execution_count": 10,
   "outputs": [
    {
     "data": {
      "application/vnd.plotly.v1+json": {
       "data": [
        {
         "hovertemplate": "date=%{x}<br>realized_pnl_cum=%{y}<extra></extra>",
         "legendgroup": "",
         "line": {
          "color": "#636efa",
          "dash": "solid"
         },
         "marker": {
          "symbol": "circle"
         },
         "mode": "lines",
         "name": "",
         "orientation": "v",
         "showlegend": false,
         "x": [
          "2022-03-18",
          "2022-03-21",
          "2022-03-22",
          "2022-03-23",
          "2022-03-24",
          "2022-03-25",
          "2022-03-28",
          "2022-03-29",
          "2022-03-30",
          "2022-03-31",
          "2022-04-01",
          "2022-04-03",
          "2022-04-04",
          "2022-04-05",
          "2022-04-06",
          "2022-04-07",
          "2022-04-08",
          "2022-04-11",
          "2022-04-12",
          "2022-04-13",
          "2022-04-14",
          "2022-04-18",
          "2022-04-19",
          "2022-04-20",
          "2022-04-21",
          "2022-04-22",
          "2022-04-25",
          "2022-04-26",
          "2022-04-27",
          "Total"
         ],
         "xaxis": "x",
         "y": [
          2326.020001,
          869.4200000000003,
          1812.6200000000003,
          1551.1200000000003,
          2268.4000000000005,
          2199.2200010000006,
          2849.0600010000007,
          3268.3000010000005,
          2968.7999990000008,
          -545.8600009999991,
          -1135.880000999999,
          -1389.5400009999992,
          -803.6200009999991,
          -2213.680000999999,
          -3977.480000999999,
          -4903.640000999999,
          -6099.100000999999,
          -5649.880000999999,
          -5442.120000999998,
          -5324.140000999998,
          -4849.460000999998,
          -6068.040000999998,
          -5757.340000999998,
          -6591.6600009999975,
          -5893.700000999997,
          -5661.610000999997,
          -5837.140000999997,
          -5420.820000999997,
          -5312.800000999997,
          -68764.55001699997
         ],
         "yaxis": "y",
         "type": "scatter"
        }
       ],
       "layout": {
        "template": {
         "data": {
          "bar": [
           {
            "error_x": {
             "color": "#f2f5fa"
            },
            "error_y": {
             "color": "#f2f5fa"
            },
            "marker": {
             "line": {
              "color": "rgb(17,17,17)",
              "width": 0.5
             },
             "pattern": {
              "fillmode": "overlay",
              "size": 10,
              "solidity": 0.2
             }
            },
            "type": "bar"
           }
          ],
          "barpolar": [
           {
            "marker": {
             "line": {
              "color": "rgb(17,17,17)",
              "width": 0.5
             },
             "pattern": {
              "fillmode": "overlay",
              "size": 10,
              "solidity": 0.2
             }
            },
            "type": "barpolar"
           }
          ],
          "carpet": [
           {
            "aaxis": {
             "endlinecolor": "#A2B1C6",
             "gridcolor": "#506784",
             "linecolor": "#506784",
             "minorgridcolor": "#506784",
             "startlinecolor": "#A2B1C6"
            },
            "baxis": {
             "endlinecolor": "#A2B1C6",
             "gridcolor": "#506784",
             "linecolor": "#506784",
             "minorgridcolor": "#506784",
             "startlinecolor": "#A2B1C6"
            },
            "type": "carpet"
           }
          ],
          "choropleth": [
           {
            "colorbar": {
             "outlinewidth": 0,
             "ticks": ""
            },
            "type": "choropleth"
           }
          ],
          "contour": [
           {
            "colorbar": {
             "outlinewidth": 0,
             "ticks": ""
            },
            "colorscale": [
             [
              0.0,
              "#0d0887"
             ],
             [
              0.1111111111111111,
              "#46039f"
             ],
             [
              0.2222222222222222,
              "#7201a8"
             ],
             [
              0.3333333333333333,
              "#9c179e"
             ],
             [
              0.4444444444444444,
              "#bd3786"
             ],
             [
              0.5555555555555556,
              "#d8576b"
             ],
             [
              0.6666666666666666,
              "#ed7953"
             ],
             [
              0.7777777777777778,
              "#fb9f3a"
             ],
             [
              0.8888888888888888,
              "#fdca26"
             ],
             [
              1.0,
              "#f0f921"
             ]
            ],
            "type": "contour"
           }
          ],
          "contourcarpet": [
           {
            "colorbar": {
             "outlinewidth": 0,
             "ticks": ""
            },
            "type": "contourcarpet"
           }
          ],
          "heatmap": [
           {
            "colorbar": {
             "outlinewidth": 0,
             "ticks": ""
            },
            "colorscale": [
             [
              0.0,
              "#0d0887"
             ],
             [
              0.1111111111111111,
              "#46039f"
             ],
             [
              0.2222222222222222,
              "#7201a8"
             ],
             [
              0.3333333333333333,
              "#9c179e"
             ],
             [
              0.4444444444444444,
              "#bd3786"
             ],
             [
              0.5555555555555556,
              "#d8576b"
             ],
             [
              0.6666666666666666,
              "#ed7953"
             ],
             [
              0.7777777777777778,
              "#fb9f3a"
             ],
             [
              0.8888888888888888,
              "#fdca26"
             ],
             [
              1.0,
              "#f0f921"
             ]
            ],
            "type": "heatmap"
           }
          ],
          "heatmapgl": [
           {
            "colorbar": {
             "outlinewidth": 0,
             "ticks": ""
            },
            "colorscale": [
             [
              0.0,
              "#0d0887"
             ],
             [
              0.1111111111111111,
              "#46039f"
             ],
             [
              0.2222222222222222,
              "#7201a8"
             ],
             [
              0.3333333333333333,
              "#9c179e"
             ],
             [
              0.4444444444444444,
              "#bd3786"
             ],
             [
              0.5555555555555556,
              "#d8576b"
             ],
             [
              0.6666666666666666,
              "#ed7953"
             ],
             [
              0.7777777777777778,
              "#fb9f3a"
             ],
             [
              0.8888888888888888,
              "#fdca26"
             ],
             [
              1.0,
              "#f0f921"
             ]
            ],
            "type": "heatmapgl"
           }
          ],
          "histogram": [
           {
            "marker": {
             "pattern": {
              "fillmode": "overlay",
              "size": 10,
              "solidity": 0.2
             }
            },
            "type": "histogram"
           }
          ],
          "histogram2d": [
           {
            "colorbar": {
             "outlinewidth": 0,
             "ticks": ""
            },
            "colorscale": [
             [
              0.0,
              "#0d0887"
             ],
             [
              0.1111111111111111,
              "#46039f"
             ],
             [
              0.2222222222222222,
              "#7201a8"
             ],
             [
              0.3333333333333333,
              "#9c179e"
             ],
             [
              0.4444444444444444,
              "#bd3786"
             ],
             [
              0.5555555555555556,
              "#d8576b"
             ],
             [
              0.6666666666666666,
              "#ed7953"
             ],
             [
              0.7777777777777778,
              "#fb9f3a"
             ],
             [
              0.8888888888888888,
              "#fdca26"
             ],
             [
              1.0,
              "#f0f921"
             ]
            ],
            "type": "histogram2d"
           }
          ],
          "histogram2dcontour": [
           {
            "colorbar": {
             "outlinewidth": 0,
             "ticks": ""
            },
            "colorscale": [
             [
              0.0,
              "#0d0887"
             ],
             [
              0.1111111111111111,
              "#46039f"
             ],
             [
              0.2222222222222222,
              "#7201a8"
             ],
             [
              0.3333333333333333,
              "#9c179e"
             ],
             [
              0.4444444444444444,
              "#bd3786"
             ],
             [
              0.5555555555555556,
              "#d8576b"
             ],
             [
              0.6666666666666666,
              "#ed7953"
             ],
             [
              0.7777777777777778,
              "#fb9f3a"
             ],
             [
              0.8888888888888888,
              "#fdca26"
             ],
             [
              1.0,
              "#f0f921"
             ]
            ],
            "type": "histogram2dcontour"
           }
          ],
          "mesh3d": [
           {
            "colorbar": {
             "outlinewidth": 0,
             "ticks": ""
            },
            "type": "mesh3d"
           }
          ],
          "parcoords": [
           {
            "line": {
             "colorbar": {
              "outlinewidth": 0,
              "ticks": ""
             }
            },
            "type": "parcoords"
           }
          ],
          "pie": [
           {
            "automargin": true,
            "type": "pie"
           }
          ],
          "scatter": [
           {
            "marker": {
             "line": {
              "color": "#283442"
             }
            },
            "type": "scatter"
           }
          ],
          "scatter3d": [
           {
            "line": {
             "colorbar": {
              "outlinewidth": 0,
              "ticks": ""
             }
            },
            "marker": {
             "colorbar": {
              "outlinewidth": 0,
              "ticks": ""
             }
            },
            "type": "scatter3d"
           }
          ],
          "scattercarpet": [
           {
            "marker": {
             "colorbar": {
              "outlinewidth": 0,
              "ticks": ""
             }
            },
            "type": "scattercarpet"
           }
          ],
          "scattergeo": [
           {
            "marker": {
             "colorbar": {
              "outlinewidth": 0,
              "ticks": ""
             }
            },
            "type": "scattergeo"
           }
          ],
          "scattergl": [
           {
            "marker": {
             "line": {
              "color": "#283442"
             }
            },
            "type": "scattergl"
           }
          ],
          "scattermapbox": [
           {
            "marker": {
             "colorbar": {
              "outlinewidth": 0,
              "ticks": ""
             }
            },
            "type": "scattermapbox"
           }
          ],
          "scatterpolar": [
           {
            "marker": {
             "colorbar": {
              "outlinewidth": 0,
              "ticks": ""
             }
            },
            "type": "scatterpolar"
           }
          ],
          "scatterpolargl": [
           {
            "marker": {
             "colorbar": {
              "outlinewidth": 0,
              "ticks": ""
             }
            },
            "type": "scatterpolargl"
           }
          ],
          "scatterternary": [
           {
            "marker": {
             "colorbar": {
              "outlinewidth": 0,
              "ticks": ""
             }
            },
            "type": "scatterternary"
           }
          ],
          "surface": [
           {
            "colorbar": {
             "outlinewidth": 0,
             "ticks": ""
            },
            "colorscale": [
             [
              0.0,
              "#0d0887"
             ],
             [
              0.1111111111111111,
              "#46039f"
             ],
             [
              0.2222222222222222,
              "#7201a8"
             ],
             [
              0.3333333333333333,
              "#9c179e"
             ],
             [
              0.4444444444444444,
              "#bd3786"
             ],
             [
              0.5555555555555556,
              "#d8576b"
             ],
             [
              0.6666666666666666,
              "#ed7953"
             ],
             [
              0.7777777777777778,
              "#fb9f3a"
             ],
             [
              0.8888888888888888,
              "#fdca26"
             ],
             [
              1.0,
              "#f0f921"
             ]
            ],
            "type": "surface"
           }
          ],
          "table": [
           {
            "cells": {
             "fill": {
              "color": "#506784"
             },
             "line": {
              "color": "rgb(17,17,17)"
             }
            },
            "header": {
             "fill": {
              "color": "#2a3f5f"
             },
             "line": {
              "color": "rgb(17,17,17)"
             }
            },
            "type": "table"
           }
          ]
         },
         "layout": {
          "annotationdefaults": {
           "arrowcolor": "#f2f5fa",
           "arrowhead": 0,
           "arrowwidth": 1
          },
          "autotypenumbers": "strict",
          "coloraxis": {
           "colorbar": {
            "outlinewidth": 0,
            "ticks": ""
           }
          },
          "colorscale": {
           "diverging": [
            [
             0,
             "#8e0152"
            ],
            [
             0.1,
             "#c51b7d"
            ],
            [
             0.2,
             "#de77ae"
            ],
            [
             0.3,
             "#f1b6da"
            ],
            [
             0.4,
             "#fde0ef"
            ],
            [
             0.5,
             "#f7f7f7"
            ],
            [
             0.6,
             "#e6f5d0"
            ],
            [
             0.7,
             "#b8e186"
            ],
            [
             0.8,
             "#7fbc41"
            ],
            [
             0.9,
             "#4d9221"
            ],
            [
             1,
             "#276419"
            ]
           ],
           "sequential": [
            [
             0.0,
             "#0d0887"
            ],
            [
             0.1111111111111111,
             "#46039f"
            ],
            [
             0.2222222222222222,
             "#7201a8"
            ],
            [
             0.3333333333333333,
             "#9c179e"
            ],
            [
             0.4444444444444444,
             "#bd3786"
            ],
            [
             0.5555555555555556,
             "#d8576b"
            ],
            [
             0.6666666666666666,
             "#ed7953"
            ],
            [
             0.7777777777777778,
             "#fb9f3a"
            ],
            [
             0.8888888888888888,
             "#fdca26"
            ],
            [
             1.0,
             "#f0f921"
            ]
           ],
           "sequentialminus": [
            [
             0.0,
             "#0d0887"
            ],
            [
             0.1111111111111111,
             "#46039f"
            ],
            [
             0.2222222222222222,
             "#7201a8"
            ],
            [
             0.3333333333333333,
             "#9c179e"
            ],
            [
             0.4444444444444444,
             "#bd3786"
            ],
            [
             0.5555555555555556,
             "#d8576b"
            ],
            [
             0.6666666666666666,
             "#ed7953"
            ],
            [
             0.7777777777777778,
             "#fb9f3a"
            ],
            [
             0.8888888888888888,
             "#fdca26"
            ],
            [
             1.0,
             "#f0f921"
            ]
           ]
          },
          "colorway": [
           "#636efa",
           "#EF553B",
           "#00cc96",
           "#ab63fa",
           "#FFA15A",
           "#19d3f3",
           "#FF6692",
           "#B6E880",
           "#FF97FF",
           "#FECB52"
          ],
          "font": {
           "color": "#f2f5fa"
          },
          "geo": {
           "bgcolor": "rgb(17,17,17)",
           "lakecolor": "rgb(17,17,17)",
           "landcolor": "rgb(17,17,17)",
           "showlakes": true,
           "showland": true,
           "subunitcolor": "#506784"
          },
          "hoverlabel": {
           "align": "left"
          },
          "hovermode": "closest",
          "mapbox": {
           "style": "dark"
          },
          "paper_bgcolor": "rgb(17,17,17)",
          "plot_bgcolor": "rgb(17,17,17)",
          "polar": {
           "angularaxis": {
            "gridcolor": "#506784",
            "linecolor": "#506784",
            "ticks": ""
           },
           "bgcolor": "rgb(17,17,17)",
           "radialaxis": {
            "gridcolor": "#506784",
            "linecolor": "#506784",
            "ticks": ""
           }
          },
          "scene": {
           "xaxis": {
            "backgroundcolor": "rgb(17,17,17)",
            "gridcolor": "#506784",
            "gridwidth": 2,
            "linecolor": "#506784",
            "showbackground": true,
            "ticks": "",
            "zerolinecolor": "#C8D4E3"
           },
           "yaxis": {
            "backgroundcolor": "rgb(17,17,17)",
            "gridcolor": "#506784",
            "gridwidth": 2,
            "linecolor": "#506784",
            "showbackground": true,
            "ticks": "",
            "zerolinecolor": "#C8D4E3"
           },
           "zaxis": {
            "backgroundcolor": "rgb(17,17,17)",
            "gridcolor": "#506784",
            "gridwidth": 2,
            "linecolor": "#506784",
            "showbackground": true,
            "ticks": "",
            "zerolinecolor": "#C8D4E3"
           }
          },
          "shapedefaults": {
           "line": {
            "color": "#f2f5fa"
           }
          },
          "sliderdefaults": {
           "bgcolor": "#C8D4E3",
           "bordercolor": "rgb(17,17,17)",
           "borderwidth": 1,
           "tickwidth": 0
          },
          "ternary": {
           "aaxis": {
            "gridcolor": "#506784",
            "linecolor": "#506784",
            "ticks": ""
           },
           "baxis": {
            "gridcolor": "#506784",
            "linecolor": "#506784",
            "ticks": ""
           },
           "bgcolor": "rgb(17,17,17)",
           "caxis": {
            "gridcolor": "#506784",
            "linecolor": "#506784",
            "ticks": ""
           }
          },
          "title": {
           "x": 0.05
          },
          "updatemenudefaults": {
           "bgcolor": "#506784",
           "borderwidth": 0
          },
          "xaxis": {
           "automargin": true,
           "gridcolor": "#283442",
           "linecolor": "#506784",
           "ticks": "",
           "title": {
            "standoff": 15
           },
           "zerolinecolor": "#283442",
           "zerolinewidth": 2
          },
          "yaxis": {
           "automargin": true,
           "gridcolor": "#283442",
           "linecolor": "#506784",
           "ticks": "",
           "title": {
            "standoff": 15
           },
           "zerolinecolor": "#283442",
           "zerolinewidth": 2
          }
         }
        },
        "xaxis": {
         "anchor": "y",
         "domain": [
          0.0,
          1.0
         ],
         "title": {
          "text": "date"
         }
        },
        "yaxis": {
         "anchor": "x",
         "domain": [
          0.0,
          1.0
         ],
         "title": {
          "text": "realized_pnl_cum"
         }
        },
        "legend": {
         "tracegroupgap": 0
        },
        "margin": {
         "t": 60
        }
       },
       "config": {
        "plotlyServerURL": "https://plot.ly"
       }
      },
      "text/html": "<div>                            <div id=\"f1bb3a9e-c466-46df-918d-bc6f3d327764\" class=\"plotly-graph-div\" style=\"height:525px; width:100%;\"></div>            <script type=\"text/javascript\">                require([\"plotly\"], function(Plotly) {                    window.PLOTLYENV=window.PLOTLYENV || {};                                    if (document.getElementById(\"f1bb3a9e-c466-46df-918d-bc6f3d327764\")) {                    Plotly.newPlot(                        \"f1bb3a9e-c466-46df-918d-bc6f3d327764\",                        [{\"hovertemplate\":\"date=%{x}<br>realized_pnl_cum=%{y}<extra></extra>\",\"legendgroup\":\"\",\"line\":{\"color\":\"#636efa\",\"dash\":\"solid\"},\"marker\":{\"symbol\":\"circle\"},\"mode\":\"lines\",\"name\":\"\",\"orientation\":\"v\",\"showlegend\":false,\"x\":[\"2022-03-18\",\"2022-03-21\",\"2022-03-22\",\"2022-03-23\",\"2022-03-24\",\"2022-03-25\",\"2022-03-28\",\"2022-03-29\",\"2022-03-30\",\"2022-03-31\",\"2022-04-01\",\"2022-04-03\",\"2022-04-04\",\"2022-04-05\",\"2022-04-06\",\"2022-04-07\",\"2022-04-08\",\"2022-04-11\",\"2022-04-12\",\"2022-04-13\",\"2022-04-14\",\"2022-04-18\",\"2022-04-19\",\"2022-04-20\",\"2022-04-21\",\"2022-04-22\",\"2022-04-25\",\"2022-04-26\",\"2022-04-27\",\"Total\"],\"xaxis\":\"x\",\"y\":[2326.020001,869.4200000000003,1812.6200000000003,1551.1200000000003,2268.4000000000005,2199.2200010000006,2849.0600010000007,3268.3000010000005,2968.7999990000008,-545.8600009999991,-1135.880000999999,-1389.5400009999992,-803.6200009999991,-2213.680000999999,-3977.480000999999,-4903.640000999999,-6099.100000999999,-5649.880000999999,-5442.120000999998,-5324.140000999998,-4849.460000999998,-6068.040000999998,-5757.340000999998,-6591.6600009999975,-5893.700000999997,-5661.610000999997,-5837.140000999997,-5420.820000999997,-5312.800000999997,-68764.55001699997],\"yaxis\":\"y\",\"type\":\"scatter\"}],                        {\"template\":{\"data\":{\"bar\":[{\"error_x\":{\"color\":\"#f2f5fa\"},\"error_y\":{\"color\":\"#f2f5fa\"},\"marker\":{\"line\":{\"color\":\"rgb(17,17,17)\",\"width\":0.5},\"pattern\":{\"fillmode\":\"overlay\",\"size\":10,\"solidity\":0.2}},\"type\":\"bar\"}],\"barpolar\":[{\"marker\":{\"line\":{\"color\":\"rgb(17,17,17)\",\"width\":0.5},\"pattern\":{\"fillmode\":\"overlay\",\"size\":10,\"solidity\":0.2}},\"type\":\"barpolar\"}],\"carpet\":[{\"aaxis\":{\"endlinecolor\":\"#A2B1C6\",\"gridcolor\":\"#506784\",\"linecolor\":\"#506784\",\"minorgridcolor\":\"#506784\",\"startlinecolor\":\"#A2B1C6\"},\"baxis\":{\"endlinecolor\":\"#A2B1C6\",\"gridcolor\":\"#506784\",\"linecolor\":\"#506784\",\"minorgridcolor\":\"#506784\",\"startlinecolor\":\"#A2B1C6\"},\"type\":\"carpet\"}],\"choropleth\":[{\"colorbar\":{\"outlinewidth\":0,\"ticks\":\"\"},\"type\":\"choropleth\"}],\"contour\":[{\"colorbar\":{\"outlinewidth\":0,\"ticks\":\"\"},\"colorscale\":[[0.0,\"#0d0887\"],[0.1111111111111111,\"#46039f\"],[0.2222222222222222,\"#7201a8\"],[0.3333333333333333,\"#9c179e\"],[0.4444444444444444,\"#bd3786\"],[0.5555555555555556,\"#d8576b\"],[0.6666666666666666,\"#ed7953\"],[0.7777777777777778,\"#fb9f3a\"],[0.8888888888888888,\"#fdca26\"],[1.0,\"#f0f921\"]],\"type\":\"contour\"}],\"contourcarpet\":[{\"colorbar\":{\"outlinewidth\":0,\"ticks\":\"\"},\"type\":\"contourcarpet\"}],\"heatmap\":[{\"colorbar\":{\"outlinewidth\":0,\"ticks\":\"\"},\"colorscale\":[[0.0,\"#0d0887\"],[0.1111111111111111,\"#46039f\"],[0.2222222222222222,\"#7201a8\"],[0.3333333333333333,\"#9c179e\"],[0.4444444444444444,\"#bd3786\"],[0.5555555555555556,\"#d8576b\"],[0.6666666666666666,\"#ed7953\"],[0.7777777777777778,\"#fb9f3a\"],[0.8888888888888888,\"#fdca26\"],[1.0,\"#f0f921\"]],\"type\":\"heatmap\"}],\"heatmapgl\":[{\"colorbar\":{\"outlinewidth\":0,\"ticks\":\"\"},\"colorscale\":[[0.0,\"#0d0887\"],[0.1111111111111111,\"#46039f\"],[0.2222222222222222,\"#7201a8\"],[0.3333333333333333,\"#9c179e\"],[0.4444444444444444,\"#bd3786\"],[0.5555555555555556,\"#d8576b\"],[0.6666666666666666,\"#ed7953\"],[0.7777777777777778,\"#fb9f3a\"],[0.8888888888888888,\"#fdca26\"],[1.0,\"#f0f921\"]],\"type\":\"heatmapgl\"}],\"histogram\":[{\"marker\":{\"pattern\":{\"fillmode\":\"overlay\",\"size\":10,\"solidity\":0.2}},\"type\":\"histogram\"}],\"histogram2d\":[{\"colorbar\":{\"outlinewidth\":0,\"ticks\":\"\"},\"colorscale\":[[0.0,\"#0d0887\"],[0.1111111111111111,\"#46039f\"],[0.2222222222222222,\"#7201a8\"],[0.3333333333333333,\"#9c179e\"],[0.4444444444444444,\"#bd3786\"],[0.5555555555555556,\"#d8576b\"],[0.6666666666666666,\"#ed7953\"],[0.7777777777777778,\"#fb9f3a\"],[0.8888888888888888,\"#fdca26\"],[1.0,\"#f0f921\"]],\"type\":\"histogram2d\"}],\"histogram2dcontour\":[{\"colorbar\":{\"outlinewidth\":0,\"ticks\":\"\"},\"colorscale\":[[0.0,\"#0d0887\"],[0.1111111111111111,\"#46039f\"],[0.2222222222222222,\"#7201a8\"],[0.3333333333333333,\"#9c179e\"],[0.4444444444444444,\"#bd3786\"],[0.5555555555555556,\"#d8576b\"],[0.6666666666666666,\"#ed7953\"],[0.7777777777777778,\"#fb9f3a\"],[0.8888888888888888,\"#fdca26\"],[1.0,\"#f0f921\"]],\"type\":\"histogram2dcontour\"}],\"mesh3d\":[{\"colorbar\":{\"outlinewidth\":0,\"ticks\":\"\"},\"type\":\"mesh3d\"}],\"parcoords\":[{\"line\":{\"colorbar\":{\"outlinewidth\":0,\"ticks\":\"\"}},\"type\":\"parcoords\"}],\"pie\":[{\"automargin\":true,\"type\":\"pie\"}],\"scatter\":[{\"marker\":{\"line\":{\"color\":\"#283442\"}},\"type\":\"scatter\"}],\"scatter3d\":[{\"line\":{\"colorbar\":{\"outlinewidth\":0,\"ticks\":\"\"}},\"marker\":{\"colorbar\":{\"outlinewidth\":0,\"ticks\":\"\"}},\"type\":\"scatter3d\"}],\"scattercarpet\":[{\"marker\":{\"colorbar\":{\"outlinewidth\":0,\"ticks\":\"\"}},\"type\":\"scattercarpet\"}],\"scattergeo\":[{\"marker\":{\"colorbar\":{\"outlinewidth\":0,\"ticks\":\"\"}},\"type\":\"scattergeo\"}],\"scattergl\":[{\"marker\":{\"line\":{\"color\":\"#283442\"}},\"type\":\"scattergl\"}],\"scattermapbox\":[{\"marker\":{\"colorbar\":{\"outlinewidth\":0,\"ticks\":\"\"}},\"type\":\"scattermapbox\"}],\"scatterpolar\":[{\"marker\":{\"colorbar\":{\"outlinewidth\":0,\"ticks\":\"\"}},\"type\":\"scatterpolar\"}],\"scatterpolargl\":[{\"marker\":{\"colorbar\":{\"outlinewidth\":0,\"ticks\":\"\"}},\"type\":\"scatterpolargl\"}],\"scatterternary\":[{\"marker\":{\"colorbar\":{\"outlinewidth\":0,\"ticks\":\"\"}},\"type\":\"scatterternary\"}],\"surface\":[{\"colorbar\":{\"outlinewidth\":0,\"ticks\":\"\"},\"colorscale\":[[0.0,\"#0d0887\"],[0.1111111111111111,\"#46039f\"],[0.2222222222222222,\"#7201a8\"],[0.3333333333333333,\"#9c179e\"],[0.4444444444444444,\"#bd3786\"],[0.5555555555555556,\"#d8576b\"],[0.6666666666666666,\"#ed7953\"],[0.7777777777777778,\"#fb9f3a\"],[0.8888888888888888,\"#fdca26\"],[1.0,\"#f0f921\"]],\"type\":\"surface\"}],\"table\":[{\"cells\":{\"fill\":{\"color\":\"#506784\"},\"line\":{\"color\":\"rgb(17,17,17)\"}},\"header\":{\"fill\":{\"color\":\"#2a3f5f\"},\"line\":{\"color\":\"rgb(17,17,17)\"}},\"type\":\"table\"}]},\"layout\":{\"annotationdefaults\":{\"arrowcolor\":\"#f2f5fa\",\"arrowhead\":0,\"arrowwidth\":1},\"autotypenumbers\":\"strict\",\"coloraxis\":{\"colorbar\":{\"outlinewidth\":0,\"ticks\":\"\"}},\"colorscale\":{\"diverging\":[[0,\"#8e0152\"],[0.1,\"#c51b7d\"],[0.2,\"#de77ae\"],[0.3,\"#f1b6da\"],[0.4,\"#fde0ef\"],[0.5,\"#f7f7f7\"],[0.6,\"#e6f5d0\"],[0.7,\"#b8e186\"],[0.8,\"#7fbc41\"],[0.9,\"#4d9221\"],[1,\"#276419\"]],\"sequential\":[[0.0,\"#0d0887\"],[0.1111111111111111,\"#46039f\"],[0.2222222222222222,\"#7201a8\"],[0.3333333333333333,\"#9c179e\"],[0.4444444444444444,\"#bd3786\"],[0.5555555555555556,\"#d8576b\"],[0.6666666666666666,\"#ed7953\"],[0.7777777777777778,\"#fb9f3a\"],[0.8888888888888888,\"#fdca26\"],[1.0,\"#f0f921\"]],\"sequentialminus\":[[0.0,\"#0d0887\"],[0.1111111111111111,\"#46039f\"],[0.2222222222222222,\"#7201a8\"],[0.3333333333333333,\"#9c179e\"],[0.4444444444444444,\"#bd3786\"],[0.5555555555555556,\"#d8576b\"],[0.6666666666666666,\"#ed7953\"],[0.7777777777777778,\"#fb9f3a\"],[0.8888888888888888,\"#fdca26\"],[1.0,\"#f0f921\"]]},\"colorway\":[\"#636efa\",\"#EF553B\",\"#00cc96\",\"#ab63fa\",\"#FFA15A\",\"#19d3f3\",\"#FF6692\",\"#B6E880\",\"#FF97FF\",\"#FECB52\"],\"font\":{\"color\":\"#f2f5fa\"},\"geo\":{\"bgcolor\":\"rgb(17,17,17)\",\"lakecolor\":\"rgb(17,17,17)\",\"landcolor\":\"rgb(17,17,17)\",\"showlakes\":true,\"showland\":true,\"subunitcolor\":\"#506784\"},\"hoverlabel\":{\"align\":\"left\"},\"hovermode\":\"closest\",\"mapbox\":{\"style\":\"dark\"},\"paper_bgcolor\":\"rgb(17,17,17)\",\"plot_bgcolor\":\"rgb(17,17,17)\",\"polar\":{\"angularaxis\":{\"gridcolor\":\"#506784\",\"linecolor\":\"#506784\",\"ticks\":\"\"},\"bgcolor\":\"rgb(17,17,17)\",\"radialaxis\":{\"gridcolor\":\"#506784\",\"linecolor\":\"#506784\",\"ticks\":\"\"}},\"scene\":{\"xaxis\":{\"backgroundcolor\":\"rgb(17,17,17)\",\"gridcolor\":\"#506784\",\"gridwidth\":2,\"linecolor\":\"#506784\",\"showbackground\":true,\"ticks\":\"\",\"zerolinecolor\":\"#C8D4E3\"},\"yaxis\":{\"backgroundcolor\":\"rgb(17,17,17)\",\"gridcolor\":\"#506784\",\"gridwidth\":2,\"linecolor\":\"#506784\",\"showbackground\":true,\"ticks\":\"\",\"zerolinecolor\":\"#C8D4E3\"},\"zaxis\":{\"backgroundcolor\":\"rgb(17,17,17)\",\"gridcolor\":\"#506784\",\"gridwidth\":2,\"linecolor\":\"#506784\",\"showbackground\":true,\"ticks\":\"\",\"zerolinecolor\":\"#C8D4E3\"}},\"shapedefaults\":{\"line\":{\"color\":\"#f2f5fa\"}},\"sliderdefaults\":{\"bgcolor\":\"#C8D4E3\",\"bordercolor\":\"rgb(17,17,17)\",\"borderwidth\":1,\"tickwidth\":0},\"ternary\":{\"aaxis\":{\"gridcolor\":\"#506784\",\"linecolor\":\"#506784\",\"ticks\":\"\"},\"baxis\":{\"gridcolor\":\"#506784\",\"linecolor\":\"#506784\",\"ticks\":\"\"},\"bgcolor\":\"rgb(17,17,17)\",\"caxis\":{\"gridcolor\":\"#506784\",\"linecolor\":\"#506784\",\"ticks\":\"\"}},\"title\":{\"x\":0.05},\"updatemenudefaults\":{\"bgcolor\":\"#506784\",\"borderwidth\":0},\"xaxis\":{\"automargin\":true,\"gridcolor\":\"#283442\",\"linecolor\":\"#506784\",\"ticks\":\"\",\"title\":{\"standoff\":15},\"zerolinecolor\":\"#283442\",\"zerolinewidth\":2},\"yaxis\":{\"automargin\":true,\"gridcolor\":\"#283442\",\"linecolor\":\"#506784\",\"ticks\":\"\",\"title\":{\"standoff\":15},\"zerolinecolor\":\"#283442\",\"zerolinewidth\":2}}},\"xaxis\":{\"anchor\":\"y\",\"domain\":[0.0,1.0],\"title\":{\"text\":\"date\"}},\"yaxis\":{\"anchor\":\"x\",\"domain\":[0.0,1.0],\"title\":{\"text\":\"realized_pnl_cum\"}},\"legend\":{\"tracegroupgap\":0},\"margin\":{\"t\":60}},                        {\"responsive\": true}                    ).then(function(){\n                            \nvar gd = document.getElementById('f1bb3a9e-c466-46df-918d-bc6f3d327764');\nvar x = new MutationObserver(function (mutations, observer) {{\n        var display = window.getComputedStyle(gd).display;\n        if (!display || display === 'none') {{\n            console.log([gd, 'removed!']);\n            Plotly.purge(gd);\n            observer.disconnect();\n        }}\n}});\n\n// Listen for the removal of the full notebook cells\nvar notebookContainer = gd.closest('#notebook-container');\nif (notebookContainer) {{\n    x.observe(notebookContainer, {childList: true});\n}}\n\n// Listen for the clearing of the current output cell\nvar outputEl = gd.closest('.output');\nif (outputEl) {{\n    x.observe(outputEl, {childList: true});\n}}\n\n                        })                };                });            </script>        </div>"
     },
     "metadata": {},
     "output_type": "display_data"
    }
   ],
   "source": [
    "import plotly.express as px\n",
    "\n",
    "fig = px.line(df_exec, x=df_exec.index, y=\"realized_pnl_cum\")\n",
    "fig.show()\n"
   ],
   "metadata": {
    "collapsed": false,
    "pycharm": {
     "name": "#%%\n"
    }
   }
  }
 ],
 "metadata": {
  "kernelspec": {
   "name": "rx-trade-ib",
   "language": "python",
   "display_name": "rx-trade-ib"
  },
  "language_info": {
   "codemirror_mode": {
    "name": "ipython",
    "version": 2
   },
   "file_extension": ".py",
   "mimetype": "text/x-python",
   "name": "python",
   "nbconvert_exporter": "python",
   "pygments_lexer": "ipython2",
   "version": "2.7.6"
  }
 },
 "nbformat": 4,
 "nbformat_minor": 0
}