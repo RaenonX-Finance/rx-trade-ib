{
 "cells": [
  {
   "cell_type": "code",
   "execution_count": 1,
   "outputs": [
    {
     "data": {
      "text/plain": "            realized_pnl     px_side\ndate                                \n2022-03-18   2326.020001  320.211667\n2022-03-21  -1456.600001 -306.435834\n2022-03-22    943.200000  117.325000\n2022-03-23   -261.500000  -47.263333\n2022-03-24    717.280000  145.170000",
      "text/html": "<div>\n<style scoped>\n    .dataframe tbody tr th:only-of-type {\n        vertical-align: middle;\n    }\n\n    .dataframe tbody tr th {\n        vertical-align: top;\n    }\n\n    .dataframe thead th {\n        text-align: right;\n    }\n</style>\n<table border=\"1\" class=\"dataframe\">\n  <thead>\n    <tr style=\"text-align: right;\">\n      <th></th>\n      <th>realized_pnl</th>\n      <th>px_side</th>\n    </tr>\n    <tr>\n      <th>date</th>\n      <th></th>\n      <th></th>\n    </tr>\n  </thead>\n  <tbody>\n    <tr>\n      <th>2022-03-18</th>\n      <td>2326.020001</td>\n      <td>320.211667</td>\n    </tr>\n    <tr>\n      <th>2022-03-21</th>\n      <td>-1456.600001</td>\n      <td>-306.435834</td>\n    </tr>\n    <tr>\n      <th>2022-03-22</th>\n      <td>943.200000</td>\n      <td>117.325000</td>\n    </tr>\n    <tr>\n      <th>2022-03-23</th>\n      <td>-261.500000</td>\n      <td>-47.263333</td>\n    </tr>\n    <tr>\n      <th>2022-03-24</th>\n      <td>717.280000</td>\n      <td>145.170000</td>\n    </tr>\n  </tbody>\n</table>\n</div>"
     },
     "execution_count": 1,
     "metadata": {},
     "output_type": "execute_result"
    }
   ],
   "source": [
    "import pandas as pd\n",
    "\n",
    "def get_executions_df(file_path: str):\n",
    "    df = pd.read_csv(file_path)\n",
    "    df = df[df[\"realized_pnl\"].notnull()]\n",
    "    df[\"date\"] = pd.to_datetime(df[\"time_completed\"]).dt.date\n",
    "\n",
    "    return df.groupby(\"date\").sum()[[\"realized_pnl\", \"px_side\"]]\n",
    "\n",
    "get_executions_df(\"../../execution-477837024.csv\")"
   ],
   "metadata": {
    "collapsed": false,
    "pycharm": {
     "name": "#%%\n"
    }
   }
  },
  {
   "cell_type": "code",
   "execution_count": 2,
   "outputs": [
    {
     "data": {
      "text/plain": "     Unnamed: 0                                           contract  \\\n2             2  477837024,MNQ,FUT,20220617,0,,2,GLOBEX,,USD,MN...   \n5             5  477837024,MNQ,FUT,20220617,0,,2,GLOBEX,,USD,MN...   \n6             6  477837024,MNQ,FUT,20220617,0,,2,GLOBEX,,USD,MN...   \n8             8  477837024,MNQ,FUT,20220617,0,,2,GLOBEX,,USD,MN...   \n10           10  477837024,MNQ,FUT,20220617,0,,2,GLOBEX,,USD,MN...   \n..          ...                                                ...   \n238         238  477837024,MNQ,FUT,20220617,0,,2,GLOBEX,,USD,MN...   \n241         241  477837024,MNQ,FUT,20220617,0,,2,GLOBEX,,USD,MN...   \n243         243  477837024,MNQ,FUT,20220617,0,,2,GLOBEX,,USD,MN...   \n249         249  477837024,MNQ,FUT,20220617,0,,2,GLOBEX,,USD,MN...   \n253         253  477837024,MNQ,FUT,20220617,0,,2,GLOBEX,,USD,MN...   \n\n              time_completed side  quantity  avg_price  realized_pnl  \\\n2    2022-03-18 01:09:43.000  SLD         2   14026.50    155.720000   \n5    2022-03-18 02:03:43.000  SLD         1   14014.25    -41.306667   \n6    2022-03-18 02:51:33.000  SLD         2   14037.50     10.386667   \n8    2022-03-18 05:09:56.000  SLD         3   14034.50     11.580000   \n10   2022-03-18 06:08:28.000  SLD         3   13990.00    -82.920000   \n..                       ...  ...       ...        ...           ...   \n238  2022-03-24 10:13:02.000  SLD         3   14567.00    392.392500   \n241  2022-03-24 11:29:18.000  SLD         2   14594.00   -115.280000   \n243  2022-03-24 11:34:05.000  BOT         2   14592.00     12.720000   \n249  2022-03-24 14:42:23.000  SLD         5   14697.25     92.300000   \n253  2022-03-24 15:02:04.000  SLD         4   14763.00    323.440000   \n\n        epoch_sec  profit  loss  ...  avg_pnl_loss  avg_pnl_rr  avg_pnl_ewr  \\\n2    1.647584e+09       1     0  ...           NaN         NaN          NaN   \n5    1.647587e+09       1     1  ...    -41.306667    3.769851     0.209650   \n6    1.647590e+09       2     1  ...    -41.306667    2.010652     0.332154   \n8    1.647598e+09       3     1  ...    -41.306667    1.433882     0.410866   \n10   1.647602e+09       3     2  ...    -62.113334    0.953562     0.511886   \n..            ...     ...   ...  ...           ...         ...          ...   \n238  1.648135e+09      37    33  ...   -255.486869    1.098728     0.476479   \n241  1.648139e+09      37    34  ...   -251.363137    1.116753     0.472422   \n243  1.648140e+09      38    34  ...   -251.363137    1.088696     0.478768   \n249  1.648151e+09      39    34  ...   -251.363137    1.070196     0.483046   \n253  1.648152e+09      40    34  ...   -251.363137    1.075610     0.481786   \n\n     total_px_profit  avg_px_profit  total_px_loss  avg_px_loss  avg_px_rr  \\\n2          38.930000      38.930000       0.000000          NaN        NaN   \n5           0.000000      38.930000     -20.653333   -20.653333   1.884926   \n6          41.526667      20.763333       0.000000   -20.653333   1.005326   \n8          43.456667      14.485556       0.000000   -20.653333   0.701366   \n10          0.000000      14.485556     -34.473333   -17.236667   0.840392   \n..               ...            ...            ...          ...        ...   \n238      1440.351667      38.928423       0.000000   -37.435278   1.039886   \n241         0.000000      38.928423   -1264.184167   -37.181887   1.046973   \n243      1443.531667      37.987675       0.000000   -37.181887   1.021672   \n249      1452.761667      37.250299       0.000000   -37.181887   1.001840   \n253      1493.191667      37.329792       0.000000   -37.181887   1.003978   \n\n     avg_px_ewr        date  \n2           NaN  2022-03-18  \n5      0.346629  2022-03-18  \n6      0.498672  2022-03-18  \n8      0.587763  2022-03-18  \n10     0.543363  2022-03-18  \n..          ...         ...  \n238    0.490223  2022-03-24  \n241    0.488526  2022-03-24  \n243    0.494640  2022-03-24  \n249    0.499540  2022-03-24  \n253    0.499008  2022-03-24  \n\n[74 rows x 34 columns]",
      "text/html": "<div>\n<style scoped>\n    .dataframe tbody tr th:only-of-type {\n        vertical-align: middle;\n    }\n\n    .dataframe tbody tr th {\n        vertical-align: top;\n    }\n\n    .dataframe thead th {\n        text-align: right;\n    }\n</style>\n<table border=\"1\" class=\"dataframe\">\n  <thead>\n    <tr style=\"text-align: right;\">\n      <th></th>\n      <th>Unnamed: 0</th>\n      <th>contract</th>\n      <th>time_completed</th>\n      <th>side</th>\n      <th>quantity</th>\n      <th>avg_price</th>\n      <th>realized_pnl</th>\n      <th>epoch_sec</th>\n      <th>profit</th>\n      <th>loss</th>\n      <th>...</th>\n      <th>avg_pnl_loss</th>\n      <th>avg_pnl_rr</th>\n      <th>avg_pnl_ewr</th>\n      <th>total_px_profit</th>\n      <th>avg_px_profit</th>\n      <th>total_px_loss</th>\n      <th>avg_px_loss</th>\n      <th>avg_px_rr</th>\n      <th>avg_px_ewr</th>\n      <th>date</th>\n    </tr>\n  </thead>\n  <tbody>\n    <tr>\n      <th>2</th>\n      <td>2</td>\n      <td>477837024,MNQ,FUT,20220617,0,,2,GLOBEX,,USD,MN...</td>\n      <td>2022-03-18 01:09:43.000</td>\n      <td>SLD</td>\n      <td>2</td>\n      <td>14026.50</td>\n      <td>155.720000</td>\n      <td>1.647584e+09</td>\n      <td>1</td>\n      <td>0</td>\n      <td>...</td>\n      <td>NaN</td>\n      <td>NaN</td>\n      <td>NaN</td>\n      <td>38.930000</td>\n      <td>38.930000</td>\n      <td>0.000000</td>\n      <td>NaN</td>\n      <td>NaN</td>\n      <td>NaN</td>\n      <td>2022-03-18</td>\n    </tr>\n    <tr>\n      <th>5</th>\n      <td>5</td>\n      <td>477837024,MNQ,FUT,20220617,0,,2,GLOBEX,,USD,MN...</td>\n      <td>2022-03-18 02:03:43.000</td>\n      <td>SLD</td>\n      <td>1</td>\n      <td>14014.25</td>\n      <td>-41.306667</td>\n      <td>1.647587e+09</td>\n      <td>1</td>\n      <td>1</td>\n      <td>...</td>\n      <td>-41.306667</td>\n      <td>3.769851</td>\n      <td>0.209650</td>\n      <td>0.000000</td>\n      <td>38.930000</td>\n      <td>-20.653333</td>\n      <td>-20.653333</td>\n      <td>1.884926</td>\n      <td>0.346629</td>\n      <td>2022-03-18</td>\n    </tr>\n    <tr>\n      <th>6</th>\n      <td>6</td>\n      <td>477837024,MNQ,FUT,20220617,0,,2,GLOBEX,,USD,MN...</td>\n      <td>2022-03-18 02:51:33.000</td>\n      <td>SLD</td>\n      <td>2</td>\n      <td>14037.50</td>\n      <td>10.386667</td>\n      <td>1.647590e+09</td>\n      <td>2</td>\n      <td>1</td>\n      <td>...</td>\n      <td>-41.306667</td>\n      <td>2.010652</td>\n      <td>0.332154</td>\n      <td>41.526667</td>\n      <td>20.763333</td>\n      <td>0.000000</td>\n      <td>-20.653333</td>\n      <td>1.005326</td>\n      <td>0.498672</td>\n      <td>2022-03-18</td>\n    </tr>\n    <tr>\n      <th>8</th>\n      <td>8</td>\n      <td>477837024,MNQ,FUT,20220617,0,,2,GLOBEX,,USD,MN...</td>\n      <td>2022-03-18 05:09:56.000</td>\n      <td>SLD</td>\n      <td>3</td>\n      <td>14034.50</td>\n      <td>11.580000</td>\n      <td>1.647598e+09</td>\n      <td>3</td>\n      <td>1</td>\n      <td>...</td>\n      <td>-41.306667</td>\n      <td>1.433882</td>\n      <td>0.410866</td>\n      <td>43.456667</td>\n      <td>14.485556</td>\n      <td>0.000000</td>\n      <td>-20.653333</td>\n      <td>0.701366</td>\n      <td>0.587763</td>\n      <td>2022-03-18</td>\n    </tr>\n    <tr>\n      <th>10</th>\n      <td>10</td>\n      <td>477837024,MNQ,FUT,20220617,0,,2,GLOBEX,,USD,MN...</td>\n      <td>2022-03-18 06:08:28.000</td>\n      <td>SLD</td>\n      <td>3</td>\n      <td>13990.00</td>\n      <td>-82.920000</td>\n      <td>1.647602e+09</td>\n      <td>3</td>\n      <td>2</td>\n      <td>...</td>\n      <td>-62.113334</td>\n      <td>0.953562</td>\n      <td>0.511886</td>\n      <td>0.000000</td>\n      <td>14.485556</td>\n      <td>-34.473333</td>\n      <td>-17.236667</td>\n      <td>0.840392</td>\n      <td>0.543363</td>\n      <td>2022-03-18</td>\n    </tr>\n    <tr>\n      <th>...</th>\n      <td>...</td>\n      <td>...</td>\n      <td>...</td>\n      <td>...</td>\n      <td>...</td>\n      <td>...</td>\n      <td>...</td>\n      <td>...</td>\n      <td>...</td>\n      <td>...</td>\n      <td>...</td>\n      <td>...</td>\n      <td>...</td>\n      <td>...</td>\n      <td>...</td>\n      <td>...</td>\n      <td>...</td>\n      <td>...</td>\n      <td>...</td>\n      <td>...</td>\n      <td>...</td>\n    </tr>\n    <tr>\n      <th>238</th>\n      <td>238</td>\n      <td>477837024,MNQ,FUT,20220617,0,,2,GLOBEX,,USD,MN...</td>\n      <td>2022-03-24 10:13:02.000</td>\n      <td>SLD</td>\n      <td>3</td>\n      <td>14567.00</td>\n      <td>392.392500</td>\n      <td>1.648135e+09</td>\n      <td>37</td>\n      <td>33</td>\n      <td>...</td>\n      <td>-255.486869</td>\n      <td>1.098728</td>\n      <td>0.476479</td>\n      <td>1440.351667</td>\n      <td>38.928423</td>\n      <td>0.000000</td>\n      <td>-37.435278</td>\n      <td>1.039886</td>\n      <td>0.490223</td>\n      <td>2022-03-24</td>\n    </tr>\n    <tr>\n      <th>241</th>\n      <td>241</td>\n      <td>477837024,MNQ,FUT,20220617,0,,2,GLOBEX,,USD,MN...</td>\n      <td>2022-03-24 11:29:18.000</td>\n      <td>SLD</td>\n      <td>2</td>\n      <td>14594.00</td>\n      <td>-115.280000</td>\n      <td>1.648139e+09</td>\n      <td>37</td>\n      <td>34</td>\n      <td>...</td>\n      <td>-251.363137</td>\n      <td>1.116753</td>\n      <td>0.472422</td>\n      <td>0.000000</td>\n      <td>38.928423</td>\n      <td>-1264.184167</td>\n      <td>-37.181887</td>\n      <td>1.046973</td>\n      <td>0.488526</td>\n      <td>2022-03-24</td>\n    </tr>\n    <tr>\n      <th>243</th>\n      <td>243</td>\n      <td>477837024,MNQ,FUT,20220617,0,,2,GLOBEX,,USD,MN...</td>\n      <td>2022-03-24 11:34:05.000</td>\n      <td>BOT</td>\n      <td>2</td>\n      <td>14592.00</td>\n      <td>12.720000</td>\n      <td>1.648140e+09</td>\n      <td>38</td>\n      <td>34</td>\n      <td>...</td>\n      <td>-251.363137</td>\n      <td>1.088696</td>\n      <td>0.478768</td>\n      <td>1443.531667</td>\n      <td>37.987675</td>\n      <td>0.000000</td>\n      <td>-37.181887</td>\n      <td>1.021672</td>\n      <td>0.494640</td>\n      <td>2022-03-24</td>\n    </tr>\n    <tr>\n      <th>249</th>\n      <td>249</td>\n      <td>477837024,MNQ,FUT,20220617,0,,2,GLOBEX,,USD,MN...</td>\n      <td>2022-03-24 14:42:23.000</td>\n      <td>SLD</td>\n      <td>5</td>\n      <td>14697.25</td>\n      <td>92.300000</td>\n      <td>1.648151e+09</td>\n      <td>39</td>\n      <td>34</td>\n      <td>...</td>\n      <td>-251.363137</td>\n      <td>1.070196</td>\n      <td>0.483046</td>\n      <td>1452.761667</td>\n      <td>37.250299</td>\n      <td>0.000000</td>\n      <td>-37.181887</td>\n      <td>1.001840</td>\n      <td>0.499540</td>\n      <td>2022-03-24</td>\n    </tr>\n    <tr>\n      <th>253</th>\n      <td>253</td>\n      <td>477837024,MNQ,FUT,20220617,0,,2,GLOBEX,,USD,MN...</td>\n      <td>2022-03-24 15:02:04.000</td>\n      <td>SLD</td>\n      <td>4</td>\n      <td>14763.00</td>\n      <td>323.440000</td>\n      <td>1.648152e+09</td>\n      <td>40</td>\n      <td>34</td>\n      <td>...</td>\n      <td>-251.363137</td>\n      <td>1.075610</td>\n      <td>0.481786</td>\n      <td>1493.191667</td>\n      <td>37.329792</td>\n      <td>0.000000</td>\n      <td>-37.181887</td>\n      <td>1.003978</td>\n      <td>0.499008</td>\n      <td>2022-03-24</td>\n    </tr>\n  </tbody>\n</table>\n<p>74 rows × 34 columns</p>\n</div>"
     },
     "execution_count": 2,
     "metadata": {},
     "output_type": "execute_result"
    }
   ],
   "source": [
    "def get_executions_ungroup(file_path: str):\n",
    "    df = pd.read_csv(file_path)\n",
    "    df = df[df[\"realized_pnl\"].notnull()]\n",
    "    df[\"date\"] = pd.to_datetime(df[\"time_completed\"]).dt.date\n",
    "\n",
    "    cols = [\"quantity\", \"realized_pnl\", \"px_side\"]\n",
    "\n",
    "    return df, df.groupby(\"date\").sum()[cols], df.groupby(\"date\").count()[cols]\n",
    "\n",
    "df_all, df_sum, df_count = get_executions_ungroup(\"../../execution-477837024.csv\")\n",
    "df_all"
   ],
   "metadata": {
    "collapsed": false,
    "pycharm": {
     "name": "#%%\n"
    }
   }
  },
  {
   "cell_type": "code",
   "execution_count": 3,
   "outputs": [
    {
     "data": {
      "text/plain": "            quantity  realized_pnl     px_side\ndate                                          \n2022-03-18        57   2326.020001  320.211667\n2022-03-21        90  -1456.600001 -306.435834\n2022-03-22        20    943.200000  117.325000\n2022-03-23        50   -261.500000  -47.263333\n2022-03-24        23    717.280000  145.170000",
      "text/html": "<div>\n<style scoped>\n    .dataframe tbody tr th:only-of-type {\n        vertical-align: middle;\n    }\n\n    .dataframe tbody tr th {\n        vertical-align: top;\n    }\n\n    .dataframe thead th {\n        text-align: right;\n    }\n</style>\n<table border=\"1\" class=\"dataframe\">\n  <thead>\n    <tr style=\"text-align: right;\">\n      <th></th>\n      <th>quantity</th>\n      <th>realized_pnl</th>\n      <th>px_side</th>\n    </tr>\n    <tr>\n      <th>date</th>\n      <th></th>\n      <th></th>\n      <th></th>\n    </tr>\n  </thead>\n  <tbody>\n    <tr>\n      <th>2022-03-18</th>\n      <td>57</td>\n      <td>2326.020001</td>\n      <td>320.211667</td>\n    </tr>\n    <tr>\n      <th>2022-03-21</th>\n      <td>90</td>\n      <td>-1456.600001</td>\n      <td>-306.435834</td>\n    </tr>\n    <tr>\n      <th>2022-03-22</th>\n      <td>20</td>\n      <td>943.200000</td>\n      <td>117.325000</td>\n    </tr>\n    <tr>\n      <th>2022-03-23</th>\n      <td>50</td>\n      <td>-261.500000</td>\n      <td>-47.263333</td>\n    </tr>\n    <tr>\n      <th>2022-03-24</th>\n      <td>23</td>\n      <td>717.280000</td>\n      <td>145.170000</td>\n    </tr>\n  </tbody>\n</table>\n</div>"
     },
     "execution_count": 3,
     "metadata": {},
     "output_type": "execute_result"
    }
   ],
   "source": [
    "df_sum\n"
   ],
   "metadata": {
    "collapsed": false,
    "pycharm": {
     "name": "#%%\n"
    }
   }
  },
  {
   "cell_type": "code",
   "execution_count": 4,
   "outputs": [
    {
     "data": {
      "text/plain": "            quantity  realized_pnl  px_side\ndate                                       \n2022-03-18        19            19       19\n2022-03-21        27            27       27\n2022-03-22         5             5        5\n2022-03-23        14            14       14\n2022-03-24         9             9        9",
      "text/html": "<div>\n<style scoped>\n    .dataframe tbody tr th:only-of-type {\n        vertical-align: middle;\n    }\n\n    .dataframe tbody tr th {\n        vertical-align: top;\n    }\n\n    .dataframe thead th {\n        text-align: right;\n    }\n</style>\n<table border=\"1\" class=\"dataframe\">\n  <thead>\n    <tr style=\"text-align: right;\">\n      <th></th>\n      <th>quantity</th>\n      <th>realized_pnl</th>\n      <th>px_side</th>\n    </tr>\n    <tr>\n      <th>date</th>\n      <th></th>\n      <th></th>\n      <th></th>\n    </tr>\n  </thead>\n  <tbody>\n    <tr>\n      <th>2022-03-18</th>\n      <td>19</td>\n      <td>19</td>\n      <td>19</td>\n    </tr>\n    <tr>\n      <th>2022-03-21</th>\n      <td>27</td>\n      <td>27</td>\n      <td>27</td>\n    </tr>\n    <tr>\n      <th>2022-03-22</th>\n      <td>5</td>\n      <td>5</td>\n      <td>5</td>\n    </tr>\n    <tr>\n      <th>2022-03-23</th>\n      <td>14</td>\n      <td>14</td>\n      <td>14</td>\n    </tr>\n    <tr>\n      <th>2022-03-24</th>\n      <td>9</td>\n      <td>9</td>\n      <td>9</td>\n    </tr>\n  </tbody>\n</table>\n</div>"
     },
     "execution_count": 4,
     "metadata": {},
     "output_type": "execute_result"
    }
   ],
   "source": [
    "df_count\n"
   ],
   "metadata": {
    "collapsed": false,
    "pycharm": {
     "name": "#%%\n"
    }
   }
  },
  {
   "cell_type": "code",
   "execution_count": 5,
   "outputs": [],
   "source": [
    "def get_executions_ungroup(file_path: str):\n",
    "    df = pd.read_csv(file_path)\n",
    "    df = df[df[\"realized_pnl\"].notnull()]\n",
    "    df[\"date\"] = pd.to_datetime(df[\"time_completed\"]).dt.date\n",
    "\n",
    "    return df[df[\"realized_pnl\"] > 0].groupby(\"date\").sum()[[\"realized_pnl\"]], df[df[\"realized_pnl\"] < 0].groupby(\"date\").sum()[[\"realized_pnl\"]]\n",
    "\n",
    "df_pos, df_neg = get_executions_ungroup(\"../../execution-477837024.csv\")"
   ],
   "metadata": {
    "collapsed": false,
    "pycharm": {
     "name": "#%%\n"
    }
   }
  },
  {
   "cell_type": "code",
   "execution_count": 6,
   "outputs": [
    {
     "data": {
      "text/plain": "            realized_pnl\ndate                    \n2022-03-18   2943.506668\n2022-03-21   3122.900000\n2022-03-22   1809.460000\n2022-03-23   1888.120000\n2022-03-24   1050.760000",
      "text/html": "<div>\n<style scoped>\n    .dataframe tbody tr th:only-of-type {\n        vertical-align: middle;\n    }\n\n    .dataframe tbody tr th {\n        vertical-align: top;\n    }\n\n    .dataframe thead th {\n        text-align: right;\n    }\n</style>\n<table border=\"1\" class=\"dataframe\">\n  <thead>\n    <tr style=\"text-align: right;\">\n      <th></th>\n      <th>realized_pnl</th>\n    </tr>\n    <tr>\n      <th>date</th>\n      <th></th>\n    </tr>\n  </thead>\n  <tbody>\n    <tr>\n      <th>2022-03-18</th>\n      <td>2943.506668</td>\n    </tr>\n    <tr>\n      <th>2022-03-21</th>\n      <td>3122.900000</td>\n    </tr>\n    <tr>\n      <th>2022-03-22</th>\n      <td>1809.460000</td>\n    </tr>\n    <tr>\n      <th>2022-03-23</th>\n      <td>1888.120000</td>\n    </tr>\n    <tr>\n      <th>2022-03-24</th>\n      <td>1050.760000</td>\n    </tr>\n  </tbody>\n</table>\n</div>"
     },
     "execution_count": 6,
     "metadata": {},
     "output_type": "execute_result"
    }
   ],
   "source": [
    "df_pos\n"
   ],
   "metadata": {
    "collapsed": false,
    "pycharm": {
     "name": "#%%\n"
    }
   }
  },
  {
   "cell_type": "code",
   "execution_count": 7,
   "outputs": [
    {
     "data": {
      "text/plain": "            realized_pnl\ndate                    \n2022-03-18   -617.486667\n2022-03-21  -4579.500001\n2022-03-22   -866.260000\n2022-03-23  -2149.620000\n2022-03-24   -333.480000",
      "text/html": "<div>\n<style scoped>\n    .dataframe tbody tr th:only-of-type {\n        vertical-align: middle;\n    }\n\n    .dataframe tbody tr th {\n        vertical-align: top;\n    }\n\n    .dataframe thead th {\n        text-align: right;\n    }\n</style>\n<table border=\"1\" class=\"dataframe\">\n  <thead>\n    <tr style=\"text-align: right;\">\n      <th></th>\n      <th>realized_pnl</th>\n    </tr>\n    <tr>\n      <th>date</th>\n      <th></th>\n    </tr>\n  </thead>\n  <tbody>\n    <tr>\n      <th>2022-03-18</th>\n      <td>-617.486667</td>\n    </tr>\n    <tr>\n      <th>2022-03-21</th>\n      <td>-4579.500001</td>\n    </tr>\n    <tr>\n      <th>2022-03-22</th>\n      <td>-866.260000</td>\n    </tr>\n    <tr>\n      <th>2022-03-23</th>\n      <td>-2149.620000</td>\n    </tr>\n    <tr>\n      <th>2022-03-24</th>\n      <td>-333.480000</td>\n    </tr>\n  </tbody>\n</table>\n</div>"
     },
     "execution_count": 7,
     "metadata": {},
     "output_type": "execute_result"
    }
   ],
   "source": [
    "df_neg"
   ],
   "metadata": {
    "collapsed": false,
    "pycharm": {
     "name": "#%%\n"
    }
   }
  },
  {
   "cell_type": "code",
   "execution_count": 7,
   "outputs": [],
   "source": [],
   "metadata": {
    "collapsed": false,
    "pycharm": {
     "name": "#%%\n"
    }
   }
  },
  {
   "cell_type": "code",
   "execution_count": 7,
   "outputs": [],
   "source": [],
   "metadata": {
    "collapsed": false,
    "pycharm": {
     "name": "#%%\n"
    }
   }
  }
 ],
 "metadata": {
  "kernelspec": {
   "name": "rx-trade-ib",
   "language": "python",
   "display_name": "rx-trade-ib"
  },
  "language_info": {
   "codemirror_mode": {
    "name": "ipython",
    "version": 2
   },
   "file_extension": ".py",
   "mimetype": "text/x-python",
   "name": "python",
   "nbconvert_exporter": "python",
   "pygments_lexer": "ipython2",
   "version": "2.7.6"
  }
 },
 "nbformat": 4,
 "nbformat_minor": 0
}