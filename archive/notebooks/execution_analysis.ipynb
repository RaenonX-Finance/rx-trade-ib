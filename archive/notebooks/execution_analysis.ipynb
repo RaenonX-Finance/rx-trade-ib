{
 "cells": [
  {
   "cell_type": "code",
   "execution_count": 2,
   "metadata": {
    "collapsed": true
   },
   "outputs": [],
   "source": [
    "# import datetime\n",
    "#\n",
    "# from trade_ibkr.model import OnExecutionFetchedEvent\n",
    "# from trade_ibkr.obj import start_app_info\n",
    "#\n",
    "# def store_executions():\n",
    "#     app, _ = start_app_info(is_demo=True)\n",
    "#\n",
    "#     async def fetched(e: OnExecutionFetchedEvent):\n",
    "#         for identifier, df in e.executions.execution_dataframes.items():\n",
    "#             dest = f\"execution-{identifier}.csv\"\n",
    "#             print(f\"Saved to: {dest}\")\n",
    "#             df.to_csv(dest)\n",
    "#\n",
    "#         app.disconnect()\n",
    "#\n",
    "#     app.set_on_executions_fetched(\n",
    "#         on_execution_fetched=fetched,\n",
    "#         on_execution_fetch_earliest_time=lambda: datetime.datetime(2022, 2, 10)\n",
    "#     )\n",
    "#     app.request_all_executions()"
   ]
  },
  {
   "cell_type": "code",
   "execution_count": 8,
   "outputs": [
    {
     "data": {
      "text/plain": "            realized_pnl     px_side\ndate                                \n2022-02-27        327.10   81.775000\n2022-02-28       1254.60  260.098333\n2022-03-01        387.46   58.751667\n2022-03-02        370.08   61.680000\n2022-03-04       -484.50  -42.776667",
      "text/html": "<div>\n<style scoped>\n    .dataframe tbody tr th:only-of-type {\n        vertical-align: middle;\n    }\n\n    .dataframe tbody tr th {\n        vertical-align: top;\n    }\n\n    .dataframe thead th {\n        text-align: right;\n    }\n</style>\n<table border=\"1\" class=\"dataframe\">\n  <thead>\n    <tr style=\"text-align: right;\">\n      <th></th>\n      <th>realized_pnl</th>\n      <th>px_side</th>\n    </tr>\n    <tr>\n      <th>date</th>\n      <th></th>\n      <th></th>\n    </tr>\n  </thead>\n  <tbody>\n    <tr>\n      <th>2022-02-27</th>\n      <td>327.10</td>\n      <td>81.775000</td>\n    </tr>\n    <tr>\n      <th>2022-02-28</th>\n      <td>1254.60</td>\n      <td>260.098333</td>\n    </tr>\n    <tr>\n      <th>2022-03-01</th>\n      <td>387.46</td>\n      <td>58.751667</td>\n    </tr>\n    <tr>\n      <th>2022-03-02</th>\n      <td>370.08</td>\n      <td>61.680000</td>\n    </tr>\n    <tr>\n      <th>2022-03-04</th>\n      <td>-484.50</td>\n      <td>-42.776667</td>\n    </tr>\n  </tbody>\n</table>\n</div>"
     },
     "execution_count": 8,
     "metadata": {},
     "output_type": "execute_result"
    }
   ],
   "source": [
    "import pandas as pd\n",
    "\n",
    "def get_executions_df(file_path: str):\n",
    "    df = pd.read_csv(file_path)\n",
    "    df = df[df[\"realized_pnl\"].notnull()]\n",
    "    df[\"date\"] = pd.to_datetime(df[\"time_completed\"]).dt.date\n",
    "\n",
    "    return df.groupby(\"date\").sum()[[\"realized_pnl\", \"px_side\"]]\n",
    "\n",
    "get_executions_df(\"../../execution-461318792.csv\")"
   ],
   "metadata": {
    "collapsed": false,
    "pycharm": {
     "name": "#%%\n"
    }
   }
  },
  {
   "cell_type": "code",
   "execution_count": 9,
   "outputs": [
    {
     "data": {
      "text/plain": "            realized_pnl  px_side\ndate                             \n2022-02-27        -110.2   -44.08\n2022-03-01          46.9    18.76\n2022-03-02          29.6    11.84",
      "text/html": "<div>\n<style scoped>\n    .dataframe tbody tr th:only-of-type {\n        vertical-align: middle;\n    }\n\n    .dataframe tbody tr th {\n        vertical-align: top;\n    }\n\n    .dataframe thead th {\n        text-align: right;\n    }\n</style>\n<table border=\"1\" class=\"dataframe\">\n  <thead>\n    <tr style=\"text-align: right;\">\n      <th></th>\n      <th>realized_pnl</th>\n      <th>px_side</th>\n    </tr>\n    <tr>\n      <th>date</th>\n      <th></th>\n      <th></th>\n    </tr>\n  </thead>\n  <tbody>\n    <tr>\n      <th>2022-02-27</th>\n      <td>-110.2</td>\n      <td>-44.08</td>\n    </tr>\n    <tr>\n      <th>2022-03-01</th>\n      <td>46.9</td>\n      <td>18.76</td>\n    </tr>\n    <tr>\n      <th>2022-03-02</th>\n      <td>29.6</td>\n      <td>11.84</td>\n    </tr>\n  </tbody>\n</table>\n</div>"
     },
     "execution_count": 9,
     "metadata": {},
     "output_type": "execute_result"
    }
   ],
   "source": [
    "get_executions_df(\"../../execution-477836934.csv\")\n"
   ],
   "metadata": {
    "collapsed": false,
    "pycharm": {
     "name": "#%%\n"
    }
   }
  },
  {
   "cell_type": "code",
   "execution_count": null,
   "outputs": [],
   "source": [],
   "metadata": {
    "collapsed": false,
    "pycharm": {
     "name": "#%%\n"
    }
   }
  }
 ],
 "metadata": {
  "kernelspec": {
   "name": "rx-trade-ib",
   "language": "python",
   "display_name": "rx-trade-ib"
  },
  "language_info": {
   "codemirror_mode": {
    "name": "ipython",
    "version": 2
   },
   "file_extension": ".py",
   "mimetype": "text/x-python",
   "name": "python",
   "nbconvert_exporter": "python",
   "pygments_lexer": "ipython2",
   "version": "2.7.6"
  }
 },
 "nbformat": 4,
 "nbformat_minor": 0
}