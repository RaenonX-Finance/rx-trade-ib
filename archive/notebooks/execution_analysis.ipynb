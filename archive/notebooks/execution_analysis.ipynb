{
 "cells": [
  {
   "cell_type": "code",
   "execution_count": 25,
   "outputs": [
    {
     "data": {
      "text/plain": "            realized_pnl     px_side   pnl / px  realized_pnl_cum  profit  \\\ndate                                                                        \n2022-03-18   2326.020001  320.211667   7.264008       2326.020001    14.0   \n2022-03-21  -1456.600001 -306.435834   4.753361        869.420000    12.0   \n2022-03-22    943.200000  117.325000   8.039207       1812.620000     3.0   \n2022-03-23   -261.500000  -47.263333   5.532830       1551.120000     5.0   \n2022-03-24    717.280000  145.170000   4.940966       2268.400000     6.0   \n2022-03-25    -69.179999  -76.455000   0.904846       2199.220001    17.0   \n2022-03-28    649.840000   53.153333  12.225762       2849.060001    11.0   \n2022-03-29    419.240000   47.706667   8.787870       3268.300001    13.0   \n2022-03-30   -299.500002   30.120000  -9.943559       2968.799999    21.0   \n2022-03-31  -3514.660000 -377.086667   9.320563       -545.860001    16.0   \n2022-04-01   -590.020000 -118.920000   4.961487      -1135.880001    18.0   \nTotal       -1135.880001 -212.474167  56.787340      18431.220001   136.0   \n\n             loss  \ndate               \n2022-03-18    5.0  \n2022-03-21   15.0  \n2022-03-22    2.0  \n2022-03-23    9.0  \n2022-03-24    3.0  \n2022-03-25   12.0  \n2022-03-28    8.0  \n2022-03-29    5.0  \n2022-03-30   13.0  \n2022-03-31   20.0  \n2022-04-01   13.0  \nTotal       105.0  ",
      "text/html": "<div>\n<style scoped>\n    .dataframe tbody tr th:only-of-type {\n        vertical-align: middle;\n    }\n\n    .dataframe tbody tr th {\n        vertical-align: top;\n    }\n\n    .dataframe thead th {\n        text-align: right;\n    }\n</style>\n<table border=\"1\" class=\"dataframe\">\n  <thead>\n    <tr style=\"text-align: right;\">\n      <th></th>\n      <th>realized_pnl</th>\n      <th>px_side</th>\n      <th>pnl / px</th>\n      <th>realized_pnl_cum</th>\n      <th>profit</th>\n      <th>loss</th>\n    </tr>\n    <tr>\n      <th>date</th>\n      <th></th>\n      <th></th>\n      <th></th>\n      <th></th>\n      <th></th>\n      <th></th>\n    </tr>\n  </thead>\n  <tbody>\n    <tr>\n      <th>2022-03-18</th>\n      <td>2326.020001</td>\n      <td>320.211667</td>\n      <td>7.264008</td>\n      <td>2326.020001</td>\n      <td>14.0</td>\n      <td>5.0</td>\n    </tr>\n    <tr>\n      <th>2022-03-21</th>\n      <td>-1456.600001</td>\n      <td>-306.435834</td>\n      <td>4.753361</td>\n      <td>869.420000</td>\n      <td>12.0</td>\n      <td>15.0</td>\n    </tr>\n    <tr>\n      <th>2022-03-22</th>\n      <td>943.200000</td>\n      <td>117.325000</td>\n      <td>8.039207</td>\n      <td>1812.620000</td>\n      <td>3.0</td>\n      <td>2.0</td>\n    </tr>\n    <tr>\n      <th>2022-03-23</th>\n      <td>-261.500000</td>\n      <td>-47.263333</td>\n      <td>5.532830</td>\n      <td>1551.120000</td>\n      <td>5.0</td>\n      <td>9.0</td>\n    </tr>\n    <tr>\n      <th>2022-03-24</th>\n      <td>717.280000</td>\n      <td>145.170000</td>\n      <td>4.940966</td>\n      <td>2268.400000</td>\n      <td>6.0</td>\n      <td>3.0</td>\n    </tr>\n    <tr>\n      <th>2022-03-25</th>\n      <td>-69.179999</td>\n      <td>-76.455000</td>\n      <td>0.904846</td>\n      <td>2199.220001</td>\n      <td>17.0</td>\n      <td>12.0</td>\n    </tr>\n    <tr>\n      <th>2022-03-28</th>\n      <td>649.840000</td>\n      <td>53.153333</td>\n      <td>12.225762</td>\n      <td>2849.060001</td>\n      <td>11.0</td>\n      <td>8.0</td>\n    </tr>\n    <tr>\n      <th>2022-03-29</th>\n      <td>419.240000</td>\n      <td>47.706667</td>\n      <td>8.787870</td>\n      <td>3268.300001</td>\n      <td>13.0</td>\n      <td>5.0</td>\n    </tr>\n    <tr>\n      <th>2022-03-30</th>\n      <td>-299.500002</td>\n      <td>30.120000</td>\n      <td>-9.943559</td>\n      <td>2968.799999</td>\n      <td>21.0</td>\n      <td>13.0</td>\n    </tr>\n    <tr>\n      <th>2022-03-31</th>\n      <td>-3514.660000</td>\n      <td>-377.086667</td>\n      <td>9.320563</td>\n      <td>-545.860001</td>\n      <td>16.0</td>\n      <td>20.0</td>\n    </tr>\n    <tr>\n      <th>2022-04-01</th>\n      <td>-590.020000</td>\n      <td>-118.920000</td>\n      <td>4.961487</td>\n      <td>-1135.880001</td>\n      <td>18.0</td>\n      <td>13.0</td>\n    </tr>\n    <tr>\n      <th>Total</th>\n      <td>-1135.880001</td>\n      <td>-212.474167</td>\n      <td>56.787340</td>\n      <td>18431.220001</td>\n      <td>136.0</td>\n      <td>105.0</td>\n    </tr>\n  </tbody>\n</table>\n</div>"
     },
     "execution_count": 25,
     "metadata": {},
     "output_type": "execute_result"
    }
   ],
   "source": [
    "import pandas as pd\n",
    "\n",
    "PATH = \"../executions/MNQM2022/20220318-20220401.csv\"\n",
    "\n",
    "\n",
    "def get_executions_df(file_path: str):\n",
    "    df = pd.read_csv(file_path)\n",
    "    df = df[df[\"realized_pnl\"].notnull()]\n",
    "    df[\"date\"] = pd.to_datetime(df[\"time_completed\"]).dt.date\n",
    "\n",
    "    df_grouped = df.groupby(\"date\").sum()[[\"realized_pnl\", \"px_side\"]]\n",
    "\n",
    "    df_grouped[\"pnl / px\"] = df_grouped[\"realized_pnl\"] / df_grouped[\"px_side\"]\n",
    "    df_grouped[\"realized_pnl_cum\"] = df_grouped[\"realized_pnl\"].cumsum()\n",
    "    df_grouped[\"profit\"] = df[df[\"realized_pnl\"] > 0].groupby(\"date\").count()[\"realized_pnl\"]\n",
    "    df_grouped[\"loss\"] = df[df[\"realized_pnl\"] < 0].groupby(\"date\").count()[\"realized_pnl\"]\n",
    "    df_grouped.loc[\"Total\"] = df_grouped.sum(numeric_only=True)\n",
    "\n",
    "    return df_grouped\n",
    "\n",
    "\n",
    "get_executions_df(PATH)"
   ],
   "metadata": {
    "collapsed": false,
    "pycharm": {
     "name": "#%%\n"
    }
   }
  },
  {
   "cell_type": "code",
   "execution_count": 26,
   "outputs": [
    {
     "data": {
      "text/plain": "            quantity  realized_pnl     px_side  realized_pnl_pos  \\\ndate                                                               \n2022-03-18        57   2326.020001  320.211667       2943.506668   \n2022-03-21        90  -1456.600001 -306.435834       3122.900000   \n2022-03-22        20    943.200000  117.325000       1809.460000   \n2022-03-23        50   -261.500000  -47.263333       1888.120000   \n2022-03-24        23    717.280000  145.170000       1050.760000   \n2022-03-25        87    -69.179999  -76.455000       2184.020001   \n2022-03-28        69    649.840000   53.153333       2311.200000   \n2022-03-29        59    419.240000   47.706667       1323.340000   \n2022-03-30       150   -299.500002   30.120000       2425.979998   \n2022-03-31       169  -3514.660000 -377.086667       1719.360000   \n2022-04-01       118   -590.020000 -118.920000       1738.200000   \n\n            realized_pnl_neg  realized_pnl_count  \ndate                                              \n2022-03-18       -617.486667                  19  \n2022-03-21      -4579.500001                  27  \n2022-03-22       -866.260000                   5  \n2022-03-23      -2149.620000                  14  \n2022-03-24       -333.480000                   9  \n2022-03-25      -2253.200000                  29  \n2022-03-28      -1661.360000                  19  \n2022-03-29       -904.100000                  18  \n2022-03-30      -2725.480000                  34  \n2022-03-31      -5234.020000                  36  \n2022-04-01      -2328.220000                  31  ",
      "text/html": "<div>\n<style scoped>\n    .dataframe tbody tr th:only-of-type {\n        vertical-align: middle;\n    }\n\n    .dataframe tbody tr th {\n        vertical-align: top;\n    }\n\n    .dataframe thead th {\n        text-align: right;\n    }\n</style>\n<table border=\"1\" class=\"dataframe\">\n  <thead>\n    <tr style=\"text-align: right;\">\n      <th></th>\n      <th>quantity</th>\n      <th>realized_pnl</th>\n      <th>px_side</th>\n      <th>realized_pnl_pos</th>\n      <th>realized_pnl_neg</th>\n      <th>realized_pnl_count</th>\n    </tr>\n    <tr>\n      <th>date</th>\n      <th></th>\n      <th></th>\n      <th></th>\n      <th></th>\n      <th></th>\n      <th></th>\n    </tr>\n  </thead>\n  <tbody>\n    <tr>\n      <th>2022-03-18</th>\n      <td>57</td>\n      <td>2326.020001</td>\n      <td>320.211667</td>\n      <td>2943.506668</td>\n      <td>-617.486667</td>\n      <td>19</td>\n    </tr>\n    <tr>\n      <th>2022-03-21</th>\n      <td>90</td>\n      <td>-1456.600001</td>\n      <td>-306.435834</td>\n      <td>3122.900000</td>\n      <td>-4579.500001</td>\n      <td>27</td>\n    </tr>\n    <tr>\n      <th>2022-03-22</th>\n      <td>20</td>\n      <td>943.200000</td>\n      <td>117.325000</td>\n      <td>1809.460000</td>\n      <td>-866.260000</td>\n      <td>5</td>\n    </tr>\n    <tr>\n      <th>2022-03-23</th>\n      <td>50</td>\n      <td>-261.500000</td>\n      <td>-47.263333</td>\n      <td>1888.120000</td>\n      <td>-2149.620000</td>\n      <td>14</td>\n    </tr>\n    <tr>\n      <th>2022-03-24</th>\n      <td>23</td>\n      <td>717.280000</td>\n      <td>145.170000</td>\n      <td>1050.760000</td>\n      <td>-333.480000</td>\n      <td>9</td>\n    </tr>\n    <tr>\n      <th>2022-03-25</th>\n      <td>87</td>\n      <td>-69.179999</td>\n      <td>-76.455000</td>\n      <td>2184.020001</td>\n      <td>-2253.200000</td>\n      <td>29</td>\n    </tr>\n    <tr>\n      <th>2022-03-28</th>\n      <td>69</td>\n      <td>649.840000</td>\n      <td>53.153333</td>\n      <td>2311.200000</td>\n      <td>-1661.360000</td>\n      <td>19</td>\n    </tr>\n    <tr>\n      <th>2022-03-29</th>\n      <td>59</td>\n      <td>419.240000</td>\n      <td>47.706667</td>\n      <td>1323.340000</td>\n      <td>-904.100000</td>\n      <td>18</td>\n    </tr>\n    <tr>\n      <th>2022-03-30</th>\n      <td>150</td>\n      <td>-299.500002</td>\n      <td>30.120000</td>\n      <td>2425.979998</td>\n      <td>-2725.480000</td>\n      <td>34</td>\n    </tr>\n    <tr>\n      <th>2022-03-31</th>\n      <td>169</td>\n      <td>-3514.660000</td>\n      <td>-377.086667</td>\n      <td>1719.360000</td>\n      <td>-5234.020000</td>\n      <td>36</td>\n    </tr>\n    <tr>\n      <th>2022-04-01</th>\n      <td>118</td>\n      <td>-590.020000</td>\n      <td>-118.920000</td>\n      <td>1738.200000</td>\n      <td>-2328.220000</td>\n      <td>31</td>\n    </tr>\n  </tbody>\n</table>\n</div>"
     },
     "execution_count": 26,
     "metadata": {},
     "output_type": "execute_result"
    }
   ],
   "source": [
    "def get_executions_ungroup(file_path: str):\n",
    "    df = pd.read_csv(file_path)\n",
    "    df = df[df[\"realized_pnl\"].notnull()]\n",
    "    df[\"date\"] = pd.to_datetime(df[\"time_completed\"]).dt.date\n",
    "\n",
    "    cols = [\"quantity\", \"realized_pnl\", \"px_side\"]\n",
    "\n",
    "    df_pos = df[df[\"realized_pnl\"] > 0].groupby(\"date\").sum()[[\"realized_pnl\"]]\n",
    "    df_neg = df[df[\"realized_pnl\"] < 0].groupby(\"date\").sum()[[\"realized_pnl\"]]\n",
    "\n",
    "    return df.groupby(\"date\").sum()[cols] \\\n",
    "        .join(df_pos, rsuffix=\"_pos\") \\\n",
    "        .join(df_neg, rsuffix=\"_neg\") \\\n",
    "        .join(df.groupby(\"date\").count()[[\"realized_pnl\"]], rsuffix=\"_count\")\n",
    "\n",
    "\n",
    "get_executions_ungroup(PATH)\n"
   ],
   "metadata": {
    "collapsed": false,
    "pycharm": {
     "name": "#%%\n"
    }
   }
  }
 ],
 "metadata": {
  "kernelspec": {
   "name": "rx-trade-ib",
   "language": "python",
   "display_name": "rx-trade-ib"
  },
  "language_info": {
   "codemirror_mode": {
    "name": "ipython",
    "version": 2
   },
   "file_extension": ".py",
   "mimetype": "text/x-python",
   "name": "python",
   "nbconvert_exporter": "python",
   "pygments_lexer": "ipython2",
   "version": "2.7.6"
  }
 },
 "nbformat": 4,
 "nbformat_minor": 0
}