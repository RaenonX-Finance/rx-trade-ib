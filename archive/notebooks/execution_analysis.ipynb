{
 "cells": [
  {
   "cell_type": "code",
   "execution_count": 13,
   "outputs": [
    {
     "data": {
      "text/plain": "            realized_pnl     px_side  pnl / side  profit  loss\ndate                                                          \n2022-03-18   2326.020001  320.211667    7.264008    14.0   5.0\n2022-03-21  -1456.600001 -306.435834    4.753361    12.0  15.0\n2022-03-22    943.200000  117.325000    8.039207     3.0   2.0\n2022-03-23   -261.500000  -47.263333    5.532830     5.0   9.0\n2022-03-24    717.280000  145.170000    4.940966     6.0   3.0\n2022-03-25    -69.179999  -76.455000    0.904846    17.0  12.0\nTotal        2199.220001  152.552500   31.435218    57.0  46.0",
      "text/html": "<div>\n<style scoped>\n    .dataframe tbody tr th:only-of-type {\n        vertical-align: middle;\n    }\n\n    .dataframe tbody tr th {\n        vertical-align: top;\n    }\n\n    .dataframe thead th {\n        text-align: right;\n    }\n</style>\n<table border=\"1\" class=\"dataframe\">\n  <thead>\n    <tr style=\"text-align: right;\">\n      <th></th>\n      <th>realized_pnl</th>\n      <th>px_side</th>\n      <th>pnl / side</th>\n      <th>profit</th>\n      <th>loss</th>\n    </tr>\n    <tr>\n      <th>date</th>\n      <th></th>\n      <th></th>\n      <th></th>\n      <th></th>\n      <th></th>\n    </tr>\n  </thead>\n  <tbody>\n    <tr>\n      <th>2022-03-18</th>\n      <td>2326.020001</td>\n      <td>320.211667</td>\n      <td>7.264008</td>\n      <td>14.0</td>\n      <td>5.0</td>\n    </tr>\n    <tr>\n      <th>2022-03-21</th>\n      <td>-1456.600001</td>\n      <td>-306.435834</td>\n      <td>4.753361</td>\n      <td>12.0</td>\n      <td>15.0</td>\n    </tr>\n    <tr>\n      <th>2022-03-22</th>\n      <td>943.200000</td>\n      <td>117.325000</td>\n      <td>8.039207</td>\n      <td>3.0</td>\n      <td>2.0</td>\n    </tr>\n    <tr>\n      <th>2022-03-23</th>\n      <td>-261.500000</td>\n      <td>-47.263333</td>\n      <td>5.532830</td>\n      <td>5.0</td>\n      <td>9.0</td>\n    </tr>\n    <tr>\n      <th>2022-03-24</th>\n      <td>717.280000</td>\n      <td>145.170000</td>\n      <td>4.940966</td>\n      <td>6.0</td>\n      <td>3.0</td>\n    </tr>\n    <tr>\n      <th>2022-03-25</th>\n      <td>-69.179999</td>\n      <td>-76.455000</td>\n      <td>0.904846</td>\n      <td>17.0</td>\n      <td>12.0</td>\n    </tr>\n    <tr>\n      <th>Total</th>\n      <td>2199.220001</td>\n      <td>152.552500</td>\n      <td>31.435218</td>\n      <td>57.0</td>\n      <td>46.0</td>\n    </tr>\n  </tbody>\n</table>\n</div>"
     },
     "execution_count": 13,
     "metadata": {},
     "output_type": "execute_result"
    }
   ],
   "source": [
    "import pandas as pd\n",
    "\n",
    "PATH = \"../executions/MNQM2022/20220318-20220325.csv\"\n",
    "\n",
    "\n",
    "def get_executions_df(file_path: str):\n",
    "    df = pd.read_csv(file_path)\n",
    "    df = df[df[\"realized_pnl\"].notnull()]\n",
    "    df[\"date\"] = pd.to_datetime(df[\"time_completed\"]).dt.date\n",
    "\n",
    "    df_grouped = df.groupby(\"date\").sum()[[\"realized_pnl\", \"px_side\"]]\n",
    "\n",
    "    df_grouped[\"pnl / side\"] = df_grouped[\"realized_pnl\"] / df_grouped[\"px_side\"]\n",
    "    df_grouped[\"profit\"] = df[df[\"realized_pnl\"] > 0].groupby(\"date\").count()[\"realized_pnl\"]\n",
    "    df_grouped[\"loss\"] = df[df[\"realized_pnl\"] < 0].groupby(\"date\").count()[\"realized_pnl\"]\n",
    "    df_grouped.loc[\"Total\"] = df_grouped.sum(numeric_only=True)\n",
    "\n",
    "    return df_grouped\n",
    "\n",
    "\n",
    "get_executions_df(PATH)"
   ],
   "metadata": {
    "collapsed": false,
    "pycharm": {
     "name": "#%%\n"
    }
   }
  },
  {
   "cell_type": "code",
   "execution_count": 14,
   "outputs": [
    {
     "data": {
      "text/plain": "                                             contract  \\\n2   477837024,MNQ,FUT,20220617,0,,2,GLOBEX,,USD,MN...   \n5   477837024,MNQ,FUT,20220617,0,,2,GLOBEX,,USD,MN...   \n6   477837024,MNQ,FUT,20220617,0,,2,GLOBEX,,USD,MN...   \n8   477837024,MNQ,FUT,20220617,0,,2,GLOBEX,,USD,MN...   \n10  477837024,MNQ,FUT,20220617,0,,2,GLOBEX,,USD,MN...   \n13  477837024,MNQ,FUT,20220617,0,,2,GLOBEX,,USD,MN...   \n15  477837024,MNQ,FUT,20220617,0,,2,GLOBEX,,USD,MN...   \n17  477837024,MNQ,FUT,20220617,0,,2,GLOBEX,,USD,MN...   \n20  477837024,MNQ,FUT,20220617,0,,2,GLOBEX,,USD,MN...   \n23  477837024,MNQ,FUT,20220617,0,,2,GLOBEX,,USD,MN...   \n26  477837024,MNQ,FUT,20220617,0,,2,GLOBEX,,USD,MN...   \n31  477837024,MNQ,FUT,20220617,0,,2,GLOBEX,,USD,MN...   \n35  477837024,MNQ,FUT,20220617,0,,2,GLOBEX,,USD,MN...   \n40  477837024,MNQ,FUT,20220617,0,,2,GLOBEX,,USD,MN...   \n45  477837024,MNQ,FUT,20220617,0,,2,GLOBEX,,USD,MN...   \n51  477837024,MNQ,FUT,20220617,0,,2,GLOBEX,,USD,MN...   \n56  477837024,MNQ,FUT,20220617,0,,2,GLOBEX,,USD,MN...   \n57  477837024,MNQ,FUT,20220617,0,,2,GLOBEX,,USD,MN...   \n62  477837024,MNQ,FUT,20220617,0,,2,GLOBEX,,USD,MN...   \n66  477837024,MNQ,FUT,20220617,0,,2,GLOBEX,,USD,MN...   \n\n             time_completed side  quantity  avg_price  realized_pnl  \\\n2   2022-03-18 01:09:43.000  SLD         2   14026.50    155.720000   \n5   2022-03-18 02:03:43.000  SLD         1   14014.25    -41.306667   \n6   2022-03-18 02:51:33.000  SLD         2   14037.50     10.386667   \n8   2022-03-18 05:09:56.000  SLD         3   14034.50     11.580000   \n10  2022-03-18 06:08:28.000  SLD         3   13990.00    -82.920000   \n13  2022-03-18 06:43:04.000  SLD         3   14013.75    157.580001   \n15  2022-03-18 08:19:33.000  SLD         3   13999.50     89.580000   \n17  2022-03-18 08:33:03.000  SLD         1   14059.00     68.360000   \n20  2022-03-18 08:36:00.000  SLD         2   14055.00    109.220000   \n23  2022-03-18 08:51:25.000  SLD         3   14117.50    436.080000   \n26  2022-03-18 09:15:57.000  SLD         4   14220.00    369.440000   \n31  2022-03-18 09:36:52.000  SLD         4   14173.00   -227.560000   \n35  2022-03-18 10:00:59.000  SLD         4   14222.00    343.440000   \n40  2022-03-18 11:17:00.000  SLD         4   14251.00     24.440000   \n45  2022-03-18 11:46:56.000  SLD         4   14291.75     67.440000   \n51  2022-03-18 14:26:01.000  SLD         5   14399.00   1024.800000   \n56  2022-03-18 14:36:32.000  SLD         1   14390.50    -39.940000   \n57  2022-03-18 14:37:35.000  SLD         4   14382.25   -225.760000   \n62  2022-03-18 14:54:57.000  SLD         4   14404.75     75.440000   \n66  2022-03-21 06:11:16.000  SLD         3   14387.25    200.580000   \n\n       epoch_sec  profit  loss        wr  ...  avg_pnl_loss  avg_pnl_rr  \\\n2   1.647584e+09       1     0  1.000000  ...           NaN         NaN   \n5   1.647587e+09       1     1  0.500000  ...    -41.306667    3.769851   \n6   1.647590e+09       2     1  0.666667  ...    -41.306667    2.010652   \n8   1.647598e+09       3     1  0.750000  ...    -41.306667    1.433882   \n10  1.647602e+09       3     2  0.600000  ...    -62.113334    0.953562   \n13  1.647604e+09       4     2  0.666667  ...    -62.113334    1.349415   \n15  1.647610e+09       5     2  0.714286  ...    -62.113334    1.367973   \n17  1.647610e+09       6     2  0.750000  ...    -62.113334    1.323405   \n20  1.647611e+09       7     2  0.777778  ...    -62.113334    1.385547   \n23  1.647611e+09       8     2  0.800000  ...    -62.113334    2.089943   \n26  1.647613e+09       9     2  0.818182  ...    -62.113334    2.518598   \n31  1.647614e+09       9     3  0.750000  ...   -117.262222    1.334091   \n35  1.647616e+09      10     3  0.769231  ...   -117.262222    1.493564   \n40  1.647620e+09      11     3  0.785714  ...   -117.262222    1.376733   \n45  1.647622e+09      12     3  0.800000  ...   -117.262222    1.309932   \n51  1.647632e+09      13     3  0.812500  ...   -117.262222    1.881429   \n56  1.647632e+09      13     4  0.764706  ...    -97.931667    2.252801   \n57  1.647632e+09      13     5  0.722222  ...   -123.497333    1.786439   \n62  1.647633e+09      14     5  0.736842  ...   -123.497333    1.702470   \n66  1.647861e+09      15     5  0.750000  ...   -123.497333    1.697249   \n\n    avg_pnl_ewr  total_px_profit  avg_px_profit  total_px_loss  avg_px_loss  \\\n2           NaN        38.930000      38.930000       0.000000          NaN   \n5      0.209650         0.000000      38.930000     -20.653333   -20.653333   \n6      0.332154        41.526667      20.763333       0.000000   -20.653333   \n8      0.410866        43.456667      14.485556       0.000000   -20.653333   \n10     0.511886         0.000000      14.485556     -34.473333   -17.236667   \n13     0.425638        69.720000      17.430000       0.000000   -17.236667   \n15     0.422302        84.650000      16.930000       0.000000   -17.236667   \n17     0.430403       118.830000      19.805000       0.000000   -17.236667   \n20     0.419191       146.135000      20.876429       0.000000   -17.236667   \n23     0.323631       218.815000      27.351875       0.000000   -17.236667   \n26     0.284204       264.995000      29.443889       0.000000   -17.236667   \n31     0.428432         0.000000      29.443889     -62.918334   -20.972778   \n35     0.401032       307.925000      30.792500       0.000000   -20.972778   \n40     0.420746       310.980000      28.270909       0.000000   -20.972778   \n45     0.432913       319.410000      26.617500       0.000000   -20.972778   \n51     0.347050       421.890000      32.453077       0.000000   -20.972778   \n56     0.307427         0.000000      32.453077     -82.888333   -20.722083   \n57     0.358881         0.000000      32.453077    -111.108334   -22.221667   \n62     0.370032       431.320000      30.808571       0.000000   -22.221667   \n66     0.370748       464.750000      30.983333       0.000000   -22.221667   \n\n    avg_px_rr  avg_px_ewr        date  \n2         NaN         NaN  2022-03-18  \n5    1.884926    0.346629  2022-03-18  \n6    1.005326    0.498672  2022-03-18  \n8    0.701366    0.587763  2022-03-18  \n10   0.840392    0.543363  2022-03-18  \n13   1.011216    0.497212  2022-03-18  \n15   0.982208    0.504488  2022-03-18  \n17   1.149004    0.465332  2022-03-18  \n20   1.211164    0.452251  2022-03-18  \n23   1.586842    0.386572  2022-03-18  \n26   1.708212    0.369247  2022-03-18  \n31   1.403910    0.415989  2022-03-18  \n35   1.468213    0.405151  2022-03-18  \n40   1.347981    0.425898  2022-03-18  \n45   1.269145    0.440695  2022-03-18  \n51   1.547390    0.392559  2022-03-18  \n56   1.566111    0.389695  2022-03-18  \n57   1.460425    0.406434  2022-03-18  \n62   1.386420    0.419038  2022-03-18  \n66   1.394285    0.417661  2022-03-21  \n\n[20 rows x 33 columns]",
      "text/html": "<div>\n<style scoped>\n    .dataframe tbody tr th:only-of-type {\n        vertical-align: middle;\n    }\n\n    .dataframe tbody tr th {\n        vertical-align: top;\n    }\n\n    .dataframe thead th {\n        text-align: right;\n    }\n</style>\n<table border=\"1\" class=\"dataframe\">\n  <thead>\n    <tr style=\"text-align: right;\">\n      <th></th>\n      <th>contract</th>\n      <th>time_completed</th>\n      <th>side</th>\n      <th>quantity</th>\n      <th>avg_price</th>\n      <th>realized_pnl</th>\n      <th>epoch_sec</th>\n      <th>profit</th>\n      <th>loss</th>\n      <th>wr</th>\n      <th>...</th>\n      <th>avg_pnl_loss</th>\n      <th>avg_pnl_rr</th>\n      <th>avg_pnl_ewr</th>\n      <th>total_px_profit</th>\n      <th>avg_px_profit</th>\n      <th>total_px_loss</th>\n      <th>avg_px_loss</th>\n      <th>avg_px_rr</th>\n      <th>avg_px_ewr</th>\n      <th>date</th>\n    </tr>\n  </thead>\n  <tbody>\n    <tr>\n      <th>2</th>\n      <td>477837024,MNQ,FUT,20220617,0,,2,GLOBEX,,USD,MN...</td>\n      <td>2022-03-18 01:09:43.000</td>\n      <td>SLD</td>\n      <td>2</td>\n      <td>14026.50</td>\n      <td>155.720000</td>\n      <td>1.647584e+09</td>\n      <td>1</td>\n      <td>0</td>\n      <td>1.000000</td>\n      <td>...</td>\n      <td>NaN</td>\n      <td>NaN</td>\n      <td>NaN</td>\n      <td>38.930000</td>\n      <td>38.930000</td>\n      <td>0.000000</td>\n      <td>NaN</td>\n      <td>NaN</td>\n      <td>NaN</td>\n      <td>2022-03-18</td>\n    </tr>\n    <tr>\n      <th>5</th>\n      <td>477837024,MNQ,FUT,20220617,0,,2,GLOBEX,,USD,MN...</td>\n      <td>2022-03-18 02:03:43.000</td>\n      <td>SLD</td>\n      <td>1</td>\n      <td>14014.25</td>\n      <td>-41.306667</td>\n      <td>1.647587e+09</td>\n      <td>1</td>\n      <td>1</td>\n      <td>0.500000</td>\n      <td>...</td>\n      <td>-41.306667</td>\n      <td>3.769851</td>\n      <td>0.209650</td>\n      <td>0.000000</td>\n      <td>38.930000</td>\n      <td>-20.653333</td>\n      <td>-20.653333</td>\n      <td>1.884926</td>\n      <td>0.346629</td>\n      <td>2022-03-18</td>\n    </tr>\n    <tr>\n      <th>6</th>\n      <td>477837024,MNQ,FUT,20220617,0,,2,GLOBEX,,USD,MN...</td>\n      <td>2022-03-18 02:51:33.000</td>\n      <td>SLD</td>\n      <td>2</td>\n      <td>14037.50</td>\n      <td>10.386667</td>\n      <td>1.647590e+09</td>\n      <td>2</td>\n      <td>1</td>\n      <td>0.666667</td>\n      <td>...</td>\n      <td>-41.306667</td>\n      <td>2.010652</td>\n      <td>0.332154</td>\n      <td>41.526667</td>\n      <td>20.763333</td>\n      <td>0.000000</td>\n      <td>-20.653333</td>\n      <td>1.005326</td>\n      <td>0.498672</td>\n      <td>2022-03-18</td>\n    </tr>\n    <tr>\n      <th>8</th>\n      <td>477837024,MNQ,FUT,20220617,0,,2,GLOBEX,,USD,MN...</td>\n      <td>2022-03-18 05:09:56.000</td>\n      <td>SLD</td>\n      <td>3</td>\n      <td>14034.50</td>\n      <td>11.580000</td>\n      <td>1.647598e+09</td>\n      <td>3</td>\n      <td>1</td>\n      <td>0.750000</td>\n      <td>...</td>\n      <td>-41.306667</td>\n      <td>1.433882</td>\n      <td>0.410866</td>\n      <td>43.456667</td>\n      <td>14.485556</td>\n      <td>0.000000</td>\n      <td>-20.653333</td>\n      <td>0.701366</td>\n      <td>0.587763</td>\n      <td>2022-03-18</td>\n    </tr>\n    <tr>\n      <th>10</th>\n      <td>477837024,MNQ,FUT,20220617,0,,2,GLOBEX,,USD,MN...</td>\n      <td>2022-03-18 06:08:28.000</td>\n      <td>SLD</td>\n      <td>3</td>\n      <td>13990.00</td>\n      <td>-82.920000</td>\n      <td>1.647602e+09</td>\n      <td>3</td>\n      <td>2</td>\n      <td>0.600000</td>\n      <td>...</td>\n      <td>-62.113334</td>\n      <td>0.953562</td>\n      <td>0.511886</td>\n      <td>0.000000</td>\n      <td>14.485556</td>\n      <td>-34.473333</td>\n      <td>-17.236667</td>\n      <td>0.840392</td>\n      <td>0.543363</td>\n      <td>2022-03-18</td>\n    </tr>\n    <tr>\n      <th>13</th>\n      <td>477837024,MNQ,FUT,20220617,0,,2,GLOBEX,,USD,MN...</td>\n      <td>2022-03-18 06:43:04.000</td>\n      <td>SLD</td>\n      <td>3</td>\n      <td>14013.75</td>\n      <td>157.580001</td>\n      <td>1.647604e+09</td>\n      <td>4</td>\n      <td>2</td>\n      <td>0.666667</td>\n      <td>...</td>\n      <td>-62.113334</td>\n      <td>1.349415</td>\n      <td>0.425638</td>\n      <td>69.720000</td>\n      <td>17.430000</td>\n      <td>0.000000</td>\n      <td>-17.236667</td>\n      <td>1.011216</td>\n      <td>0.497212</td>\n      <td>2022-03-18</td>\n    </tr>\n    <tr>\n      <th>15</th>\n      <td>477837024,MNQ,FUT,20220617,0,,2,GLOBEX,,USD,MN...</td>\n      <td>2022-03-18 08:19:33.000</td>\n      <td>SLD</td>\n      <td>3</td>\n      <td>13999.50</td>\n      <td>89.580000</td>\n      <td>1.647610e+09</td>\n      <td>5</td>\n      <td>2</td>\n      <td>0.714286</td>\n      <td>...</td>\n      <td>-62.113334</td>\n      <td>1.367973</td>\n      <td>0.422302</td>\n      <td>84.650000</td>\n      <td>16.930000</td>\n      <td>0.000000</td>\n      <td>-17.236667</td>\n      <td>0.982208</td>\n      <td>0.504488</td>\n      <td>2022-03-18</td>\n    </tr>\n    <tr>\n      <th>17</th>\n      <td>477837024,MNQ,FUT,20220617,0,,2,GLOBEX,,USD,MN...</td>\n      <td>2022-03-18 08:33:03.000</td>\n      <td>SLD</td>\n      <td>1</td>\n      <td>14059.00</td>\n      <td>68.360000</td>\n      <td>1.647610e+09</td>\n      <td>6</td>\n      <td>2</td>\n      <td>0.750000</td>\n      <td>...</td>\n      <td>-62.113334</td>\n      <td>1.323405</td>\n      <td>0.430403</td>\n      <td>118.830000</td>\n      <td>19.805000</td>\n      <td>0.000000</td>\n      <td>-17.236667</td>\n      <td>1.149004</td>\n      <td>0.465332</td>\n      <td>2022-03-18</td>\n    </tr>\n    <tr>\n      <th>20</th>\n      <td>477837024,MNQ,FUT,20220617,0,,2,GLOBEX,,USD,MN...</td>\n      <td>2022-03-18 08:36:00.000</td>\n      <td>SLD</td>\n      <td>2</td>\n      <td>14055.00</td>\n      <td>109.220000</td>\n      <td>1.647611e+09</td>\n      <td>7</td>\n      <td>2</td>\n      <td>0.777778</td>\n      <td>...</td>\n      <td>-62.113334</td>\n      <td>1.385547</td>\n      <td>0.419191</td>\n      <td>146.135000</td>\n      <td>20.876429</td>\n      <td>0.000000</td>\n      <td>-17.236667</td>\n      <td>1.211164</td>\n      <td>0.452251</td>\n      <td>2022-03-18</td>\n    </tr>\n    <tr>\n      <th>23</th>\n      <td>477837024,MNQ,FUT,20220617,0,,2,GLOBEX,,USD,MN...</td>\n      <td>2022-03-18 08:51:25.000</td>\n      <td>SLD</td>\n      <td>3</td>\n      <td>14117.50</td>\n      <td>436.080000</td>\n      <td>1.647611e+09</td>\n      <td>8</td>\n      <td>2</td>\n      <td>0.800000</td>\n      <td>...</td>\n      <td>-62.113334</td>\n      <td>2.089943</td>\n      <td>0.323631</td>\n      <td>218.815000</td>\n      <td>27.351875</td>\n      <td>0.000000</td>\n      <td>-17.236667</td>\n      <td>1.586842</td>\n      <td>0.386572</td>\n      <td>2022-03-18</td>\n    </tr>\n    <tr>\n      <th>26</th>\n      <td>477837024,MNQ,FUT,20220617,0,,2,GLOBEX,,USD,MN...</td>\n      <td>2022-03-18 09:15:57.000</td>\n      <td>SLD</td>\n      <td>4</td>\n      <td>14220.00</td>\n      <td>369.440000</td>\n      <td>1.647613e+09</td>\n      <td>9</td>\n      <td>2</td>\n      <td>0.818182</td>\n      <td>...</td>\n      <td>-62.113334</td>\n      <td>2.518598</td>\n      <td>0.284204</td>\n      <td>264.995000</td>\n      <td>29.443889</td>\n      <td>0.000000</td>\n      <td>-17.236667</td>\n      <td>1.708212</td>\n      <td>0.369247</td>\n      <td>2022-03-18</td>\n    </tr>\n    <tr>\n      <th>31</th>\n      <td>477837024,MNQ,FUT,20220617,0,,2,GLOBEX,,USD,MN...</td>\n      <td>2022-03-18 09:36:52.000</td>\n      <td>SLD</td>\n      <td>4</td>\n      <td>14173.00</td>\n      <td>-227.560000</td>\n      <td>1.647614e+09</td>\n      <td>9</td>\n      <td>3</td>\n      <td>0.750000</td>\n      <td>...</td>\n      <td>-117.262222</td>\n      <td>1.334091</td>\n      <td>0.428432</td>\n      <td>0.000000</td>\n      <td>29.443889</td>\n      <td>-62.918334</td>\n      <td>-20.972778</td>\n      <td>1.403910</td>\n      <td>0.415989</td>\n      <td>2022-03-18</td>\n    </tr>\n    <tr>\n      <th>35</th>\n      <td>477837024,MNQ,FUT,20220617,0,,2,GLOBEX,,USD,MN...</td>\n      <td>2022-03-18 10:00:59.000</td>\n      <td>SLD</td>\n      <td>4</td>\n      <td>14222.00</td>\n      <td>343.440000</td>\n      <td>1.647616e+09</td>\n      <td>10</td>\n      <td>3</td>\n      <td>0.769231</td>\n      <td>...</td>\n      <td>-117.262222</td>\n      <td>1.493564</td>\n      <td>0.401032</td>\n      <td>307.925000</td>\n      <td>30.792500</td>\n      <td>0.000000</td>\n      <td>-20.972778</td>\n      <td>1.468213</td>\n      <td>0.405151</td>\n      <td>2022-03-18</td>\n    </tr>\n    <tr>\n      <th>40</th>\n      <td>477837024,MNQ,FUT,20220617,0,,2,GLOBEX,,USD,MN...</td>\n      <td>2022-03-18 11:17:00.000</td>\n      <td>SLD</td>\n      <td>4</td>\n      <td>14251.00</td>\n      <td>24.440000</td>\n      <td>1.647620e+09</td>\n      <td>11</td>\n      <td>3</td>\n      <td>0.785714</td>\n      <td>...</td>\n      <td>-117.262222</td>\n      <td>1.376733</td>\n      <td>0.420746</td>\n      <td>310.980000</td>\n      <td>28.270909</td>\n      <td>0.000000</td>\n      <td>-20.972778</td>\n      <td>1.347981</td>\n      <td>0.425898</td>\n      <td>2022-03-18</td>\n    </tr>\n    <tr>\n      <th>45</th>\n      <td>477837024,MNQ,FUT,20220617,0,,2,GLOBEX,,USD,MN...</td>\n      <td>2022-03-18 11:46:56.000</td>\n      <td>SLD</td>\n      <td>4</td>\n      <td>14291.75</td>\n      <td>67.440000</td>\n      <td>1.647622e+09</td>\n      <td>12</td>\n      <td>3</td>\n      <td>0.800000</td>\n      <td>...</td>\n      <td>-117.262222</td>\n      <td>1.309932</td>\n      <td>0.432913</td>\n      <td>319.410000</td>\n      <td>26.617500</td>\n      <td>0.000000</td>\n      <td>-20.972778</td>\n      <td>1.269145</td>\n      <td>0.440695</td>\n      <td>2022-03-18</td>\n    </tr>\n    <tr>\n      <th>51</th>\n      <td>477837024,MNQ,FUT,20220617,0,,2,GLOBEX,,USD,MN...</td>\n      <td>2022-03-18 14:26:01.000</td>\n      <td>SLD</td>\n      <td>5</td>\n      <td>14399.00</td>\n      <td>1024.800000</td>\n      <td>1.647632e+09</td>\n      <td>13</td>\n      <td>3</td>\n      <td>0.812500</td>\n      <td>...</td>\n      <td>-117.262222</td>\n      <td>1.881429</td>\n      <td>0.347050</td>\n      <td>421.890000</td>\n      <td>32.453077</td>\n      <td>0.000000</td>\n      <td>-20.972778</td>\n      <td>1.547390</td>\n      <td>0.392559</td>\n      <td>2022-03-18</td>\n    </tr>\n    <tr>\n      <th>56</th>\n      <td>477837024,MNQ,FUT,20220617,0,,2,GLOBEX,,USD,MN...</td>\n      <td>2022-03-18 14:36:32.000</td>\n      <td>SLD</td>\n      <td>1</td>\n      <td>14390.50</td>\n      <td>-39.940000</td>\n      <td>1.647632e+09</td>\n      <td>13</td>\n      <td>4</td>\n      <td>0.764706</td>\n      <td>...</td>\n      <td>-97.931667</td>\n      <td>2.252801</td>\n      <td>0.307427</td>\n      <td>0.000000</td>\n      <td>32.453077</td>\n      <td>-82.888333</td>\n      <td>-20.722083</td>\n      <td>1.566111</td>\n      <td>0.389695</td>\n      <td>2022-03-18</td>\n    </tr>\n    <tr>\n      <th>57</th>\n      <td>477837024,MNQ,FUT,20220617,0,,2,GLOBEX,,USD,MN...</td>\n      <td>2022-03-18 14:37:35.000</td>\n      <td>SLD</td>\n      <td>4</td>\n      <td>14382.25</td>\n      <td>-225.760000</td>\n      <td>1.647632e+09</td>\n      <td>13</td>\n      <td>5</td>\n      <td>0.722222</td>\n      <td>...</td>\n      <td>-123.497333</td>\n      <td>1.786439</td>\n      <td>0.358881</td>\n      <td>0.000000</td>\n      <td>32.453077</td>\n      <td>-111.108334</td>\n      <td>-22.221667</td>\n      <td>1.460425</td>\n      <td>0.406434</td>\n      <td>2022-03-18</td>\n    </tr>\n    <tr>\n      <th>62</th>\n      <td>477837024,MNQ,FUT,20220617,0,,2,GLOBEX,,USD,MN...</td>\n      <td>2022-03-18 14:54:57.000</td>\n      <td>SLD</td>\n      <td>4</td>\n      <td>14404.75</td>\n      <td>75.440000</td>\n      <td>1.647633e+09</td>\n      <td>14</td>\n      <td>5</td>\n      <td>0.736842</td>\n      <td>...</td>\n      <td>-123.497333</td>\n      <td>1.702470</td>\n      <td>0.370032</td>\n      <td>431.320000</td>\n      <td>30.808571</td>\n      <td>0.000000</td>\n      <td>-22.221667</td>\n      <td>1.386420</td>\n      <td>0.419038</td>\n      <td>2022-03-18</td>\n    </tr>\n    <tr>\n      <th>66</th>\n      <td>477837024,MNQ,FUT,20220617,0,,2,GLOBEX,,USD,MN...</td>\n      <td>2022-03-21 06:11:16.000</td>\n      <td>SLD</td>\n      <td>3</td>\n      <td>14387.25</td>\n      <td>200.580000</td>\n      <td>1.647861e+09</td>\n      <td>15</td>\n      <td>5</td>\n      <td>0.750000</td>\n      <td>...</td>\n      <td>-123.497333</td>\n      <td>1.697249</td>\n      <td>0.370748</td>\n      <td>464.750000</td>\n      <td>30.983333</td>\n      <td>0.000000</td>\n      <td>-22.221667</td>\n      <td>1.394285</td>\n      <td>0.417661</td>\n      <td>2022-03-21</td>\n    </tr>\n  </tbody>\n</table>\n<p>20 rows × 33 columns</p>\n</div>"
     },
     "execution_count": 14,
     "metadata": {},
     "output_type": "execute_result"
    }
   ],
   "source": [
    "def get_executions_ungroup(file_path: str):\n",
    "    df = pd.read_csv(file_path)\n",
    "    df = df[df[\"realized_pnl\"].notnull()]\n",
    "    df[\"date\"] = pd.to_datetime(df[\"time_completed\"]).dt.date\n",
    "\n",
    "    cols = [\"quantity\", \"realized_pnl\", \"px_side\"]\n",
    "\n",
    "    return (\n",
    "        df,\n",
    "        df.groupby(\"date\").sum()[cols],\n",
    "        df.groupby(\"date\").count()[[\"realized_pnl\"]]\n",
    "        # Only a single column is needed for showing the total realization count\n",
    "    )\n",
    "\n",
    "\n",
    "df_all, df_sum, df_count = get_executions_ungroup(PATH)"
   ],
   "metadata": {
    "collapsed": false,
    "pycharm": {
     "name": "#%%\n"
    }
   }
  },
  {
   "cell_type": "code",
   "execution_count": 4,
   "outputs": [
    {
     "data": {
      "text/plain": "            quantity  realized_pnl     px_side\ndate                                          \n2022-03-18        57   2326.020001  320.211667\n2022-03-21        90  -1456.600001 -306.435834\n2022-03-22        20    943.200000  117.325000\n2022-03-23        50   -261.500000  -47.263333\n2022-03-24        23    717.280000  145.170000\n2022-03-25        87    -69.179999  -76.455000",
      "text/html": "<div>\n<style scoped>\n    .dataframe tbody tr th:only-of-type {\n        vertical-align: middle;\n    }\n\n    .dataframe tbody tr th {\n        vertical-align: top;\n    }\n\n    .dataframe thead th {\n        text-align: right;\n    }\n</style>\n<table border=\"1\" class=\"dataframe\">\n  <thead>\n    <tr style=\"text-align: right;\">\n      <th></th>\n      <th>quantity</th>\n      <th>realized_pnl</th>\n      <th>px_side</th>\n    </tr>\n    <tr>\n      <th>date</th>\n      <th></th>\n      <th></th>\n      <th></th>\n    </tr>\n  </thead>\n  <tbody>\n    <tr>\n      <th>2022-03-18</th>\n      <td>57</td>\n      <td>2326.020001</td>\n      <td>320.211667</td>\n    </tr>\n    <tr>\n      <th>2022-03-21</th>\n      <td>90</td>\n      <td>-1456.600001</td>\n      <td>-306.435834</td>\n    </tr>\n    <tr>\n      <th>2022-03-22</th>\n      <td>20</td>\n      <td>943.200000</td>\n      <td>117.325000</td>\n    </tr>\n    <tr>\n      <th>2022-03-23</th>\n      <td>50</td>\n      <td>-261.500000</td>\n      <td>-47.263333</td>\n    </tr>\n    <tr>\n      <th>2022-03-24</th>\n      <td>23</td>\n      <td>717.280000</td>\n      <td>145.170000</td>\n    </tr>\n    <tr>\n      <th>2022-03-25</th>\n      <td>87</td>\n      <td>-69.179999</td>\n      <td>-76.455000</td>\n    </tr>\n  </tbody>\n</table>\n</div>"
     },
     "execution_count": 4,
     "metadata": {},
     "output_type": "execute_result"
    }
   ],
   "source": [
    "df_sum\n"
   ],
   "metadata": {
    "collapsed": false,
    "pycharm": {
     "name": "#%%\n"
    }
   }
  },
  {
   "cell_type": "code",
   "execution_count": 5,
   "outputs": [
    {
     "data": {
      "text/plain": "            realized_pnl\ndate                    \n2022-03-18            19\n2022-03-21            27\n2022-03-22             5\n2022-03-23            14\n2022-03-24             9\n2022-03-25            29",
      "text/html": "<div>\n<style scoped>\n    .dataframe tbody tr th:only-of-type {\n        vertical-align: middle;\n    }\n\n    .dataframe tbody tr th {\n        vertical-align: top;\n    }\n\n    .dataframe thead th {\n        text-align: right;\n    }\n</style>\n<table border=\"1\" class=\"dataframe\">\n  <thead>\n    <tr style=\"text-align: right;\">\n      <th></th>\n      <th>realized_pnl</th>\n    </tr>\n    <tr>\n      <th>date</th>\n      <th></th>\n    </tr>\n  </thead>\n  <tbody>\n    <tr>\n      <th>2022-03-18</th>\n      <td>19</td>\n    </tr>\n    <tr>\n      <th>2022-03-21</th>\n      <td>27</td>\n    </tr>\n    <tr>\n      <th>2022-03-22</th>\n      <td>5</td>\n    </tr>\n    <tr>\n      <th>2022-03-23</th>\n      <td>14</td>\n    </tr>\n    <tr>\n      <th>2022-03-24</th>\n      <td>9</td>\n    </tr>\n    <tr>\n      <th>2022-03-25</th>\n      <td>29</td>\n    </tr>\n  </tbody>\n</table>\n</div>"
     },
     "execution_count": 5,
     "metadata": {},
     "output_type": "execute_result"
    }
   ],
   "source": [
    "df_count\n"
   ],
   "metadata": {
    "collapsed": false,
    "pycharm": {
     "name": "#%%\n"
    }
   }
  },
  {
   "cell_type": "code",
   "execution_count": 6,
   "outputs": [],
   "source": [
    "def get_executions_ungroup(file_path: str):\n",
    "    df = pd.read_csv(file_path)\n",
    "    df = df[df[\"realized_pnl\"].notnull()]\n",
    "    df[\"date\"] = pd.to_datetime(df[\"time_completed\"]).dt.date\n",
    "\n",
    "    return (\n",
    "        df[df[\"realized_pnl\"] > 0].groupby(\"date\").sum()[[\"realized_pnl\"]],\n",
    "        df[df[\"realized_pnl\"] < 0].groupby(\"date\").sum()[[\"realized_pnl\"]]\n",
    "    )\n",
    "\n",
    "\n",
    "df_pos, df_neg = get_executions_ungroup(PATH)"
   ],
   "metadata": {
    "collapsed": false,
    "pycharm": {
     "name": "#%%\n"
    }
   }
  },
  {
   "cell_type": "code",
   "execution_count": 7,
   "outputs": [
    {
     "data": {
      "text/plain": "            realized_pnl\ndate                    \n2022-03-18   2943.506668\n2022-03-21   3122.900000\n2022-03-22   1809.460000\n2022-03-23   1888.120000\n2022-03-24   1050.760000\n2022-03-25   2184.020001",
      "text/html": "<div>\n<style scoped>\n    .dataframe tbody tr th:only-of-type {\n        vertical-align: middle;\n    }\n\n    .dataframe tbody tr th {\n        vertical-align: top;\n    }\n\n    .dataframe thead th {\n        text-align: right;\n    }\n</style>\n<table border=\"1\" class=\"dataframe\">\n  <thead>\n    <tr style=\"text-align: right;\">\n      <th></th>\n      <th>realized_pnl</th>\n    </tr>\n    <tr>\n      <th>date</th>\n      <th></th>\n    </tr>\n  </thead>\n  <tbody>\n    <tr>\n      <th>2022-03-18</th>\n      <td>2943.506668</td>\n    </tr>\n    <tr>\n      <th>2022-03-21</th>\n      <td>3122.900000</td>\n    </tr>\n    <tr>\n      <th>2022-03-22</th>\n      <td>1809.460000</td>\n    </tr>\n    <tr>\n      <th>2022-03-23</th>\n      <td>1888.120000</td>\n    </tr>\n    <tr>\n      <th>2022-03-24</th>\n      <td>1050.760000</td>\n    </tr>\n    <tr>\n      <th>2022-03-25</th>\n      <td>2184.020001</td>\n    </tr>\n  </tbody>\n</table>\n</div>"
     },
     "execution_count": 7,
     "metadata": {},
     "output_type": "execute_result"
    }
   ],
   "source": [
    "df_pos\n"
   ],
   "metadata": {
    "collapsed": false,
    "pycharm": {
     "name": "#%%\n"
    }
   }
  },
  {
   "cell_type": "code",
   "execution_count": 8,
   "outputs": [
    {
     "data": {
      "text/plain": "            realized_pnl\ndate                    \n2022-03-18   -617.486667\n2022-03-21  -4579.500001\n2022-03-22   -866.260000\n2022-03-23  -2149.620000\n2022-03-24   -333.480000\n2022-03-25  -2253.200000",
      "text/html": "<div>\n<style scoped>\n    .dataframe tbody tr th:only-of-type {\n        vertical-align: middle;\n    }\n\n    .dataframe tbody tr th {\n        vertical-align: top;\n    }\n\n    .dataframe thead th {\n        text-align: right;\n    }\n</style>\n<table border=\"1\" class=\"dataframe\">\n  <thead>\n    <tr style=\"text-align: right;\">\n      <th></th>\n      <th>realized_pnl</th>\n    </tr>\n    <tr>\n      <th>date</th>\n      <th></th>\n    </tr>\n  </thead>\n  <tbody>\n    <tr>\n      <th>2022-03-18</th>\n      <td>-617.486667</td>\n    </tr>\n    <tr>\n      <th>2022-03-21</th>\n      <td>-4579.500001</td>\n    </tr>\n    <tr>\n      <th>2022-03-22</th>\n      <td>-866.260000</td>\n    </tr>\n    <tr>\n      <th>2022-03-23</th>\n      <td>-2149.620000</td>\n    </tr>\n    <tr>\n      <th>2022-03-24</th>\n      <td>-333.480000</td>\n    </tr>\n    <tr>\n      <th>2022-03-25</th>\n      <td>-2253.200000</td>\n    </tr>\n  </tbody>\n</table>\n</div>"
     },
     "execution_count": 8,
     "metadata": {},
     "output_type": "execute_result"
    }
   ],
   "source": [
    "df_neg\n"
   ],
   "metadata": {
    "collapsed": false,
    "pycharm": {
     "name": "#%%\n"
    }
   }
  }
 ],
 "metadata": {
  "kernelspec": {
   "name": "rx-trade-ib",
   "language": "python",
   "display_name": "rx-trade-ib"
  },
  "language_info": {
   "codemirror_mode": {
    "name": "ipython",
    "version": 2
   },
   "file_extension": ".py",
   "mimetype": "text/x-python",
   "name": "python",
   "nbconvert_exporter": "python",
   "pygments_lexer": "ipython2",
   "version": "2.7.6"
  }
 },
 "nbformat": 4,
 "nbformat_minor": 0
}