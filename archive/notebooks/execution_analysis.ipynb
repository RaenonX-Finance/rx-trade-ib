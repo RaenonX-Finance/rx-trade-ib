{
 "cells": [
  {
   "cell_type": "code",
   "execution_count": 1,
   "outputs": [
    {
     "data": {
      "text/plain": "            realized_pnl  px_side\ndate                             \n2022-03-24        717.28   145.17",
      "text/html": "<div>\n<style scoped>\n    .dataframe tbody tr th:only-of-type {\n        vertical-align: middle;\n    }\n\n    .dataframe tbody tr th {\n        vertical-align: top;\n    }\n\n    .dataframe thead th {\n        text-align: right;\n    }\n</style>\n<table border=\"1\" class=\"dataframe\">\n  <thead>\n    <tr style=\"text-align: right;\">\n      <th></th>\n      <th>realized_pnl</th>\n      <th>px_side</th>\n    </tr>\n    <tr>\n      <th>date</th>\n      <th></th>\n      <th></th>\n    </tr>\n  </thead>\n  <tbody>\n    <tr>\n      <th>2022-03-24</th>\n      <td>717.28</td>\n      <td>145.17</td>\n    </tr>\n  </tbody>\n</table>\n</div>"
     },
     "execution_count": 1,
     "metadata": {},
     "output_type": "execute_result"
    }
   ],
   "source": [
    "import pandas as pd\n",
    "\n",
    "def get_executions_df(file_path: str):\n",
    "    df = pd.read_csv(file_path)\n",
    "    df = df[df[\"realized_pnl\"].notnull()]\n",
    "    df[\"date\"] = pd.to_datetime(df[\"time_completed\"]).dt.date\n",
    "\n",
    "    return df.groupby(\"date\").sum()[[\"realized_pnl\", \"px_side\"]]\n",
    "\n",
    "get_executions_df(\"../../execution-477837024.csv\")"
   ],
   "metadata": {
    "collapsed": false,
    "pycharm": {
     "name": "#%%\n"
    }
   }
  },
  {
   "cell_type": "code",
   "execution_count": 2,
   "outputs": [
    {
     "data": {
      "text/plain": "    Unnamed: 0                                           contract  \\\n1            1  477837024,MNQ,FUT,20220617,0,,2,GLOBEX,,USD,MN...   \n6            6  477837024,MNQ,FUT,20220617,0,,2,GLOBEX,,USD,MN...   \n9            9  477837024,MNQ,FUT,20220617,0,,2,GLOBEX,,USD,MN...   \n13          13  477837024,MNQ,FUT,20220617,0,,2,GLOBEX,,USD,MN...   \n14          14  477837024,MNQ,FUT,20220617,0,,2,GLOBEX,,USD,MN...   \n17          17  477837024,MNQ,FUT,20220617,0,,2,GLOBEX,,USD,MN...   \n19          19  477837024,MNQ,FUT,20220617,0,,2,GLOBEX,,USD,MN...   \n25          25  477837024,MNQ,FUT,20220617,0,,2,GLOBEX,,USD,MN...   \n29          29  477837024,MNQ,FUT,20220617,0,,2,GLOBEX,,USD,MN...   \n\n         time_completed side  quantity  avg_price  realized_pnl     epoch_sec  \\\n1   2022-03-24 03:32:42  BOT         1   14567.00      -85.1400  1.648111e+09   \n6   2022-03-24 05:00:13  SLD         4   14539.25     -133.0600  1.648116e+09   \n9   2022-03-24 06:09:13  SLD         1   14564.00      103.1100  1.648120e+09   \n13  2022-03-24 10:01:13  SLD         1   14565.00      126.7975  1.648134e+09   \n14  2022-03-24 10:13:02  SLD         3   14567.00      392.3925  1.648135e+09   \n17  2022-03-24 11:29:18  SLD         2   14594.00     -115.2800  1.648139e+09   \n19  2022-03-24 11:34:05  BOT         2   14592.00       12.7200  1.648140e+09   \n25  2022-03-24 14:42:23  SLD         5   14697.25       92.3000  1.648151e+09   \n29  2022-03-24 15:02:04  SLD         4   14763.00      323.4400  1.648152e+09   \n\n    profit  loss  ...  avg_pnl_loss  avg_pnl_rr  avg_pnl_ewr  total_px_profit  \\\n1        0     1  ...        -85.14         NaN          NaN          0.00000   \n6        0     2  ...       -109.10         NaN          NaN          0.00000   \n9        1     2  ...       -109.10    0.945096     0.514113         51.55500   \n13       2     2  ...       -109.10    1.053655     0.486937        114.95375   \n14       3     2  ...       -109.10    1.901314     0.344671        180.35250   \n17       3     3  ...       -111.16    1.866079     0.348909          0.00000   \n19       4     3  ...       -111.16    1.428167     0.411833        183.53250   \n25       5     3  ...       -111.16    1.308600     0.433163        192.76250   \n29       6     3  ...       -111.16    1.575447     0.388282        233.19250   \n\n    avg_px_profit  total_px_loss  avg_px_loss  avg_px_rr  avg_px_ewr  \\\n1             NaN       -42.5700   -42.570000        NaN         NaN   \n6             NaN       -59.2025   -29.601250        NaN         NaN   \n9       51.555000         0.0000   -29.601250   1.741649    0.364744   \n13      57.476875         0.0000   -29.601250   1.941704    0.339939   \n14      60.117500         0.0000   -29.601250   2.030911    0.329934   \n17      60.117500       -88.0225   -29.340833   2.048936    0.327983   \n19      45.883125         0.0000   -29.340833   1.563798    0.390046   \n25      38.552500         0.0000   -29.340833   1.313954    0.432161   \n29      38.865417         0.0000   -29.340833   1.324619    0.430178   \n\n          date  \n1   2022-03-24  \n6   2022-03-24  \n9   2022-03-24  \n13  2022-03-24  \n14  2022-03-24  \n17  2022-03-24  \n19  2022-03-24  \n25  2022-03-24  \n29  2022-03-24  \n\n[9 rows x 34 columns]",
      "text/html": "<div>\n<style scoped>\n    .dataframe tbody tr th:only-of-type {\n        vertical-align: middle;\n    }\n\n    .dataframe tbody tr th {\n        vertical-align: top;\n    }\n\n    .dataframe thead th {\n        text-align: right;\n    }\n</style>\n<table border=\"1\" class=\"dataframe\">\n  <thead>\n    <tr style=\"text-align: right;\">\n      <th></th>\n      <th>Unnamed: 0</th>\n      <th>contract</th>\n      <th>time_completed</th>\n      <th>side</th>\n      <th>quantity</th>\n      <th>avg_price</th>\n      <th>realized_pnl</th>\n      <th>epoch_sec</th>\n      <th>profit</th>\n      <th>loss</th>\n      <th>...</th>\n      <th>avg_pnl_loss</th>\n      <th>avg_pnl_rr</th>\n      <th>avg_pnl_ewr</th>\n      <th>total_px_profit</th>\n      <th>avg_px_profit</th>\n      <th>total_px_loss</th>\n      <th>avg_px_loss</th>\n      <th>avg_px_rr</th>\n      <th>avg_px_ewr</th>\n      <th>date</th>\n    </tr>\n  </thead>\n  <tbody>\n    <tr>\n      <th>1</th>\n      <td>1</td>\n      <td>477837024,MNQ,FUT,20220617,0,,2,GLOBEX,,USD,MN...</td>\n      <td>2022-03-24 03:32:42</td>\n      <td>BOT</td>\n      <td>1</td>\n      <td>14567.00</td>\n      <td>-85.1400</td>\n      <td>1.648111e+09</td>\n      <td>0</td>\n      <td>1</td>\n      <td>...</td>\n      <td>-85.14</td>\n      <td>NaN</td>\n      <td>NaN</td>\n      <td>0.00000</td>\n      <td>NaN</td>\n      <td>-42.5700</td>\n      <td>-42.570000</td>\n      <td>NaN</td>\n      <td>NaN</td>\n      <td>2022-03-24</td>\n    </tr>\n    <tr>\n      <th>6</th>\n      <td>6</td>\n      <td>477837024,MNQ,FUT,20220617,0,,2,GLOBEX,,USD,MN...</td>\n      <td>2022-03-24 05:00:13</td>\n      <td>SLD</td>\n      <td>4</td>\n      <td>14539.25</td>\n      <td>-133.0600</td>\n      <td>1.648116e+09</td>\n      <td>0</td>\n      <td>2</td>\n      <td>...</td>\n      <td>-109.10</td>\n      <td>NaN</td>\n      <td>NaN</td>\n      <td>0.00000</td>\n      <td>NaN</td>\n      <td>-59.2025</td>\n      <td>-29.601250</td>\n      <td>NaN</td>\n      <td>NaN</td>\n      <td>2022-03-24</td>\n    </tr>\n    <tr>\n      <th>9</th>\n      <td>9</td>\n      <td>477837024,MNQ,FUT,20220617,0,,2,GLOBEX,,USD,MN...</td>\n      <td>2022-03-24 06:09:13</td>\n      <td>SLD</td>\n      <td>1</td>\n      <td>14564.00</td>\n      <td>103.1100</td>\n      <td>1.648120e+09</td>\n      <td>1</td>\n      <td>2</td>\n      <td>...</td>\n      <td>-109.10</td>\n      <td>0.945096</td>\n      <td>0.514113</td>\n      <td>51.55500</td>\n      <td>51.555000</td>\n      <td>0.0000</td>\n      <td>-29.601250</td>\n      <td>1.741649</td>\n      <td>0.364744</td>\n      <td>2022-03-24</td>\n    </tr>\n    <tr>\n      <th>13</th>\n      <td>13</td>\n      <td>477837024,MNQ,FUT,20220617,0,,2,GLOBEX,,USD,MN...</td>\n      <td>2022-03-24 10:01:13</td>\n      <td>SLD</td>\n      <td>1</td>\n      <td>14565.00</td>\n      <td>126.7975</td>\n      <td>1.648134e+09</td>\n      <td>2</td>\n      <td>2</td>\n      <td>...</td>\n      <td>-109.10</td>\n      <td>1.053655</td>\n      <td>0.486937</td>\n      <td>114.95375</td>\n      <td>57.476875</td>\n      <td>0.0000</td>\n      <td>-29.601250</td>\n      <td>1.941704</td>\n      <td>0.339939</td>\n      <td>2022-03-24</td>\n    </tr>\n    <tr>\n      <th>14</th>\n      <td>14</td>\n      <td>477837024,MNQ,FUT,20220617,0,,2,GLOBEX,,USD,MN...</td>\n      <td>2022-03-24 10:13:02</td>\n      <td>SLD</td>\n      <td>3</td>\n      <td>14567.00</td>\n      <td>392.3925</td>\n      <td>1.648135e+09</td>\n      <td>3</td>\n      <td>2</td>\n      <td>...</td>\n      <td>-109.10</td>\n      <td>1.901314</td>\n      <td>0.344671</td>\n      <td>180.35250</td>\n      <td>60.117500</td>\n      <td>0.0000</td>\n      <td>-29.601250</td>\n      <td>2.030911</td>\n      <td>0.329934</td>\n      <td>2022-03-24</td>\n    </tr>\n    <tr>\n      <th>17</th>\n      <td>17</td>\n      <td>477837024,MNQ,FUT,20220617,0,,2,GLOBEX,,USD,MN...</td>\n      <td>2022-03-24 11:29:18</td>\n      <td>SLD</td>\n      <td>2</td>\n      <td>14594.00</td>\n      <td>-115.2800</td>\n      <td>1.648139e+09</td>\n      <td>3</td>\n      <td>3</td>\n      <td>...</td>\n      <td>-111.16</td>\n      <td>1.866079</td>\n      <td>0.348909</td>\n      <td>0.00000</td>\n      <td>60.117500</td>\n      <td>-88.0225</td>\n      <td>-29.340833</td>\n      <td>2.048936</td>\n      <td>0.327983</td>\n      <td>2022-03-24</td>\n    </tr>\n    <tr>\n      <th>19</th>\n      <td>19</td>\n      <td>477837024,MNQ,FUT,20220617,0,,2,GLOBEX,,USD,MN...</td>\n      <td>2022-03-24 11:34:05</td>\n      <td>BOT</td>\n      <td>2</td>\n      <td>14592.00</td>\n      <td>12.7200</td>\n      <td>1.648140e+09</td>\n      <td>4</td>\n      <td>3</td>\n      <td>...</td>\n      <td>-111.16</td>\n      <td>1.428167</td>\n      <td>0.411833</td>\n      <td>183.53250</td>\n      <td>45.883125</td>\n      <td>0.0000</td>\n      <td>-29.340833</td>\n      <td>1.563798</td>\n      <td>0.390046</td>\n      <td>2022-03-24</td>\n    </tr>\n    <tr>\n      <th>25</th>\n      <td>25</td>\n      <td>477837024,MNQ,FUT,20220617,0,,2,GLOBEX,,USD,MN...</td>\n      <td>2022-03-24 14:42:23</td>\n      <td>SLD</td>\n      <td>5</td>\n      <td>14697.25</td>\n      <td>92.3000</td>\n      <td>1.648151e+09</td>\n      <td>5</td>\n      <td>3</td>\n      <td>...</td>\n      <td>-111.16</td>\n      <td>1.308600</td>\n      <td>0.433163</td>\n      <td>192.76250</td>\n      <td>38.552500</td>\n      <td>0.0000</td>\n      <td>-29.340833</td>\n      <td>1.313954</td>\n      <td>0.432161</td>\n      <td>2022-03-24</td>\n    </tr>\n    <tr>\n      <th>29</th>\n      <td>29</td>\n      <td>477837024,MNQ,FUT,20220617,0,,2,GLOBEX,,USD,MN...</td>\n      <td>2022-03-24 15:02:04</td>\n      <td>SLD</td>\n      <td>4</td>\n      <td>14763.00</td>\n      <td>323.4400</td>\n      <td>1.648152e+09</td>\n      <td>6</td>\n      <td>3</td>\n      <td>...</td>\n      <td>-111.16</td>\n      <td>1.575447</td>\n      <td>0.388282</td>\n      <td>233.19250</td>\n      <td>38.865417</td>\n      <td>0.0000</td>\n      <td>-29.340833</td>\n      <td>1.324619</td>\n      <td>0.430178</td>\n      <td>2022-03-24</td>\n    </tr>\n  </tbody>\n</table>\n<p>9 rows × 34 columns</p>\n</div>"
     },
     "execution_count": 2,
     "metadata": {},
     "output_type": "execute_result"
    }
   ],
   "source": [
    "def get_executions_ungroup(file_path: str):\n",
    "    df = pd.read_csv(file_path)\n",
    "    df = df[df[\"realized_pnl\"].notnull()]\n",
    "    df[\"date\"] = pd.to_datetime(df[\"time_completed\"]).dt.date\n",
    "\n",
    "    cols = [\"quantity\", \"realized_pnl\", \"px_side\"]\n",
    "\n",
    "    return df, df.groupby(\"date\").sum()[cols], df.groupby(\"date\").count()[cols]\n",
    "\n",
    "df_all, df_sum, df_count = get_executions_ungroup(\"../../execution-477837024.csv\")\n",
    "df_all"
   ],
   "metadata": {
    "collapsed": false,
    "pycharm": {
     "name": "#%%\n"
    }
   }
  },
  {
   "cell_type": "code",
   "execution_count": 3,
   "outputs": [
    {
     "data": {
      "text/plain": "            quantity  realized_pnl  px_side\ndate                                       \n2022-03-24        23        717.28   145.17",
      "text/html": "<div>\n<style scoped>\n    .dataframe tbody tr th:only-of-type {\n        vertical-align: middle;\n    }\n\n    .dataframe tbody tr th {\n        vertical-align: top;\n    }\n\n    .dataframe thead th {\n        text-align: right;\n    }\n</style>\n<table border=\"1\" class=\"dataframe\">\n  <thead>\n    <tr style=\"text-align: right;\">\n      <th></th>\n      <th>quantity</th>\n      <th>realized_pnl</th>\n      <th>px_side</th>\n    </tr>\n    <tr>\n      <th>date</th>\n      <th></th>\n      <th></th>\n      <th></th>\n    </tr>\n  </thead>\n  <tbody>\n    <tr>\n      <th>2022-03-24</th>\n      <td>23</td>\n      <td>717.28</td>\n      <td>145.17</td>\n    </tr>\n  </tbody>\n</table>\n</div>"
     },
     "execution_count": 3,
     "metadata": {},
     "output_type": "execute_result"
    }
   ],
   "source": [
    "df_sum\n"
   ],
   "metadata": {
    "collapsed": false,
    "pycharm": {
     "name": "#%%\n"
    }
   }
  },
  {
   "cell_type": "code",
   "execution_count": 4,
   "outputs": [
    {
     "data": {
      "text/plain": "            quantity  realized_pnl  px_side\ndate                                       \n2022-03-24         9             9        9",
      "text/html": "<div>\n<style scoped>\n    .dataframe tbody tr th:only-of-type {\n        vertical-align: middle;\n    }\n\n    .dataframe tbody tr th {\n        vertical-align: top;\n    }\n\n    .dataframe thead th {\n        text-align: right;\n    }\n</style>\n<table border=\"1\" class=\"dataframe\">\n  <thead>\n    <tr style=\"text-align: right;\">\n      <th></th>\n      <th>quantity</th>\n      <th>realized_pnl</th>\n      <th>px_side</th>\n    </tr>\n    <tr>\n      <th>date</th>\n      <th></th>\n      <th></th>\n      <th></th>\n    </tr>\n  </thead>\n  <tbody>\n    <tr>\n      <th>2022-03-24</th>\n      <td>9</td>\n      <td>9</td>\n      <td>9</td>\n    </tr>\n  </tbody>\n</table>\n</div>"
     },
     "execution_count": 4,
     "metadata": {},
     "output_type": "execute_result"
    }
   ],
   "source": [
    "df_count\n"
   ],
   "metadata": {
    "collapsed": false,
    "pycharm": {
     "name": "#%%\n"
    }
   }
  },
  {
   "cell_type": "code",
   "execution_count": 5,
   "outputs": [],
   "source": [
    "def get_executions_ungroup(file_path: str):\n",
    "    df = pd.read_csv(file_path)\n",
    "    df = df[df[\"realized_pnl\"].notnull()]\n",
    "    df[\"date\"] = pd.to_datetime(df[\"time_completed\"]).dt.date\n",
    "\n",
    "    return df[df[\"realized_pnl\"] > 0].groupby(\"date\").sum()[[\"realized_pnl\"]], df[df[\"realized_pnl\"] < 0].groupby(\"date\").sum()[[\"realized_pnl\"]]\n",
    "\n",
    "df_pos, df_neg = get_executions_ungroup(\"../../execution-477837024.csv\")"
   ],
   "metadata": {
    "collapsed": false,
    "pycharm": {
     "name": "#%%\n"
    }
   }
  },
  {
   "cell_type": "code",
   "execution_count": 6,
   "outputs": [
    {
     "data": {
      "text/plain": "            realized_pnl\ndate                    \n2022-03-24       1050.76",
      "text/html": "<div>\n<style scoped>\n    .dataframe tbody tr th:only-of-type {\n        vertical-align: middle;\n    }\n\n    .dataframe tbody tr th {\n        vertical-align: top;\n    }\n\n    .dataframe thead th {\n        text-align: right;\n    }\n</style>\n<table border=\"1\" class=\"dataframe\">\n  <thead>\n    <tr style=\"text-align: right;\">\n      <th></th>\n      <th>realized_pnl</th>\n    </tr>\n    <tr>\n      <th>date</th>\n      <th></th>\n    </tr>\n  </thead>\n  <tbody>\n    <tr>\n      <th>2022-03-24</th>\n      <td>1050.76</td>\n    </tr>\n  </tbody>\n</table>\n</div>"
     },
     "execution_count": 6,
     "metadata": {},
     "output_type": "execute_result"
    }
   ],
   "source": [
    "df_pos\n"
   ],
   "metadata": {
    "collapsed": false,
    "pycharm": {
     "name": "#%%\n"
    }
   }
  },
  {
   "cell_type": "code",
   "execution_count": 7,
   "outputs": [
    {
     "data": {
      "text/plain": "            realized_pnl\ndate                    \n2022-03-24       -333.48",
      "text/html": "<div>\n<style scoped>\n    .dataframe tbody tr th:only-of-type {\n        vertical-align: middle;\n    }\n\n    .dataframe tbody tr th {\n        vertical-align: top;\n    }\n\n    .dataframe thead th {\n        text-align: right;\n    }\n</style>\n<table border=\"1\" class=\"dataframe\">\n  <thead>\n    <tr style=\"text-align: right;\">\n      <th></th>\n      <th>realized_pnl</th>\n    </tr>\n    <tr>\n      <th>date</th>\n      <th></th>\n    </tr>\n  </thead>\n  <tbody>\n    <tr>\n      <th>2022-03-24</th>\n      <td>-333.48</td>\n    </tr>\n  </tbody>\n</table>\n</div>"
     },
     "execution_count": 7,
     "metadata": {},
     "output_type": "execute_result"
    }
   ],
   "source": [
    "df_neg"
   ],
   "metadata": {
    "collapsed": false,
    "pycharm": {
     "name": "#%%\n"
    }
   }
  },
  {
   "cell_type": "code",
   "execution_count": 7,
   "outputs": [],
   "source": [],
   "metadata": {
    "collapsed": false,
    "pycharm": {
     "name": "#%%\n"
    }
   }
  },
  {
   "cell_type": "code",
   "execution_count": 7,
   "outputs": [],
   "source": [],
   "metadata": {
    "collapsed": false,
    "pycharm": {
     "name": "#%%\n"
    }
   }
  }
 ],
 "metadata": {
  "kernelspec": {
   "name": "rx-trade-ib",
   "language": "python",
   "display_name": "rx-trade-ib"
  },
  "language_info": {
   "codemirror_mode": {
    "name": "ipython",
    "version": 2
   },
   "file_extension": ".py",
   "mimetype": "text/x-python",
   "name": "python",
   "nbconvert_exporter": "python",
   "pygments_lexer": "ipython2",
   "version": "2.7.6"
  }
 },
 "nbformat": 4,
 "nbformat_minor": 0
}