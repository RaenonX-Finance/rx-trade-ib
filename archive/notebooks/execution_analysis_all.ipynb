{
 "cells": [
  {
   "cell_type": "code",
   "execution_count": 6,
   "outputs": [],
   "source": [
    "import pandas as pd\n",
    "\n",
    "pd.set_option(\"display.precision\", 2)"
   ],
   "metadata": {
    "collapsed": false,
    "pycharm": {
     "name": "#%%\n"
    }
   }
  },
  {
   "cell_type": "code",
   "execution_count": 7,
   "outputs": [
    {
     "data": {
      "text/plain": "'../executions/@all\\\\20220318-20220511.csv'"
     },
     "execution_count": 7,
     "metadata": {},
     "output_type": "execute_result"
    }
   ],
   "source": [
    "import glob\n",
    "\n",
    "PATH = glob.glob(\"../executions/@all/*.csv\")[0]\n",
    "PATH"
   ],
   "metadata": {
    "collapsed": false,
    "pycharm": {
     "name": "#%%\n"
    }
   }
  },
  {
   "cell_type": "code",
   "execution_count": 8,
   "outputs": [
    {
     "data": {
      "text/plain": "            realized_pnl  realized_pnl_cum  profit   loss       wr 0.5+  \\\ndate                                                                      \n2022-03-18       2326.02           2326.02    14.0    5.0    73.68    +   \n2022-03-21      -1456.60            869.42    12.0   15.0    44.44        \n2022-03-22        943.20           1812.62     3.0    2.0    60.00    +   \n2022-03-23       -261.50           1551.12     5.0    9.0    35.71        \n2022-03-24        717.28           2268.40     6.0    3.0    66.67    +   \n2022-03-25        -69.18           2199.22    17.0   12.0    58.62    +   \n2022-03-28        649.84           2849.06    11.0    8.0    57.89    +   \n2022-03-29        419.24           3268.30    13.0    5.0    72.22    +   \n2022-03-30       -299.50           2968.80    21.0   13.0    61.76    +   \n2022-03-31      -3514.66           -545.86    16.0   20.0    44.44        \n2022-04-01       -590.02          -1135.88    18.0   13.0    58.06    +   \n2022-04-03       -253.66          -1389.54     3.0    5.0    37.50        \n2022-04-04        585.92           -803.62     9.0    5.0    64.29    +   \n2022-04-05      -1410.06          -2213.68     5.0   10.0    33.33        \n2022-04-06      -1763.80          -3977.48    13.0   18.0    41.94        \n2022-04-07       -926.16          -4903.64    14.0   10.0    58.33    +   \n2022-04-08      -1195.46          -6099.10     9.0   21.0    30.00        \n2022-04-11        449.22          -5649.88     2.0    NaN      NaN        \n2022-04-12        207.76          -5442.12     7.0    5.0    58.33    +   \n2022-04-13        117.98          -5324.14     7.0    3.0    70.00    +   \n2022-04-14        474.68          -4849.46     7.0    4.0    63.64    +   \n2022-04-18      -1494.66          -6344.12     6.0   18.0    25.00        \n2022-04-19        578.00          -5766.12    10.0    8.0    55.56    +   \n2022-04-20       -731.14          -6497.26     3.0    9.0    25.00        \n2022-04-21        899.14          -5598.12     8.0    5.0    61.54    +   \n2022-04-22        491.21          -5106.91    10.0    6.0    62.50    +   \n2022-04-25       -175.53          -5282.44     1.0    1.0    50.00        \n2022-04-26        977.56          -4304.88    10.0    4.0    71.43    +   \n2022-04-27        288.24          -4016.64     6.0    1.0    85.71    +   \n2022-04-28       -154.61          -4171.25    11.0   12.0    47.83        \n2022-04-29        127.54          -4043.71     8.0    8.0    50.00        \n2022-05-01       -201.70          -4245.41     1.0    3.0    25.00        \n2022-05-02       -312.61          -4558.02     7.0    4.0    63.64    +   \n2022-05-03       -718.01          -5276.03    24.0    9.0    72.73    +   \n2022-05-04      -2252.04          -7528.07     8.0   15.0    34.78        \n2022-05-05       -210.42          -7738.49     8.0    5.0    61.54    +   \n2022-05-09       1108.12          -6630.37     2.0    NaN      NaN        \n2022-05-10       -897.96          -7528.33    11.0   13.0    45.83        \n2022-05-11       -232.46          -7760.79     6.0    8.0    42.86        \nTotal           -7760.79        -124618.43   352.0  315.0  1971.82  NaN   \n\n             0.5+ %  \ndate                 \n2022-03-18   100.00  \n2022-03-21    50.00  \n2022-03-22    66.67  \n2022-03-23    50.00  \n2022-03-24    60.00  \n2022-03-25    66.67  \n2022-03-28    71.43  \n2022-03-29    75.00  \n2022-03-30    77.78  \n2022-03-31    70.00  \n2022-04-01    72.73  \n2022-04-03    66.67  \n2022-04-04    69.23  \n2022-04-05    64.29  \n2022-04-06    60.00  \n2022-04-07    62.50  \n2022-04-08    58.82  \n2022-04-11    55.56  \n2022-04-12    57.89  \n2022-04-13    60.00  \n2022-04-14    61.90  \n2022-04-18    59.09  \n2022-04-19    60.87  \n2022-04-20    58.33  \n2022-04-21    60.00  \n2022-04-22    61.54  \n2022-04-25    59.26  \n2022-04-26    60.71  \n2022-04-27    62.07  \n2022-04-28    60.00  \n2022-04-29    58.06  \n2022-05-01    56.25  \n2022-05-02    57.58  \n2022-05-03    58.82  \n2022-05-04    57.14  \n2022-05-05    58.33  \n2022-05-09    56.76  \n2022-05-10    55.26  \n2022-05-11    53.85  \nTotal       2431.06  ",
      "text/html": "<div>\n<style scoped>\n    .dataframe tbody tr th:only-of-type {\n        vertical-align: middle;\n    }\n\n    .dataframe tbody tr th {\n        vertical-align: top;\n    }\n\n    .dataframe thead th {\n        text-align: right;\n    }\n</style>\n<table border=\"1\" class=\"dataframe\">\n  <thead>\n    <tr style=\"text-align: right;\">\n      <th></th>\n      <th>realized_pnl</th>\n      <th>realized_pnl_cum</th>\n      <th>profit</th>\n      <th>loss</th>\n      <th>wr</th>\n      <th>0.5+</th>\n      <th>0.5+ %</th>\n    </tr>\n    <tr>\n      <th>date</th>\n      <th></th>\n      <th></th>\n      <th></th>\n      <th></th>\n      <th></th>\n      <th></th>\n      <th></th>\n    </tr>\n  </thead>\n  <tbody>\n    <tr>\n      <th>2022-03-18</th>\n      <td>2326.02</td>\n      <td>2326.02</td>\n      <td>14.0</td>\n      <td>5.0</td>\n      <td>73.68</td>\n      <td>+</td>\n      <td>100.00</td>\n    </tr>\n    <tr>\n      <th>2022-03-21</th>\n      <td>-1456.60</td>\n      <td>869.42</td>\n      <td>12.0</td>\n      <td>15.0</td>\n      <td>44.44</td>\n      <td></td>\n      <td>50.00</td>\n    </tr>\n    <tr>\n      <th>2022-03-22</th>\n      <td>943.20</td>\n      <td>1812.62</td>\n      <td>3.0</td>\n      <td>2.0</td>\n      <td>60.00</td>\n      <td>+</td>\n      <td>66.67</td>\n    </tr>\n    <tr>\n      <th>2022-03-23</th>\n      <td>-261.50</td>\n      <td>1551.12</td>\n      <td>5.0</td>\n      <td>9.0</td>\n      <td>35.71</td>\n      <td></td>\n      <td>50.00</td>\n    </tr>\n    <tr>\n      <th>2022-03-24</th>\n      <td>717.28</td>\n      <td>2268.40</td>\n      <td>6.0</td>\n      <td>3.0</td>\n      <td>66.67</td>\n      <td>+</td>\n      <td>60.00</td>\n    </tr>\n    <tr>\n      <th>2022-03-25</th>\n      <td>-69.18</td>\n      <td>2199.22</td>\n      <td>17.0</td>\n      <td>12.0</td>\n      <td>58.62</td>\n      <td>+</td>\n      <td>66.67</td>\n    </tr>\n    <tr>\n      <th>2022-03-28</th>\n      <td>649.84</td>\n      <td>2849.06</td>\n      <td>11.0</td>\n      <td>8.0</td>\n      <td>57.89</td>\n      <td>+</td>\n      <td>71.43</td>\n    </tr>\n    <tr>\n      <th>2022-03-29</th>\n      <td>419.24</td>\n      <td>3268.30</td>\n      <td>13.0</td>\n      <td>5.0</td>\n      <td>72.22</td>\n      <td>+</td>\n      <td>75.00</td>\n    </tr>\n    <tr>\n      <th>2022-03-30</th>\n      <td>-299.50</td>\n      <td>2968.80</td>\n      <td>21.0</td>\n      <td>13.0</td>\n      <td>61.76</td>\n      <td>+</td>\n      <td>77.78</td>\n    </tr>\n    <tr>\n      <th>2022-03-31</th>\n      <td>-3514.66</td>\n      <td>-545.86</td>\n      <td>16.0</td>\n      <td>20.0</td>\n      <td>44.44</td>\n      <td></td>\n      <td>70.00</td>\n    </tr>\n    <tr>\n      <th>2022-04-01</th>\n      <td>-590.02</td>\n      <td>-1135.88</td>\n      <td>18.0</td>\n      <td>13.0</td>\n      <td>58.06</td>\n      <td>+</td>\n      <td>72.73</td>\n    </tr>\n    <tr>\n      <th>2022-04-03</th>\n      <td>-253.66</td>\n      <td>-1389.54</td>\n      <td>3.0</td>\n      <td>5.0</td>\n      <td>37.50</td>\n      <td></td>\n      <td>66.67</td>\n    </tr>\n    <tr>\n      <th>2022-04-04</th>\n      <td>585.92</td>\n      <td>-803.62</td>\n      <td>9.0</td>\n      <td>5.0</td>\n      <td>64.29</td>\n      <td>+</td>\n      <td>69.23</td>\n    </tr>\n    <tr>\n      <th>2022-04-05</th>\n      <td>-1410.06</td>\n      <td>-2213.68</td>\n      <td>5.0</td>\n      <td>10.0</td>\n      <td>33.33</td>\n      <td></td>\n      <td>64.29</td>\n    </tr>\n    <tr>\n      <th>2022-04-06</th>\n      <td>-1763.80</td>\n      <td>-3977.48</td>\n      <td>13.0</td>\n      <td>18.0</td>\n      <td>41.94</td>\n      <td></td>\n      <td>60.00</td>\n    </tr>\n    <tr>\n      <th>2022-04-07</th>\n      <td>-926.16</td>\n      <td>-4903.64</td>\n      <td>14.0</td>\n      <td>10.0</td>\n      <td>58.33</td>\n      <td>+</td>\n      <td>62.50</td>\n    </tr>\n    <tr>\n      <th>2022-04-08</th>\n      <td>-1195.46</td>\n      <td>-6099.10</td>\n      <td>9.0</td>\n      <td>21.0</td>\n      <td>30.00</td>\n      <td></td>\n      <td>58.82</td>\n    </tr>\n    <tr>\n      <th>2022-04-11</th>\n      <td>449.22</td>\n      <td>-5649.88</td>\n      <td>2.0</td>\n      <td>NaN</td>\n      <td>NaN</td>\n      <td></td>\n      <td>55.56</td>\n    </tr>\n    <tr>\n      <th>2022-04-12</th>\n      <td>207.76</td>\n      <td>-5442.12</td>\n      <td>7.0</td>\n      <td>5.0</td>\n      <td>58.33</td>\n      <td>+</td>\n      <td>57.89</td>\n    </tr>\n    <tr>\n      <th>2022-04-13</th>\n      <td>117.98</td>\n      <td>-5324.14</td>\n      <td>7.0</td>\n      <td>3.0</td>\n      <td>70.00</td>\n      <td>+</td>\n      <td>60.00</td>\n    </tr>\n    <tr>\n      <th>2022-04-14</th>\n      <td>474.68</td>\n      <td>-4849.46</td>\n      <td>7.0</td>\n      <td>4.0</td>\n      <td>63.64</td>\n      <td>+</td>\n      <td>61.90</td>\n    </tr>\n    <tr>\n      <th>2022-04-18</th>\n      <td>-1494.66</td>\n      <td>-6344.12</td>\n      <td>6.0</td>\n      <td>18.0</td>\n      <td>25.00</td>\n      <td></td>\n      <td>59.09</td>\n    </tr>\n    <tr>\n      <th>2022-04-19</th>\n      <td>578.00</td>\n      <td>-5766.12</td>\n      <td>10.0</td>\n      <td>8.0</td>\n      <td>55.56</td>\n      <td>+</td>\n      <td>60.87</td>\n    </tr>\n    <tr>\n      <th>2022-04-20</th>\n      <td>-731.14</td>\n      <td>-6497.26</td>\n      <td>3.0</td>\n      <td>9.0</td>\n      <td>25.00</td>\n      <td></td>\n      <td>58.33</td>\n    </tr>\n    <tr>\n      <th>2022-04-21</th>\n      <td>899.14</td>\n      <td>-5598.12</td>\n      <td>8.0</td>\n      <td>5.0</td>\n      <td>61.54</td>\n      <td>+</td>\n      <td>60.00</td>\n    </tr>\n    <tr>\n      <th>2022-04-22</th>\n      <td>491.21</td>\n      <td>-5106.91</td>\n      <td>10.0</td>\n      <td>6.0</td>\n      <td>62.50</td>\n      <td>+</td>\n      <td>61.54</td>\n    </tr>\n    <tr>\n      <th>2022-04-25</th>\n      <td>-175.53</td>\n      <td>-5282.44</td>\n      <td>1.0</td>\n      <td>1.0</td>\n      <td>50.00</td>\n      <td></td>\n      <td>59.26</td>\n    </tr>\n    <tr>\n      <th>2022-04-26</th>\n      <td>977.56</td>\n      <td>-4304.88</td>\n      <td>10.0</td>\n      <td>4.0</td>\n      <td>71.43</td>\n      <td>+</td>\n      <td>60.71</td>\n    </tr>\n    <tr>\n      <th>2022-04-27</th>\n      <td>288.24</td>\n      <td>-4016.64</td>\n      <td>6.0</td>\n      <td>1.0</td>\n      <td>85.71</td>\n      <td>+</td>\n      <td>62.07</td>\n    </tr>\n    <tr>\n      <th>2022-04-28</th>\n      <td>-154.61</td>\n      <td>-4171.25</td>\n      <td>11.0</td>\n      <td>12.0</td>\n      <td>47.83</td>\n      <td></td>\n      <td>60.00</td>\n    </tr>\n    <tr>\n      <th>2022-04-29</th>\n      <td>127.54</td>\n      <td>-4043.71</td>\n      <td>8.0</td>\n      <td>8.0</td>\n      <td>50.00</td>\n      <td></td>\n      <td>58.06</td>\n    </tr>\n    <tr>\n      <th>2022-05-01</th>\n      <td>-201.70</td>\n      <td>-4245.41</td>\n      <td>1.0</td>\n      <td>3.0</td>\n      <td>25.00</td>\n      <td></td>\n      <td>56.25</td>\n    </tr>\n    <tr>\n      <th>2022-05-02</th>\n      <td>-312.61</td>\n      <td>-4558.02</td>\n      <td>7.0</td>\n      <td>4.0</td>\n      <td>63.64</td>\n      <td>+</td>\n      <td>57.58</td>\n    </tr>\n    <tr>\n      <th>2022-05-03</th>\n      <td>-718.01</td>\n      <td>-5276.03</td>\n      <td>24.0</td>\n      <td>9.0</td>\n      <td>72.73</td>\n      <td>+</td>\n      <td>58.82</td>\n    </tr>\n    <tr>\n      <th>2022-05-04</th>\n      <td>-2252.04</td>\n      <td>-7528.07</td>\n      <td>8.0</td>\n      <td>15.0</td>\n      <td>34.78</td>\n      <td></td>\n      <td>57.14</td>\n    </tr>\n    <tr>\n      <th>2022-05-05</th>\n      <td>-210.42</td>\n      <td>-7738.49</td>\n      <td>8.0</td>\n      <td>5.0</td>\n      <td>61.54</td>\n      <td>+</td>\n      <td>58.33</td>\n    </tr>\n    <tr>\n      <th>2022-05-09</th>\n      <td>1108.12</td>\n      <td>-6630.37</td>\n      <td>2.0</td>\n      <td>NaN</td>\n      <td>NaN</td>\n      <td></td>\n      <td>56.76</td>\n    </tr>\n    <tr>\n      <th>2022-05-10</th>\n      <td>-897.96</td>\n      <td>-7528.33</td>\n      <td>11.0</td>\n      <td>13.0</td>\n      <td>45.83</td>\n      <td></td>\n      <td>55.26</td>\n    </tr>\n    <tr>\n      <th>2022-05-11</th>\n      <td>-232.46</td>\n      <td>-7760.79</td>\n      <td>6.0</td>\n      <td>8.0</td>\n      <td>42.86</td>\n      <td></td>\n      <td>53.85</td>\n    </tr>\n    <tr>\n      <th>Total</th>\n      <td>-7760.79</td>\n      <td>-124618.43</td>\n      <td>352.0</td>\n      <td>315.0</td>\n      <td>1971.82</td>\n      <td>NaN</td>\n      <td>2431.06</td>\n    </tr>\n  </tbody>\n</table>\n</div>"
     },
     "execution_count": 8,
     "metadata": {},
     "output_type": "execute_result"
    }
   ],
   "source": [
    "import numpy as np\n",
    "\n",
    "def get_executions_df(file_path: str):\n",
    "    df = pd.read_csv(file_path)\n",
    "    df = df[df[\"realized_pnl\"].notnull()]\n",
    "    df[\"date\"] = pd.to_datetime(df[\"time_completed\"]).dt.date\n",
    "\n",
    "    df_grouped = df.groupby(\"date\").sum()[[\"realized_pnl\"]]\n",
    "\n",
    "    df_grouped[\"realized_pnl_cum\"] = df_grouped[\"realized_pnl\"].cumsum()\n",
    "    df_grouped[\"profit\"] = df[df[\"realized_pnl\"] > 0].groupby(\"date\").count()[\"realized_pnl\"]\n",
    "    df_grouped[\"loss\"] = df[df[\"realized_pnl\"] < 0].groupby(\"date\").count()[\"realized_pnl\"]\n",
    "    df_grouped[\"wr\"] = (df_grouped[\"profit\"] / (df_grouped[\"profit\"] + df_grouped[\"loss\"])) * 100\n",
    "    df_grouped[\"0.5+\"] = np.where(df_grouped[\"wr\"] > 50, \"+\", \"\")\n",
    "    df_grouped[\"0.5+ %\"] = ((df_grouped[\"0.5+\"] == \"+\").cumsum() / range(1, len(df_grouped.index) + 1)) * 100\n",
    "    df_grouped.loc[\"Total\"] = df_grouped.sum(numeric_only=True)\n",
    "\n",
    "    return df_grouped\n",
    "\n",
    "\n",
    "df_exec = get_executions_df(PATH)\n",
    "df_exec"
   ],
   "metadata": {
    "collapsed": false,
    "pycharm": {
     "name": "#%%\n"
    }
   }
  },
  {
   "cell_type": "code",
   "execution_count": 9,
   "outputs": [
    {
     "data": {
      "text/plain": "            quantity  realized_pnl  realized_pnl_pos  realized_pnl_neg  \\\ndate                                                                     \n2022-03-18      57.0       2326.02           2943.51           -617.49   \n2022-03-21      90.0      -1456.60           3122.90          -4579.50   \n2022-03-22      20.0        943.20           1809.46           -866.26   \n2022-03-23      50.0       -261.50           1888.12          -2149.62   \n2022-03-24      23.0        717.28           1050.76           -333.48   \n2022-03-25      87.0        -69.18           2184.02          -2253.20   \n2022-03-28      69.0        649.84           2311.20          -1661.36   \n2022-03-29      59.0        419.24           1323.34           -904.10   \n2022-03-30     150.0       -299.50           2425.98          -2725.48   \n2022-03-31     169.0      -3514.66           1719.36          -5234.02   \n2022-04-01     118.0       -590.02           1738.20          -2328.22   \n2022-04-03      19.0       -253.66             21.16           -274.82   \n2022-04-04      47.0        585.92           1516.22           -930.30   \n2022-04-05      54.0      -1410.06           1004.34          -2414.40   \n2022-04-06      95.0      -1763.80           2941.26          -4705.06   \n2022-04-07      44.0       -926.16           1097.00          -2023.16   \n2022-04-08      39.0      -1195.46            480.82          -1676.28   \n2022-04-11       2.0        449.22            449.22               NaN   \n2022-04-12      16.0        207.76            947.60           -739.84   \n2022-04-13      18.0        117.98            623.04           -505.06   \n2022-04-14      13.0        474.68            768.02           -293.34   \n2022-04-18      38.0      -1494.66            730.92          -2225.58   \n2022-04-19      25.0        578.00           1284.64           -706.64   \n2022-04-20      16.0       -731.14            103.18           -834.32   \n2022-04-21      14.0        899.14           1252.64           -353.50   \n2022-04-22      21.0        491.21           1144.27           -653.06   \n2022-04-25       2.0       -175.53            232.36           -407.89   \n2022-04-26      16.0        977.56           1350.22           -372.66   \n2022-04-27       9.0        288.24            440.52           -152.28   \n2022-04-28      30.0       -154.61            919.98          -1074.59   \n2022-04-29      22.0        127.54           1386.88          -1259.34   \n2022-05-01       5.0       -201.70            111.72           -313.42   \n2022-05-02      14.0       -312.61            752.30          -1064.91   \n2022-05-03      39.0       -718.01           1027.17          -1745.18   \n2022-05-04      26.0      -2252.04            592.95          -2844.99   \n2022-05-05      13.0       -210.42            380.78           -591.20   \n2022-05-09       2.0       1108.12           1108.12               NaN   \n2022-05-10      24.0       -897.96            673.46          -1571.42   \n2022-05-11      14.0       -232.46            405.66           -638.12   \nTotal         1569.0      -7760.79          46263.29         -54024.09   \n\n            realized_pnl_count  \ndate                            \n2022-03-18                19.0  \n2022-03-21                27.0  \n2022-03-22                 5.0  \n2022-03-23                14.0  \n2022-03-24                 9.0  \n2022-03-25                29.0  \n2022-03-28                19.0  \n2022-03-29                18.0  \n2022-03-30                34.0  \n2022-03-31                36.0  \n2022-04-01                31.0  \n2022-04-03                 8.0  \n2022-04-04                14.0  \n2022-04-05                15.0  \n2022-04-06                31.0  \n2022-04-07                24.0  \n2022-04-08                30.0  \n2022-04-11                 2.0  \n2022-04-12                12.0  \n2022-04-13                10.0  \n2022-04-14                11.0  \n2022-04-18                24.0  \n2022-04-19                18.0  \n2022-04-20                12.0  \n2022-04-21                13.0  \n2022-04-22                16.0  \n2022-04-25                 2.0  \n2022-04-26                14.0  \n2022-04-27                 7.0  \n2022-04-28                23.0  \n2022-04-29                16.0  \n2022-05-01                 4.0  \n2022-05-02                11.0  \n2022-05-03                33.0  \n2022-05-04                23.0  \n2022-05-05                13.0  \n2022-05-09                 2.0  \n2022-05-10                24.0  \n2022-05-11                14.0  \nTotal                    667.0  ",
      "text/html": "<div>\n<style scoped>\n    .dataframe tbody tr th:only-of-type {\n        vertical-align: middle;\n    }\n\n    .dataframe tbody tr th {\n        vertical-align: top;\n    }\n\n    .dataframe thead th {\n        text-align: right;\n    }\n</style>\n<table border=\"1\" class=\"dataframe\">\n  <thead>\n    <tr style=\"text-align: right;\">\n      <th></th>\n      <th>quantity</th>\n      <th>realized_pnl</th>\n      <th>realized_pnl_pos</th>\n      <th>realized_pnl_neg</th>\n      <th>realized_pnl_count</th>\n    </tr>\n    <tr>\n      <th>date</th>\n      <th></th>\n      <th></th>\n      <th></th>\n      <th></th>\n      <th></th>\n    </tr>\n  </thead>\n  <tbody>\n    <tr>\n      <th>2022-03-18</th>\n      <td>57.0</td>\n      <td>2326.02</td>\n      <td>2943.51</td>\n      <td>-617.49</td>\n      <td>19.0</td>\n    </tr>\n    <tr>\n      <th>2022-03-21</th>\n      <td>90.0</td>\n      <td>-1456.60</td>\n      <td>3122.90</td>\n      <td>-4579.50</td>\n      <td>27.0</td>\n    </tr>\n    <tr>\n      <th>2022-03-22</th>\n      <td>20.0</td>\n      <td>943.20</td>\n      <td>1809.46</td>\n      <td>-866.26</td>\n      <td>5.0</td>\n    </tr>\n    <tr>\n      <th>2022-03-23</th>\n      <td>50.0</td>\n      <td>-261.50</td>\n      <td>1888.12</td>\n      <td>-2149.62</td>\n      <td>14.0</td>\n    </tr>\n    <tr>\n      <th>2022-03-24</th>\n      <td>23.0</td>\n      <td>717.28</td>\n      <td>1050.76</td>\n      <td>-333.48</td>\n      <td>9.0</td>\n    </tr>\n    <tr>\n      <th>2022-03-25</th>\n      <td>87.0</td>\n      <td>-69.18</td>\n      <td>2184.02</td>\n      <td>-2253.20</td>\n      <td>29.0</td>\n    </tr>\n    <tr>\n      <th>2022-03-28</th>\n      <td>69.0</td>\n      <td>649.84</td>\n      <td>2311.20</td>\n      <td>-1661.36</td>\n      <td>19.0</td>\n    </tr>\n    <tr>\n      <th>2022-03-29</th>\n      <td>59.0</td>\n      <td>419.24</td>\n      <td>1323.34</td>\n      <td>-904.10</td>\n      <td>18.0</td>\n    </tr>\n    <tr>\n      <th>2022-03-30</th>\n      <td>150.0</td>\n      <td>-299.50</td>\n      <td>2425.98</td>\n      <td>-2725.48</td>\n      <td>34.0</td>\n    </tr>\n    <tr>\n      <th>2022-03-31</th>\n      <td>169.0</td>\n      <td>-3514.66</td>\n      <td>1719.36</td>\n      <td>-5234.02</td>\n      <td>36.0</td>\n    </tr>\n    <tr>\n      <th>2022-04-01</th>\n      <td>118.0</td>\n      <td>-590.02</td>\n      <td>1738.20</td>\n      <td>-2328.22</td>\n      <td>31.0</td>\n    </tr>\n    <tr>\n      <th>2022-04-03</th>\n      <td>19.0</td>\n      <td>-253.66</td>\n      <td>21.16</td>\n      <td>-274.82</td>\n      <td>8.0</td>\n    </tr>\n    <tr>\n      <th>2022-04-04</th>\n      <td>47.0</td>\n      <td>585.92</td>\n      <td>1516.22</td>\n      <td>-930.30</td>\n      <td>14.0</td>\n    </tr>\n    <tr>\n      <th>2022-04-05</th>\n      <td>54.0</td>\n      <td>-1410.06</td>\n      <td>1004.34</td>\n      <td>-2414.40</td>\n      <td>15.0</td>\n    </tr>\n    <tr>\n      <th>2022-04-06</th>\n      <td>95.0</td>\n      <td>-1763.80</td>\n      <td>2941.26</td>\n      <td>-4705.06</td>\n      <td>31.0</td>\n    </tr>\n    <tr>\n      <th>2022-04-07</th>\n      <td>44.0</td>\n      <td>-926.16</td>\n      <td>1097.00</td>\n      <td>-2023.16</td>\n      <td>24.0</td>\n    </tr>\n    <tr>\n      <th>2022-04-08</th>\n      <td>39.0</td>\n      <td>-1195.46</td>\n      <td>480.82</td>\n      <td>-1676.28</td>\n      <td>30.0</td>\n    </tr>\n    <tr>\n      <th>2022-04-11</th>\n      <td>2.0</td>\n      <td>449.22</td>\n      <td>449.22</td>\n      <td>NaN</td>\n      <td>2.0</td>\n    </tr>\n    <tr>\n      <th>2022-04-12</th>\n      <td>16.0</td>\n      <td>207.76</td>\n      <td>947.60</td>\n      <td>-739.84</td>\n      <td>12.0</td>\n    </tr>\n    <tr>\n      <th>2022-04-13</th>\n      <td>18.0</td>\n      <td>117.98</td>\n      <td>623.04</td>\n      <td>-505.06</td>\n      <td>10.0</td>\n    </tr>\n    <tr>\n      <th>2022-04-14</th>\n      <td>13.0</td>\n      <td>474.68</td>\n      <td>768.02</td>\n      <td>-293.34</td>\n      <td>11.0</td>\n    </tr>\n    <tr>\n      <th>2022-04-18</th>\n      <td>38.0</td>\n      <td>-1494.66</td>\n      <td>730.92</td>\n      <td>-2225.58</td>\n      <td>24.0</td>\n    </tr>\n    <tr>\n      <th>2022-04-19</th>\n      <td>25.0</td>\n      <td>578.00</td>\n      <td>1284.64</td>\n      <td>-706.64</td>\n      <td>18.0</td>\n    </tr>\n    <tr>\n      <th>2022-04-20</th>\n      <td>16.0</td>\n      <td>-731.14</td>\n      <td>103.18</td>\n      <td>-834.32</td>\n      <td>12.0</td>\n    </tr>\n    <tr>\n      <th>2022-04-21</th>\n      <td>14.0</td>\n      <td>899.14</td>\n      <td>1252.64</td>\n      <td>-353.50</td>\n      <td>13.0</td>\n    </tr>\n    <tr>\n      <th>2022-04-22</th>\n      <td>21.0</td>\n      <td>491.21</td>\n      <td>1144.27</td>\n      <td>-653.06</td>\n      <td>16.0</td>\n    </tr>\n    <tr>\n      <th>2022-04-25</th>\n      <td>2.0</td>\n      <td>-175.53</td>\n      <td>232.36</td>\n      <td>-407.89</td>\n      <td>2.0</td>\n    </tr>\n    <tr>\n      <th>2022-04-26</th>\n      <td>16.0</td>\n      <td>977.56</td>\n      <td>1350.22</td>\n      <td>-372.66</td>\n      <td>14.0</td>\n    </tr>\n    <tr>\n      <th>2022-04-27</th>\n      <td>9.0</td>\n      <td>288.24</td>\n      <td>440.52</td>\n      <td>-152.28</td>\n      <td>7.0</td>\n    </tr>\n    <tr>\n      <th>2022-04-28</th>\n      <td>30.0</td>\n      <td>-154.61</td>\n      <td>919.98</td>\n      <td>-1074.59</td>\n      <td>23.0</td>\n    </tr>\n    <tr>\n      <th>2022-04-29</th>\n      <td>22.0</td>\n      <td>127.54</td>\n      <td>1386.88</td>\n      <td>-1259.34</td>\n      <td>16.0</td>\n    </tr>\n    <tr>\n      <th>2022-05-01</th>\n      <td>5.0</td>\n      <td>-201.70</td>\n      <td>111.72</td>\n      <td>-313.42</td>\n      <td>4.0</td>\n    </tr>\n    <tr>\n      <th>2022-05-02</th>\n      <td>14.0</td>\n      <td>-312.61</td>\n      <td>752.30</td>\n      <td>-1064.91</td>\n      <td>11.0</td>\n    </tr>\n    <tr>\n      <th>2022-05-03</th>\n      <td>39.0</td>\n      <td>-718.01</td>\n      <td>1027.17</td>\n      <td>-1745.18</td>\n      <td>33.0</td>\n    </tr>\n    <tr>\n      <th>2022-05-04</th>\n      <td>26.0</td>\n      <td>-2252.04</td>\n      <td>592.95</td>\n      <td>-2844.99</td>\n      <td>23.0</td>\n    </tr>\n    <tr>\n      <th>2022-05-05</th>\n      <td>13.0</td>\n      <td>-210.42</td>\n      <td>380.78</td>\n      <td>-591.20</td>\n      <td>13.0</td>\n    </tr>\n    <tr>\n      <th>2022-05-09</th>\n      <td>2.0</td>\n      <td>1108.12</td>\n      <td>1108.12</td>\n      <td>NaN</td>\n      <td>2.0</td>\n    </tr>\n    <tr>\n      <th>2022-05-10</th>\n      <td>24.0</td>\n      <td>-897.96</td>\n      <td>673.46</td>\n      <td>-1571.42</td>\n      <td>24.0</td>\n    </tr>\n    <tr>\n      <th>2022-05-11</th>\n      <td>14.0</td>\n      <td>-232.46</td>\n      <td>405.66</td>\n      <td>-638.12</td>\n      <td>14.0</td>\n    </tr>\n    <tr>\n      <th>Total</th>\n      <td>1569.0</td>\n      <td>-7760.79</td>\n      <td>46263.29</td>\n      <td>-54024.09</td>\n      <td>667.0</td>\n    </tr>\n  </tbody>\n</table>\n</div>"
     },
     "execution_count": 9,
     "metadata": {},
     "output_type": "execute_result"
    }
   ],
   "source": [
    "def get_executions_ungroup(file_path: str):\n",
    "    df = pd.read_csv(file_path)\n",
    "    df = df[df[\"realized_pnl\"].notnull()]\n",
    "    df[\"date\"] = pd.to_datetime(df[\"time_completed\"]).dt.date\n",
    "\n",
    "    cols = [\"quantity\", \"realized_pnl\"]\n",
    "\n",
    "    df_pos = df[df[\"realized_pnl\"] > 0].groupby(\"date\").sum()[[\"realized_pnl\"]]\n",
    "    df_neg = df[df[\"realized_pnl\"] < 0].groupby(\"date\").sum()[[\"realized_pnl\"]]\n",
    "\n",
    "    df_ret = df.groupby(\"date\").sum()[cols] \\\n",
    "        .join(df_pos, rsuffix=\"_pos\") \\\n",
    "        .join(df_neg, rsuffix=\"_neg\") \\\n",
    "        .join(df.groupby(\"date\").count()[[\"realized_pnl\"]], rsuffix=\"_count\")\n",
    "    df_ret.loc[\"Total\"] = df_ret.sum(numeric_only=True)\n",
    "\n",
    "    return df_ret\n",
    "\n",
    "\n",
    "get_executions_ungroup(PATH)"
   ],
   "metadata": {
    "collapsed": false,
    "pycharm": {
     "name": "#%%\n"
    }
   }
  },
  {
   "cell_type": "code",
   "execution_count": 10,
   "outputs": [
    {
     "data": {
      "application/vnd.plotly.v1+json": {
       "data": [
        {
         "hovertemplate": "日期=%{x}<br>總盈虧=%{y}<extra></extra>",
         "legendgroup": "",
         "line": {
          "color": "#636efa",
          "dash": "solid"
         },
         "marker": {
          "symbol": "circle"
         },
         "mode": "lines",
         "name": "",
         "orientation": "v",
         "showlegend": false,
         "x": [
          "2022-03-18",
          "2022-03-21",
          "2022-03-22",
          "2022-03-23",
          "2022-03-24",
          "2022-03-25",
          "2022-03-28",
          "2022-03-29",
          "2022-03-30",
          "2022-03-31",
          "2022-04-01",
          "2022-04-03",
          "2022-04-04",
          "2022-04-05",
          "2022-04-06",
          "2022-04-07",
          "2022-04-08",
          "2022-04-11",
          "2022-04-12",
          "2022-04-13",
          "2022-04-14",
          "2022-04-18",
          "2022-04-19",
          "2022-04-20",
          "2022-04-21",
          "2022-04-22",
          "2022-04-25",
          "2022-04-26",
          "2022-04-27",
          "2022-04-28",
          "2022-04-29",
          "2022-05-01",
          "2022-05-02",
          "2022-05-03",
          "2022-05-04",
          "2022-05-05",
          "2022-05-09",
          "2022-05-10",
          "2022-05-11"
         ],
         "xaxis": "x",
         "y": [
          2326.020001,
          869.4200000000003,
          1812.6200000000003,
          1551.1200000000003,
          2268.4000000000005,
          2199.2200010000006,
          2849.0600010000007,
          3268.3000010000005,
          2968.7999990000008,
          -545.8600009999991,
          -1135.880000999999,
          -1389.5400009999992,
          -803.6200009999991,
          -2213.680000999999,
          -3977.480000999999,
          -4903.640000999999,
          -6099.100000999999,
          -5649.880000999999,
          -5442.120000999998,
          -5324.140000999998,
          -4849.460000999998,
          -6344.1200009999975,
          -5766.1200009999975,
          -6497.260000999998,
          -5598.1200009999975,
          -5106.9100009999975,
          -5282.440000999997,
          -4304.880000999998,
          -4016.6400009999975,
          -4171.253333999997,
          -4043.7133339999973,
          -4245.413333999997,
          -4558.023333999997,
          -5276.033333999997,
          -7528.073334999997,
          -7738.493334999997,
          -6630.3733349999975,
          -7528.3333349999975,
          -7760.793334999998
         ],
         "yaxis": "y",
         "type": "scatter"
        }
       ],
       "layout": {
        "template": {
         "data": {
          "bar": [
           {
            "error_x": {
             "color": "#f2f5fa"
            },
            "error_y": {
             "color": "#f2f5fa"
            },
            "marker": {
             "line": {
              "color": "rgb(17,17,17)",
              "width": 0.5
             },
             "pattern": {
              "fillmode": "overlay",
              "size": 10,
              "solidity": 0.2
             }
            },
            "type": "bar"
           }
          ],
          "barpolar": [
           {
            "marker": {
             "line": {
              "color": "rgb(17,17,17)",
              "width": 0.5
             },
             "pattern": {
              "fillmode": "overlay",
              "size": 10,
              "solidity": 0.2
             }
            },
            "type": "barpolar"
           }
          ],
          "carpet": [
           {
            "aaxis": {
             "endlinecolor": "#A2B1C6",
             "gridcolor": "#506784",
             "linecolor": "#506784",
             "minorgridcolor": "#506784",
             "startlinecolor": "#A2B1C6"
            },
            "baxis": {
             "endlinecolor": "#A2B1C6",
             "gridcolor": "#506784",
             "linecolor": "#506784",
             "minorgridcolor": "#506784",
             "startlinecolor": "#A2B1C6"
            },
            "type": "carpet"
           }
          ],
          "choropleth": [
           {
            "colorbar": {
             "outlinewidth": 0,
             "ticks": ""
            },
            "type": "choropleth"
           }
          ],
          "contour": [
           {
            "colorbar": {
             "outlinewidth": 0,
             "ticks": ""
            },
            "colorscale": [
             [
              0.0,
              "#0d0887"
             ],
             [
              0.1111111111111111,
              "#46039f"
             ],
             [
              0.2222222222222222,
              "#7201a8"
             ],
             [
              0.3333333333333333,
              "#9c179e"
             ],
             [
              0.4444444444444444,
              "#bd3786"
             ],
             [
              0.5555555555555556,
              "#d8576b"
             ],
             [
              0.6666666666666666,
              "#ed7953"
             ],
             [
              0.7777777777777778,
              "#fb9f3a"
             ],
             [
              0.8888888888888888,
              "#fdca26"
             ],
             [
              1.0,
              "#f0f921"
             ]
            ],
            "type": "contour"
           }
          ],
          "contourcarpet": [
           {
            "colorbar": {
             "outlinewidth": 0,
             "ticks": ""
            },
            "type": "contourcarpet"
           }
          ],
          "heatmap": [
           {
            "colorbar": {
             "outlinewidth": 0,
             "ticks": ""
            },
            "colorscale": [
             [
              0.0,
              "#0d0887"
             ],
             [
              0.1111111111111111,
              "#46039f"
             ],
             [
              0.2222222222222222,
              "#7201a8"
             ],
             [
              0.3333333333333333,
              "#9c179e"
             ],
             [
              0.4444444444444444,
              "#bd3786"
             ],
             [
              0.5555555555555556,
              "#d8576b"
             ],
             [
              0.6666666666666666,
              "#ed7953"
             ],
             [
              0.7777777777777778,
              "#fb9f3a"
             ],
             [
              0.8888888888888888,
              "#fdca26"
             ],
             [
              1.0,
              "#f0f921"
             ]
            ],
            "type": "heatmap"
           }
          ],
          "heatmapgl": [
           {
            "colorbar": {
             "outlinewidth": 0,
             "ticks": ""
            },
            "colorscale": [
             [
              0.0,
              "#0d0887"
             ],
             [
              0.1111111111111111,
              "#46039f"
             ],
             [
              0.2222222222222222,
              "#7201a8"
             ],
             [
              0.3333333333333333,
              "#9c179e"
             ],
             [
              0.4444444444444444,
              "#bd3786"
             ],
             [
              0.5555555555555556,
              "#d8576b"
             ],
             [
              0.6666666666666666,
              "#ed7953"
             ],
             [
              0.7777777777777778,
              "#fb9f3a"
             ],
             [
              0.8888888888888888,
              "#fdca26"
             ],
             [
              1.0,
              "#f0f921"
             ]
            ],
            "type": "heatmapgl"
           }
          ],
          "histogram": [
           {
            "marker": {
             "pattern": {
              "fillmode": "overlay",
              "size": 10,
              "solidity": 0.2
             }
            },
            "type": "histogram"
           }
          ],
          "histogram2d": [
           {
            "colorbar": {
             "outlinewidth": 0,
             "ticks": ""
            },
            "colorscale": [
             [
              0.0,
              "#0d0887"
             ],
             [
              0.1111111111111111,
              "#46039f"
             ],
             [
              0.2222222222222222,
              "#7201a8"
             ],
             [
              0.3333333333333333,
              "#9c179e"
             ],
             [
              0.4444444444444444,
              "#bd3786"
             ],
             [
              0.5555555555555556,
              "#d8576b"
             ],
             [
              0.6666666666666666,
              "#ed7953"
             ],
             [
              0.7777777777777778,
              "#fb9f3a"
             ],
             [
              0.8888888888888888,
              "#fdca26"
             ],
             [
              1.0,
              "#f0f921"
             ]
            ],
            "type": "histogram2d"
           }
          ],
          "histogram2dcontour": [
           {
            "colorbar": {
             "outlinewidth": 0,
             "ticks": ""
            },
            "colorscale": [
             [
              0.0,
              "#0d0887"
             ],
             [
              0.1111111111111111,
              "#46039f"
             ],
             [
              0.2222222222222222,
              "#7201a8"
             ],
             [
              0.3333333333333333,
              "#9c179e"
             ],
             [
              0.4444444444444444,
              "#bd3786"
             ],
             [
              0.5555555555555556,
              "#d8576b"
             ],
             [
              0.6666666666666666,
              "#ed7953"
             ],
             [
              0.7777777777777778,
              "#fb9f3a"
             ],
             [
              0.8888888888888888,
              "#fdca26"
             ],
             [
              1.0,
              "#f0f921"
             ]
            ],
            "type": "histogram2dcontour"
           }
          ],
          "mesh3d": [
           {
            "colorbar": {
             "outlinewidth": 0,
             "ticks": ""
            },
            "type": "mesh3d"
           }
          ],
          "parcoords": [
           {
            "line": {
             "colorbar": {
              "outlinewidth": 0,
              "ticks": ""
             }
            },
            "type": "parcoords"
           }
          ],
          "pie": [
           {
            "automargin": true,
            "type": "pie"
           }
          ],
          "scatter": [
           {
            "marker": {
             "line": {
              "color": "#283442"
             }
            },
            "type": "scatter"
           }
          ],
          "scatter3d": [
           {
            "line": {
             "colorbar": {
              "outlinewidth": 0,
              "ticks": ""
             }
            },
            "marker": {
             "colorbar": {
              "outlinewidth": 0,
              "ticks": ""
             }
            },
            "type": "scatter3d"
           }
          ],
          "scattercarpet": [
           {
            "marker": {
             "colorbar": {
              "outlinewidth": 0,
              "ticks": ""
             }
            },
            "type": "scattercarpet"
           }
          ],
          "scattergeo": [
           {
            "marker": {
             "colorbar": {
              "outlinewidth": 0,
              "ticks": ""
             }
            },
            "type": "scattergeo"
           }
          ],
          "scattergl": [
           {
            "marker": {
             "line": {
              "color": "#283442"
             }
            },
            "type": "scattergl"
           }
          ],
          "scattermapbox": [
           {
            "marker": {
             "colorbar": {
              "outlinewidth": 0,
              "ticks": ""
             }
            },
            "type": "scattermapbox"
           }
          ],
          "scatterpolar": [
           {
            "marker": {
             "colorbar": {
              "outlinewidth": 0,
              "ticks": ""
             }
            },
            "type": "scatterpolar"
           }
          ],
          "scatterpolargl": [
           {
            "marker": {
             "colorbar": {
              "outlinewidth": 0,
              "ticks": ""
             }
            },
            "type": "scatterpolargl"
           }
          ],
          "scatterternary": [
           {
            "marker": {
             "colorbar": {
              "outlinewidth": 0,
              "ticks": ""
             }
            },
            "type": "scatterternary"
           }
          ],
          "surface": [
           {
            "colorbar": {
             "outlinewidth": 0,
             "ticks": ""
            },
            "colorscale": [
             [
              0.0,
              "#0d0887"
             ],
             [
              0.1111111111111111,
              "#46039f"
             ],
             [
              0.2222222222222222,
              "#7201a8"
             ],
             [
              0.3333333333333333,
              "#9c179e"
             ],
             [
              0.4444444444444444,
              "#bd3786"
             ],
             [
              0.5555555555555556,
              "#d8576b"
             ],
             [
              0.6666666666666666,
              "#ed7953"
             ],
             [
              0.7777777777777778,
              "#fb9f3a"
             ],
             [
              0.8888888888888888,
              "#fdca26"
             ],
             [
              1.0,
              "#f0f921"
             ]
            ],
            "type": "surface"
           }
          ],
          "table": [
           {
            "cells": {
             "fill": {
              "color": "#506784"
             },
             "line": {
              "color": "rgb(17,17,17)"
             }
            },
            "header": {
             "fill": {
              "color": "#2a3f5f"
             },
             "line": {
              "color": "rgb(17,17,17)"
             }
            },
            "type": "table"
           }
          ]
         },
         "layout": {
          "annotationdefaults": {
           "arrowcolor": "#f2f5fa",
           "arrowhead": 0,
           "arrowwidth": 1
          },
          "autotypenumbers": "strict",
          "coloraxis": {
           "colorbar": {
            "outlinewidth": 0,
            "ticks": ""
           }
          },
          "colorscale": {
           "diverging": [
            [
             0,
             "#8e0152"
            ],
            [
             0.1,
             "#c51b7d"
            ],
            [
             0.2,
             "#de77ae"
            ],
            [
             0.3,
             "#f1b6da"
            ],
            [
             0.4,
             "#fde0ef"
            ],
            [
             0.5,
             "#f7f7f7"
            ],
            [
             0.6,
             "#e6f5d0"
            ],
            [
             0.7,
             "#b8e186"
            ],
            [
             0.8,
             "#7fbc41"
            ],
            [
             0.9,
             "#4d9221"
            ],
            [
             1,
             "#276419"
            ]
           ],
           "sequential": [
            [
             0.0,
             "#0d0887"
            ],
            [
             0.1111111111111111,
             "#46039f"
            ],
            [
             0.2222222222222222,
             "#7201a8"
            ],
            [
             0.3333333333333333,
             "#9c179e"
            ],
            [
             0.4444444444444444,
             "#bd3786"
            ],
            [
             0.5555555555555556,
             "#d8576b"
            ],
            [
             0.6666666666666666,
             "#ed7953"
            ],
            [
             0.7777777777777778,
             "#fb9f3a"
            ],
            [
             0.8888888888888888,
             "#fdca26"
            ],
            [
             1.0,
             "#f0f921"
            ]
           ],
           "sequentialminus": [
            [
             0.0,
             "#0d0887"
            ],
            [
             0.1111111111111111,
             "#46039f"
            ],
            [
             0.2222222222222222,
             "#7201a8"
            ],
            [
             0.3333333333333333,
             "#9c179e"
            ],
            [
             0.4444444444444444,
             "#bd3786"
            ],
            [
             0.5555555555555556,
             "#d8576b"
            ],
            [
             0.6666666666666666,
             "#ed7953"
            ],
            [
             0.7777777777777778,
             "#fb9f3a"
            ],
            [
             0.8888888888888888,
             "#fdca26"
            ],
            [
             1.0,
             "#f0f921"
            ]
           ]
          },
          "colorway": [
           "#636efa",
           "#EF553B",
           "#00cc96",
           "#ab63fa",
           "#FFA15A",
           "#19d3f3",
           "#FF6692",
           "#B6E880",
           "#FF97FF",
           "#FECB52"
          ],
          "font": {
           "color": "#f2f5fa"
          },
          "geo": {
           "bgcolor": "rgb(17,17,17)",
           "lakecolor": "rgb(17,17,17)",
           "landcolor": "rgb(17,17,17)",
           "showlakes": true,
           "showland": true,
           "subunitcolor": "#506784"
          },
          "hoverlabel": {
           "align": "left"
          },
          "hovermode": "closest",
          "mapbox": {
           "style": "dark"
          },
          "paper_bgcolor": "rgb(17,17,17)",
          "plot_bgcolor": "rgb(17,17,17)",
          "polar": {
           "angularaxis": {
            "gridcolor": "#506784",
            "linecolor": "#506784",
            "ticks": ""
           },
           "bgcolor": "rgb(17,17,17)",
           "radialaxis": {
            "gridcolor": "#506784",
            "linecolor": "#506784",
            "ticks": ""
           }
          },
          "scene": {
           "xaxis": {
            "backgroundcolor": "rgb(17,17,17)",
            "gridcolor": "#506784",
            "gridwidth": 2,
            "linecolor": "#506784",
            "showbackground": true,
            "ticks": "",
            "zerolinecolor": "#C8D4E3"
           },
           "yaxis": {
            "backgroundcolor": "rgb(17,17,17)",
            "gridcolor": "#506784",
            "gridwidth": 2,
            "linecolor": "#506784",
            "showbackground": true,
            "ticks": "",
            "zerolinecolor": "#C8D4E3"
           },
           "zaxis": {
            "backgroundcolor": "rgb(17,17,17)",
            "gridcolor": "#506784",
            "gridwidth": 2,
            "linecolor": "#506784",
            "showbackground": true,
            "ticks": "",
            "zerolinecolor": "#C8D4E3"
           }
          },
          "shapedefaults": {
           "line": {
            "color": "#f2f5fa"
           }
          },
          "sliderdefaults": {
           "bgcolor": "#C8D4E3",
           "bordercolor": "rgb(17,17,17)",
           "borderwidth": 1,
           "tickwidth": 0
          },
          "ternary": {
           "aaxis": {
            "gridcolor": "#506784",
            "linecolor": "#506784",
            "ticks": ""
           },
           "baxis": {
            "gridcolor": "#506784",
            "linecolor": "#506784",
            "ticks": ""
           },
           "bgcolor": "rgb(17,17,17)",
           "caxis": {
            "gridcolor": "#506784",
            "linecolor": "#506784",
            "ticks": ""
           }
          },
          "title": {
           "x": 0.05
          },
          "updatemenudefaults": {
           "bgcolor": "#506784",
           "borderwidth": 0
          },
          "xaxis": {
           "automargin": true,
           "gridcolor": "#283442",
           "linecolor": "#506784",
           "ticks": "",
           "title": {
            "standoff": 15
           },
           "zerolinecolor": "#283442",
           "zerolinewidth": 2
          },
          "yaxis": {
           "automargin": true,
           "gridcolor": "#283442",
           "linecolor": "#506784",
           "ticks": "",
           "title": {
            "standoff": 15
           },
           "zerolinecolor": "#283442",
           "zerolinewidth": 2
          }
         }
        },
        "xaxis": {
         "anchor": "y",
         "domain": [
          0.0,
          1.0
         ],
         "title": {
          "text": "日期"
         }
        },
        "yaxis": {
         "anchor": "x",
         "domain": [
          0.0,
          1.0
         ],
         "title": {
          "text": "總盈虧"
         }
        },
        "legend": {
         "tracegroupgap": 0
        },
        "margin": {
         "t": 60
        }
       },
       "config": {
        "plotlyServerURL": "https://plot.ly"
       }
      },
      "text/html": "<div>                            <div id=\"55b4d559-e9ae-4032-8ae4-a35ac8df17db\" class=\"plotly-graph-div\" style=\"height:525px; width:100%;\"></div>            <script type=\"text/javascript\">                require([\"plotly\"], function(Plotly) {                    window.PLOTLYENV=window.PLOTLYENV || {};                                    if (document.getElementById(\"55b4d559-e9ae-4032-8ae4-a35ac8df17db\")) {                    Plotly.newPlot(                        \"55b4d559-e9ae-4032-8ae4-a35ac8df17db\",                        [{\"hovertemplate\":\"日期=%{x}<br>總盈虧=%{y}<extra></extra>\",\"legendgroup\":\"\",\"line\":{\"color\":\"#636efa\",\"dash\":\"solid\"},\"marker\":{\"symbol\":\"circle\"},\"mode\":\"lines\",\"name\":\"\",\"orientation\":\"v\",\"showlegend\":false,\"x\":[\"2022-03-18\",\"2022-03-21\",\"2022-03-22\",\"2022-03-23\",\"2022-03-24\",\"2022-03-25\",\"2022-03-28\",\"2022-03-29\",\"2022-03-30\",\"2022-03-31\",\"2022-04-01\",\"2022-04-03\",\"2022-04-04\",\"2022-04-05\",\"2022-04-06\",\"2022-04-07\",\"2022-04-08\",\"2022-04-11\",\"2022-04-12\",\"2022-04-13\",\"2022-04-14\",\"2022-04-18\",\"2022-04-19\",\"2022-04-20\",\"2022-04-21\",\"2022-04-22\",\"2022-04-25\",\"2022-04-26\",\"2022-04-27\",\"2022-04-28\",\"2022-04-29\",\"2022-05-01\",\"2022-05-02\",\"2022-05-03\",\"2022-05-04\",\"2022-05-05\",\"2022-05-09\",\"2022-05-10\",\"2022-05-11\"],\"xaxis\":\"x\",\"y\":[2326.020001,869.4200000000003,1812.6200000000003,1551.1200000000003,2268.4000000000005,2199.2200010000006,2849.0600010000007,3268.3000010000005,2968.7999990000008,-545.8600009999991,-1135.880000999999,-1389.5400009999992,-803.6200009999991,-2213.680000999999,-3977.480000999999,-4903.640000999999,-6099.100000999999,-5649.880000999999,-5442.120000999998,-5324.140000999998,-4849.460000999998,-6344.1200009999975,-5766.1200009999975,-6497.260000999998,-5598.1200009999975,-5106.9100009999975,-5282.440000999997,-4304.880000999998,-4016.6400009999975,-4171.253333999997,-4043.7133339999973,-4245.413333999997,-4558.023333999997,-5276.033333999997,-7528.073334999997,-7738.493334999997,-6630.3733349999975,-7528.3333349999975,-7760.793334999998],\"yaxis\":\"y\",\"type\":\"scatter\"}],                        {\"template\":{\"data\":{\"bar\":[{\"error_x\":{\"color\":\"#f2f5fa\"},\"error_y\":{\"color\":\"#f2f5fa\"},\"marker\":{\"line\":{\"color\":\"rgb(17,17,17)\",\"width\":0.5},\"pattern\":{\"fillmode\":\"overlay\",\"size\":10,\"solidity\":0.2}},\"type\":\"bar\"}],\"barpolar\":[{\"marker\":{\"line\":{\"color\":\"rgb(17,17,17)\",\"width\":0.5},\"pattern\":{\"fillmode\":\"overlay\",\"size\":10,\"solidity\":0.2}},\"type\":\"barpolar\"}],\"carpet\":[{\"aaxis\":{\"endlinecolor\":\"#A2B1C6\",\"gridcolor\":\"#506784\",\"linecolor\":\"#506784\",\"minorgridcolor\":\"#506784\",\"startlinecolor\":\"#A2B1C6\"},\"baxis\":{\"endlinecolor\":\"#A2B1C6\",\"gridcolor\":\"#506784\",\"linecolor\":\"#506784\",\"minorgridcolor\":\"#506784\",\"startlinecolor\":\"#A2B1C6\"},\"type\":\"carpet\"}],\"choropleth\":[{\"colorbar\":{\"outlinewidth\":0,\"ticks\":\"\"},\"type\":\"choropleth\"}],\"contour\":[{\"colorbar\":{\"outlinewidth\":0,\"ticks\":\"\"},\"colorscale\":[[0.0,\"#0d0887\"],[0.1111111111111111,\"#46039f\"],[0.2222222222222222,\"#7201a8\"],[0.3333333333333333,\"#9c179e\"],[0.4444444444444444,\"#bd3786\"],[0.5555555555555556,\"#d8576b\"],[0.6666666666666666,\"#ed7953\"],[0.7777777777777778,\"#fb9f3a\"],[0.8888888888888888,\"#fdca26\"],[1.0,\"#f0f921\"]],\"type\":\"contour\"}],\"contourcarpet\":[{\"colorbar\":{\"outlinewidth\":0,\"ticks\":\"\"},\"type\":\"contourcarpet\"}],\"heatmap\":[{\"colorbar\":{\"outlinewidth\":0,\"ticks\":\"\"},\"colorscale\":[[0.0,\"#0d0887\"],[0.1111111111111111,\"#46039f\"],[0.2222222222222222,\"#7201a8\"],[0.3333333333333333,\"#9c179e\"],[0.4444444444444444,\"#bd3786\"],[0.5555555555555556,\"#d8576b\"],[0.6666666666666666,\"#ed7953\"],[0.7777777777777778,\"#fb9f3a\"],[0.8888888888888888,\"#fdca26\"],[1.0,\"#f0f921\"]],\"type\":\"heatmap\"}],\"heatmapgl\":[{\"colorbar\":{\"outlinewidth\":0,\"ticks\":\"\"},\"colorscale\":[[0.0,\"#0d0887\"],[0.1111111111111111,\"#46039f\"],[0.2222222222222222,\"#7201a8\"],[0.3333333333333333,\"#9c179e\"],[0.4444444444444444,\"#bd3786\"],[0.5555555555555556,\"#d8576b\"],[0.6666666666666666,\"#ed7953\"],[0.7777777777777778,\"#fb9f3a\"],[0.8888888888888888,\"#fdca26\"],[1.0,\"#f0f921\"]],\"type\":\"heatmapgl\"}],\"histogram\":[{\"marker\":{\"pattern\":{\"fillmode\":\"overlay\",\"size\":10,\"solidity\":0.2}},\"type\":\"histogram\"}],\"histogram2d\":[{\"colorbar\":{\"outlinewidth\":0,\"ticks\":\"\"},\"colorscale\":[[0.0,\"#0d0887\"],[0.1111111111111111,\"#46039f\"],[0.2222222222222222,\"#7201a8\"],[0.3333333333333333,\"#9c179e\"],[0.4444444444444444,\"#bd3786\"],[0.5555555555555556,\"#d8576b\"],[0.6666666666666666,\"#ed7953\"],[0.7777777777777778,\"#fb9f3a\"],[0.8888888888888888,\"#fdca26\"],[1.0,\"#f0f921\"]],\"type\":\"histogram2d\"}],\"histogram2dcontour\":[{\"colorbar\":{\"outlinewidth\":0,\"ticks\":\"\"},\"colorscale\":[[0.0,\"#0d0887\"],[0.1111111111111111,\"#46039f\"],[0.2222222222222222,\"#7201a8\"],[0.3333333333333333,\"#9c179e\"],[0.4444444444444444,\"#bd3786\"],[0.5555555555555556,\"#d8576b\"],[0.6666666666666666,\"#ed7953\"],[0.7777777777777778,\"#fb9f3a\"],[0.8888888888888888,\"#fdca26\"],[1.0,\"#f0f921\"]],\"type\":\"histogram2dcontour\"}],\"mesh3d\":[{\"colorbar\":{\"outlinewidth\":0,\"ticks\":\"\"},\"type\":\"mesh3d\"}],\"parcoords\":[{\"line\":{\"colorbar\":{\"outlinewidth\":0,\"ticks\":\"\"}},\"type\":\"parcoords\"}],\"pie\":[{\"automargin\":true,\"type\":\"pie\"}],\"scatter\":[{\"marker\":{\"line\":{\"color\":\"#283442\"}},\"type\":\"scatter\"}],\"scatter3d\":[{\"line\":{\"colorbar\":{\"outlinewidth\":0,\"ticks\":\"\"}},\"marker\":{\"colorbar\":{\"outlinewidth\":0,\"ticks\":\"\"}},\"type\":\"scatter3d\"}],\"scattercarpet\":[{\"marker\":{\"colorbar\":{\"outlinewidth\":0,\"ticks\":\"\"}},\"type\":\"scattercarpet\"}],\"scattergeo\":[{\"marker\":{\"colorbar\":{\"outlinewidth\":0,\"ticks\":\"\"}},\"type\":\"scattergeo\"}],\"scattergl\":[{\"marker\":{\"line\":{\"color\":\"#283442\"}},\"type\":\"scattergl\"}],\"scattermapbox\":[{\"marker\":{\"colorbar\":{\"outlinewidth\":0,\"ticks\":\"\"}},\"type\":\"scattermapbox\"}],\"scatterpolar\":[{\"marker\":{\"colorbar\":{\"outlinewidth\":0,\"ticks\":\"\"}},\"type\":\"scatterpolar\"}],\"scatterpolargl\":[{\"marker\":{\"colorbar\":{\"outlinewidth\":0,\"ticks\":\"\"}},\"type\":\"scatterpolargl\"}],\"scatterternary\":[{\"marker\":{\"colorbar\":{\"outlinewidth\":0,\"ticks\":\"\"}},\"type\":\"scatterternary\"}],\"surface\":[{\"colorbar\":{\"outlinewidth\":0,\"ticks\":\"\"},\"colorscale\":[[0.0,\"#0d0887\"],[0.1111111111111111,\"#46039f\"],[0.2222222222222222,\"#7201a8\"],[0.3333333333333333,\"#9c179e\"],[0.4444444444444444,\"#bd3786\"],[0.5555555555555556,\"#d8576b\"],[0.6666666666666666,\"#ed7953\"],[0.7777777777777778,\"#fb9f3a\"],[0.8888888888888888,\"#fdca26\"],[1.0,\"#f0f921\"]],\"type\":\"surface\"}],\"table\":[{\"cells\":{\"fill\":{\"color\":\"#506784\"},\"line\":{\"color\":\"rgb(17,17,17)\"}},\"header\":{\"fill\":{\"color\":\"#2a3f5f\"},\"line\":{\"color\":\"rgb(17,17,17)\"}},\"type\":\"table\"}]},\"layout\":{\"annotationdefaults\":{\"arrowcolor\":\"#f2f5fa\",\"arrowhead\":0,\"arrowwidth\":1},\"autotypenumbers\":\"strict\",\"coloraxis\":{\"colorbar\":{\"outlinewidth\":0,\"ticks\":\"\"}},\"colorscale\":{\"diverging\":[[0,\"#8e0152\"],[0.1,\"#c51b7d\"],[0.2,\"#de77ae\"],[0.3,\"#f1b6da\"],[0.4,\"#fde0ef\"],[0.5,\"#f7f7f7\"],[0.6,\"#e6f5d0\"],[0.7,\"#b8e186\"],[0.8,\"#7fbc41\"],[0.9,\"#4d9221\"],[1,\"#276419\"]],\"sequential\":[[0.0,\"#0d0887\"],[0.1111111111111111,\"#46039f\"],[0.2222222222222222,\"#7201a8\"],[0.3333333333333333,\"#9c179e\"],[0.4444444444444444,\"#bd3786\"],[0.5555555555555556,\"#d8576b\"],[0.6666666666666666,\"#ed7953\"],[0.7777777777777778,\"#fb9f3a\"],[0.8888888888888888,\"#fdca26\"],[1.0,\"#f0f921\"]],\"sequentialminus\":[[0.0,\"#0d0887\"],[0.1111111111111111,\"#46039f\"],[0.2222222222222222,\"#7201a8\"],[0.3333333333333333,\"#9c179e\"],[0.4444444444444444,\"#bd3786\"],[0.5555555555555556,\"#d8576b\"],[0.6666666666666666,\"#ed7953\"],[0.7777777777777778,\"#fb9f3a\"],[0.8888888888888888,\"#fdca26\"],[1.0,\"#f0f921\"]]},\"colorway\":[\"#636efa\",\"#EF553B\",\"#00cc96\",\"#ab63fa\",\"#FFA15A\",\"#19d3f3\",\"#FF6692\",\"#B6E880\",\"#FF97FF\",\"#FECB52\"],\"font\":{\"color\":\"#f2f5fa\"},\"geo\":{\"bgcolor\":\"rgb(17,17,17)\",\"lakecolor\":\"rgb(17,17,17)\",\"landcolor\":\"rgb(17,17,17)\",\"showlakes\":true,\"showland\":true,\"subunitcolor\":\"#506784\"},\"hoverlabel\":{\"align\":\"left\"},\"hovermode\":\"closest\",\"mapbox\":{\"style\":\"dark\"},\"paper_bgcolor\":\"rgb(17,17,17)\",\"plot_bgcolor\":\"rgb(17,17,17)\",\"polar\":{\"angularaxis\":{\"gridcolor\":\"#506784\",\"linecolor\":\"#506784\",\"ticks\":\"\"},\"bgcolor\":\"rgb(17,17,17)\",\"radialaxis\":{\"gridcolor\":\"#506784\",\"linecolor\":\"#506784\",\"ticks\":\"\"}},\"scene\":{\"xaxis\":{\"backgroundcolor\":\"rgb(17,17,17)\",\"gridcolor\":\"#506784\",\"gridwidth\":2,\"linecolor\":\"#506784\",\"showbackground\":true,\"ticks\":\"\",\"zerolinecolor\":\"#C8D4E3\"},\"yaxis\":{\"backgroundcolor\":\"rgb(17,17,17)\",\"gridcolor\":\"#506784\",\"gridwidth\":2,\"linecolor\":\"#506784\",\"showbackground\":true,\"ticks\":\"\",\"zerolinecolor\":\"#C8D4E3\"},\"zaxis\":{\"backgroundcolor\":\"rgb(17,17,17)\",\"gridcolor\":\"#506784\",\"gridwidth\":2,\"linecolor\":\"#506784\",\"showbackground\":true,\"ticks\":\"\",\"zerolinecolor\":\"#C8D4E3\"}},\"shapedefaults\":{\"line\":{\"color\":\"#f2f5fa\"}},\"sliderdefaults\":{\"bgcolor\":\"#C8D4E3\",\"bordercolor\":\"rgb(17,17,17)\",\"borderwidth\":1,\"tickwidth\":0},\"ternary\":{\"aaxis\":{\"gridcolor\":\"#506784\",\"linecolor\":\"#506784\",\"ticks\":\"\"},\"baxis\":{\"gridcolor\":\"#506784\",\"linecolor\":\"#506784\",\"ticks\":\"\"},\"bgcolor\":\"rgb(17,17,17)\",\"caxis\":{\"gridcolor\":\"#506784\",\"linecolor\":\"#506784\",\"ticks\":\"\"}},\"title\":{\"x\":0.05},\"updatemenudefaults\":{\"bgcolor\":\"#506784\",\"borderwidth\":0},\"xaxis\":{\"automargin\":true,\"gridcolor\":\"#283442\",\"linecolor\":\"#506784\",\"ticks\":\"\",\"title\":{\"standoff\":15},\"zerolinecolor\":\"#283442\",\"zerolinewidth\":2},\"yaxis\":{\"automargin\":true,\"gridcolor\":\"#283442\",\"linecolor\":\"#506784\",\"ticks\":\"\",\"title\":{\"standoff\":15},\"zerolinecolor\":\"#283442\",\"zerolinewidth\":2}}},\"xaxis\":{\"anchor\":\"y\",\"domain\":[0.0,1.0],\"title\":{\"text\":\"日期\"}},\"yaxis\":{\"anchor\":\"x\",\"domain\":[0.0,1.0],\"title\":{\"text\":\"總盈虧\"}},\"legend\":{\"tracegroupgap\":0},\"margin\":{\"t\":60}},                        {\"responsive\": true}                    ).then(function(){\n                            \nvar gd = document.getElementById('55b4d559-e9ae-4032-8ae4-a35ac8df17db');\nvar x = new MutationObserver(function (mutations, observer) {{\n        var display = window.getComputedStyle(gd).display;\n        if (!display || display === 'none') {{\n            console.log([gd, 'removed!']);\n            Plotly.purge(gd);\n            observer.disconnect();\n        }}\n}});\n\n// Listen for the removal of the full notebook cells\nvar notebookContainer = gd.closest('#notebook-container');\nif (notebookContainer) {{\n    x.observe(notebookContainer, {childList: true});\n}}\n\n// Listen for the clearing of the current output cell\nvar outputEl = gd.closest('.output');\nif (outputEl) {{\n    x.observe(outputEl, {childList: true});\n}}\n\n                        })                };                });            </script>        </div>"
     },
     "metadata": {},
     "output_type": "display_data"
    }
   ],
   "source": [
    "import plotly.express as px\n",
    "\n",
    "df_plot = df_exec.drop(index=[\"Total\"])\n",
    "\n",
    "fig = px.line(\n",
    "    df_plot,\n",
    "    x=df_plot.index,\n",
    "    y=\"realized_pnl_cum\",\n",
    "    labels={\n",
    "        \"date\": \"日期\",\n",
    "        \"realized_pnl_cum\": \"總盈虧\"\n",
    "    }\n",
    ")\n",
    "fig.show()"
   ],
   "metadata": {
    "collapsed": false,
    "pycharm": {
     "name": "#%%\n"
    }
   }
  },
  {
   "cell_type": "code",
   "execution_count": 10,
   "outputs": [],
   "source": [],
   "metadata": {
    "collapsed": false,
    "pycharm": {
     "name": "#%%\n"
    }
   }
  }
 ],
 "metadata": {
  "kernelspec": {
   "name": "rx-trade-ib",
   "language": "python",
   "display_name": "rx-trade-ib"
  },
  "language_info": {
   "codemirror_mode": {
    "name": "ipython",
    "version": 2
   },
   "file_extension": ".py",
   "mimetype": "text/x-python",
   "name": "python",
   "nbconvert_exporter": "python",
   "pygments_lexer": "ipython2",
   "version": "2.7.6"
  }
 },
 "nbformat": 4,
 "nbformat_minor": 0
}